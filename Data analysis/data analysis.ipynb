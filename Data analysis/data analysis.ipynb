{
 "cells": [
  {
   "cell_type": "markdown",
   "metadata": {},
   "source": [
    "## Libraries"
   ]
  },
  {
   "cell_type": "code",
   "execution_count": 47,
   "metadata": {},
   "outputs": [],
   "source": [
    "import pandas as pd\n",
    "import numpy as np\n",
    "import matplotlib.pyplot as plt\n",
    "from sklearn.model_selection import StratifiedShuffleSplit\n",
    "from sklearn.metrics import classification_report, roc_auc_score, roc_curve, confusion_matrix, ConfusionMatrixDisplay\n",
    "from sklearn.preprocessing import LabelEncoder, OrdinalEncoder\n",
    "\n",
    "import tensorflow as tf\n",
    "from keras.layers import Flatten, Dense, Input, Dropout, Conv1D, BatchNormalization, MaxPooling1D, Flatten, LSTM, Bidirectional, Embedding, Concatenate, Reshape\n",
    "from keras.models import Model, Sequential\n",
    "from keras.optimizers import Adam, SGD, RMSprop, Adamax\n",
    "\n",
    "import ast\n",
    "\n",
    "# Hide warnings\n",
    "import warnings\n",
    "warnings.filterwarnings(\"ignore\")"
   ]
  },
  {
   "cell_type": "markdown",
   "metadata": {},
   "source": [
    "## Data analysis"
   ]
  },
  {
   "cell_type": "markdown",
   "metadata": {},
   "source": [
    "### Training data"
   ]
  },
  {
   "cell_type": "code",
   "execution_count": 48,
   "metadata": {},
   "outputs": [
    {
     "data": {
      "text/plain": [
       "(763144, 16)"
      ]
     },
     "execution_count": 48,
     "metadata": {},
     "output_type": "execute_result"
    }
   ],
   "source": [
    "train_data = pd.read_csv('../Data/labelled_training_data.csv')\n",
    "train_data.shape"
   ]
  },
  {
   "cell_type": "code",
   "execution_count": 78,
   "metadata": {},
   "outputs": [
    {
     "data": {
      "text/plain": [
       "Index(['timestamp', 'processId', 'threadId', 'parentProcessId', 'userId',\n",
       "       'mountNamespace', 'processName', 'hostName', 'eventId', 'eventName',\n",
       "       'stackAddresses', 'argsNum', 'returnValue', 'args', 'sus', 'evil'],\n",
       "      dtype='object')"
      ]
     },
     "execution_count": 78,
     "metadata": {},
     "output_type": "execute_result"
    }
   ],
   "source": [
    "train_data.columns"
   ]
  },
  {
   "cell_type": "code",
   "execution_count": 49,
   "metadata": {},
   "outputs": [
    {
     "data": {
      "text/html": [
       "<div>\n",
       "<style scoped>\n",
       "    .dataframe tbody tr th:only-of-type {\n",
       "        vertical-align: middle;\n",
       "    }\n",
       "\n",
       "    .dataframe tbody tr th {\n",
       "        vertical-align: top;\n",
       "    }\n",
       "\n",
       "    .dataframe thead th {\n",
       "        text-align: right;\n",
       "    }\n",
       "</style>\n",
       "<table border=\"1\" class=\"dataframe\">\n",
       "  <thead>\n",
       "    <tr style=\"text-align: right;\">\n",
       "      <th></th>\n",
       "      <th>timestamp</th>\n",
       "      <th>processId</th>\n",
       "      <th>threadId</th>\n",
       "      <th>parentProcessId</th>\n",
       "      <th>userId</th>\n",
       "      <th>mountNamespace</th>\n",
       "      <th>processName</th>\n",
       "      <th>hostName</th>\n",
       "      <th>eventId</th>\n",
       "      <th>eventName</th>\n",
       "      <th>stackAddresses</th>\n",
       "      <th>argsNum</th>\n",
       "      <th>returnValue</th>\n",
       "      <th>args</th>\n",
       "      <th>sus</th>\n",
       "      <th>evil</th>\n",
       "    </tr>\n",
       "  </thead>\n",
       "  <tbody>\n",
       "    <tr>\n",
       "      <th>0</th>\n",
       "      <td>1809.495787</td>\n",
       "      <td>381</td>\n",
       "      <td>7337</td>\n",
       "      <td>1</td>\n",
       "      <td>100</td>\n",
       "      <td>4026532231</td>\n",
       "      <td>close</td>\n",
       "      <td>ip-10-100-1-120</td>\n",
       "      <td>157</td>\n",
       "      <td>prctl</td>\n",
       "      <td>[140662171848350, 11649800180280676]</td>\n",
       "      <td>5</td>\n",
       "      <td>0</td>\n",
       "      <td>[{'name': 'option', 'type': 'int', 'value': 'P...</td>\n",
       "      <td>1</td>\n",
       "      <td>0</td>\n",
       "    </tr>\n",
       "    <tr>\n",
       "      <th>1</th>\n",
       "      <td>1809.495832</td>\n",
       "      <td>381</td>\n",
       "      <td>7337</td>\n",
       "      <td>1</td>\n",
       "      <td>100</td>\n",
       "      <td>4026532231</td>\n",
       "      <td>close</td>\n",
       "      <td>ip-10-100-1-120</td>\n",
       "      <td>3</td>\n",
       "      <td>close</td>\n",
       "      <td>[140662171777451]</td>\n",
       "      <td>1</td>\n",
       "      <td>0</td>\n",
       "      <td>[{'name': 'fd', 'type': 'int', 'value': 19}]</td>\n",
       "      <td>1</td>\n",
       "      <td>0</td>\n",
       "    </tr>\n",
       "    <tr>\n",
       "      <th>2</th>\n",
       "      <td>1809.495921</td>\n",
       "      <td>381</td>\n",
       "      <td>7337</td>\n",
       "      <td>1</td>\n",
       "      <td>100</td>\n",
       "      <td>4026532231</td>\n",
       "      <td>close</td>\n",
       "      <td>ip-10-100-1-120</td>\n",
       "      <td>1010</td>\n",
       "      <td>sched_process_exit</td>\n",
       "      <td>[]</td>\n",
       "      <td>0</td>\n",
       "      <td>0</td>\n",
       "      <td>[]</td>\n",
       "      <td>1</td>\n",
       "      <td>0</td>\n",
       "    </tr>\n",
       "    <tr>\n",
       "      <th>3</th>\n",
       "      <td>1894.139651</td>\n",
       "      <td>7347</td>\n",
       "      <td>7347</td>\n",
       "      <td>7341</td>\n",
       "      <td>0</td>\n",
       "      <td>4026531840</td>\n",
       "      <td>sh</td>\n",
       "      <td>ip-10-100-1-120</td>\n",
       "      <td>21</td>\n",
       "      <td>access</td>\n",
       "      <td>[]</td>\n",
       "      <td>2</td>\n",
       "      <td>-2</td>\n",
       "      <td>[{'name': 'pathname', 'type': 'const char*', '...</td>\n",
       "      <td>1</td>\n",
       "      <td>0</td>\n",
       "    </tr>\n",
       "    <tr>\n",
       "      <th>4</th>\n",
       "      <td>1894.142127</td>\n",
       "      <td>7347</td>\n",
       "      <td>7347</td>\n",
       "      <td>7341</td>\n",
       "      <td>0</td>\n",
       "      <td>4026531840</td>\n",
       "      <td>sh</td>\n",
       "      <td>ip-10-100-1-120</td>\n",
       "      <td>1005</td>\n",
       "      <td>security_file_open</td>\n",
       "      <td>[139778263990104, 139778263906698]</td>\n",
       "      <td>4</td>\n",
       "      <td>0</td>\n",
       "      <td>[{'name': 'pathname', 'type': 'const char*', '...</td>\n",
       "      <td>1</td>\n",
       "      <td>0</td>\n",
       "    </tr>\n",
       "  </tbody>\n",
       "</table>\n",
       "</div>"
      ],
      "text/plain": [
       "     timestamp  processId  threadId  parentProcessId  userId  mountNamespace  \\\n",
       "0  1809.495787        381      7337                1     100      4026532231   \n",
       "1  1809.495832        381      7337                1     100      4026532231   \n",
       "2  1809.495921        381      7337                1     100      4026532231   \n",
       "3  1894.139651       7347      7347             7341       0      4026531840   \n",
       "4  1894.142127       7347      7347             7341       0      4026531840   \n",
       "\n",
       "  processName         hostName  eventId           eventName  \\\n",
       "0       close  ip-10-100-1-120      157               prctl   \n",
       "1       close  ip-10-100-1-120        3               close   \n",
       "2       close  ip-10-100-1-120     1010  sched_process_exit   \n",
       "3          sh  ip-10-100-1-120       21              access   \n",
       "4          sh  ip-10-100-1-120     1005  security_file_open   \n",
       "\n",
       "                         stackAddresses  argsNum  returnValue  \\\n",
       "0  [140662171848350, 11649800180280676]        5            0   \n",
       "1                     [140662171777451]        1            0   \n",
       "2                                    []        0            0   \n",
       "3                                    []        2           -2   \n",
       "4    [139778263990104, 139778263906698]        4            0   \n",
       "\n",
       "                                                args  sus  evil  \n",
       "0  [{'name': 'option', 'type': 'int', 'value': 'P...    1     0  \n",
       "1       [{'name': 'fd', 'type': 'int', 'value': 19}]    1     0  \n",
       "2                                                 []    1     0  \n",
       "3  [{'name': 'pathname', 'type': 'const char*', '...    1     0  \n",
       "4  [{'name': 'pathname', 'type': 'const char*', '...    1     0  "
      ]
     },
     "execution_count": 49,
     "metadata": {},
     "output_type": "execute_result"
    }
   ],
   "source": [
    "train_data.head()"
   ]
  },
  {
   "cell_type": "markdown",
   "metadata": {},
   "source": [
    "#### processid"
   ]
  },
  {
   "cell_type": "code",
   "execution_count": 50,
   "metadata": {},
   "outputs": [
    {
     "data": {
      "text/plain": [
       "processId\n",
       "159     20517\n",
       "1       16318\n",
       "7373     7575\n",
       "7371     7530\n",
       "7374     6663\n",
       "        ...  \n",
       "176         1\n",
       "715         1\n",
       "1631        1\n",
       "813         1\n",
       "7157        1\n",
       "Name: count, Length: 545, dtype: int64"
      ]
     },
     "execution_count": 50,
     "metadata": {},
     "output_type": "execute_result"
    }
   ],
   "source": [
    "train_data.processId.value_counts()"
   ]
  },
  {
   "cell_type": "code",
   "execution_count": 82,
   "metadata": {},
   "outputs": [
    {
     "name": "stdout",
     "output_type": "stream",
     "text": [
      "           count\n",
      "processId       \n",
      "159        20517\n",
      "1          16318\n",
      "7373        7575\n",
      "7371        7530\n",
      "7374        6663\n",
      "...          ...\n",
      "176            1\n",
      "715            1\n",
      "1631           1\n",
      "813            1\n",
      "7157           1\n",
      "\n",
      "[545 rows x 1 columns]\n"
     ]
    }
   ],
   "source": [
    "print(pd.DataFrame(train_data.processId.value_counts()))"
   ]
  },
  {
   "cell_type": "code",
   "execution_count": 80,
   "metadata": {},
   "outputs": [
    {
     "data": {
      "text/html": [
       "<div>\n",
       "<style scoped>\n",
       "    .dataframe tbody tr th:only-of-type {\n",
       "        vertical-align: middle;\n",
       "    }\n",
       "\n",
       "    .dataframe tbody tr th {\n",
       "        vertical-align: top;\n",
       "    }\n",
       "\n",
       "    .dataframe thead th {\n",
       "        text-align: right;\n",
       "    }\n",
       "</style>\n",
       "<table border=\"1\" class=\"dataframe\">\n",
       "  <thead>\n",
       "    <tr style=\"text-align: right;\">\n",
       "      <th></th>\n",
       "      <th>timestamp</th>\n",
       "    </tr>\n",
       "    <tr>\n",
       "      <th>processId</th>\n",
       "      <th></th>\n",
       "    </tr>\n",
       "  </thead>\n",
       "  <tbody>\n",
       "    <tr>\n",
       "      <th>1</th>\n",
       "      <td>16318</td>\n",
       "    </tr>\n",
       "    <tr>\n",
       "      <th>5</th>\n",
       "      <td>4</td>\n",
       "    </tr>\n",
       "    <tr>\n",
       "      <th>7</th>\n",
       "      <td>6</td>\n",
       "    </tr>\n",
       "    <tr>\n",
       "      <th>8</th>\n",
       "      <td>6</td>\n",
       "    </tr>\n",
       "    <tr>\n",
       "      <th>80</th>\n",
       "      <td>6</td>\n",
       "    </tr>\n",
       "    <tr>\n",
       "      <th>...</th>\n",
       "      <td>...</td>\n",
       "    </tr>\n",
       "    <tr>\n",
       "      <th>8120</th>\n",
       "      <td>419</td>\n",
       "    </tr>\n",
       "    <tr>\n",
       "      <th>8121</th>\n",
       "      <td>5</td>\n",
       "    </tr>\n",
       "    <tr>\n",
       "      <th>8122</th>\n",
       "      <td>5</td>\n",
       "    </tr>\n",
       "    <tr>\n",
       "      <th>8289</th>\n",
       "      <td>88</td>\n",
       "    </tr>\n",
       "    <tr>\n",
       "      <th>8619</th>\n",
       "      <td>5</td>\n",
       "    </tr>\n",
       "  </tbody>\n",
       "</table>\n",
       "<p>545 rows × 1 columns</p>\n",
       "</div>"
      ],
      "text/plain": [
       "           timestamp\n",
       "processId           \n",
       "1              16318\n",
       "5                  4\n",
       "7                  6\n",
       "8                  6\n",
       "80                 6\n",
       "...              ...\n",
       "8120             419\n",
       "8121               5\n",
       "8122               5\n",
       "8289              88\n",
       "8619               5\n",
       "\n",
       "[545 rows x 1 columns]"
      ]
     },
     "execution_count": 80,
     "metadata": {},
     "output_type": "execute_result"
    }
   ],
   "source": [
    "processid_train = train_data.groupby(['processId'])[['timestamp']].count()\n",
    "print(processid_train)"
   ]
  },
  {
   "cell_type": "markdown",
   "metadata": {},
   "source": [
    "#### Threadid"
   ]
  },
  {
   "cell_type": "code",
   "execution_count": 52,
   "metadata": {},
   "outputs": [
    {
     "name": "stdout",
     "output_type": "stream",
     "text": [
      "          timestamp\n",
      "threadId           \n",
      "1             16318\n",
      "5                 4\n",
      "7                 6\n",
      "8                 6\n",
      "80                6\n",
      "...             ...\n",
      "8120            419\n",
      "8121              5\n",
      "8122              5\n",
      "8289             88\n",
      "8619              5\n",
      "\n",
      "[588 rows x 1 columns]\n"
     ]
    }
   ],
   "source": [
    "threadId_train = train_data.groupby(['threadId'])[['timestamp']].count()\n",
    "print(threadId_train)"
   ]
  },
  {
   "cell_type": "markdown",
   "metadata": {},
   "source": [
    "#### parentProcessId"
   ]
  },
  {
   "cell_type": "code",
   "execution_count": 72,
   "metadata": {},
   "outputs": [
    {
     "name": "stdout",
     "output_type": "stream",
     "text": [
      "parentProcessId\n",
      "187     122435\n",
      "7099     66480\n",
      "1        62399\n",
      "1469     62274\n",
      "188      59649\n",
      "         ...  \n",
      "7143         1\n",
      "7158         1\n",
      "7152         1\n",
      "7141         1\n",
      "7147         1\n",
      "Name: count, Length: 205, dtype: int64\n"
     ]
    }
   ],
   "source": [
    "print(train_data.parentProcessId.value_counts())"
   ]
  },
  {
   "cell_type": "code",
   "execution_count": 53,
   "metadata": {},
   "outputs": [
    {
     "name": "stdout",
     "output_type": "stream",
     "text": [
      "                 timestamp\n",
      "parentProcessId           \n",
      "0                    16318\n",
      "1                    62399\n",
      "2                      837\n",
      "187                 122435\n",
      "188                  59649\n",
      "...                    ...\n",
      "7662                    22\n",
      "7665                    22\n",
      "7667                    22\n",
      "7670                    22\n",
      "7672                    22\n",
      "\n",
      "[205 rows x 1 columns]\n"
     ]
    }
   ],
   "source": [
    "parentprocessid_train = train_data.groupby(['parentProcessId'])[['timestamp']].count()\n",
    "print(parentprocessid_train)"
   ]
  },
  {
   "cell_type": "code",
   "execution_count": 70,
   "metadata": {},
   "outputs": [
    {
     "data": {
      "image/png": "[encoded data removed]",
      "text/plain": [
       "<Figure size 1000x1200 with 1 Axes>"
      ]
     },
     "metadata": {},
     "output_type": "display_data"
    }
   ],
   "source": [
    "fig, ax = plt.subplots(figsize=(10,12))\n",
    "labels = parentprocessid_train.index.values.astype('str')\n",
    "counts = parentprocessid_train.timestamp.values\n",
    "\n",
    "y_pos = np.arange(len(labels))\n",
    "ax.barh(labels, counts)\n",
    "plt.xticks(y_pos, labels)\n",
    "ax.set_xlabel('Count')\n",
    "ax.set_ylabel('Parent process ID')\n",
    "ax.set_title('Parent process ID distribution')\n",
    "# ax.legend(title='User Id')\n",
    "ax.set_xscale('log')\n",
    "plt.show()"
   ]
  },
  {
   "cell_type": "markdown",
   "metadata": {},
   "source": [
    "#### userId"
   ]
  },
  {
   "cell_type": "code",
   "execution_count": 54,
   "metadata": {},
   "outputs": [
    {
     "name": "stdout",
     "output_type": "stream",
     "text": [
      "        timestamp\n",
      "userId           \n",
      "0          754907\n",
      "100          1148\n",
      "101          3398\n",
      "102          1208\n",
      "103            11\n",
      "109          1476\n",
      "1000          996\n"
     ]
    }
   ],
   "source": [
    "userId_train = train_data.groupby(['userId'])[['timestamp']].count()\n",
    "print(userId_train)"
   ]
  },
  {
   "cell_type": "code",
   "execution_count": 68,
   "metadata": {},
   "outputs": [
    {
     "data": {
      "image/png": "[encoded data removed]",
      "text/plain": [
       "<Figure size 600x300 with 1 Axes>"
      ]
     },
     "metadata": {},
     "output_type": "display_data"
    }
   ],
   "source": [
    "fig, ax = plt.subplots(figsize=(6,3))\n",
    "labels = userId_train.index.values.astype('str')\n",
    "counts = userId_train.timestamp.values\n",
    "bar_labels = ['blue','orange','green','purple','red','cyan','chocolate']\n",
    "bar_colors = ['tab:blue', 'tab:orange','tab:green', 'tab:purple','tab:red', 'cyan', 'chocolate']\n",
    "\n",
    "\n",
    "y_pos = np.arange(len(labels))\n",
    "ax.barh(labels, counts, label=bar_labels, color=bar_colors)\n",
    "plt.xticks(y_pos, labels)\n",
    "ax.set_xlabel('Count')\n",
    "ax.set_ylabel('User ID')\n",
    "ax.set_title('User ID distribution')\n",
    "# ax.legend(title='User Id')\n",
    "ax.set_xscale('log')\n",
    "plt.show()"
   ]
  },
  {
   "cell_type": "code",
   "execution_count": 56,
   "metadata": {},
   "outputs": [
    {
     "data": {
      "image/png": "[encoded data removed]",
      "text/plain": [
       "<Figure size 640x480 with 1 Axes>"
      ]
     },
     "metadata": {},
     "output_type": "display_data"
    }
   ],
   "source": [
    "import matplotlib.pyplot as plt\n",
    "\n",
    "# Your data\n",
    "userId_train = {\n",
    "    'userId': ['0', '100', '101', '102', '103', '109', '1000'],\n",
    "    'timestamp': [754907, 1148, 3398, 1208, 11, 1476, 996]\n",
    "}\n",
    "\n",
    "# Convert data to DataFrame\n",
    "import pandas as pd\n",
    "userId_train = pd.DataFrame(userId_train)\n",
    "userId_train.set_index('userId', inplace=True)\n",
    "\n",
    "# Plot\n",
    "fig, ax = plt.subplots()\n",
    "\n",
    "# Creating color labels and colors\n",
    "bar_labels = ['blue', 'orange', 'green', 'purple', 'red', 'grey', 'yellow']\n",
    "bar_colors = ['tab:blue', 'tab:orange', 'tab:green', 'tab:purple', 'tab:red', 'tab:grey', 'tab:red']\n",
    "\n",
    "# Plotting the data\n",
    "ax.bar(userId_train.index, userId_train.timestamp, color=bar_colors)\n",
    "\n",
    "# Setting y-axis to logarithmic scale\n",
    "ax.set_yscale('log')\n",
    "\n",
    "# Adding labels and title\n",
    "ax.set_ylabel('Count')\n",
    "ax.set_title('User ID')\n",
    "\n",
    "plt.show()\n"
   ]
  },
  {
   "cell_type": "markdown",
   "metadata": {},
   "source": [
    "**mountNamespace**"
   ]
  },
  {
   "cell_type": "code",
   "execution_count": 73,
   "metadata": {},
   "outputs": [
    {
     "data": {
      "text/plain": [
       "mountNamespace\n",
       "4026531840    567496\n",
       "4026532217    189292\n",
       "4026532232      3398\n",
       "4026532229      1208\n",
       "4026532231      1148\n",
       "4026532288       602\n",
       "Name: count, dtype: int64"
      ]
     },
     "execution_count": 73,
     "metadata": {},
     "output_type": "execute_result"
    }
   ],
   "source": [
    "train_data.mountNamespace.value_counts()"
   ]
  },
  {
   "cell_type": "code",
   "execution_count": 74,
   "metadata": {},
   "outputs": [],
   "source": [
    "mountNamespace_train = train_data.groupby(['mountNamespace'])[['timestamp']].count()"
   ]
  },
  {
   "cell_type": "code",
   "execution_count": 109,
   "metadata": {},
   "outputs": [
    {
     "data": {
      "image/png": "[encoded data removed]",
      "text/plain": [
       "<Figure size 600x400 with 1 Axes>"
      ]
     },
     "metadata": {},
     "output_type": "display_data"
    }
   ],
   "source": [
    "fig, ax = plt.subplots(figsize=(6,4))\n",
    "labels = mountNamespace_train.index.values.astype('str')\n",
    "counts = mountNamespace_train.timestamp.values\n",
    "bar_labels = ['blue','orange','green','purple','red','cyan']\n",
    "bar_colors = ['tab:blue', 'tab:orange','tab:green', 'tab:purple','tab:red', 'cyan']\n",
    "\n",
    "\n",
    "y_pos = np.arange(len(labels))\n",
    "ax.barh(labels, counts, label=bar_labels, color=bar_colors)\n",
    "plt.xticks(y_pos, labels)\n",
    "ax.set_xlabel('Count')\n",
    "\n",
    "# ax.legend(title='User Id')\n",
    "ax.set_xscale('log')\n",
    "plt.title('Mountnamespace', size=12, ha=\"center\", transform=fig.transFigure)\n",
    "plt.suptitle('Training dataset', size=8, ha=\"center\", transform=fig.transFigure)\n",
    "plt.subplots_adjust(top=0.9, wspace=0.3)\n",
    "plt.show()"
   ]
  },
  {
   "cell_type": "markdown",
   "metadata": {},
   "source": [
    "**processName**"
   ]
  },
  {
   "cell_type": "code",
   "execution_count": 77,
   "metadata": {},
   "outputs": [
    {
     "data": {
      "text/html": [
       "<div>\n",
       "<style scoped>\n",
       "    .dataframe tbody tr th:only-of-type {\n",
       "        vertical-align: middle;\n",
       "    }\n",
       "\n",
       "    .dataframe tbody tr th {\n",
       "        vertical-align: top;\n",
       "    }\n",
       "\n",
       "    .dataframe thead th {\n",
       "        text-align: right;\n",
       "    }\n",
       "</style>\n",
       "<table border=\"1\" class=\"dataframe\">\n",
       "  <thead>\n",
       "    <tr style=\"text-align: right;\">\n",
       "      <th></th>\n",
       "      <th>timestamp</th>\n",
       "    </tr>\n",
       "    <tr>\n",
       "      <th>processName</th>\n",
       "      <th></th>\n",
       "    </tr>\n",
       "  </thead>\n",
       "  <tbody>\n",
       "    <tr>\n",
       "      <th>(sd-pam)</th>\n",
       "      <td>4</td>\n",
       "    </tr>\n",
       "    <tr>\n",
       "      <th>(sd-sync)</th>\n",
       "      <td>523</td>\n",
       "    </tr>\n",
       "    <tr>\n",
       "      <th>(time-dir)</th>\n",
       "      <td>702</td>\n",
       "    </tr>\n",
       "    <tr>\n",
       "      <th>(tmpfiles)</th>\n",
       "      <td>1008</td>\n",
       "    </tr>\n",
       "    <tr>\n",
       "      <th>amazon-ssm-agen</th>\n",
       "      <td>4850</td>\n",
       "    </tr>\n",
       "    <tr>\n",
       "      <th>atd</th>\n",
       "      <td>6</td>\n",
       "    </tr>\n",
       "    <tr>\n",
       "      <th>close</th>\n",
       "      <td>36</td>\n",
       "    </tr>\n",
       "    <tr>\n",
       "      <th>containerd-shim</th>\n",
       "      <td>5</td>\n",
       "    </tr>\n",
       "    <tr>\n",
       "      <th>cron</th>\n",
       "      <td>4080</td>\n",
       "    </tr>\n",
       "    <tr>\n",
       "      <th>dbus-daemon</th>\n",
       "      <td>11</td>\n",
       "    </tr>\n",
       "    <tr>\n",
       "      <th>docker</th>\n",
       "      <td>5</td>\n",
       "    </tr>\n",
       "    <tr>\n",
       "      <th>dockerd</th>\n",
       "      <td>5</td>\n",
       "    </tr>\n",
       "    <tr>\n",
       "      <th>gdbus</th>\n",
       "      <td>7</td>\n",
       "    </tr>\n",
       "    <tr>\n",
       "      <th>gmain</th>\n",
       "      <td>7</td>\n",
       "    </tr>\n",
       "    <tr>\n",
       "      <th>journal-offline</th>\n",
       "      <td>96</td>\n",
       "    </tr>\n",
       "    <tr>\n",
       "      <th>kworker/dying</th>\n",
       "      <td>76</td>\n",
       "    </tr>\n",
       "    <tr>\n",
       "      <th>kworker/u30:0</th>\n",
       "      <td>2</td>\n",
       "    </tr>\n",
       "    <tr>\n",
       "      <th>kworker/u30:1</th>\n",
       "      <td>4</td>\n",
       "    </tr>\n",
       "    <tr>\n",
       "      <th>kworker/u30:2</th>\n",
       "      <td>1</td>\n",
       "    </tr>\n",
       "    <tr>\n",
       "      <th>packagekitd</th>\n",
       "      <td>14</td>\n",
       "    </tr>\n",
       "    <tr>\n",
       "      <th>poweroff</th>\n",
       "      <td>754</td>\n",
       "    </tr>\n",
       "    <tr>\n",
       "      <th>ps</th>\n",
       "      <td>406313</td>\n",
       "    </tr>\n",
       "    <tr>\n",
       "      <th>run-parts</th>\n",
       "      <td>112</td>\n",
       "    </tr>\n",
       "    <tr>\n",
       "      <th>sh</th>\n",
       "      <td>119</td>\n",
       "    </tr>\n",
       "    <tr>\n",
       "      <th>snapd</th>\n",
       "      <td>4187</td>\n",
       "    </tr>\n",
       "    <tr>\n",
       "      <th>sshd</th>\n",
       "      <td>91762</td>\n",
       "    </tr>\n",
       "    <tr>\n",
       "      <th>ssm-agent-worke</th>\n",
       "      <td>822</td>\n",
       "    </tr>\n",
       "    <tr>\n",
       "      <th>systemd</th>\n",
       "      <td>17310</td>\n",
       "    </tr>\n",
       "    <tr>\n",
       "      <th>systemd-journal</th>\n",
       "      <td>20421</td>\n",
       "    </tr>\n",
       "    <tr>\n",
       "      <th>systemd-logind</th>\n",
       "      <td>602</td>\n",
       "    </tr>\n",
       "    <tr>\n",
       "      <th>systemd-network</th>\n",
       "      <td>1112</td>\n",
       "    </tr>\n",
       "    <tr>\n",
       "      <th>systemd-resolve</th>\n",
       "      <td>3398</td>\n",
       "    </tr>\n",
       "    <tr>\n",
       "      <th>systemd-timesyn</th>\n",
       "      <td>1208</td>\n",
       "    </tr>\n",
       "    <tr>\n",
       "      <th>systemd-tmpfile</th>\n",
       "      <td>13014</td>\n",
       "    </tr>\n",
       "    <tr>\n",
       "      <th>systemd-udevd</th>\n",
       "      <td>189292</td>\n",
       "    </tr>\n",
       "    <tr>\n",
       "      <th>systemd-user-ru</th>\n",
       "      <td>1276</td>\n",
       "    </tr>\n",
       "  </tbody>\n",
       "</table>\n",
       "</div>"
      ],
      "text/plain": [
       "                 timestamp\n",
       "processName               \n",
       "(sd-pam)                 4\n",
       "(sd-sync)              523\n",
       "(time-dir)             702\n",
       "(tmpfiles)            1008\n",
       "amazon-ssm-agen       4850\n",
       "atd                      6\n",
       "close                   36\n",
       "containerd-shim          5\n",
       "cron                  4080\n",
       "dbus-daemon             11\n",
       "docker                   5\n",
       "dockerd                  5\n",
       "gdbus                    7\n",
       "gmain                    7\n",
       "journal-offline         96\n",
       "kworker/dying           76\n",
       "kworker/u30:0            2\n",
       "kworker/u30:1            4\n",
       "kworker/u30:2            1\n",
       "packagekitd             14\n",
       "poweroff               754\n",
       "ps                  406313\n",
       "run-parts              112\n",
       "sh                     119\n",
       "snapd                 4187\n",
       "sshd                 91762\n",
       "ssm-agent-worke        822\n",
       "systemd              17310\n",
       "systemd-journal      20421\n",
       "systemd-logind         602\n",
       "systemd-network       1112\n",
       "systemd-resolve       3398\n",
       "systemd-timesyn       1208\n",
       "systemd-tmpfile      13014\n",
       "systemd-udevd       189292\n",
       "systemd-user-ru       1276"
      ]
     },
     "execution_count": 77,
     "metadata": {},
     "output_type": "execute_result"
    }
   ],
   "source": [
    "processName_train = train_data.groupby(['processName'])[['timestamp']].count()\n",
    "processName_train"
   ]
  },
  {
   "cell_type": "code",
   "execution_count": null,
   "metadata": {},
   "outputs": [],
   "source": [
    "fig, ax = plt.subplots(figsize=(6,3))\n",
    "labels = processName_train.index.values.astype('str')\n",
    "counts = processName_train.timestamp.values\n",
    "bar_labels = ['blue','orange','green','purple','red','cyan']\n",
    "bar_colors = ['tab:blue', 'tab:orange','tab:green', 'tab:purple','tab:red', 'cyan']\n",
    "\n",
    "\n",
    "y_pos = np.arange(len(labels))\n",
    "ax.barh(labels, counts, label=bar_labels, color=bar_colors)\n",
    "plt.xticks(y_pos, labels)\n",
    "ax.set_xlabel('Count')\n",
    "\n",
    "ax.set_title('Mount name space')\n",
    "# ax.legend(title='User Id')\n",
    "ax.set_xscale('log')\n",
    "plt.show()"
   ]
  },
  {
   "cell_type": "markdown",
   "metadata": {},
   "source": [
    "#### Hostname"
   ]
  },
  {
   "cell_type": "code",
   "execution_count": 111,
   "metadata": {},
   "outputs": [
    {
     "data": {
      "text/html": [
       "<div>\n",
       "<style scoped>\n",
       "    .dataframe tbody tr th:only-of-type {\n",
       "        vertical-align: middle;\n",
       "    }\n",
       "\n",
       "    .dataframe tbody tr th {\n",
       "        vertical-align: top;\n",
       "    }\n",
       "\n",
       "    .dataframe thead th {\n",
       "        text-align: right;\n",
       "    }\n",
       "</style>\n",
       "<table border=\"1\" class=\"dataframe\">\n",
       "  <thead>\n",
       "    <tr style=\"text-align: right;\">\n",
       "      <th></th>\n",
       "      <th>timestamp</th>\n",
       "    </tr>\n",
       "    <tr>\n",
       "      <th>hostName</th>\n",
       "      <th></th>\n",
       "    </tr>\n",
       "  </thead>\n",
       "  <tbody>\n",
       "    <tr>\n",
       "      <th>ip-10-100-1-120</th>\n",
       "      <td>95747</td>\n",
       "    </tr>\n",
       "    <tr>\n",
       "      <th>ip-10-100-1-173</th>\n",
       "      <td>74593</td>\n",
       "    </tr>\n",
       "    <tr>\n",
       "      <th>ip-10-100-1-28</th>\n",
       "      <td>75648</td>\n",
       "    </tr>\n",
       "    <tr>\n",
       "      <th>ip-10-100-1-34</th>\n",
       "      <td>73295</td>\n",
       "    </tr>\n",
       "    <tr>\n",
       "      <th>ip-10-100-1-55</th>\n",
       "      <td>75208</td>\n",
       "    </tr>\n",
       "    <tr>\n",
       "      <th>ip-10-100-1-57</th>\n",
       "      <td>162378</td>\n",
       "    </tr>\n",
       "    <tr>\n",
       "      <th>ip-10-100-1-79</th>\n",
       "      <td>15775</td>\n",
       "    </tr>\n",
       "    <tr>\n",
       "      <th>ubuntu</th>\n",
       "      <td>190500</td>\n",
       "    </tr>\n",
       "  </tbody>\n",
       "</table>\n",
       "</div>"
      ],
      "text/plain": [
       "                 timestamp\n",
       "hostName                  \n",
       "ip-10-100-1-120      95747\n",
       "ip-10-100-1-173      74593\n",
       "ip-10-100-1-28       75648\n",
       "ip-10-100-1-34       73295\n",
       "ip-10-100-1-55       75208\n",
       "ip-10-100-1-57      162378\n",
       "ip-10-100-1-79       15775\n",
       "ubuntu              190500"
      ]
     },
     "execution_count": 111,
     "metadata": {},
     "output_type": "execute_result"
    }
   ],
   "source": [
    "host_train = train_data.groupby(['hostName'])[['timestamp']].count()\n",
    "host_train"
   ]
  },
  {
   "cell_type": "code",
   "execution_count": 113,
   "metadata": {},
   "outputs": [
    {
     "data": {
      "image/png": "[encoded data removed]",
      "text/plain": [
       "<Figure size 600x400 with 1 Axes>"
      ]
     },
     "metadata": {},
     "output_type": "display_data"
    }
   ],
   "source": [
    "fig, ax = plt.subplots(figsize=(6,4))\n",
    "labels = host_train.index.values.astype('str')\n",
    "counts = host_train.timestamp.values\n",
    "bar_labels = ['blue','orange','green','purple','red','cyan','chocolate','indigo']\n",
    "bar_colors = ['tab:blue', 'tab:orange','tab:green', 'tab:purple','tab:red','cyan','chocolate','indigo']\n",
    "\n",
    "\n",
    "y_pos = np.arange(len(labels))\n",
    "ax.barh(labels, counts, label=bar_labels, color=bar_colors)\n",
    "plt.xticks(y_pos, labels)\n",
    "ax.set_xlabel('Count')\n",
    "\n",
    "\n",
    "ax.set_xscale('log')\n",
    "plt.title('Host name', size=12, ha=\"center\", transform=fig.transFigure)\n",
    "plt.suptitle('Training dataset', size=8, ha=\"center\", transform=fig.transFigure)\n",
    "plt.subplots_adjust(top=0.9, wspace=0.3)\n",
    "plt.show()"
   ]
  },
  {
   "cell_type": "markdown",
   "metadata": {},
   "source": [
    "#### Eventid"
   ]
  },
  {
   "cell_type": "code",
   "execution_count": 119,
   "metadata": {},
   "outputs": [
    {
     "data": {
      "text/html": [
       "<div>\n",
       "<style scoped>\n",
       "    .dataframe tbody tr th:only-of-type {\n",
       "        vertical-align: middle;\n",
       "    }\n",
       "\n",
       "    .dataframe tbody tr th {\n",
       "        vertical-align: top;\n",
       "    }\n",
       "\n",
       "    .dataframe thead th {\n",
       "        text-align: right;\n",
       "    }\n",
       "</style>\n",
       "<table border=\"1\" class=\"dataframe\">\n",
       "  <thead>\n",
       "    <tr style=\"text-align: right;\">\n",
       "      <th></th>\n",
       "      <th>timestamp</th>\n",
       "    </tr>\n",
       "    <tr>\n",
       "      <th>eventId</th>\n",
       "      <th></th>\n",
       "    </tr>\n",
       "  </thead>\n",
       "  <tbody>\n",
       "    <tr>\n",
       "      <th>3</th>\n",
       "      <td>218080</td>\n",
       "    </tr>\n",
       "    <tr>\n",
       "      <th>257</th>\n",
       "      <td>209730</td>\n",
       "    </tr>\n",
       "    <tr>\n",
       "      <th>1005</th>\n",
       "      <td>148611</td>\n",
       "    </tr>\n",
       "    <tr>\n",
       "      <th>5</th>\n",
       "      <td>80071</td>\n",
       "    </tr>\n",
       "    <tr>\n",
       "      <th>4</th>\n",
       "      <td>41931</td>\n",
       "    </tr>\n",
       "    <tr>\n",
       "      <th>21</th>\n",
       "      <td>14383</td>\n",
       "    </tr>\n",
       "    <tr>\n",
       "      <th>1003</th>\n",
       "      <td>9825</td>\n",
       "    </tr>\n",
       "    <tr>\n",
       "      <th>6</th>\n",
       "      <td>7031</td>\n",
       "    </tr>\n",
       "    <tr>\n",
       "      <th>217</th>\n",
       "      <td>6149</td>\n",
       "    </tr>\n",
       "    <tr>\n",
       "      <th>41</th>\n",
       "      <td>5971</td>\n",
       "    </tr>\n",
       "    <tr>\n",
       "      <th>42</th>\n",
       "      <td>3581</td>\n",
       "    </tr>\n",
       "    <tr>\n",
       "      <th>62</th>\n",
       "      <td>2818</td>\n",
       "    </tr>\n",
       "    <tr>\n",
       "      <th>33</th>\n",
       "      <td>2389</td>\n",
       "    </tr>\n",
       "    <tr>\n",
       "      <th>51</th>\n",
       "      <td>2308</td>\n",
       "    </tr>\n",
       "    <tr>\n",
       "      <th>87</th>\n",
       "      <td>1809</td>\n",
       "    </tr>\n",
       "    <tr>\n",
       "      <th>1010</th>\n",
       "      <td>1409</td>\n",
       "    </tr>\n",
       "    <tr>\n",
       "      <th>157</th>\n",
       "      <td>1379</td>\n",
       "    </tr>\n",
       "    <tr>\n",
       "      <th>56</th>\n",
       "      <td>1299</td>\n",
       "    </tr>\n",
       "    <tr>\n",
       "      <th>49</th>\n",
       "      <td>853</td>\n",
       "    </tr>\n",
       "    <tr>\n",
       "      <th>288</th>\n",
       "      <td>772</td>\n",
       "    </tr>\n",
       "    <tr>\n",
       "      <th>1004</th>\n",
       "      <td>581</td>\n",
       "    </tr>\n",
       "    <tr>\n",
       "      <th>59</th>\n",
       "      <td>574</td>\n",
       "    </tr>\n",
       "    <tr>\n",
       "      <th>263</th>\n",
       "      <td>422</td>\n",
       "    </tr>\n",
       "    <tr>\n",
       "      <th>32</th>\n",
       "      <td>354</td>\n",
       "    </tr>\n",
       "    <tr>\n",
       "      <th>1006</th>\n",
       "      <td>199</td>\n",
       "    </tr>\n",
       "    <tr>\n",
       "      <th>43</th>\n",
       "      <td>177</td>\n",
       "    </tr>\n",
       "    <tr>\n",
       "      <th>105</th>\n",
       "      <td>171</td>\n",
       "    </tr>\n",
       "    <tr>\n",
       "      <th>106</th>\n",
       "      <td>171</td>\n",
       "    </tr>\n",
       "    <tr>\n",
       "      <th>91</th>\n",
       "      <td>66</td>\n",
       "    </tr>\n",
       "    <tr>\n",
       "      <th>292</th>\n",
       "      <td>20</td>\n",
       "    </tr>\n",
       "    <tr>\n",
       "      <th>88</th>\n",
       "      <td>6</td>\n",
       "    </tr>\n",
       "    <tr>\n",
       "      <th>166</th>\n",
       "      <td>4</td>\n",
       "    </tr>\n",
       "  </tbody>\n",
       "</table>\n",
       "</div>"
      ],
      "text/plain": [
       "         timestamp\n",
       "eventId           \n",
       "3           218080\n",
       "257         209730\n",
       "1005        148611\n",
       "5            80071\n",
       "4            41931\n",
       "21           14383\n",
       "1003          9825\n",
       "6             7031\n",
       "217           6149\n",
       "41            5971\n",
       "42            3581\n",
       "62            2818\n",
       "33            2389\n",
       "51            2308\n",
       "87            1809\n",
       "1010          1409\n",
       "157           1379\n",
       "56            1299\n",
       "49             853\n",
       "288            772\n",
       "1004           581\n",
       "59             574\n",
       "263            422\n",
       "32             354\n",
       "1006           199\n",
       "43             177\n",
       "105            171\n",
       "106            171\n",
       "91              66\n",
       "292             20\n",
       "88               6\n",
       "166              4"
      ]
     },
     "execution_count": 119,
     "metadata": {},
     "output_type": "execute_result"
    }
   ],
   "source": [
    "event_train = train_data.groupby(['eventId'])[['timestamp']].count()\n",
    "event_train = event_train.sort_values(by='timestamp',ascending=False)\n",
    "event_train"
   ]
  },
  {
   "cell_type": "code",
   "execution_count": 120,
   "metadata": {},
   "outputs": [
    {
     "data": {
      "image/png": "[encoded data removed]",
      "text/plain": [
       "<Figure size 1200x400 with 1 Axes>"
      ]
     },
     "metadata": {},
     "output_type": "display_data"
    }
   ],
   "source": [
    "fig, ax = plt.subplots(figsize=(12,4))\n",
    "labels = event_train.index.values.astype('str')\n",
    "counts = event_train.timestamp.values\n",
    "\n",
    "\n",
    "y_pos = np.arange(len(labels))\n",
    "ax.bar(labels, counts)\n",
    "plt.xticks(y_pos, labels)\n",
    "ax.set_ylabel('Count')\n",
    "\n",
    "ax.set_yscale('log')\n",
    "ax.tick_params(axis='x', labelrotation=90)\n",
    "plt.title('Event ID', size=12, ha=\"center\", transform=fig.transFigure)\n",
    "plt.suptitle('Training dataset', size=8, ha=\"center\", transform=fig.transFigure)\n",
    "plt.subplots_adjust(top=0.9, wspace=0.3)\n",
    "plt.show()"
   ]
  },
  {
   "cell_type": "markdown",
   "metadata": {},
   "source": [
    "#### Eventname"
   ]
  },
  {
   "cell_type": "code",
   "execution_count": 121,
   "metadata": {},
   "outputs": [
    {
     "data": {
      "text/html": [
       "<div>\n",
       "<style scoped>\n",
       "    .dataframe tbody tr th:only-of-type {\n",
       "        vertical-align: middle;\n",
       "    }\n",
       "\n",
       "    .dataframe tbody tr th {\n",
       "        vertical-align: top;\n",
       "    }\n",
       "\n",
       "    .dataframe thead th {\n",
       "        text-align: right;\n",
       "    }\n",
       "</style>\n",
       "<table border=\"1\" class=\"dataframe\">\n",
       "  <thead>\n",
       "    <tr style=\"text-align: right;\">\n",
       "      <th></th>\n",
       "      <th>timestamp</th>\n",
       "    </tr>\n",
       "    <tr>\n",
       "      <th>eventName</th>\n",
       "      <th></th>\n",
       "    </tr>\n",
       "  </thead>\n",
       "  <tbody>\n",
       "    <tr>\n",
       "      <th>close</th>\n",
       "      <td>218080</td>\n",
       "    </tr>\n",
       "    <tr>\n",
       "      <th>openat</th>\n",
       "      <td>209730</td>\n",
       "    </tr>\n",
       "    <tr>\n",
       "      <th>security_file_open</th>\n",
       "      <td>148611</td>\n",
       "    </tr>\n",
       "    <tr>\n",
       "      <th>fstat</th>\n",
       "      <td>80071</td>\n",
       "    </tr>\n",
       "    <tr>\n",
       "      <th>stat</th>\n",
       "      <td>41931</td>\n",
       "    </tr>\n",
       "    <tr>\n",
       "      <th>access</th>\n",
       "      <td>14383</td>\n",
       "    </tr>\n",
       "    <tr>\n",
       "      <th>cap_capable</th>\n",
       "      <td>9825</td>\n",
       "    </tr>\n",
       "    <tr>\n",
       "      <th>lstat</th>\n",
       "      <td>7031</td>\n",
       "    </tr>\n",
       "    <tr>\n",
       "      <th>getdents64</th>\n",
       "      <td>6149</td>\n",
       "    </tr>\n",
       "    <tr>\n",
       "      <th>socket</th>\n",
       "      <td>5971</td>\n",
       "    </tr>\n",
       "    <tr>\n",
       "      <th>connect</th>\n",
       "      <td>3581</td>\n",
       "    </tr>\n",
       "    <tr>\n",
       "      <th>kill</th>\n",
       "      <td>2818</td>\n",
       "    </tr>\n",
       "    <tr>\n",
       "      <th>dup2</th>\n",
       "      <td>2389</td>\n",
       "    </tr>\n",
       "    <tr>\n",
       "      <th>getsockname</th>\n",
       "      <td>2308</td>\n",
       "    </tr>\n",
       "    <tr>\n",
       "      <th>unlink</th>\n",
       "      <td>1809</td>\n",
       "    </tr>\n",
       "    <tr>\n",
       "      <th>sched_process_exit</th>\n",
       "      <td>1409</td>\n",
       "    </tr>\n",
       "    <tr>\n",
       "      <th>prctl</th>\n",
       "      <td>1379</td>\n",
       "    </tr>\n",
       "    <tr>\n",
       "      <th>clone</th>\n",
       "      <td>1299</td>\n",
       "    </tr>\n",
       "    <tr>\n",
       "      <th>bind</th>\n",
       "      <td>853</td>\n",
       "    </tr>\n",
       "    <tr>\n",
       "      <th>accept4</th>\n",
       "      <td>772</td>\n",
       "    </tr>\n",
       "    <tr>\n",
       "      <th>security_bprm_check</th>\n",
       "      <td>581</td>\n",
       "    </tr>\n",
       "    <tr>\n",
       "      <th>execve</th>\n",
       "      <td>574</td>\n",
       "    </tr>\n",
       "    <tr>\n",
       "      <th>unlinkat</th>\n",
       "      <td>422</td>\n",
       "    </tr>\n",
       "    <tr>\n",
       "      <th>dup</th>\n",
       "      <td>354</td>\n",
       "    </tr>\n",
       "    <tr>\n",
       "      <th>security_inode_unlink</th>\n",
       "      <td>199</td>\n",
       "    </tr>\n",
       "    <tr>\n",
       "      <th>accept</th>\n",
       "      <td>177</td>\n",
       "    </tr>\n",
       "    <tr>\n",
       "      <th>setgid</th>\n",
       "      <td>171</td>\n",
       "    </tr>\n",
       "    <tr>\n",
       "      <th>setuid</th>\n",
       "      <td>171</td>\n",
       "    </tr>\n",
       "    <tr>\n",
       "      <th>fchmod</th>\n",
       "      <td>66</td>\n",
       "    </tr>\n",
       "    <tr>\n",
       "      <th>dup3</th>\n",
       "      <td>20</td>\n",
       "    </tr>\n",
       "    <tr>\n",
       "      <th>symlink</th>\n",
       "      <td>6</td>\n",
       "    </tr>\n",
       "    <tr>\n",
       "      <th>umount</th>\n",
       "      <td>4</td>\n",
       "    </tr>\n",
       "  </tbody>\n",
       "</table>\n",
       "</div>"
      ],
      "text/plain": [
       "                       timestamp\n",
       "eventName                       \n",
       "close                     218080\n",
       "openat                    209730\n",
       "security_file_open        148611\n",
       "fstat                      80071\n",
       "stat                       41931\n",
       "access                     14383\n",
       "cap_capable                 9825\n",
       "lstat                       7031\n",
       "getdents64                  6149\n",
       "socket                      5971\n",
       "connect                     3581\n",
       "kill                        2818\n",
       "dup2                        2389\n",
       "getsockname                 2308\n",
       "unlink                      1809\n",
       "sched_process_exit          1409\n",
       "prctl                       1379\n",
       "clone                       1299\n",
       "bind                         853\n",
       "accept4                      772\n",
       "security_bprm_check          581\n",
       "execve                       574\n",
       "unlinkat                     422\n",
       "dup                          354\n",
       "security_inode_unlink        199\n",
       "accept                       177\n",
       "setgid                       171\n",
       "setuid                       171\n",
       "fchmod                        66\n",
       "dup3                          20\n",
       "symlink                        6\n",
       "umount                         4"
      ]
     },
     "execution_count": 121,
     "metadata": {},
     "output_type": "execute_result"
    }
   ],
   "source": [
    "event_train = train_data.groupby(['eventName'])[['timestamp']].count()\n",
    "event_train = event_train.sort_values(by='timestamp',ascending=False)\n",
    "event_train"
   ]
  },
  {
   "cell_type": "code",
   "execution_count": 123,
   "metadata": {},
   "outputs": [
    {
     "data": {
      "image/png": "[encoded data removed]",
      "text/plain": [
       "<Figure size 1200x400 with 1 Axes>"
      ]
     },
     "metadata": {},
     "output_type": "display_data"
    }
   ],
   "source": [
    "fig, ax = plt.subplots(figsize=(12,4))\n",
    "labels = event_train.index.values.astype('str')\n",
    "counts = event_train.timestamp.values\n",
    "\n",
    "\n",
    "y_pos = np.arange(len(labels))\n",
    "ax.bar(labels, counts)\n",
    "plt.xticks(y_pos, labels)\n",
    "ax.set_ylabel('Count')\n",
    "\n",
    "ax.set_yscale('log')\n",
    "ax.tick_params(axis='x', labelrotation=90)\n",
    "plt.title('Event name', size=12, ha=\"center\", transform=fig.transFigure)\n",
    "plt.suptitle('Training dataset', size=8, ha=\"center\", transform=fig.transFigure)\n",
    "plt.subplots_adjust(top=0.9, wspace=0.3)\n",
    "plt.show()"
   ]
  },
  {
   "cell_type": "markdown",
   "metadata": {},
   "source": [
    "#### Sus"
   ]
  },
  {
   "cell_type": "code",
   "execution_count": 57,
   "metadata": {},
   "outputs": [
    {
     "data": {
      "text/plain": [
       "sus\n",
       "0    761875\n",
       "1      1269\n",
       "Name: count, dtype: int64"
      ]
     },
     "execution_count": 57,
     "metadata": {},
     "output_type": "execute_result"
    }
   ],
   "source": [
    "train_data['sus'].value_counts()"
   ]
  },
  {
   "cell_type": "code",
   "execution_count": 59,
   "metadata": {},
   "outputs": [
    {
     "data": {
      "text/html": [
       "<div>\n",
       "<style scoped>\n",
       "    .dataframe tbody tr th:only-of-type {\n",
       "        vertical-align: middle;\n",
       "    }\n",
       "\n",
       "    .dataframe tbody tr th {\n",
       "        vertical-align: top;\n",
       "    }\n",
       "\n",
       "    .dataframe thead th {\n",
       "        text-align: right;\n",
       "    }\n",
       "</style>\n",
       "<table border=\"1\" class=\"dataframe\">\n",
       "  <thead>\n",
       "    <tr style=\"text-align: right;\">\n",
       "      <th></th>\n",
       "      <th>timestamp</th>\n",
       "    </tr>\n",
       "    <tr>\n",
       "      <th>sus</th>\n",
       "      <th></th>\n",
       "    </tr>\n",
       "  </thead>\n",
       "  <tbody>\n",
       "    <tr>\n",
       "      <th>0</th>\n",
       "      <td>761875</td>\n",
       "    </tr>\n",
       "    <tr>\n",
       "      <th>1</th>\n",
       "      <td>1269</td>\n",
       "    </tr>\n",
       "  </tbody>\n",
       "</table>\n",
       "</div>"
      ],
      "text/plain": [
       "     timestamp\n",
       "sus           \n",
       "0       761875\n",
       "1         1269"
      ]
     },
     "execution_count": 59,
     "metadata": {},
     "output_type": "execute_result"
    }
   ],
   "source": [
    "sus_train = train_data.groupby(['sus'])[['timestamp']].count()\n",
    "sus_train"
   ]
  },
  {
   "cell_type": "code",
   "execution_count": 61,
   "metadata": {},
   "outputs": [
    {
     "data": {
      "text/plain": [
       "array([761875,   1269])"
      ]
     },
     "execution_count": 61,
     "metadata": {},
     "output_type": "execute_result"
    }
   ],
   "source": [
    "sus_train.timestamp.values"
   ]
  },
  {
   "cell_type": "code",
   "execution_count": 110,
   "metadata": {},
   "outputs": [
    {
     "data": {
      "image/png": "[encoded data removed]",
      "text/plain": [
       "<Figure size 600x300 with 1 Axes>"
      ]
     },
     "metadata": {},
     "output_type": "display_data"
    }
   ],
   "source": [
    "\n",
    "fig, ax = plt.subplots(figsize=(6,3))\n",
    "labels = ['Unsuspicious', 'Suspicious']\n",
    "counts = sus_train.timestamp.values\n",
    "bar_labels = ['green', 'red']\n",
    "bar_colors = ['tab:green', 'tab:red']\n",
    "\n",
    "ax.barh(labels, counts, label=bar_labels, color=bar_colors)\n",
    "ax.set_xscale('log')\n",
    "ax.set_xlabel('Count')\n",
    "\n",
    "plt.title('Suspicous class', size=12, ha=\"center\", transform=fig.transFigure)\n",
    "plt.suptitle('Training dataset', size=8, ha=\"center\", transform=fig.transFigure)\n",
    "plt.subplots_adjust(top=0.9, wspace=0.3)\n",
    "\n",
    "plt.show()"
   ]
  },
  {
   "cell_type": "markdown",
   "metadata": {},
   "source": [
    "#### Malicious"
   ]
  },
  {
   "cell_type": "code",
   "execution_count": null,
   "metadata": {},
   "outputs": [
    {
     "data": {
      "text/plain": [
       "evil\n",
       "0    763144\n",
       "Name: count, dtype: int64"
      ]
     },
     "execution_count": 5,
     "metadata": {},
     "output_type": "execute_result"
    }
   ],
   "source": [
    "train_data['evil'].value_counts()"
   ]
  },
  {
   "cell_type": "markdown",
   "metadata": {},
   "source": [
    "#### User id"
   ]
  },
  {
   "cell_type": "code",
   "execution_count": 3,
   "metadata": {},
   "outputs": [
    {
     "ename": "NameError",
     "evalue": "name 'train_data' is not defined",
     "output_type": "error",
     "traceback": [
      "\u001b[0;31m---------------------------------------------------------------------------\u001b[0m",
      "\u001b[0;31mNameError\u001b[0m                                 Traceback (most recent call last)",
      "Cell \u001b[0;32mIn[3], line 1\u001b[0m\n\u001b[0;32m----> 1\u001b[0m \u001b[43mtrain_data\u001b[49m[\u001b[38;5;124m'\u001b[39m\u001b[38;5;124muserId\u001b[39m\u001b[38;5;124m'\u001b[39m]\u001b[38;5;241m.\u001b[39mvalue_counts()\n",
      "\u001b[0;31mNameError\u001b[0m: name 'train_data' is not defined"
     ]
    }
   ],
   "source": [
    "train_data['userId'].value_counts()"
   ]
  },
  {
   "cell_type": "markdown",
   "metadata": {},
   "source": [
    "#### Hostname"
   ]
  },
  {
   "cell_type": "code",
   "execution_count": 7,
   "metadata": {},
   "outputs": [
    {
     "data": {
      "text/plain": [
       "hostName\n",
       "ubuntu             190500\n",
       "ip-10-100-1-57     162378\n",
       "ip-10-100-1-120     95747\n",
       "ip-10-100-1-28      75648\n",
       "ip-10-100-1-55      75208\n",
       "ip-10-100-1-173     74593\n",
       "ip-10-100-1-34      73295\n",
       "ip-10-100-1-79      15775\n",
       "Name: count, dtype: int64"
      ]
     },
     "execution_count": 7,
     "metadata": {},
     "output_type": "execute_result"
    }
   ],
   "source": [
    "train_data['hostName'].value_counts()"
   ]
  },
  {
   "cell_type": "markdown",
   "metadata": {},
   "source": [
    "### Validation data"
   ]
  },
  {
   "cell_type": "code",
   "execution_count": 8,
   "metadata": {},
   "outputs": [
    {
     "data": {
      "text/plain": [
       "(188967, 16)"
      ]
     },
     "execution_count": 8,
     "metadata": {},
     "output_type": "execute_result"
    }
   ],
   "source": [
    "val_data = pd.read_csv('data/labelled_validation_data.csv')\n",
    "val_data.shape"
   ]
  },
  {
   "cell_type": "code",
   "execution_count": 9,
   "metadata": {},
   "outputs": [
    {
     "data": {
      "text/html": [
       "<div>\n",
       "<style scoped>\n",
       "    .dataframe tbody tr th:only-of-type {\n",
       "        vertical-align: middle;\n",
       "    }\n",
       "\n",
       "    .dataframe tbody tr th {\n",
       "        vertical-align: top;\n",
       "    }\n",
       "\n",
       "    .dataframe thead th {\n",
       "        text-align: right;\n",
       "    }\n",
       "</style>\n",
       "<table border=\"1\" class=\"dataframe\">\n",
       "  <thead>\n",
       "    <tr style=\"text-align: right;\">\n",
       "      <th></th>\n",
       "      <th>timestamp</th>\n",
       "      <th>processId</th>\n",
       "      <th>threadId</th>\n",
       "      <th>parentProcessId</th>\n",
       "      <th>userId</th>\n",
       "      <th>mountNamespace</th>\n",
       "      <th>processName</th>\n",
       "      <th>hostName</th>\n",
       "      <th>eventId</th>\n",
       "      <th>eventName</th>\n",
       "      <th>stackAddresses</th>\n",
       "      <th>argsNum</th>\n",
       "      <th>returnValue</th>\n",
       "      <th>args</th>\n",
       "      <th>sus</th>\n",
       "      <th>evil</th>\n",
       "    </tr>\n",
       "  </thead>\n",
       "  <tbody>\n",
       "    <tr>\n",
       "      <th>0</th>\n",
       "      <td>124.439221</td>\n",
       "      <td>381</td>\n",
       "      <td>381</td>\n",
       "      <td>1</td>\n",
       "      <td>101</td>\n",
       "      <td>4026532232</td>\n",
       "      <td>systemd-resolve</td>\n",
       "      <td>ip-10-100-1-129</td>\n",
       "      <td>41</td>\n",
       "      <td>socket</td>\n",
       "      <td>[139913106282763, 139913103116537, 94901962555...</td>\n",
       "      <td>3</td>\n",
       "      <td>15</td>\n",
       "      <td>[{'name': 'domain', 'type': 'int', 'value': 'A...</td>\n",
       "      <td>0</td>\n",
       "      <td>0</td>\n",
       "    </tr>\n",
       "    <tr>\n",
       "      <th>1</th>\n",
       "      <td>124.439751</td>\n",
       "      <td>378</td>\n",
       "      <td>378</td>\n",
       "      <td>1</td>\n",
       "      <td>100</td>\n",
       "      <td>4026532231</td>\n",
       "      <td>systemd-network</td>\n",
       "      <td>ip-10-100-1-129</td>\n",
       "      <td>41</td>\n",
       "      <td>socket</td>\n",
       "      <td>[140343254628619, 93967981149065, 93967990898192]</td>\n",
       "      <td>3</td>\n",
       "      <td>15</td>\n",
       "      <td>[{'name': 'domain', 'type': 'int', 'value': 'A...</td>\n",
       "      <td>0</td>\n",
       "      <td>0</td>\n",
       "    </tr>\n",
       "    <tr>\n",
       "      <th>2</th>\n",
       "      <td>124.439958</td>\n",
       "      <td>1</td>\n",
       "      <td>1</td>\n",
       "      <td>0</td>\n",
       "      <td>0</td>\n",
       "      <td>4026531840</td>\n",
       "      <td>systemd</td>\n",
       "      <td>ip-10-100-1-129</td>\n",
       "      <td>1005</td>\n",
       "      <td>security_file_open</td>\n",
       "      <td>[140074839310116, 8103505641674583864]</td>\n",
       "      <td>4</td>\n",
       "      <td>0</td>\n",
       "      <td>[{'name': 'pathname', 'type': 'const char*', '...</td>\n",
       "      <td>0</td>\n",
       "      <td>0</td>\n",
       "    </tr>\n",
       "    <tr>\n",
       "      <th>3</th>\n",
       "      <td>124.440007</td>\n",
       "      <td>1</td>\n",
       "      <td>1</td>\n",
       "      <td>0</td>\n",
       "      <td>0</td>\n",
       "      <td>4026531840</td>\n",
       "      <td>systemd</td>\n",
       "      <td>ip-10-100-1-129</td>\n",
       "      <td>257</td>\n",
       "      <td>openat</td>\n",
       "      <td>[]</td>\n",
       "      <td>4</td>\n",
       "      <td>12</td>\n",
       "      <td>[{'name': 'dirfd', 'type': 'int', 'value': -10...</td>\n",
       "      <td>0</td>\n",
       "      <td>0</td>\n",
       "    </tr>\n",
       "    <tr>\n",
       "      <th>4</th>\n",
       "      <td>124.440037</td>\n",
       "      <td>1</td>\n",
       "      <td>1</td>\n",
       "      <td>0</td>\n",
       "      <td>0</td>\n",
       "      <td>4026531840</td>\n",
       "      <td>systemd</td>\n",
       "      <td>ip-10-100-1-129</td>\n",
       "      <td>5</td>\n",
       "      <td>fstat</td>\n",
       "      <td>[140074839307913]</td>\n",
       "      <td>2</td>\n",
       "      <td>0</td>\n",
       "      <td>[{'name': 'fd', 'type': 'int', 'value': 12}, {...</td>\n",
       "      <td>0</td>\n",
       "      <td>0</td>\n",
       "    </tr>\n",
       "  </tbody>\n",
       "</table>\n",
       "</div>"
      ],
      "text/plain": [
       "    timestamp  processId  threadId  parentProcessId  userId  mountNamespace  \\\n",
       "0  124.439221        381       381                1     101      4026532232   \n",
       "1  124.439751        378       378                1     100      4026532231   \n",
       "2  124.439958          1         1                0       0      4026531840   \n",
       "3  124.440007          1         1                0       0      4026531840   \n",
       "4  124.440037          1         1                0       0      4026531840   \n",
       "\n",
       "       processName         hostName  eventId           eventName  \\\n",
       "0  systemd-resolve  ip-10-100-1-129       41              socket   \n",
       "1  systemd-network  ip-10-100-1-129       41              socket   \n",
       "2          systemd  ip-10-100-1-129     1005  security_file_open   \n",
       "3          systemd  ip-10-100-1-129      257              openat   \n",
       "4          systemd  ip-10-100-1-129        5               fstat   \n",
       "\n",
       "                                      stackAddresses  argsNum  returnValue  \\\n",
       "0  [139913106282763, 139913103116537, 94901962555...        3           15   \n",
       "1  [140343254628619, 93967981149065, 93967990898192]        3           15   \n",
       "2             [140074839310116, 8103505641674583864]        4            0   \n",
       "3                                                 []        4           12   \n",
       "4                                  [140074839307913]        2            0   \n",
       "\n",
       "                                                args  sus  evil  \n",
       "0  [{'name': 'domain', 'type': 'int', 'value': 'A...    0     0  \n",
       "1  [{'name': 'domain', 'type': 'int', 'value': 'A...    0     0  \n",
       "2  [{'name': 'pathname', 'type': 'const char*', '...    0     0  \n",
       "3  [{'name': 'dirfd', 'type': 'int', 'value': -10...    0     0  \n",
       "4  [{'name': 'fd', 'type': 'int', 'value': 12}, {...    0     0  "
      ]
     },
     "execution_count": 9,
     "metadata": {},
     "output_type": "execute_result"
    }
   ],
   "source": [
    "val_data.head()"
   ]
  },
  {
   "cell_type": "markdown",
   "metadata": {},
   "source": [
    "#### Suspicious"
   ]
  },
  {
   "cell_type": "code",
   "execution_count": 10,
   "metadata": {},
   "outputs": [
    {
     "data": {
      "text/plain": [
       "sus\n",
       "0    188181\n",
       "1       786\n",
       "Name: count, dtype: int64"
      ]
     },
     "execution_count": 10,
     "metadata": {},
     "output_type": "execute_result"
    }
   ],
   "source": [
    "val_data['sus'].value_counts()"
   ]
  },
  {
   "cell_type": "markdown",
   "metadata": {},
   "source": [
    "#### Malicious"
   ]
  },
  {
   "cell_type": "code",
   "execution_count": 11,
   "metadata": {},
   "outputs": [
    {
     "data": {
      "text/plain": [
       "evil\n",
       "0    188967\n",
       "Name: count, dtype: int64"
      ]
     },
     "execution_count": 11,
     "metadata": {},
     "output_type": "execute_result"
    }
   ],
   "source": [
    "val_data['evil'].value_counts()"
   ]
  },
  {
   "cell_type": "markdown",
   "metadata": {},
   "source": [
    "### Testing data"
   ]
  },
  {
   "cell_type": "code",
   "execution_count": 12,
   "metadata": {},
   "outputs": [
    {
     "data": {
      "text/plain": [
       "(188967, 16)"
      ]
     },
     "execution_count": 12,
     "metadata": {},
     "output_type": "execute_result"
    }
   ],
   "source": [
    "test_data = pd.read_csv('data/labelled_testing_data.csv')\n",
    "test_data.shape"
   ]
  },
  {
   "cell_type": "code",
   "execution_count": 13,
   "metadata": {},
   "outputs": [
    {
     "data": {
      "text/html": [
       "<div>\n",
       "<style scoped>\n",
       "    .dataframe tbody tr th:only-of-type {\n",
       "        vertical-align: middle;\n",
       "    }\n",
       "\n",
       "    .dataframe tbody tr th {\n",
       "        vertical-align: top;\n",
       "    }\n",
       "\n",
       "    .dataframe thead th {\n",
       "        text-align: right;\n",
       "    }\n",
       "</style>\n",
       "<table border=\"1\" class=\"dataframe\">\n",
       "  <thead>\n",
       "    <tr style=\"text-align: right;\">\n",
       "      <th></th>\n",
       "      <th>timestamp</th>\n",
       "      <th>processId</th>\n",
       "      <th>threadId</th>\n",
       "      <th>parentProcessId</th>\n",
       "      <th>userId</th>\n",
       "      <th>mountNamespace</th>\n",
       "      <th>processName</th>\n",
       "      <th>hostName</th>\n",
       "      <th>eventId</th>\n",
       "      <th>eventName</th>\n",
       "      <th>stackAddresses</th>\n",
       "      <th>argsNum</th>\n",
       "      <th>returnValue</th>\n",
       "      <th>args</th>\n",
       "      <th>sus</th>\n",
       "      <th>evil</th>\n",
       "    </tr>\n",
       "  </thead>\n",
       "  <tbody>\n",
       "    <tr>\n",
       "      <th>0</th>\n",
       "      <td>129.050634</td>\n",
       "      <td>382</td>\n",
       "      <td>382</td>\n",
       "      <td>1</td>\n",
       "      <td>101</td>\n",
       "      <td>4026532232</td>\n",
       "      <td>systemd-resolve</td>\n",
       "      <td>ip-10-100-1-217</td>\n",
       "      <td>41</td>\n",
       "      <td>socket</td>\n",
       "      <td>[140159195621643, 140159192455417, 94656731598...</td>\n",
       "      <td>3</td>\n",
       "      <td>15</td>\n",
       "      <td>[{'name': 'domain', 'type': 'int', 'value': 'A...</td>\n",
       "      <td>0</td>\n",
       "      <td>0</td>\n",
       "    </tr>\n",
       "    <tr>\n",
       "      <th>1</th>\n",
       "      <td>129.051238</td>\n",
       "      <td>379</td>\n",
       "      <td>379</td>\n",
       "      <td>1</td>\n",
       "      <td>100</td>\n",
       "      <td>4026532231</td>\n",
       "      <td>systemd-network</td>\n",
       "      <td>ip-10-100-1-217</td>\n",
       "      <td>41</td>\n",
       "      <td>socket</td>\n",
       "      <td>[139853228042507, 93935071185801, 93935080775184]</td>\n",
       "      <td>3</td>\n",
       "      <td>15</td>\n",
       "      <td>[{'name': 'domain', 'type': 'int', 'value': 'A...</td>\n",
       "      <td>0</td>\n",
       "      <td>0</td>\n",
       "    </tr>\n",
       "    <tr>\n",
       "      <th>2</th>\n",
       "      <td>129.051434</td>\n",
       "      <td>1</td>\n",
       "      <td>1</td>\n",
       "      <td>0</td>\n",
       "      <td>0</td>\n",
       "      <td>4026531840</td>\n",
       "      <td>systemd</td>\n",
       "      <td>ip-10-100-1-217</td>\n",
       "      <td>1005</td>\n",
       "      <td>security_file_open</td>\n",
       "      <td>[140362867191588, 8103505641674583858]</td>\n",
       "      <td>4</td>\n",
       "      <td>0</td>\n",
       "      <td>[{'name': 'pathname', 'type': 'const char*', '...</td>\n",
       "      <td>0</td>\n",
       "      <td>0</td>\n",
       "    </tr>\n",
       "    <tr>\n",
       "      <th>3</th>\n",
       "      <td>129.051481</td>\n",
       "      <td>1</td>\n",
       "      <td>1</td>\n",
       "      <td>0</td>\n",
       "      <td>0</td>\n",
       "      <td>4026531840</td>\n",
       "      <td>systemd</td>\n",
       "      <td>ip-10-100-1-217</td>\n",
       "      <td>257</td>\n",
       "      <td>openat</td>\n",
       "      <td>[]</td>\n",
       "      <td>4</td>\n",
       "      <td>17</td>\n",
       "      <td>[{'name': 'dirfd', 'type': 'int', 'value': -10...</td>\n",
       "      <td>0</td>\n",
       "      <td>0</td>\n",
       "    </tr>\n",
       "    <tr>\n",
       "      <th>4</th>\n",
       "      <td>129.051522</td>\n",
       "      <td>1</td>\n",
       "      <td>1</td>\n",
       "      <td>0</td>\n",
       "      <td>0</td>\n",
       "      <td>4026531840</td>\n",
       "      <td>systemd</td>\n",
       "      <td>ip-10-100-1-217</td>\n",
       "      <td>5</td>\n",
       "      <td>fstat</td>\n",
       "      <td>[140362867189385]</td>\n",
       "      <td>2</td>\n",
       "      <td>0</td>\n",
       "      <td>[{'name': 'fd', 'type': 'int', 'value': 17}, {...</td>\n",
       "      <td>0</td>\n",
       "      <td>0</td>\n",
       "    </tr>\n",
       "  </tbody>\n",
       "</table>\n",
       "</div>"
      ],
      "text/plain": [
       "    timestamp  processId  threadId  parentProcessId  userId  mountNamespace  \\\n",
       "0  129.050634        382       382                1     101      4026532232   \n",
       "1  129.051238        379       379                1     100      4026532231   \n",
       "2  129.051434          1         1                0       0      4026531840   \n",
       "3  129.051481          1         1                0       0      4026531840   \n",
       "4  129.051522          1         1                0       0      4026531840   \n",
       "\n",
       "       processName         hostName  eventId           eventName  \\\n",
       "0  systemd-resolve  ip-10-100-1-217       41              socket   \n",
       "1  systemd-network  ip-10-100-1-217       41              socket   \n",
       "2          systemd  ip-10-100-1-217     1005  security_file_open   \n",
       "3          systemd  ip-10-100-1-217      257              openat   \n",
       "4          systemd  ip-10-100-1-217        5               fstat   \n",
       "\n",
       "                                      stackAddresses  argsNum  returnValue  \\\n",
       "0  [140159195621643, 140159192455417, 94656731598...        3           15   \n",
       "1  [139853228042507, 93935071185801, 93935080775184]        3           15   \n",
       "2             [140362867191588, 8103505641674583858]        4            0   \n",
       "3                                                 []        4           17   \n",
       "4                                  [140362867189385]        2            0   \n",
       "\n",
       "                                                args  sus  evil  \n",
       "0  [{'name': 'domain', 'type': 'int', 'value': 'A...    0     0  \n",
       "1  [{'name': 'domain', 'type': 'int', 'value': 'A...    0     0  \n",
       "2  [{'name': 'pathname', 'type': 'const char*', '...    0     0  \n",
       "3  [{'name': 'dirfd', 'type': 'int', 'value': -10...    0     0  \n",
       "4  [{'name': 'fd', 'type': 'int', 'value': 17}, {...    0     0  "
      ]
     },
     "execution_count": 13,
     "metadata": {},
     "output_type": "execute_result"
    }
   ],
   "source": [
    "test_data.head()"
   ]
  },
  {
   "cell_type": "markdown",
   "metadata": {},
   "source": [
    "#### Suspicious"
   ]
  },
  {
   "cell_type": "code",
   "execution_count": 14,
   "metadata": {},
   "outputs": [
    {
     "data": {
      "text/plain": [
       "sus\n",
       "1    171459\n",
       "0     17508\n",
       "Name: count, dtype: int64"
      ]
     },
     "execution_count": 14,
     "metadata": {},
     "output_type": "execute_result"
    }
   ],
   "source": [
    "test_data['sus'].value_counts()"
   ]
  },
  {
   "cell_type": "markdown",
   "metadata": {},
   "source": [
    "#### Malicious"
   ]
  },
  {
   "cell_type": "code",
   "execution_count": 15,
   "metadata": {},
   "outputs": [
    {
     "data": {
      "text/plain": [
       "evil\n",
       "1    158432\n",
       "0     30535\n",
       "Name: count, dtype: int64"
      ]
     },
     "execution_count": 15,
     "metadata": {},
     "output_type": "execute_result"
    }
   ],
   "source": [
    "test_data['evil'].value_counts()"
   ]
  },
  {
   "cell_type": "markdown",
   "metadata": {},
   "source": [
    "### 2021may-ip-10-100-1-4"
   ]
  },
  {
   "cell_type": "markdown",
   "metadata": {},
   "source": [
    "#### labelled_2021may-ip-10-100-1-4-dns"
   ]
  },
  {
   "cell_type": "code",
   "execution_count": 16,
   "metadata": {},
   "outputs": [
    {
     "data": {
      "text/plain": [
       "(269, 15)"
      ]
     },
     "execution_count": 16,
     "metadata": {},
     "output_type": "execute_result"
    }
   ],
   "source": [
    "dns_file1 = pd.read_csv('data/labelled_2021may-ip-10-100-1-4-dns.csv')\n",
    "dns_file1.shape"
   ]
  },
  {
   "cell_type": "code",
   "execution_count": 17,
   "metadata": {},
   "outputs": [
    {
     "data": {
      "text/html": [
       "<div>\n",
       "<style scoped>\n",
       "    .dataframe tbody tr th:only-of-type {\n",
       "        vertical-align: middle;\n",
       "    }\n",
       "\n",
       "    .dataframe tbody tr th {\n",
       "        vertical-align: top;\n",
       "    }\n",
       "\n",
       "    .dataframe thead th {\n",
       "        text-align: right;\n",
       "    }\n",
       "</style>\n",
       "<table border=\"1\" class=\"dataframe\">\n",
       "  <thead>\n",
       "    <tr style=\"text-align: right;\">\n",
       "      <th></th>\n",
       "      <th>Timestamp</th>\n",
       "      <th>SourceIP</th>\n",
       "      <th>DestinationIP</th>\n",
       "      <th>DnsQuery</th>\n",
       "      <th>DnsAnswer</th>\n",
       "      <th>DnsAnswerTTL</th>\n",
       "      <th>DnsQueryNames</th>\n",
       "      <th>DnsQueryClass</th>\n",
       "      <th>DnsQueryType</th>\n",
       "      <th>NumberOfAnswers</th>\n",
       "      <th>DnsResponseCode</th>\n",
       "      <th>DnsOpCode</th>\n",
       "      <th>SensorId</th>\n",
       "      <th>sus</th>\n",
       "      <th>evil</th>\n",
       "    </tr>\n",
       "  </thead>\n",
       "  <tbody>\n",
       "    <tr>\n",
       "      <th>0</th>\n",
       "      <td>2021-05-16T17:13:14Z</td>\n",
       "      <td>10.100.1.95</td>\n",
       "      <td>10.100.0.2</td>\n",
       "      <td>ssm.us-east-2.amazonaws.com</td>\n",
       "      <td>NaN</td>\n",
       "      <td>NaN</td>\n",
       "      <td>ssm.us-east-2.amazonaws.com</td>\n",
       "      <td>['IN']</td>\n",
       "      <td>['A']</td>\n",
       "      <td>0</td>\n",
       "      <td>0</td>\n",
       "      <td>0</td>\n",
       "      <td>ip-10-100-1-95</td>\n",
       "      <td>0</td>\n",
       "      <td>0</td>\n",
       "    </tr>\n",
       "    <tr>\n",
       "      <th>1</th>\n",
       "      <td>2021-05-16T17:13:14Z</td>\n",
       "      <td>10.100.0.2</td>\n",
       "      <td>10.100.1.95</td>\n",
       "      <td>ssm.us-east-2.amazonaws.com</td>\n",
       "      <td>['52.95.19.240']</td>\n",
       "      <td>['17']</td>\n",
       "      <td>ssm.us-east-2.amazonaws.com</td>\n",
       "      <td>['IN']</td>\n",
       "      <td>['A']</td>\n",
       "      <td>1</td>\n",
       "      <td>0</td>\n",
       "      <td>0</td>\n",
       "      <td>ip-10-100-1-95</td>\n",
       "      <td>0</td>\n",
       "      <td>0</td>\n",
       "    </tr>\n",
       "    <tr>\n",
       "      <th>2</th>\n",
       "      <td>2021-05-16T17:13:14Z</td>\n",
       "      <td>10.100.1.95</td>\n",
       "      <td>10.100.0.2</td>\n",
       "      <td>ssm.us-east-2.amazonaws.com</td>\n",
       "      <td>NaN</td>\n",
       "      <td>NaN</td>\n",
       "      <td>ssm.us-east-2.amazonaws.com</td>\n",
       "      <td>['IN']</td>\n",
       "      <td>['AAAA']</td>\n",
       "      <td>0</td>\n",
       "      <td>0</td>\n",
       "      <td>0</td>\n",
       "      <td>ip-10-100-1-95</td>\n",
       "      <td>0</td>\n",
       "      <td>0</td>\n",
       "    </tr>\n",
       "    <tr>\n",
       "      <th>3</th>\n",
       "      <td>2021-05-16T17:13:14Z</td>\n",
       "      <td>10.100.0.2</td>\n",
       "      <td>10.100.1.95</td>\n",
       "      <td>ssm.us-east-2.amazonaws.com</td>\n",
       "      <td>NaN</td>\n",
       "      <td>NaN</td>\n",
       "      <td>ssm.us-east-2.amazonaws.com</td>\n",
       "      <td>['IN']</td>\n",
       "      <td>['AAAA']</td>\n",
       "      <td>0</td>\n",
       "      <td>0</td>\n",
       "      <td>0</td>\n",
       "      <td>ip-10-100-1-95</td>\n",
       "      <td>0</td>\n",
       "      <td>0</td>\n",
       "    </tr>\n",
       "    <tr>\n",
       "      <th>4</th>\n",
       "      <td>2021-05-16T17:13:16Z</td>\n",
       "      <td>10.100.1.186</td>\n",
       "      <td>10.100.0.2</td>\n",
       "      <td>ssm.us-east-2.amazonaws.com</td>\n",
       "      <td>NaN</td>\n",
       "      <td>NaN</td>\n",
       "      <td>ssm.us-east-2.amazonaws.com</td>\n",
       "      <td>['IN']</td>\n",
       "      <td>['A']</td>\n",
       "      <td>0</td>\n",
       "      <td>0</td>\n",
       "      <td>0</td>\n",
       "      <td>ip-10-100-1-186</td>\n",
       "      <td>0</td>\n",
       "      <td>0</td>\n",
       "    </tr>\n",
       "  </tbody>\n",
       "</table>\n",
       "</div>"
      ],
      "text/plain": [
       "              Timestamp      SourceIP DestinationIP  \\\n",
       "0  2021-05-16T17:13:14Z   10.100.1.95    10.100.0.2   \n",
       "1  2021-05-16T17:13:14Z    10.100.0.2   10.100.1.95   \n",
       "2  2021-05-16T17:13:14Z   10.100.1.95    10.100.0.2   \n",
       "3  2021-05-16T17:13:14Z    10.100.0.2   10.100.1.95   \n",
       "4  2021-05-16T17:13:16Z  10.100.1.186    10.100.0.2   \n",
       "\n",
       "                      DnsQuery         DnsAnswer DnsAnswerTTL  \\\n",
       "0  ssm.us-east-2.amazonaws.com               NaN          NaN   \n",
       "1  ssm.us-east-2.amazonaws.com  ['52.95.19.240']       ['17']   \n",
       "2  ssm.us-east-2.amazonaws.com               NaN          NaN   \n",
       "3  ssm.us-east-2.amazonaws.com               NaN          NaN   \n",
       "4  ssm.us-east-2.amazonaws.com               NaN          NaN   \n",
       "\n",
       "                 DnsQueryNames DnsQueryClass DnsQueryType  NumberOfAnswers  \\\n",
       "0  ssm.us-east-2.amazonaws.com        ['IN']        ['A']                0   \n",
       "1  ssm.us-east-2.amazonaws.com        ['IN']        ['A']                1   \n",
       "2  ssm.us-east-2.amazonaws.com        ['IN']     ['AAAA']                0   \n",
       "3  ssm.us-east-2.amazonaws.com        ['IN']     ['AAAA']                0   \n",
       "4  ssm.us-east-2.amazonaws.com        ['IN']        ['A']                0   \n",
       "\n",
       "   DnsResponseCode  DnsOpCode         SensorId  sus  evil  \n",
       "0                0          0   ip-10-100-1-95    0     0  \n",
       "1                0          0   ip-10-100-1-95    0     0  \n",
       "2                0          0   ip-10-100-1-95    0     0  \n",
       "3                0          0   ip-10-100-1-95    0     0  \n",
       "4                0          0  ip-10-100-1-186    0     0  "
      ]
     },
     "execution_count": 17,
     "metadata": {},
     "output_type": "execute_result"
    }
   ],
   "source": [
    "dns_file1.head()"
   ]
  },
  {
   "cell_type": "markdown",
   "metadata": {},
   "source": [
    "#### labelled_2021may-ip-10-100-1-4"
   ]
  },
  {
   "cell_type": "code",
   "execution_count": 18,
   "metadata": {},
   "outputs": [
    {
     "data": {
      "text/plain": [
       "(485241, 13)"
      ]
     },
     "execution_count": 18,
     "metadata": {},
     "output_type": "execute_result"
    }
   ],
   "source": [
    "file1 = pd.read_csv('data/labelled_2021may-ip-10-100-1-4.csv')\n",
    "file1.shape"
   ]
  },
  {
   "cell_type": "code",
   "execution_count": 19,
   "metadata": {},
   "outputs": [
    {
     "data": {
      "text/html": [
       "<div>\n",
       "<style scoped>\n",
       "    .dataframe tbody tr th:only-of-type {\n",
       "        vertical-align: middle;\n",
       "    }\n",
       "\n",
       "    .dataframe tbody tr th {\n",
       "        vertical-align: top;\n",
       "    }\n",
       "\n",
       "    .dataframe thead th {\n",
       "        text-align: right;\n",
       "    }\n",
       "</style>\n",
       "<table border=\"1\" class=\"dataframe\">\n",
       "  <thead>\n",
       "    <tr style=\"text-align: right;\">\n",
       "      <th></th>\n",
       "      <th>timestamp</th>\n",
       "      <th>processId</th>\n",
       "      <th>parentProcessId</th>\n",
       "      <th>userId</th>\n",
       "      <th>processName</th>\n",
       "      <th>hostName</th>\n",
       "      <th>eventId</th>\n",
       "      <th>eventName</th>\n",
       "      <th>argsNum</th>\n",
       "      <th>returnValue</th>\n",
       "      <th>args</th>\n",
       "      <th>sus</th>\n",
       "      <th>evil</th>\n",
       "    </tr>\n",
       "  </thead>\n",
       "  <tbody>\n",
       "    <tr>\n",
       "      <th>0</th>\n",
       "      <td>131.874057</td>\n",
       "      <td>382</td>\n",
       "      <td>1</td>\n",
       "      <td>101</td>\n",
       "      <td>systemd-resolve</td>\n",
       "      <td>ip-10-100-1-4</td>\n",
       "      <td>1005</td>\n",
       "      <td>security_file_open</td>\n",
       "      <td>4</td>\n",
       "      <td>0</td>\n",
       "      <td>[{'name': 'pathname', 'type': 'const char*', '...</td>\n",
       "      <td>0</td>\n",
       "      <td>0</td>\n",
       "    </tr>\n",
       "    <tr>\n",
       "      <th>1</th>\n",
       "      <td>131.874597</td>\n",
       "      <td>382</td>\n",
       "      <td>1</td>\n",
       "      <td>101</td>\n",
       "      <td>systemd-resolve</td>\n",
       "      <td>ip-10-100-1-4</td>\n",
       "      <td>257</td>\n",
       "      <td>openat</td>\n",
       "      <td>4</td>\n",
       "      <td>15</td>\n",
       "      <td>[{'name': 'dirfd', 'type': 'int', 'value': -10...</td>\n",
       "      <td>0</td>\n",
       "      <td>0</td>\n",
       "    </tr>\n",
       "    <tr>\n",
       "      <th>2</th>\n",
       "      <td>131.874796</td>\n",
       "      <td>382</td>\n",
       "      <td>1</td>\n",
       "      <td>101</td>\n",
       "      <td>systemd-resolve</td>\n",
       "      <td>ip-10-100-1-4</td>\n",
       "      <td>5</td>\n",
       "      <td>fstat</td>\n",
       "      <td>2</td>\n",
       "      <td>0</td>\n",
       "      <td>[{'name': 'fd', 'type': 'int', 'value': 15}, {...</td>\n",
       "      <td>0</td>\n",
       "      <td>0</td>\n",
       "    </tr>\n",
       "    <tr>\n",
       "      <th>3</th>\n",
       "      <td>131.874743</td>\n",
       "      <td>382</td>\n",
       "      <td>1</td>\n",
       "      <td>101</td>\n",
       "      <td>systemd-resolve</td>\n",
       "      <td>ip-10-100-1-4</td>\n",
       "      <td>5</td>\n",
       "      <td>fstat</td>\n",
       "      <td>2</td>\n",
       "      <td>0</td>\n",
       "      <td>[{'name': 'fd', 'type': 'int', 'value': 15}, {...</td>\n",
       "      <td>0</td>\n",
       "      <td>0</td>\n",
       "    </tr>\n",
       "    <tr>\n",
       "      <th>4</th>\n",
       "      <td>131.874975</td>\n",
       "      <td>382</td>\n",
       "      <td>1</td>\n",
       "      <td>101</td>\n",
       "      <td>systemd-resolve</td>\n",
       "      <td>ip-10-100-1-4</td>\n",
       "      <td>3</td>\n",
       "      <td>close</td>\n",
       "      <td>1</td>\n",
       "      <td>0</td>\n",
       "      <td>[{'name': 'fd', 'type': 'int', 'value': 15}]</td>\n",
       "      <td>0</td>\n",
       "      <td>0</td>\n",
       "    </tr>\n",
       "  </tbody>\n",
       "</table>\n",
       "</div>"
      ],
      "text/plain": [
       "    timestamp  processId  parentProcessId  userId      processName  \\\n",
       "0  131.874057        382                1     101  systemd-resolve   \n",
       "1  131.874597        382                1     101  systemd-resolve   \n",
       "2  131.874796        382                1     101  systemd-resolve   \n",
       "3  131.874743        382                1     101  systemd-resolve   \n",
       "4  131.874975        382                1     101  systemd-resolve   \n",
       "\n",
       "        hostName  eventId           eventName  argsNum  returnValue  \\\n",
       "0  ip-10-100-1-4     1005  security_file_open        4            0   \n",
       "1  ip-10-100-1-4      257              openat        4           15   \n",
       "2  ip-10-100-1-4        5               fstat        2            0   \n",
       "3  ip-10-100-1-4        5               fstat        2            0   \n",
       "4  ip-10-100-1-4        3               close        1            0   \n",
       "\n",
       "                                                args  sus  evil  \n",
       "0  [{'name': 'pathname', 'type': 'const char*', '...    0     0  \n",
       "1  [{'name': 'dirfd', 'type': 'int', 'value': -10...    0     0  \n",
       "2  [{'name': 'fd', 'type': 'int', 'value': 15}, {...    0     0  \n",
       "3  [{'name': 'fd', 'type': 'int', 'value': 15}, {...    0     0  \n",
       "4       [{'name': 'fd', 'type': 'int', 'value': 15}]    0     0  "
      ]
     },
     "execution_count": 19,
     "metadata": {},
     "output_type": "execute_result"
    }
   ],
   "source": [
    "file1.head()"
   ]
  },
  {
   "cell_type": "code",
   "execution_count": 20,
   "metadata": {},
   "outputs": [
    {
     "name": "stdout",
     "output_type": "stream",
     "text": [
      "Min timestamp: 131.874057\n",
      "Max timestamp: 16350.99039\n"
     ]
    }
   ],
   "source": [
    "print(f\"Min timestamp: {min(file1['timestamp'])}\")\n",
    "print(f\"Max timestamp: {max(file1['timestamp'])}\")"
   ]
  },
  {
   "cell_type": "markdown",
   "metadata": {},
   "source": [
    "### labelled_2021may-ip-10-100-1-95"
   ]
  },
  {
   "cell_type": "code",
   "execution_count": 21,
   "metadata": {},
   "outputs": [
    {
     "data": {
      "text/plain": [
       "(269, 15)"
      ]
     },
     "execution_count": 21,
     "metadata": {},
     "output_type": "execute_result"
    }
   ],
   "source": [
    "dns_file2 = pd.read_csv('data/labelled_2021may-ip-10-100-1-95-dns.csv')\n",
    "dns_file2.shape"
   ]
  },
  {
   "cell_type": "code",
   "execution_count": 22,
   "metadata": {},
   "outputs": [
    {
     "data": {
      "text/html": [
       "<div>\n",
       "<style scoped>\n",
       "    .dataframe tbody tr th:only-of-type {\n",
       "        vertical-align: middle;\n",
       "    }\n",
       "\n",
       "    .dataframe tbody tr th {\n",
       "        vertical-align: top;\n",
       "    }\n",
       "\n",
       "    .dataframe thead th {\n",
       "        text-align: right;\n",
       "    }\n",
       "</style>\n",
       "<table border=\"1\" class=\"dataframe\">\n",
       "  <thead>\n",
       "    <tr style=\"text-align: right;\">\n",
       "      <th></th>\n",
       "      <th>Timestamp</th>\n",
       "      <th>SourceIP</th>\n",
       "      <th>DestinationIP</th>\n",
       "      <th>DnsQuery</th>\n",
       "      <th>DnsAnswer</th>\n",
       "      <th>DnsAnswerTTL</th>\n",
       "      <th>DnsQueryNames</th>\n",
       "      <th>DnsQueryClass</th>\n",
       "      <th>DnsQueryType</th>\n",
       "      <th>NumberOfAnswers</th>\n",
       "      <th>DnsResponseCode</th>\n",
       "      <th>DnsOpCode</th>\n",
       "      <th>SensorId</th>\n",
       "      <th>sus</th>\n",
       "      <th>evil</th>\n",
       "    </tr>\n",
       "  </thead>\n",
       "  <tbody>\n",
       "    <tr>\n",
       "      <th>0</th>\n",
       "      <td>2021-05-16T17:13:14Z</td>\n",
       "      <td>10.100.1.95</td>\n",
       "      <td>10.100.0.2</td>\n",
       "      <td>ssm.us-east-2.amazonaws.com</td>\n",
       "      <td>NaN</td>\n",
       "      <td>NaN</td>\n",
       "      <td>ssm.us-east-2.amazonaws.com</td>\n",
       "      <td>['IN']</td>\n",
       "      <td>['A']</td>\n",
       "      <td>0</td>\n",
       "      <td>0</td>\n",
       "      <td>0</td>\n",
       "      <td>ip-10-100-1-95</td>\n",
       "      <td>0</td>\n",
       "      <td>0</td>\n",
       "    </tr>\n",
       "    <tr>\n",
       "      <th>1</th>\n",
       "      <td>2021-05-16T17:13:14Z</td>\n",
       "      <td>10.100.0.2</td>\n",
       "      <td>10.100.1.95</td>\n",
       "      <td>ssm.us-east-2.amazonaws.com</td>\n",
       "      <td>['52.95.19.240']</td>\n",
       "      <td>['17']</td>\n",
       "      <td>ssm.us-east-2.amazonaws.com</td>\n",
       "      <td>['IN']</td>\n",
       "      <td>['A']</td>\n",
       "      <td>1</td>\n",
       "      <td>0</td>\n",
       "      <td>0</td>\n",
       "      <td>ip-10-100-1-95</td>\n",
       "      <td>0</td>\n",
       "      <td>0</td>\n",
       "    </tr>\n",
       "    <tr>\n",
       "      <th>2</th>\n",
       "      <td>2021-05-16T17:13:14Z</td>\n",
       "      <td>10.100.1.95</td>\n",
       "      <td>10.100.0.2</td>\n",
       "      <td>ssm.us-east-2.amazonaws.com</td>\n",
       "      <td>NaN</td>\n",
       "      <td>NaN</td>\n",
       "      <td>ssm.us-east-2.amazonaws.com</td>\n",
       "      <td>['IN']</td>\n",
       "      <td>['AAAA']</td>\n",
       "      <td>0</td>\n",
       "      <td>0</td>\n",
       "      <td>0</td>\n",
       "      <td>ip-10-100-1-95</td>\n",
       "      <td>0</td>\n",
       "      <td>0</td>\n",
       "    </tr>\n",
       "    <tr>\n",
       "      <th>3</th>\n",
       "      <td>2021-05-16T17:13:14Z</td>\n",
       "      <td>10.100.0.2</td>\n",
       "      <td>10.100.1.95</td>\n",
       "      <td>ssm.us-east-2.amazonaws.com</td>\n",
       "      <td>NaN</td>\n",
       "      <td>NaN</td>\n",
       "      <td>ssm.us-east-2.amazonaws.com</td>\n",
       "      <td>['IN']</td>\n",
       "      <td>['AAAA']</td>\n",
       "      <td>0</td>\n",
       "      <td>0</td>\n",
       "      <td>0</td>\n",
       "      <td>ip-10-100-1-95</td>\n",
       "      <td>0</td>\n",
       "      <td>0</td>\n",
       "    </tr>\n",
       "    <tr>\n",
       "      <th>4</th>\n",
       "      <td>2021-05-16T17:13:16Z</td>\n",
       "      <td>10.100.1.186</td>\n",
       "      <td>10.100.0.2</td>\n",
       "      <td>ssm.us-east-2.amazonaws.com</td>\n",
       "      <td>NaN</td>\n",
       "      <td>NaN</td>\n",
       "      <td>ssm.us-east-2.amazonaws.com</td>\n",
       "      <td>['IN']</td>\n",
       "      <td>['A']</td>\n",
       "      <td>0</td>\n",
       "      <td>0</td>\n",
       "      <td>0</td>\n",
       "      <td>ip-10-100-1-186</td>\n",
       "      <td>0</td>\n",
       "      <td>0</td>\n",
       "    </tr>\n",
       "  </tbody>\n",
       "</table>\n",
       "</div>"
      ],
      "text/plain": [
       "              Timestamp      SourceIP DestinationIP  \\\n",
       "0  2021-05-16T17:13:14Z   10.100.1.95    10.100.0.2   \n",
       "1  2021-05-16T17:13:14Z    10.100.0.2   10.100.1.95   \n",
       "2  2021-05-16T17:13:14Z   10.100.1.95    10.100.0.2   \n",
       "3  2021-05-16T17:13:14Z    10.100.0.2   10.100.1.95   \n",
       "4  2021-05-16T17:13:16Z  10.100.1.186    10.100.0.2   \n",
       "\n",
       "                      DnsQuery         DnsAnswer DnsAnswerTTL  \\\n",
       "0  ssm.us-east-2.amazonaws.com               NaN          NaN   \n",
       "1  ssm.us-east-2.amazonaws.com  ['52.95.19.240']       ['17']   \n",
       "2  ssm.us-east-2.amazonaws.com               NaN          NaN   \n",
       "3  ssm.us-east-2.amazonaws.com               NaN          NaN   \n",
       "4  ssm.us-east-2.amazonaws.com               NaN          NaN   \n",
       "\n",
       "                 DnsQueryNames DnsQueryClass DnsQueryType  NumberOfAnswers  \\\n",
       "0  ssm.us-east-2.amazonaws.com        ['IN']        ['A']                0   \n",
       "1  ssm.us-east-2.amazonaws.com        ['IN']        ['A']                1   \n",
       "2  ssm.us-east-2.amazonaws.com        ['IN']     ['AAAA']                0   \n",
       "3  ssm.us-east-2.amazonaws.com        ['IN']     ['AAAA']                0   \n",
       "4  ssm.us-east-2.amazonaws.com        ['IN']        ['A']                0   \n",
       "\n",
       "   DnsResponseCode  DnsOpCode         SensorId  sus  evil  \n",
       "0                0          0   ip-10-100-1-95    0     0  \n",
       "1                0          0   ip-10-100-1-95    0     0  \n",
       "2                0          0   ip-10-100-1-95    0     0  \n",
       "3                0          0   ip-10-100-1-95    0     0  \n",
       "4                0          0  ip-10-100-1-186    0     0  "
      ]
     },
     "execution_count": 22,
     "metadata": {},
     "output_type": "execute_result"
    }
   ],
   "source": [
    "dns_file2.head()"
   ]
  },
  {
   "cell_type": "code",
   "execution_count": 23,
   "metadata": {},
   "outputs": [
    {
     "data": {
      "text/plain": [
       "(479433, 13)"
      ]
     },
     "execution_count": 23,
     "metadata": {},
     "output_type": "execute_result"
    }
   ],
   "source": [
    "file2 = pd.read_csv('data/labelled_2021may-ip-10-100-1-95.csv')\n",
    "file2.shape"
   ]
  },
  {
   "cell_type": "code",
   "execution_count": 24,
   "metadata": {},
   "outputs": [
    {
     "data": {
      "text/html": [
       "<div>\n",
       "<style scoped>\n",
       "    .dataframe tbody tr th:only-of-type {\n",
       "        vertical-align: middle;\n",
       "    }\n",
       "\n",
       "    .dataframe tbody tr th {\n",
       "        vertical-align: top;\n",
       "    }\n",
       "\n",
       "    .dataframe thead th {\n",
       "        text-align: right;\n",
       "    }\n",
       "</style>\n",
       "<table border=\"1\" class=\"dataframe\">\n",
       "  <thead>\n",
       "    <tr style=\"text-align: right;\">\n",
       "      <th></th>\n",
       "      <th>timestamp</th>\n",
       "      <th>processId</th>\n",
       "      <th>parentProcessId</th>\n",
       "      <th>userId</th>\n",
       "      <th>processName</th>\n",
       "      <th>hostName</th>\n",
       "      <th>eventId</th>\n",
       "      <th>eventName</th>\n",
       "      <th>argsNum</th>\n",
       "      <th>returnValue</th>\n",
       "      <th>args</th>\n",
       "      <th>sus</th>\n",
       "      <th>evil</th>\n",
       "    </tr>\n",
       "  </thead>\n",
       "  <tbody>\n",
       "    <tr>\n",
       "      <th>0</th>\n",
       "      <td>125.462475</td>\n",
       "      <td>386</td>\n",
       "      <td>1</td>\n",
       "      <td>101</td>\n",
       "      <td>systemd-resolve</td>\n",
       "      <td>ip-10-100-1-95</td>\n",
       "      <td>1005</td>\n",
       "      <td>security_file_open</td>\n",
       "      <td>4</td>\n",
       "      <td>0</td>\n",
       "      <td>[{'name': 'pathname', 'type': 'const char*', '...</td>\n",
       "      <td>0</td>\n",
       "      <td>0</td>\n",
       "    </tr>\n",
       "    <tr>\n",
       "      <th>1</th>\n",
       "      <td>125.462882</td>\n",
       "      <td>386</td>\n",
       "      <td>1</td>\n",
       "      <td>101</td>\n",
       "      <td>systemd-resolve</td>\n",
       "      <td>ip-10-100-1-95</td>\n",
       "      <td>257</td>\n",
       "      <td>openat</td>\n",
       "      <td>4</td>\n",
       "      <td>15</td>\n",
       "      <td>[{'name': 'dirfd', 'type': 'int', 'value': -10...</td>\n",
       "      <td>0</td>\n",
       "      <td>0</td>\n",
       "    </tr>\n",
       "    <tr>\n",
       "      <th>2</th>\n",
       "      <td>125.463018</td>\n",
       "      <td>386</td>\n",
       "      <td>1</td>\n",
       "      <td>101</td>\n",
       "      <td>systemd-resolve</td>\n",
       "      <td>ip-10-100-1-95</td>\n",
       "      <td>5</td>\n",
       "      <td>fstat</td>\n",
       "      <td>2</td>\n",
       "      <td>0</td>\n",
       "      <td>[{'name': 'fd', 'type': 'int', 'value': 15}, {...</td>\n",
       "      <td>0</td>\n",
       "      <td>0</td>\n",
       "    </tr>\n",
       "    <tr>\n",
       "      <th>3</th>\n",
       "      <td>125.463228</td>\n",
       "      <td>386</td>\n",
       "      <td>1</td>\n",
       "      <td>101</td>\n",
       "      <td>systemd-resolve</td>\n",
       "      <td>ip-10-100-1-95</td>\n",
       "      <td>3</td>\n",
       "      <td>close</td>\n",
       "      <td>1</td>\n",
       "      <td>0</td>\n",
       "      <td>[{'name': 'fd', 'type': 'int', 'value': 15}]</td>\n",
       "      <td>0</td>\n",
       "      <td>0</td>\n",
       "    </tr>\n",
       "    <tr>\n",
       "      <th>4</th>\n",
       "      <td>125.463065</td>\n",
       "      <td>386</td>\n",
       "      <td>1</td>\n",
       "      <td>101</td>\n",
       "      <td>systemd-resolve</td>\n",
       "      <td>ip-10-100-1-95</td>\n",
       "      <td>5</td>\n",
       "      <td>fstat</td>\n",
       "      <td>2</td>\n",
       "      <td>0</td>\n",
       "      <td>[{'name': 'fd', 'type': 'int', 'value': 15}, {...</td>\n",
       "      <td>0</td>\n",
       "      <td>0</td>\n",
       "    </tr>\n",
       "  </tbody>\n",
       "</table>\n",
       "</div>"
      ],
      "text/plain": [
       "    timestamp  processId  parentProcessId  userId      processName  \\\n",
       "0  125.462475        386                1     101  systemd-resolve   \n",
       "1  125.462882        386                1     101  systemd-resolve   \n",
       "2  125.463018        386                1     101  systemd-resolve   \n",
       "3  125.463228        386                1     101  systemd-resolve   \n",
       "4  125.463065        386                1     101  systemd-resolve   \n",
       "\n",
       "         hostName  eventId           eventName  argsNum  returnValue  \\\n",
       "0  ip-10-100-1-95     1005  security_file_open        4            0   \n",
       "1  ip-10-100-1-95      257              openat        4           15   \n",
       "2  ip-10-100-1-95        5               fstat        2            0   \n",
       "3  ip-10-100-1-95        3               close        1            0   \n",
       "4  ip-10-100-1-95        5               fstat        2            0   \n",
       "\n",
       "                                                args  sus  evil  \n",
       "0  [{'name': 'pathname', 'type': 'const char*', '...    0     0  \n",
       "1  [{'name': 'dirfd', 'type': 'int', 'value': -10...    0     0  \n",
       "2  [{'name': 'fd', 'type': 'int', 'value': 15}, {...    0     0  \n",
       "3       [{'name': 'fd', 'type': 'int', 'value': 15}]    0     0  \n",
       "4  [{'name': 'fd', 'type': 'int', 'value': 15}, {...    0     0  "
      ]
     },
     "execution_count": 24,
     "metadata": {},
     "output_type": "execute_result"
    }
   ],
   "source": [
    "file2.head()"
   ]
  },
  {
   "cell_type": "markdown",
   "metadata": {},
   "source": [
    "#### User ID"
   ]
  },
  {
   "cell_type": "code",
   "execution_count": 25,
   "metadata": {},
   "outputs": [
    {
     "data": {
      "text/plain": [
       "userId\n",
       "0       457174\n",
       "105      15711\n",
       "101       2279\n",
       "104       1414\n",
       "109       1287\n",
       "100        849\n",
       "1000       568\n",
       "103        151\n",
       "Name: count, dtype: int64"
      ]
     },
     "execution_count": 25,
     "metadata": {},
     "output_type": "execute_result"
    }
   ],
   "source": [
    "file2['userId'].value_counts()"
   ]
  },
  {
   "cell_type": "markdown",
   "metadata": {},
   "source": [
    "#### Process ID"
   ]
  },
  {
   "cell_type": "code",
   "execution_count": 26,
   "metadata": {},
   "outputs": [
    {
     "data": {
      "text/plain": [
       "processId\n",
       "159     25282\n",
       "1        7682\n",
       "8005     6668\n",
       "8505     5788\n",
       "8479     4495\n",
       "        ...  \n",
       "7975        1\n",
       "7552        1\n",
       "7809        1\n",
       "7390        1\n",
       "7579        1\n",
       "Name: count, Length: 1124, dtype: int64"
      ]
     },
     "execution_count": 26,
     "metadata": {},
     "output_type": "execute_result"
    }
   ],
   "source": [
    "file2['processId'].value_counts()"
   ]
  },
  {
   "cell_type": "markdown",
   "metadata": {},
   "source": [
    "#### Process Name"
   ]
  },
  {
   "cell_type": "code",
   "execution_count": 27,
   "metadata": {},
   "outputs": [
    {
     "data": {
      "text/plain": [
       "processName\n",
       "ps                 312920\n",
       "sshd                49385\n",
       "systemd-journal     25224\n",
       "apt-config          10580\n",
       "lsb_release          8520\n",
       "                    ...  \n",
       "docker                  1\n",
       "dockerd                 1\n",
       "containerd-shim         1\n",
       "(sd-pam)                1\n",
       "terraform_21167         1\n",
       "Name: count, Length: 92, dtype: int64"
      ]
     },
     "execution_count": 27,
     "metadata": {},
     "output_type": "execute_result"
    }
   ],
   "source": [
    "file2['processName'].value_counts()"
   ]
  },
  {
   "cell_type": "markdown",
   "metadata": {},
   "source": [
    "#### Events frequency"
   ]
  },
  {
   "cell_type": "code",
   "execution_count": 28,
   "metadata": {},
   "outputs": [
    {
     "data": {
      "image/png": "[encoded data removed]",
      "text/plain": [
       "<Figure size 1200x400 with 1 Axes>"
      ]
     },
     "metadata": {},
     "output_type": "display_data"
    }
   ],
   "source": [
    "# df = file2[file2['userId']==0]\n",
    "df=file2\n",
    "\n",
    "bins = pd.cut(df['timestamp'], bins=1000)\n",
    "event_counts_notsus = df[df['sus']==0].groupby(bins).size()\n",
    "event_counts_sus = df[df['sus']==1].groupby(bins).size()\n",
    "event_counts_notsus.plot(kind='line', color='blue', label='Not Suspicious', figsize=(12, 4))\n",
    "event_counts_sus.plot(kind='line', color='red', label='Suspicious')\n",
    "plt.xlabel('Timestamp')\n",
    "plt.ylabel('Event Frequency')\n",
    "plt.title('Event Frequency')\n",
    "plt.suptitle('ip-10-100-1-95')\n",
    "plt.xticks([])\n",
    "plt.legend()\n",
    "plt.show()"
   ]
  },
  {
   "cell_type": "markdown",
   "metadata": {},
   "source": [
    "### ip-10-100-1-186"
   ]
  },
  {
   "cell_type": "code",
   "execution_count": 29,
   "metadata": {},
   "outputs": [
    {
     "data": {
      "text/plain": [
       "(269, 15)"
      ]
     },
     "execution_count": 29,
     "metadata": {},
     "output_type": "execute_result"
    }
   ],
   "source": [
    "dns_file3 = pd.read_csv('data/labelled_2021may-ip-10-100-1-186-dns.csv')\n",
    "dns_file3.shape"
   ]
  },
  {
   "cell_type": "code",
   "execution_count": 30,
   "metadata": {},
   "outputs": [
    {
     "data": {
      "text/html": [
       "<div>\n",
       "<style scoped>\n",
       "    .dataframe tbody tr th:only-of-type {\n",
       "        vertical-align: middle;\n",
       "    }\n",
       "\n",
       "    .dataframe tbody tr th {\n",
       "        vertical-align: top;\n",
       "    }\n",
       "\n",
       "    .dataframe thead th {\n",
       "        text-align: right;\n",
       "    }\n",
       "</style>\n",
       "<table border=\"1\" class=\"dataframe\">\n",
       "  <thead>\n",
       "    <tr style=\"text-align: right;\">\n",
       "      <th></th>\n",
       "      <th>Timestamp</th>\n",
       "      <th>SourceIP</th>\n",
       "      <th>DestinationIP</th>\n",
       "      <th>DnsQuery</th>\n",
       "      <th>DnsAnswer</th>\n",
       "      <th>DnsAnswerTTL</th>\n",
       "      <th>DnsQueryNames</th>\n",
       "      <th>DnsQueryClass</th>\n",
       "      <th>DnsQueryType</th>\n",
       "      <th>NumberOfAnswers</th>\n",
       "      <th>DnsResponseCode</th>\n",
       "      <th>DnsOpCode</th>\n",
       "      <th>SensorId</th>\n",
       "      <th>sus</th>\n",
       "      <th>evil</th>\n",
       "    </tr>\n",
       "  </thead>\n",
       "  <tbody>\n",
       "    <tr>\n",
       "      <th>0</th>\n",
       "      <td>2021-05-16T17:13:14Z</td>\n",
       "      <td>10.100.1.95</td>\n",
       "      <td>10.100.0.2</td>\n",
       "      <td>ssm.us-east-2.amazonaws.com</td>\n",
       "      <td>NaN</td>\n",
       "      <td>NaN</td>\n",
       "      <td>ssm.us-east-2.amazonaws.com</td>\n",
       "      <td>['IN']</td>\n",
       "      <td>['A']</td>\n",
       "      <td>0</td>\n",
       "      <td>0</td>\n",
       "      <td>0</td>\n",
       "      <td>ip-10-100-1-95</td>\n",
       "      <td>0</td>\n",
       "      <td>0</td>\n",
       "    </tr>\n",
       "    <tr>\n",
       "      <th>1</th>\n",
       "      <td>2021-05-16T17:13:14Z</td>\n",
       "      <td>10.100.0.2</td>\n",
       "      <td>10.100.1.95</td>\n",
       "      <td>ssm.us-east-2.amazonaws.com</td>\n",
       "      <td>['52.95.19.240']</td>\n",
       "      <td>['17']</td>\n",
       "      <td>ssm.us-east-2.amazonaws.com</td>\n",
       "      <td>['IN']</td>\n",
       "      <td>['A']</td>\n",
       "      <td>1</td>\n",
       "      <td>0</td>\n",
       "      <td>0</td>\n",
       "      <td>ip-10-100-1-95</td>\n",
       "      <td>0</td>\n",
       "      <td>0</td>\n",
       "    </tr>\n",
       "    <tr>\n",
       "      <th>2</th>\n",
       "      <td>2021-05-16T17:13:14Z</td>\n",
       "      <td>10.100.1.95</td>\n",
       "      <td>10.100.0.2</td>\n",
       "      <td>ssm.us-east-2.amazonaws.com</td>\n",
       "      <td>NaN</td>\n",
       "      <td>NaN</td>\n",
       "      <td>ssm.us-east-2.amazonaws.com</td>\n",
       "      <td>['IN']</td>\n",
       "      <td>['AAAA']</td>\n",
       "      <td>0</td>\n",
       "      <td>0</td>\n",
       "      <td>0</td>\n",
       "      <td>ip-10-100-1-95</td>\n",
       "      <td>0</td>\n",
       "      <td>0</td>\n",
       "    </tr>\n",
       "    <tr>\n",
       "      <th>3</th>\n",
       "      <td>2021-05-16T17:13:14Z</td>\n",
       "      <td>10.100.0.2</td>\n",
       "      <td>10.100.1.95</td>\n",
       "      <td>ssm.us-east-2.amazonaws.com</td>\n",
       "      <td>NaN</td>\n",
       "      <td>NaN</td>\n",
       "      <td>ssm.us-east-2.amazonaws.com</td>\n",
       "      <td>['IN']</td>\n",
       "      <td>['AAAA']</td>\n",
       "      <td>0</td>\n",
       "      <td>0</td>\n",
       "      <td>0</td>\n",
       "      <td>ip-10-100-1-95</td>\n",
       "      <td>0</td>\n",
       "      <td>0</td>\n",
       "    </tr>\n",
       "    <tr>\n",
       "      <th>4</th>\n",
       "      <td>2021-05-16T17:13:16Z</td>\n",
       "      <td>10.100.1.186</td>\n",
       "      <td>10.100.0.2</td>\n",
       "      <td>ssm.us-east-2.amazonaws.com</td>\n",
       "      <td>NaN</td>\n",
       "      <td>NaN</td>\n",
       "      <td>ssm.us-east-2.amazonaws.com</td>\n",
       "      <td>['IN']</td>\n",
       "      <td>['A']</td>\n",
       "      <td>0</td>\n",
       "      <td>0</td>\n",
       "      <td>0</td>\n",
       "      <td>ip-10-100-1-186</td>\n",
       "      <td>0</td>\n",
       "      <td>0</td>\n",
       "    </tr>\n",
       "  </tbody>\n",
       "</table>\n",
       "</div>"
      ],
      "text/plain": [
       "              Timestamp      SourceIP DestinationIP  \\\n",
       "0  2021-05-16T17:13:14Z   10.100.1.95    10.100.0.2   \n",
       "1  2021-05-16T17:13:14Z    10.100.0.2   10.100.1.95   \n",
       "2  2021-05-16T17:13:14Z   10.100.1.95    10.100.0.2   \n",
       "3  2021-05-16T17:13:14Z    10.100.0.2   10.100.1.95   \n",
       "4  2021-05-16T17:13:16Z  10.100.1.186    10.100.0.2   \n",
       "\n",
       "                      DnsQuery         DnsAnswer DnsAnswerTTL  \\\n",
       "0  ssm.us-east-2.amazonaws.com               NaN          NaN   \n",
       "1  ssm.us-east-2.amazonaws.com  ['52.95.19.240']       ['17']   \n",
       "2  ssm.us-east-2.amazonaws.com               NaN          NaN   \n",
       "3  ssm.us-east-2.amazonaws.com               NaN          NaN   \n",
       "4  ssm.us-east-2.amazonaws.com               NaN          NaN   \n",
       "\n",
       "                 DnsQueryNames DnsQueryClass DnsQueryType  NumberOfAnswers  \\\n",
       "0  ssm.us-east-2.amazonaws.com        ['IN']        ['A']                0   \n",
       "1  ssm.us-east-2.amazonaws.com        ['IN']        ['A']                1   \n",
       "2  ssm.us-east-2.amazonaws.com        ['IN']     ['AAAA']                0   \n",
       "3  ssm.us-east-2.amazonaws.com        ['IN']     ['AAAA']                0   \n",
       "4  ssm.us-east-2.amazonaws.com        ['IN']        ['A']                0   \n",
       "\n",
       "   DnsResponseCode  DnsOpCode         SensorId  sus  evil  \n",
       "0                0          0   ip-10-100-1-95    0     0  \n",
       "1                0          0   ip-10-100-1-95    0     0  \n",
       "2                0          0   ip-10-100-1-95    0     0  \n",
       "3                0          0   ip-10-100-1-95    0     0  \n",
       "4                0          0  ip-10-100-1-186    0     0  "
      ]
     },
     "execution_count": 30,
     "metadata": {},
     "output_type": "execute_result"
    }
   ],
   "source": [
    "dns_file3.head()"
   ]
  },
  {
   "cell_type": "code",
   "execution_count": 31,
   "metadata": {},
   "outputs": [
    {
     "data": {
      "text/plain": [
       "(713867, 13)"
      ]
     },
     "execution_count": 31,
     "metadata": {},
     "output_type": "execute_result"
    }
   ],
   "source": [
    "file3 = pd.read_csv('data/labelled_2021may-ip-10-100-1-186.csv')\n",
    "file3.shape"
   ]
  },
  {
   "cell_type": "code",
   "execution_count": 32,
   "metadata": {},
   "outputs": [
    {
     "data": {
      "text/html": [
       "<div>\n",
       "<style scoped>\n",
       "    .dataframe tbody tr th:only-of-type {\n",
       "        vertical-align: middle;\n",
       "    }\n",
       "\n",
       "    .dataframe tbody tr th {\n",
       "        vertical-align: top;\n",
       "    }\n",
       "\n",
       "    .dataframe thead th {\n",
       "        text-align: right;\n",
       "    }\n",
       "</style>\n",
       "<table border=\"1\" class=\"dataframe\">\n",
       "  <thead>\n",
       "    <tr style=\"text-align: right;\">\n",
       "      <th></th>\n",
       "      <th>timestamp</th>\n",
       "      <th>processId</th>\n",
       "      <th>parentProcessId</th>\n",
       "      <th>userId</th>\n",
       "      <th>processName</th>\n",
       "      <th>hostName</th>\n",
       "      <th>eventId</th>\n",
       "      <th>eventName</th>\n",
       "      <th>argsNum</th>\n",
       "      <th>returnValue</th>\n",
       "      <th>args</th>\n",
       "      <th>sus</th>\n",
       "      <th>evil</th>\n",
       "    </tr>\n",
       "  </thead>\n",
       "  <tbody>\n",
       "    <tr>\n",
       "      <th>67</th>\n",
       "      <td>125.595818</td>\n",
       "      <td>7285</td>\n",
       "      <td>1368</td>\n",
       "      <td>1000</td>\n",
       "      <td>sleep</td>\n",
       "      <td>ip-10-100-1-186</td>\n",
       "      <td>3</td>\n",
       "      <td>close</td>\n",
       "      <td>1</td>\n",
       "      <td>0</td>\n",
       "      <td>[{'name': 'fd', 'type': 'int', 'value': 1}]</td>\n",
       "      <td>1</td>\n",
       "      <td>0</td>\n",
       "    </tr>\n",
       "    <tr>\n",
       "      <th>68</th>\n",
       "      <td>125.595860</td>\n",
       "      <td>7285</td>\n",
       "      <td>1368</td>\n",
       "      <td>1000</td>\n",
       "      <td>sleep</td>\n",
       "      <td>ip-10-100-1-186</td>\n",
       "      <td>3</td>\n",
       "      <td>close</td>\n",
       "      <td>1</td>\n",
       "      <td>0</td>\n",
       "      <td>[{'name': 'fd', 'type': 'int', 'value': 2}]</td>\n",
       "      <td>1</td>\n",
       "      <td>0</td>\n",
       "    </tr>\n",
       "    <tr>\n",
       "      <th>69</th>\n",
       "      <td>125.595990</td>\n",
       "      <td>7285</td>\n",
       "      <td>1368</td>\n",
       "      <td>1000</td>\n",
       "      <td>sleep</td>\n",
       "      <td>ip-10-100-1-186</td>\n",
       "      <td>1010</td>\n",
       "      <td>sched_process_exit</td>\n",
       "      <td>0</td>\n",
       "      <td>0</td>\n",
       "      <td>[]</td>\n",
       "      <td>1</td>\n",
       "      <td>0</td>\n",
       "    </tr>\n",
       "    <tr>\n",
       "      <th>70</th>\n",
       "      <td>125.596139</td>\n",
       "      <td>1368</td>\n",
       "      <td>1355</td>\n",
       "      <td>1000</td>\n",
       "      <td>terraform_10402</td>\n",
       "      <td>ip-10-100-1-186</td>\n",
       "      <td>1010</td>\n",
       "      <td>sched_process_exit</td>\n",
       "      <td>0</td>\n",
       "      <td>0</td>\n",
       "      <td>[]</td>\n",
       "      <td>1</td>\n",
       "      <td>0</td>\n",
       "    </tr>\n",
       "    <tr>\n",
       "      <th>71</th>\n",
       "      <td>125.597087</td>\n",
       "      <td>1355</td>\n",
       "      <td>1282</td>\n",
       "      <td>1000</td>\n",
       "      <td>sshd</td>\n",
       "      <td>ip-10-100-1-186</td>\n",
       "      <td>3</td>\n",
       "      <td>close</td>\n",
       "      <td>1</td>\n",
       "      <td>0</td>\n",
       "      <td>[{'name': 'fd', 'type': 'int', 'value': 13}]</td>\n",
       "      <td>1</td>\n",
       "      <td>0</td>\n",
       "    </tr>\n",
       "  </tbody>\n",
       "</table>\n",
       "</div>"
      ],
      "text/plain": [
       "     timestamp  processId  parentProcessId  userId      processName  \\\n",
       "67  125.595818       7285             1368    1000            sleep   \n",
       "68  125.595860       7285             1368    1000            sleep   \n",
       "69  125.595990       7285             1368    1000            sleep   \n",
       "70  125.596139       1368             1355    1000  terraform_10402   \n",
       "71  125.597087       1355             1282    1000             sshd   \n",
       "\n",
       "           hostName  eventId           eventName  argsNum  returnValue  \\\n",
       "67  ip-10-100-1-186        3               close        1            0   \n",
       "68  ip-10-100-1-186        3               close        1            0   \n",
       "69  ip-10-100-1-186     1010  sched_process_exit        0            0   \n",
       "70  ip-10-100-1-186     1010  sched_process_exit        0            0   \n",
       "71  ip-10-100-1-186        3               close        1            0   \n",
       "\n",
       "                                            args  sus  evil  \n",
       "67   [{'name': 'fd', 'type': 'int', 'value': 1}]    1     0  \n",
       "68   [{'name': 'fd', 'type': 'int', 'value': 2}]    1     0  \n",
       "69                                            []    1     0  \n",
       "70                                            []    1     0  \n",
       "71  [{'name': 'fd', 'type': 'int', 'value': 13}]    1     0  "
      ]
     },
     "execution_count": 32,
     "metadata": {},
     "output_type": "execute_result"
    }
   ],
   "source": [
    "file3[file3['sus']==1].head()"
   ]
  },
  {
   "cell_type": "code",
   "execution_count": 33,
   "metadata": {},
   "outputs": [
    {
     "data": {
      "image/png": "[encoded data removed]",
      "text/plain": [
       "<Figure size 1200x400 with 1 Axes>"
      ]
     },
     "metadata": {},
     "output_type": "display_data"
    }
   ],
   "source": [
    "# df = file2[file2['userId']==0]\n",
    "df=file3\n",
    "\n",
    "bins = pd.cut(df['timestamp'], bins=1000)\n",
    "event_counts_notsus = df[df['sus']==0].groupby(bins).size()\n",
    "event_counts_sus = df[df['sus']==1].groupby(bins).size()\n",
    "event_counts_notsus.plot(kind='line', color='blue', label='Not Suspicious', figsize=(12, 4))\n",
    "event_counts_sus.plot(kind='line', color='red', label='Suspicious')\n",
    "plt.xlabel('Timestamp')\n",
    "plt.ylabel('Event Frequency')\n",
    "plt.title('Event Frequency')\n",
    "plt.suptitle('ip-10-100-1-186')\n",
    "plt.xticks([])\n",
    "plt.legend()\n",
    "plt.show()"
   ]
  },
  {
   "cell_type": "markdown",
   "metadata": {},
   "source": [
    "## Correlation matrix"
   ]
  },
  {
   "cell_type": "code",
   "execution_count": 34,
   "metadata": {},
   "outputs": [
    {
     "data": {
      "image/png": "[encoded data removed]",
      "text/plain": [
       "<Figure size 2000x1000 with 2 Axes>"
      ]
     },
     "metadata": {},
     "output_type": "display_data"
    }
   ],
   "source": [
    "import seaborn as sns\n",
    "import matplotlib.pyplot as plt\n",
    "\n",
    "# Compute the correlation matrix\n",
    "corr = test_data.select_dtypes(include=['int64','float64']).corr()\n",
    "\n",
    "# Plot the correlation matrix\n",
    "plt.figure(figsize=(20, 10))\n",
    "sns.heatmap(corr, annot=True, cmap='coolwarm', fmt=\".2f\", annot_kws={\"size\": 10})\n",
    "plt.title('Correlation Matrix')\n",
    "plt.show()"
   ]
  },
  {
   "cell_type": "markdown",
   "metadata": {},
   "source": [
    "## Data preparation"
   ]
  },
  {
   "cell_type": "code",
   "execution_count": 35,
   "metadata": {},
   "outputs": [],
   "source": [
    "train_data[\"processId\"] = train_data[\"processId\"].map(lambda x: 0 if x in [0, 1, 2] else 1)  # Map to OS/not OS\n",
    "train_data[\"parentProcessId\"] = train_data[\"parentProcessId\"].map(lambda x: 0 if x in [0, 1, 2] else 1)  # Map to OS/not OS\n",
    "train_data[\"userId\"] = train_data[\"userId\"].map(lambda x: 0 if x < 1000 else 1)  # Map to OS/not OS\n",
    "train_data[\"mountNamespace\"] = train_data[\"mountNamespace\"].map(lambda x: 0 if x == 4026531840 else 1)  # Map to mount access to mnt/ (all non-OS users) /elsewhere\n",
    "train_data[\"eventId\"] = train_data[\"eventId\"]  # Keep eventId values (requires knowing max value)\n",
    "train_data[\"returnValue\"] = train_data[\"returnValue\"].map(lambda x: 0 if x == 0 else (1 if x > 0 else 2))\n",
    "\n",
    "\n",
    "val_data[\"processId\"] = val_data[\"processId\"].map(lambda x: 0 if x in [0, 1, 2] else 1)  # Map to OS/not OS\n",
    "val_data[\"parentProcessId\"] = val_data[\"parentProcessId\"].map(lambda x: 0 if x in [0, 1, 2] else 1)  # Map to OS/not OS\n",
    "val_data[\"userId\"] = val_data[\"userId\"].map(lambda x: 0 if x < 1000 else 1)  # Map to OS/not OS\n",
    "val_data[\"mountNamespace\"] = val_data[\"mountNamespace\"].map(lambda x: 0 if x == 4026531840 else 1)  # Map to mount access to mnt/ (all non-OS users) /elsewhere\n",
    "val_data[\"eventId\"] = val_data[\"eventId\"]  # Keep eventId values (requires knowing max value)\n",
    "val_data[\"returnValue\"] = val_data[\"returnValue\"].map(lambda x: 0 if x == 0 else (1 if x > 0 else 2)) \n",
    "\n",
    "\n",
    "test_data[\"processId\"] = test_data[\"processId\"].map(lambda x: 0 if x in [0, 1, 2] else 1)  # Map to OS/not OS\n",
    "test_data[\"parentProcessId\"] = test_data[\"parentProcessId\"].map(lambda x: 0 if x in [0, 1, 2] else 1)  # Map to OS/not OS\n",
    "test_data[\"userId\"] = test_data[\"userId\"].map(lambda x: 0 if x < 1000 else 1)  # Map to OS/not OS\n",
    "test_data[\"mountNamespace\"] = test_data[\"mountNamespace\"].map(lambda x: 0 if x == 4026531840 else 1)  # Map to mount access to mnt/ (all non-OS users) /elsewhere\n",
    "test_data[\"eventId\"] = test_data[\"eventId\"]  # Keep eventId values (requires knowing max value)\n",
    "test_data[\"returnValue\"] = test_data[\"returnValue\"].map(lambda x: 0 if x == 0 else (1 if x > 0 else 2)) "
   ]
  },
  {
   "cell_type": "code",
   "execution_count": 36,
   "metadata": {},
   "outputs": [
    {
     "data": {
      "text/html": [
       "<div>\n",
       "<style scoped>\n",
       "    .dataframe tbody tr th:only-of-type {\n",
       "        vertical-align: middle;\n",
       "    }\n",
       "\n",
       "    .dataframe tbody tr th {\n",
       "        vertical-align: top;\n",
       "    }\n",
       "\n",
       "    .dataframe thead th {\n",
       "        text-align: right;\n",
       "    }\n",
       "</style>\n",
       "<table border=\"1\" class=\"dataframe\">\n",
       "  <thead>\n",
       "    <tr style=\"text-align: right;\">\n",
       "      <th></th>\n",
       "      <th>timestamp</th>\n",
       "      <th>processId</th>\n",
       "      <th>threadId</th>\n",
       "      <th>parentProcessId</th>\n",
       "      <th>userId</th>\n",
       "      <th>mountNamespace</th>\n",
       "      <th>eventId</th>\n",
       "      <th>argsNum</th>\n",
       "      <th>returnValue</th>\n",
       "      <th>sus</th>\n",
       "      <th>evil</th>\n",
       "    </tr>\n",
       "  </thead>\n",
       "  <tbody>\n",
       "    <tr>\n",
       "      <th>count</th>\n",
       "      <td>763144.000000</td>\n",
       "      <td>763144.000000</td>\n",
       "      <td>763144.000000</td>\n",
       "      <td>763144.000000</td>\n",
       "      <td>763144.000000</td>\n",
       "      <td>763144.000000</td>\n",
       "      <td>763144.000000</td>\n",
       "      <td>763144.000000</td>\n",
       "      <td>763144.000000</td>\n",
       "      <td>763144.000000</td>\n",
       "      <td>763144.0</td>\n",
       "    </tr>\n",
       "    <tr>\n",
       "      <th>mean</th>\n",
       "      <td>1844.582673</td>\n",
       "      <td>0.978617</td>\n",
       "      <td>6820.265241</td>\n",
       "      <td>0.895755</td>\n",
       "      <td>0.001305</td>\n",
       "      <td>0.256371</td>\n",
       "      <td>288.158953</td>\n",
       "      <td>2.672082</td>\n",
       "      <td>0.340016</td>\n",
       "      <td>0.001663</td>\n",
       "      <td>0.0</td>\n",
       "    </tr>\n",
       "    <tr>\n",
       "      <th>std</th>\n",
       "      <td>1136.638249</td>\n",
       "      <td>0.144656</td>\n",
       "      <td>1937.068333</td>\n",
       "      <td>0.305578</td>\n",
       "      <td>0.036103</td>\n",
       "      <td>0.436629</td>\n",
       "      <td>385.117778</td>\n",
       "      <td>1.340906</td>\n",
       "      <td>0.533623</td>\n",
       "      <td>0.040744</td>\n",
       "      <td>0.0</td>\n",
       "    </tr>\n",
       "    <tr>\n",
       "      <th>min</th>\n",
       "      <td>132.560721</td>\n",
       "      <td>0.000000</td>\n",
       "      <td>1.000000</td>\n",
       "      <td>0.000000</td>\n",
       "      <td>0.000000</td>\n",
       "      <td>0.000000</td>\n",
       "      <td>3.000000</td>\n",
       "      <td>0.000000</td>\n",
       "      <td>0.000000</td>\n",
       "      <td>0.000000</td>\n",
       "      <td>0.0</td>\n",
       "    </tr>\n",
       "    <tr>\n",
       "      <th>25%</th>\n",
       "      <td>903.250802</td>\n",
       "      <td>1.000000</td>\n",
       "      <td>7313.000000</td>\n",
       "      <td>1.000000</td>\n",
       "      <td>0.000000</td>\n",
       "      <td>0.000000</td>\n",
       "      <td>3.000000</td>\n",
       "      <td>1.000000</td>\n",
       "      <td>0.000000</td>\n",
       "      <td>0.000000</td>\n",
       "      <td>0.0</td>\n",
       "    </tr>\n",
       "    <tr>\n",
       "      <th>50%</th>\n",
       "      <td>1829.203642</td>\n",
       "      <td>1.000000</td>\n",
       "      <td>7365.000000</td>\n",
       "      <td>1.000000</td>\n",
       "      <td>0.000000</td>\n",
       "      <td>0.000000</td>\n",
       "      <td>62.000000</td>\n",
       "      <td>3.000000</td>\n",
       "      <td>0.000000</td>\n",
       "      <td>0.000000</td>\n",
       "      <td>0.0</td>\n",
       "    </tr>\n",
       "    <tr>\n",
       "      <th>75%</th>\n",
       "      <td>2761.380825</td>\n",
       "      <td>1.000000</td>\n",
       "      <td>7415.000000</td>\n",
       "      <td>1.000000</td>\n",
       "      <td>0.000000</td>\n",
       "      <td>1.000000</td>\n",
       "      <td>257.000000</td>\n",
       "      <td>4.000000</td>\n",
       "      <td>1.000000</td>\n",
       "      <td>0.000000</td>\n",
       "      <td>0.0</td>\n",
       "    </tr>\n",
       "    <tr>\n",
       "      <th>max</th>\n",
       "      <td>3954.587643</td>\n",
       "      <td>1.000000</td>\n",
       "      <td>8619.000000</td>\n",
       "      <td>1.000000</td>\n",
       "      <td>1.000000</td>\n",
       "      <td>1.000000</td>\n",
       "      <td>1010.000000</td>\n",
       "      <td>5.000000</td>\n",
       "      <td>2.000000</td>\n",
       "      <td>1.000000</td>\n",
       "      <td>0.0</td>\n",
       "    </tr>\n",
       "  </tbody>\n",
       "</table>\n",
       "</div>"
      ],
      "text/plain": [
       "           timestamp      processId       threadId  parentProcessId  \\\n",
       "count  763144.000000  763144.000000  763144.000000    763144.000000   \n",
       "mean     1844.582673       0.978617    6820.265241         0.895755   \n",
       "std      1136.638249       0.144656    1937.068333         0.305578   \n",
       "min       132.560721       0.000000       1.000000         0.000000   \n",
       "25%       903.250802       1.000000    7313.000000         1.000000   \n",
       "50%      1829.203642       1.000000    7365.000000         1.000000   \n",
       "75%      2761.380825       1.000000    7415.000000         1.000000   \n",
       "max      3954.587643       1.000000    8619.000000         1.000000   \n",
       "\n",
       "              userId  mountNamespace        eventId        argsNum  \\\n",
       "count  763144.000000   763144.000000  763144.000000  763144.000000   \n",
       "mean        0.001305        0.256371     288.158953       2.672082   \n",
       "std         0.036103        0.436629     385.117778       1.340906   \n",
       "min         0.000000        0.000000       3.000000       0.000000   \n",
       "25%         0.000000        0.000000       3.000000       1.000000   \n",
       "50%         0.000000        0.000000      62.000000       3.000000   \n",
       "75%         0.000000        1.000000     257.000000       4.000000   \n",
       "max         1.000000        1.000000    1010.000000       5.000000   \n",
       "\n",
       "         returnValue            sus      evil  \n",
       "count  763144.000000  763144.000000  763144.0  \n",
       "mean        0.340016       0.001663       0.0  \n",
       "std         0.533623       0.040744       0.0  \n",
       "min         0.000000       0.000000       0.0  \n",
       "25%         0.000000       0.000000       0.0  \n",
       "50%         0.000000       0.000000       0.0  \n",
       "75%         1.000000       0.000000       0.0  \n",
       "max         2.000000       1.000000       0.0  "
      ]
     },
     "execution_count": 36,
     "metadata": {},
     "output_type": "execute_result"
    }
   ],
   "source": [
    "train_data.describe()"
   ]
  },
  {
   "cell_type": "code",
   "execution_count": 37,
   "metadata": {},
   "outputs": [
    {
     "data": {
      "text/plain": [
       "timestamp          float64\n",
       "processId            int64\n",
       "threadId             int64\n",
       "parentProcessId      int64\n",
       "userId               int64\n",
       "mountNamespace       int64\n",
       "processName         object\n",
       "hostName            object\n",
       "eventId              int64\n",
       "eventName           object\n",
       "stackAddresses      object\n",
       "argsNum              int64\n",
       "returnValue          int64\n",
       "args                object\n",
       "sus                  int64\n",
       "evil                 int64\n",
       "dtype: object"
      ]
     },
     "execution_count": 37,
     "metadata": {},
     "output_type": "execute_result"
    }
   ],
   "source": [
    "train_data.dtypes"
   ]
  },
  {
   "cell_type": "markdown",
   "metadata": {},
   "source": [
    "### **Stackaddress**"
   ]
  },
  {
   "cell_type": "code",
   "execution_count": 38,
   "metadata": {},
   "outputs": [
    {
     "data": {
      "text/plain": [
       "112474"
      ]
     },
     "execution_count": 38,
     "metadata": {},
     "output_type": "execute_result"
    }
   ],
   "source": [
    "stack_addresses_df = pd.concat([train_data['stackAddresses'], val_data['stackAddresses'], test_data['stackAddresses']], axis=0)\n",
    "len(stack_addresses_df.unique())"
   ]
  },
  {
   "cell_type": "code",
   "execution_count": 39,
   "metadata": {},
   "outputs": [
    {
     "data": {
      "text/plain": [
       "0         [140662171848350, 11649800180280676]\n",
       "1                            [140662171777451]\n",
       "2                                           []\n",
       "3                                           []\n",
       "4           [139778263990104, 139778263906698]\n",
       "                          ...                 \n",
       "188962                                      []\n",
       "188963                                      []\n",
       "188964                                      []\n",
       "188965                                      []\n",
       "188966                                      []\n",
       "Name: stackAddresses, Length: 1141078, dtype: object"
      ]
     },
     "execution_count": 39,
     "metadata": {},
     "output_type": "execute_result"
    }
   ],
   "source": [
    "stack_addresses_df"
   ]
  },
  {
   "cell_type": "markdown",
   "metadata": {},
   "source": [
    "**Convert String to List**"
   ]
  },
  {
   "cell_type": "code",
   "execution_count": 40,
   "metadata": {},
   "outputs": [
    {
     "data": {
      "text/plain": [
       "[140662171848350, 11649800180280676]"
      ]
     },
     "execution_count": 40,
     "metadata": {},
     "output_type": "execute_result"
    }
   ],
   "source": [
    "# Convert string to list\n",
    "train_data.stackAddresses = train_data.stackAddresses.apply(ast.literal_eval)\n",
    "val_data.stackAddresses = val_data.stackAddresses.apply(ast.literal_eval)\n",
    "test_data.stackAddresses = test_data.stackAddresses.apply(ast.literal_eval)\n",
    "train_data.stackAddresses[0]"
   ]
  },
  {
   "cell_type": "code",
   "execution_count": 41,
   "metadata": {},
   "outputs": [
    {
     "name": "stdout",
     "output_type": "stream",
     "text": [
      "Training dataset - Max length of stack addresses: 20\n",
      "Validation dataset - Max length of stack addresses: 20\n",
      "Testing dataset - Max length of stack addresses: 20\n"
     ]
    }
   ],
   "source": [
    "train_data['stack_address_len']=train_data.stackAddresses.apply(len)\n",
    "val_data['stack_address_len']=val_data.stackAddresses.apply(len)\n",
    "test_data['stack_address_len']=test_data.stackAddresses.apply(len)\n",
    "print(f\"Training dataset - Max length of stack addresses: {max(train_data['stack_address_len'])}\")\n",
    "print(f\"Validation dataset - Max length of stack addresses: {max(val_data['stack_address_len'])}\")\n",
    "print(f\"Testing dataset - Max length of stack addresses: {max(test_data['stack_address_len'])}\")"
   ]
  },
  {
   "cell_type": "code",
   "execution_count": 42,
   "metadata": {},
   "outputs": [
    {
     "data": {
      "image/png": "[encoded data removed]",
      "text/plain": [
       "<Figure size 640x480 with 1 Axes>"
      ]
     },
     "metadata": {},
     "output_type": "display_data"
    }
   ],
   "source": [
    "plt.hist(train_data['stack_address_len'], bins=20);"
   ]
  },
  {
   "cell_type": "code",
   "execution_count": 43,
   "metadata": {},
   "outputs": [
    {
     "data": {
      "text/plain": [
       "stack_address_len\n",
       "0     521115\n",
       "2     109594\n",
       "1      65545\n",
       "3      59301\n",
       "4       2445\n",
       "20      1406\n",
       "14      1073\n",
       "15       932\n",
       "6        354\n",
       "8        347\n",
       "17       276\n",
       "10       206\n",
       "11       190\n",
       "9        143\n",
       "5         92\n",
       "16        90\n",
       "12        27\n",
       "7          8\n",
       "Name: count, dtype: int64"
      ]
     },
     "execution_count": 43,
     "metadata": {},
     "output_type": "execute_result"
    }
   ],
   "source": [
    "train_data['stack_address_len'].value_counts()"
   ]
  },
  {
   "cell_type": "code",
   "execution_count": 44,
   "metadata": {},
   "outputs": [
    {
     "data": {
      "image/png": "[encoded data removed]",
      "text/plain": [
       "<Figure size 640x480 with 1 Axes>"
      ]
     },
     "metadata": {},
     "output_type": "display_data"
    }
   ],
   "source": [
    "plt.hist(val_data['stack_address_len'], bins=20);"
   ]
  },
  {
   "cell_type": "code",
   "execution_count": 45,
   "metadata": {},
   "outputs": [
    {
     "data": {
      "image/png": "[encoded data removed]",
      "text/plain": [
       "<Figure size 640x480 with 1 Axes>"
      ]
     },
     "metadata": {},
     "output_type": "display_data"
    }
   ],
   "source": [
    "plt.hist(test_data['stack_address_len'], bins=20);"
   ]
  },
  {
   "cell_type": "markdown",
   "metadata": {},
   "source": [
    "**Split list**"
   ]
  },
  {
   "cell_type": "code",
   "execution_count": 46,
   "metadata": {},
   "outputs": [],
   "source": [
    "for i in range(max(train_data['stack_address_len'])):\n",
    "    train_data[f\"stack_{i+1}\"]=\"\"\n",
    "    val_data[f\"stack_{i+1}\"]=\"\"\n",
    "    test_data[f\"stack_{i+1}\"]=\"\""
   ]
  },
  {
   "cell_type": "code",
   "execution_count": 47,
   "metadata": {},
   "outputs": [],
   "source": [
    "for index, row in train_data.iterrows():\n",
    "    list_stack = [float(elem) for elem in row['stackAddresses']]\n",
    "    for i, elem in enumerate(list_stack):\n",
    "        train_data.at[index, f'stack_{i+1}'] = elem\n",
    "\n",
    "for index, row in val_data.iterrows():\n",
    "    list_stack = [float(elem) for elem in row['stackAddresses']]\n",
    "    for i, elem in enumerate(list_stack):\n",
    "        val_data.at[index, f'stack_{i+1}'] = elem\n",
    "\n",
    "\n",
    "for index, row in test_data.iterrows():\n",
    "    list_stack = [float(elem) for elem in row['stackAddresses']]\n",
    "    for i, elem in enumerate(list_stack):\n",
    "        test_data.at[index, f'stack_{i+1}'] = elem"
   ]
  },
  {
   "cell_type": "code",
   "execution_count": 48,
   "metadata": {},
   "outputs": [
    {
     "data": {
      "text/plain": [
       "timestamp                                                  1809.495787\n",
       "processId                                                            1\n",
       "threadId                                                          7337\n",
       "parentProcessId                                                      0\n",
       "userId                                                               0\n",
       "mountNamespace                                                       1\n",
       "processName                                                      close\n",
       "hostName                                               ip-10-100-1-120\n",
       "eventId                                                            157\n",
       "eventName                                                        prctl\n",
       "stackAddresses                    [140662171848350, 11649800180280676]\n",
       "argsNum                                                              5\n",
       "returnValue                                                          0\n",
       "args                 [{'name': 'option', 'type': 'int', 'value': 'P...\n",
       "sus                                                                  1\n",
       "evil                                                                 0\n",
       "stack_address_len                                                    2\n",
       "stack_1                                              140662171848350.0\n",
       "stack_2                                            11649800180280676.0\n",
       "stack_3                                                               \n",
       "stack_4                                                               \n",
       "stack_5                                                               \n",
       "stack_6                                                               \n",
       "stack_7                                                               \n",
       "stack_8                                                               \n",
       "stack_9                                                               \n",
       "stack_10                                                              \n",
       "stack_11                                                              \n",
       "stack_12                                                              \n",
       "stack_13                                                              \n",
       "stack_14                                                              \n",
       "stack_15                                                              \n",
       "stack_16                                                              \n",
       "stack_17                                                              \n",
       "stack_18                                                              \n",
       "stack_19                                                              \n",
       "stack_20                                                              \n",
       "Name: 0, dtype: object"
      ]
     },
     "execution_count": 48,
     "metadata": {},
     "output_type": "execute_result"
    }
   ],
   "source": [
    "train_data.loc[0]"
   ]
  },
  {
   "cell_type": "markdown",
   "metadata": {},
   "source": [
    "**Args**"
   ]
  },
  {
   "cell_type": "code",
   "execution_count": 49,
   "metadata": {},
   "outputs": [
    {
     "data": {
      "text/plain": [
       "argsNum\n",
       "4    359113\n",
       "1    230609\n",
       "2    149273\n",
       "3     20062\n",
       "5      2678\n",
       "0      1409\n",
       "Name: count, dtype: int64"
      ]
     },
     "execution_count": 49,
     "metadata": {},
     "output_type": "execute_result"
    }
   ],
   "source": [
    "train_data['argsNum'].value_counts()"
   ]
  },
  {
   "cell_type": "code",
   "execution_count": 50,
   "metadata": {},
   "outputs": [
    {
     "data": {
      "text/plain": [
       "214720"
      ]
     },
     "execution_count": 50,
     "metadata": {},
     "output_type": "execute_result"
    }
   ],
   "source": [
    "len(train_data['args'].unique())"
   ]
  },
  {
   "cell_type": "code",
   "execution_count": 51,
   "metadata": {},
   "outputs": [
    {
     "data": {
      "text/plain": [
       "\"[{'name': 'pathname', 'type': 'const char*', 'value': '/etc/ld.so.cache'}, {'name': 'flags', 'type': 'int', 'value': 'O_RDONLY|O_LARGEFILE'}, {'name': 'dev', 'type': 'dev_t', 'value': 211812353}, {'name': 'inode', 'type': 'unsigned long', 'value': 62841}]\""
      ]
     },
     "execution_count": 51,
     "metadata": {},
     "output_type": "execute_result"
    }
   ],
   "source": [
    "train_data['args'][4]"
   ]
  },
  {
   "cell_type": "markdown",
   "metadata": {},
   "source": [
    "**Split args**"
   ]
  },
  {
   "cell_type": "code",
   "execution_count": 52,
   "metadata": {},
   "outputs": [],
   "source": [
    "# Function to split the string column into list of dictionaries and create new columns\n",
    "def split_and_expand(row):\n",
    "    if pd.isna(row):\n",
    "        return pd.Series([None] * 15)\n",
    "\n",
    "    dicts = ast.literal_eval(row)\n",
    "    result = {'name_{}'.format(i+1): None for i in range(5)}\n",
    "    result.update({'type_{}'.format(i+1): None for i in range(5)})\n",
    "    result.update({'value_{}'.format(i+1): None for i in range(5)})\n",
    "\n",
    "    for i, d in enumerate(dicts):\n",
    "        if i >= 5:\n",
    "            break\n",
    "        result['name_{}'.format(i+1)] = d.get('name')\n",
    "        result['type_{}'.format(i+1)] = d.get('type')\n",
    "        result['value_{}'.format(i+1)] = d.get('value')\n",
    "\n",
    "    return pd.Series(result)"
   ]
  },
  {
   "cell_type": "markdown",
   "metadata": {},
   "source": [
    "Training"
   ]
  },
  {
   "cell_type": "code",
   "execution_count": 53,
   "metadata": {},
   "outputs": [],
   "source": [
    "args_split = train_data['args'].apply(split_and_expand)\n",
    "train_data = pd.concat([train_data, args_split], axis=1)"
   ]
  },
  {
   "cell_type": "markdown",
   "metadata": {},
   "source": [
    "Validation"
   ]
  },
  {
   "cell_type": "code",
   "execution_count": 54,
   "metadata": {},
   "outputs": [],
   "source": [
    "args_split = val_data['args'].apply(split_and_expand)\n",
    "val_data = pd.concat([val_data, args_split], axis=1)"
   ]
  },
  {
   "cell_type": "markdown",
   "metadata": {},
   "source": [
    "Testing"
   ]
  },
  {
   "cell_type": "code",
   "execution_count": 55,
   "metadata": {},
   "outputs": [],
   "source": [
    "args_split = test_data['args'].apply(split_and_expand)\n",
    "test_data = pd.concat([test_data, args_split], axis=1)"
   ]
  },
  {
   "cell_type": "code",
   "execution_count": 56,
   "metadata": {},
   "outputs": [
    {
     "data": {
      "text/plain": [
       "Index(['timestamp', 'processId', 'threadId', 'parentProcessId', 'userId',\n",
       "       'mountNamespace', 'processName', 'hostName', 'eventId', 'eventName',\n",
       "       'stackAddresses', 'argsNum', 'returnValue', 'args', 'sus', 'evil',\n",
       "       'stack_address_len', 'stack_1', 'stack_2', 'stack_3', 'stack_4',\n",
       "       'stack_5', 'stack_6', 'stack_7', 'stack_8', 'stack_9', 'stack_10',\n",
       "       'stack_11', 'stack_12', 'stack_13', 'stack_14', 'stack_15', 'stack_16',\n",
       "       'stack_17', 'stack_18', 'stack_19', 'stack_20', 'name_1', 'name_2',\n",
       "       'name_3', 'name_4', 'name_5', 'type_1', 'type_2', 'type_3', 'type_4',\n",
       "       'type_5', 'value_1', 'value_2', 'value_3', 'value_4', 'value_5'],\n",
       "      dtype='object')"
      ]
     },
     "execution_count": 56,
     "metadata": {},
     "output_type": "execute_result"
    }
   ],
   "source": [
    "train_data.columns"
   ]
  },
  {
   "cell_type": "code",
   "execution_count": 57,
   "metadata": {},
   "outputs": [
    {
     "data": {
      "text/plain": [
       "timestamp            float64\n",
       "processId              int64\n",
       "threadId               int64\n",
       "parentProcessId        int64\n",
       "userId                 int64\n",
       "mountNamespace         int64\n",
       "processName           object\n",
       "hostName              object\n",
       "eventId                int64\n",
       "eventName             object\n",
       "stackAddresses        object\n",
       "argsNum                int64\n",
       "returnValue            int64\n",
       "args                  object\n",
       "sus                    int64\n",
       "evil                   int64\n",
       "stack_address_len      int64\n",
       "stack_1               object\n",
       "stack_2               object\n",
       "stack_3               object\n",
       "stack_4               object\n",
       "stack_5               object\n",
       "stack_6               object\n",
       "stack_7               object\n",
       "stack_8               object\n",
       "stack_9               object\n",
       "stack_10              object\n",
       "stack_11              object\n",
       "stack_12              object\n",
       "stack_13              object\n",
       "stack_14              object\n",
       "stack_15              object\n",
       "stack_16              object\n",
       "stack_17              object\n",
       "stack_18              object\n",
       "stack_19              object\n",
       "stack_20              object\n",
       "name_1                object\n",
       "name_2                object\n",
       "name_3                object\n",
       "name_4                object\n",
       "name_5                object\n",
       "type_1                object\n",
       "type_2                object\n",
       "type_3                object\n",
       "type_4                object\n",
       "type_5                object\n",
       "value_1               object\n",
       "value_2               object\n",
       "value_3               object\n",
       "value_4               object\n",
       "value_5              float64\n",
       "dtype: object"
      ]
     },
     "execution_count": 57,
     "metadata": {},
     "output_type": "execute_result"
    }
   ],
   "source": [
    "train_data.dtypes"
   ]
  },
  {
   "cell_type": "markdown",
   "metadata": {},
   "source": [
    "**Features selection**"
   ]
  },
  {
   "cell_type": "code",
   "execution_count": 58,
   "metadata": {},
   "outputs": [],
   "source": [
    "# data1 = train_data.sample(frac=0.4, ignore_index=True)\n",
    "\n",
    "X_num_train = train_data[['processId', 'threadId', 'parentProcessId', 'userId', 'mountNamespace', 'eventId', 'argsNum', 'returnValue', 'stack_address_len']]\n",
    "X_cat_train = train_data[['processName', 'hostName', 'eventName',\n",
    "                     'stack_1', 'stack_2', 'stack_3', 'stack_4',\n",
    "                     'stack_5', 'stack_6', 'stack_7', 'stack_8', 'stack_9', \n",
    "                     'stack_10','stack_11', 'stack_12', 'stack_13', 'stack_14', 'stack_15',\n",
    "                     'stack_16','stack_17', 'stack_18', 'stack_19', 'stack_20',\n",
    "                     'name_1', 'name_2', 'name_3', 'name_4', 'name_5',\n",
    "                     'type_1', 'type_2', 'type_3', 'type_4', 'type_5',\n",
    "                     'value_1', 'value_2', 'value_3', 'value_4', 'value_5']].astype(str)"
   ]
  },
  {
   "cell_type": "code",
   "execution_count": 59,
   "metadata": {},
   "outputs": [],
   "source": [
    "X_num_val = val_data[['processId', 'threadId', 'parentProcessId', 'userId', 'mountNamespace', 'eventId', 'argsNum', 'returnValue', 'stack_address_len']]\n",
    "X_cat_val = val_data[['processName', 'hostName', 'eventName',\n",
    "                     'stack_1', 'stack_2', 'stack_3', 'stack_4',\n",
    "                     'stack_5', 'stack_6', 'stack_7', 'stack_8', 'stack_9', \n",
    "                     'stack_10','stack_11', 'stack_12', 'stack_13', 'stack_14', 'stack_15',\n",
    "                     'stack_16','stack_17', 'stack_18', 'stack_19', 'stack_20',\n",
    "                     'name_1', 'name_2', 'name_3', 'name_4', 'name_5',\n",
    "                     'type_1', 'type_2', 'type_3', 'type_4', 'type_5',\n",
    "                     'value_1', 'value_2', 'value_3', 'value_4', 'value_5']].astype(str)"
   ]
  },
  {
   "cell_type": "code",
   "execution_count": 60,
   "metadata": {},
   "outputs": [],
   "source": [
    "X_num_test = test_data[['processId', 'threadId', 'parentProcessId', 'userId', 'mountNamespace', 'eventId', 'argsNum', 'returnValue', 'stack_address_len']]\n",
    "X_cat_test = test_data[['processName', 'hostName', 'eventName',\n",
    "                     'stack_1', 'stack_2', 'stack_3', 'stack_4',\n",
    "                     'stack_5', 'stack_6', 'stack_7', 'stack_8', 'stack_9', \n",
    "                     'stack_10','stack_11', 'stack_12', 'stack_13', 'stack_14', 'stack_15',\n",
    "                     'stack_16','stack_17', 'stack_18', 'stack_19', 'stack_20',\n",
    "                     'name_1', 'name_2', 'name_3', 'name_4', 'name_5',\n",
    "                     'type_1', 'type_2', 'type_3', 'type_4', 'type_5',\n",
    "                     'value_1', 'value_2', 'value_3', 'value_4', 'value_5']].astype(str)"
   ]
  },
  {
   "cell_type": "markdown",
   "metadata": {},
   "source": [
    "**Categorical features encoding**"
   ]
  },
  {
   "cell_type": "markdown",
   "metadata": {},
   "source": [
    "Stack addresses"
   ]
  },
  {
   "cell_type": "code",
   "execution_count": 61,
   "metadata": {},
   "outputs": [],
   "source": [
    "stack_ordinal_encoder = OrdinalEncoder(handle_unknown='use_encoded_value', \n",
    "                                 unknown_value=-1, dtype=float)\n",
    "\n",
    "# Encode Stack adresses\n",
    "stackaddresses_train_enc = stack_ordinal_encoder.fit_transform(X_cat_train[['stack_1', 'stack_2', 'stack_3', 'stack_4', 'stack_5',\n",
    "                                                                      'stack_6', 'stack_7', 'stack_8', 'stack_9', 'stack_10',\n",
    "                                                                      'stack_11', 'stack_12', 'stack_13', 'stack_14', 'stack_15',\n",
    "                                                                      'stack_16','stack_17', 'stack_18', 'stack_19', 'stack_20']])"
   ]
  },
  {
   "cell_type": "code",
   "execution_count": 62,
   "metadata": {},
   "outputs": [
    {
     "data": {
      "text/plain": [
       "(0.0, 8447.0)"
      ]
     },
     "execution_count": 62,
     "metadata": {},
     "output_type": "execute_result"
    }
   ],
   "source": [
    "np.min(stackaddresses_train_enc), np.max(stackaddresses_train_enc)"
   ]
  },
  {
   "cell_type": "code",
   "execution_count": 63,
   "metadata": {},
   "outputs": [],
   "source": [
    "X_cat_train[['stack_1', 'stack_2', 'stack_3', 'stack_4', 'stack_5',\n",
    "             'stack_6', 'stack_7', 'stack_8', 'stack_9', 'stack_10',\n",
    "             'stack_11', 'stack_12', 'stack_13', 'stack_14', 'stack_15',\n",
    "             'stack_16','stack_17', 'stack_18', 'stack_19', 'stack_20']] = stackaddresses_train_enc"
   ]
  },
  {
   "cell_type": "code",
   "execution_count": 64,
   "metadata": {},
   "outputs": [],
   "source": [
    "stackaddresses_val_enc = stack_ordinal_encoder.transform(X_cat_val[['stack_1', 'stack_2', 'stack_3', 'stack_4', 'stack_5',\n",
    "                                                        'stack_6', 'stack_7', 'stack_8', 'stack_9', 'stack_10',\n",
    "                                                        'stack_11', 'stack_12', 'stack_13', 'stack_14', 'stack_15',\n",
    "                                                        'stack_16','stack_17', 'stack_18', 'stack_19', 'stack_20']])"
   ]
  },
  {
   "cell_type": "code",
   "execution_count": 65,
   "metadata": {},
   "outputs": [
    {
     "data": {
      "text/plain": [
       "(-1.0, 8375.0)"
      ]
     },
     "execution_count": 65,
     "metadata": {},
     "output_type": "execute_result"
    }
   ],
   "source": [
    "np.min(stackaddresses_val_enc), np.max(stackaddresses_val_enc)"
   ]
  },
  {
   "cell_type": "code",
   "execution_count": 66,
   "metadata": {},
   "outputs": [],
   "source": [
    "stackaddresses_val_enc = np.where(stackaddresses_val_enc==-1, np.max(stackaddresses_train_enc)+1, stackaddresses_val_enc)"
   ]
  },
  {
   "cell_type": "code",
   "execution_count": 67,
   "metadata": {},
   "outputs": [
    {
     "data": {
      "text/plain": [
       "(0.0, 8448.0)"
      ]
     },
     "execution_count": 67,
     "metadata": {},
     "output_type": "execute_result"
    }
   ],
   "source": [
    "np.min(stackaddresses_val_enc), np.max(stackaddresses_val_enc)"
   ]
  },
  {
   "cell_type": "code",
   "execution_count": 68,
   "metadata": {},
   "outputs": [],
   "source": [
    "X_cat_val[['stack_1', 'stack_2', 'stack_3', 'stack_4', 'stack_5',\n",
    "           'stack_6', 'stack_7', 'stack_8', 'stack_9', 'stack_10',\n",
    "           'stack_11', 'stack_12', 'stack_13', 'stack_14', 'stack_15',\n",
    "           'stack_16','stack_17', 'stack_18', 'stack_19', 'stack_20']]= stackaddresses_val_enc"
   ]
  },
  {
   "cell_type": "code",
   "execution_count": 69,
   "metadata": {},
   "outputs": [
    {
     "data": {
      "text/plain": [
       "0.0"
      ]
     },
     "execution_count": 69,
     "metadata": {},
     "output_type": "execute_result"
    }
   ],
   "source": [
    "X_cat_val.iloc[4,4]"
   ]
  },
  {
   "cell_type": "code",
   "execution_count": 70,
   "metadata": {},
   "outputs": [],
   "source": [
    "stackaddresses_test_enc = stack_ordinal_encoder.transform(X_cat_test[['stack_1', 'stack_2', 'stack_3', 'stack_4', 'stack_5',\n",
    "                                                        'stack_6', 'stack_7', 'stack_8', 'stack_9', 'stack_10',\n",
    "                                                        'stack_11', 'stack_12', 'stack_13', 'stack_14', 'stack_15',\n",
    "                                                        'stack_16','stack_17', 'stack_18', 'stack_19', 'stack_20']])\n",
    "\n",
    "stackaddresses_test_enc = np.where(stackaddresses_test_enc==-1, np.max(stackaddresses_train_enc)+1, stackaddresses_test_enc)\n",
    "\n",
    "X_cat_test[['stack_1', 'stack_2', 'stack_3', 'stack_4', 'stack_5',\n",
    "           'stack_6', 'stack_7', 'stack_8', 'stack_9', 'stack_10',\n",
    "           'stack_11', 'stack_12', 'stack_13', 'stack_14', 'stack_15',\n",
    "           'stack_16','stack_17', 'stack_18', 'stack_19', 'stack_20']]= stackaddresses_test_enc"
   ]
  },
  {
   "cell_type": "code",
   "execution_count": 71,
   "metadata": {},
   "outputs": [
    {
     "data": {
      "text/plain": [
       "processName     object\n",
       "hostName        object\n",
       "eventName       object\n",
       "stack_1        float64\n",
       "stack_2        float64\n",
       "stack_3        float64\n",
       "stack_4        float64\n",
       "stack_5        float64\n",
       "stack_6        float64\n",
       "stack_7        float64\n",
       "stack_8        float64\n",
       "stack_9        float64\n",
       "stack_10       float64\n",
       "stack_11       float64\n",
       "stack_12       float64\n",
       "stack_13       float64\n",
       "stack_14       float64\n",
       "stack_15       float64\n",
       "stack_16       float64\n",
       "stack_17       float64\n",
       "stack_18       float64\n",
       "stack_19       float64\n",
       "stack_20       float64\n",
       "name_1          object\n",
       "name_2          object\n",
       "name_3          object\n",
       "name_4          object\n",
       "name_5          object\n",
       "type_1          object\n",
       "type_2          object\n",
       "type_3          object\n",
       "type_4          object\n",
       "type_5          object\n",
       "value_1         object\n",
       "value_2         object\n",
       "value_3         object\n",
       "value_4         object\n",
       "value_5         object\n",
       "dtype: object"
      ]
     },
     "execution_count": 71,
     "metadata": {},
     "output_type": "execute_result"
    }
   ],
   "source": [
    "X_cat_test.dtypes"
   ]
  },
  {
   "cell_type": "markdown",
   "metadata": {},
   "source": [
    "Args"
   ]
  },
  {
   "cell_type": "code",
   "execution_count": 72,
   "metadata": {},
   "outputs": [],
   "source": [
    "# Encode Stack adresses\n",
    "args_ordinal_encoder = OrdinalEncoder(handle_unknown='use_encoded_value', unknown_value=-1, dtype=float)\n",
    "args_train_enc = args_ordinal_encoder.fit_transform(X_cat_train[['name_1', 'name_2', 'name_3', 'name_4', 'name_5',\n",
    "                                                            'type_1', 'type_2', 'type_3', 'type_4', 'type_5',\n",
    "                                                            'value_1', 'value_2', 'value_3', 'value_4', 'value_5']])\n",
    "X_cat_train[['name_1', 'name_2', 'name_3', 'name_4', 'name_5',\n",
    "             'type_1', 'type_2', 'type_3', 'type_4', 'type_5',\n",
    "             'value_1', 'value_2', 'value_3', 'value_4', 'value_5']] = args_train_enc"
   ]
  },
  {
   "cell_type": "code",
   "execution_count": 73,
   "metadata": {},
   "outputs": [
    {
     "data": {
      "text/plain": [
       "(0.0, 26663.0)"
      ]
     },
     "execution_count": 73,
     "metadata": {},
     "output_type": "execute_result"
    }
   ],
   "source": [
    "np.min(args_train_enc), np.max(args_train_enc)"
   ]
  },
  {
   "cell_type": "code",
   "execution_count": 74,
   "metadata": {},
   "outputs": [],
   "source": [
    "args_val_enc = args_ordinal_encoder.transform(X_cat_val[['name_1', 'name_2', 'name_3', 'name_4', 'name_5',\n",
    "                                                    'type_1', 'type_2', 'type_3', 'type_4', 'type_5',\n",
    "                                                    'value_1', 'value_2', 'value_3', 'value_4', 'value_5']])\n",
    "\n",
    "args_val_enc = np.where(args_val_enc==-1, np.max(args_train_enc)+1, args_val_enc)\n",
    "\n",
    "X_cat_val[['name_1', 'name_2', 'name_3', 'name_4', 'name_5',\n",
    "           'type_1', 'type_2', 'type_3', 'type_4', 'type_5',\n",
    "           'value_1', 'value_2', 'value_3', 'value_4', 'value_5']] = args_val_enc"
   ]
  },
  {
   "cell_type": "code",
   "execution_count": 75,
   "metadata": {},
   "outputs": [],
   "source": [
    "args_test_enc = args_ordinal_encoder.transform(X_cat_test[['name_1', 'name_2', 'name_3', 'name_4', 'name_5',\n",
    "                                                      'type_1', 'type_2', 'type_3', 'type_4', 'type_5',\n",
    "                                                      'value_1', 'value_2', 'value_3', 'value_4', 'value_5']])\n",
    "\n",
    "args_test_enc = np.where(args_test_enc==-1, np.max(args_train_enc)+1, args_test_enc)\n",
    "\n",
    "X_cat_test[['name_1', 'name_2', 'name_3', 'name_4', 'name_5',\n",
    "           'type_1', 'type_2', 'type_3', 'type_4', 'type_5',\n",
    "           'value_1', 'value_2', 'value_3', 'value_4', 'value_5']] = args_test_enc"
   ]
  },
  {
   "cell_type": "markdown",
   "metadata": {},
   "source": [
    "ProcessName"
   ]
  },
  {
   "cell_type": "code",
   "execution_count": 76,
   "metadata": {},
   "outputs": [],
   "source": [
    "proc_ordinal_encoder = OrdinalEncoder(handle_unknown='use_encoded_value', unknown_value=-1, dtype=float)\n",
    "X_cat_train['processName'] = proc_ordinal_encoder.fit_transform(X_cat_train[['processName']])"
   ]
  },
  {
   "cell_type": "code",
   "execution_count": 77,
   "metadata": {},
   "outputs": [
    {
     "data": {
      "text/plain": [
       "(0.0, 35.0)"
      ]
     },
     "execution_count": 77,
     "metadata": {},
     "output_type": "execute_result"
    }
   ],
   "source": [
    "min(X_cat_train['processName']), max(X_cat_train['processName'])"
   ]
  },
  {
   "cell_type": "code",
   "execution_count": 78,
   "metadata": {},
   "outputs": [],
   "source": [
    "processName_val_enc = proc_ordinal_encoder.transform(X_cat_val[['processName']])\n",
    "processName_val_enc = np.where(processName_val_enc==-1, np.max(X_cat_train['processName'])+1, processName_val_enc)\n",
    "X_cat_val['processName'] = processName_val_enc"
   ]
  },
  {
   "cell_type": "code",
   "execution_count": 79,
   "metadata": {},
   "outputs": [],
   "source": [
    "processName_test_enc = proc_ordinal_encoder.transform(X_cat_test[['processName']])\n",
    "processName_test_enc = np.where(processName_test_enc==-1, np.max(X_cat_train['processName'])+1, processName_test_enc)\n",
    "X_cat_test['processName'] = processName_test_enc"
   ]
  },
  {
   "cell_type": "markdown",
   "metadata": {},
   "source": [
    "HostName"
   ]
  },
  {
   "cell_type": "code",
   "execution_count": 80,
   "metadata": {},
   "outputs": [],
   "source": [
    "host_ordinal_encoder = OrdinalEncoder(handle_unknown='use_encoded_value', unknown_value=-1, dtype=float)\n",
    "X_cat_train['hostName'] = host_ordinal_encoder.fit_transform(X_cat_train[['hostName']])\n",
    "\n",
    "host_val_enc = host_ordinal_encoder.transform(X_cat_val[['hostName']])\n",
    "host_val_enc = np.where(host_val_enc==-1, np.max(X_cat_train['hostName'])+1, host_val_enc)\n",
    "X_cat_val['hostName'] = host_val_enc\n",
    "\n",
    "host_test_enc = host_ordinal_encoder.transform(X_cat_test[['hostName']])\n",
    "host_test_enc = np.where(host_test_enc==-1, np.max(X_cat_train['hostName'])+1, host_test_enc)\n",
    "X_cat_test['hostName'] = host_test_enc"
   ]
  },
  {
   "cell_type": "markdown",
   "metadata": {},
   "source": [
    "EventName"
   ]
  },
  {
   "cell_type": "code",
   "execution_count": 81,
   "metadata": {},
   "outputs": [],
   "source": [
    "event_ordinal_encoder = OrdinalEncoder(handle_unknown='use_encoded_value', unknown_value=-1, dtype=float)\n",
    "X_cat_train['eventName'] = event_ordinal_encoder.fit_transform(X_cat_train[['eventName']])\n",
    "\n",
    "event_val_enc = event_ordinal_encoder.transform(X_cat_val[['eventName']])\n",
    "event_val_enc = np.where(event_val_enc==-1, np.max(X_cat_train['eventName'])+1, event_val_enc)\n",
    "X_cat_val['eventName'] = event_val_enc\n",
    "\n",
    "event_test_enc = event_ordinal_encoder.transform(X_cat_test[['eventName']])\n",
    "event_test_enc = np.where(event_test_enc==-1, np.max(X_cat_train['eventName'])+1, event_test_enc)\n",
    "X_cat_test['eventName'] = event_test_enc"
   ]
  },
  {
   "cell_type": "code",
   "execution_count": 82,
   "metadata": {},
   "outputs": [
    {
     "data": {
      "text/plain": [
       "processName        6.0\n",
       "hostName           0.0\n",
       "eventName         20.0\n",
       "stack_1            0.0\n",
       "stack_2            0.0\n",
       "stack_3            0.0\n",
       "stack_4            0.0\n",
       "stack_5            0.0\n",
       "stack_6            0.0\n",
       "stack_7            0.0\n",
       "stack_8            0.0\n",
       "stack_9            0.0\n",
       "stack_10           0.0\n",
       "stack_11           0.0\n",
       "stack_12           0.0\n",
       "stack_13           0.0\n",
       "stack_14           0.0\n",
       "stack_15           0.0\n",
       "stack_16           0.0\n",
       "stack_17           0.0\n",
       "stack_18           0.0\n",
       "stack_19           0.0\n",
       "stack_20           0.0\n",
       "name_1             0.0\n",
       "name_2             0.0\n",
       "name_3             0.0\n",
       "name_4             0.0\n",
       "name_5             0.0\n",
       "type_1             0.0\n",
       "type_2             0.0\n",
       "type_3             0.0\n",
       "type_4             0.0\n",
       "type_5             0.0\n",
       "value_1         5993.0\n",
       "value_2        25566.0\n",
       "value_3         1701.0\n",
       "value_4         8170.0\n",
       "value_5           34.0\n",
       "Name: 2, dtype: float64"
      ]
     },
     "execution_count": 82,
     "metadata": {},
     "output_type": "execute_result"
    }
   ],
   "source": [
    "X_cat_train.loc[2]"
   ]
  },
  {
   "cell_type": "code",
   "execution_count": 83,
   "metadata": {},
   "outputs": [
    {
     "data": {
      "text/plain": [
       "(763144, 9)"
      ]
     },
     "execution_count": 83,
     "metadata": {},
     "output_type": "execute_result"
    }
   ],
   "source": [
    "X_num_train.shape"
   ]
  },
  {
   "cell_type": "code",
   "execution_count": 84,
   "metadata": {},
   "outputs": [
    {
     "data": {
      "text/plain": [
       "(763144, 47)"
      ]
     },
     "execution_count": 84,
     "metadata": {},
     "output_type": "execute_result"
    }
   ],
   "source": [
    "X_train = pd.concat([X_num_train, X_cat_train], axis=1)\n",
    "y_train = train_data['sus']\n",
    "X_train.shape"
   ]
  },
  {
   "cell_type": "code",
   "execution_count": 85,
   "metadata": {},
   "outputs": [],
   "source": [
    "X_val = pd.concat([X_num_val, X_cat_val], axis=1)\n",
    "y_val = val_data['sus']"
   ]
  },
  {
   "cell_type": "code",
   "execution_count": 86,
   "metadata": {},
   "outputs": [],
   "source": [
    "X_test = pd.concat([X_num_test, X_cat_test], axis=1)\n",
    "y_test = test_data['sus']"
   ]
  },
  {
   "cell_type": "code",
   "execution_count": 87,
   "metadata": {},
   "outputs": [
    {
     "data": {
      "text/plain": [
       "processId              int64\n",
       "threadId               int64\n",
       "parentProcessId        int64\n",
       "userId                 int64\n",
       "mountNamespace         int64\n",
       "eventId                int64\n",
       "argsNum                int64\n",
       "returnValue            int64\n",
       "stack_address_len      int64\n",
       "processName          float64\n",
       "hostName             float64\n",
       "eventName            float64\n",
       "stack_1              float64\n",
       "stack_2              float64\n",
       "stack_3              float64\n",
       "stack_4              float64\n",
       "stack_5              float64\n",
       "stack_6              float64\n",
       "stack_7              float64\n",
       "stack_8              float64\n",
       "stack_9              float64\n",
       "stack_10             float64\n",
       "stack_11             float64\n",
       "stack_12             float64\n",
       "stack_13             float64\n",
       "stack_14             float64\n",
       "stack_15             float64\n",
       "stack_16             float64\n",
       "stack_17             float64\n",
       "stack_18             float64\n",
       "stack_19             float64\n",
       "stack_20             float64\n",
       "name_1               float64\n",
       "name_2               float64\n",
       "name_3               float64\n",
       "name_4               float64\n",
       "name_5               float64\n",
       "type_1               float64\n",
       "type_2               float64\n",
       "type_3               float64\n",
       "type_4               float64\n",
       "type_5               float64\n",
       "value_1              float64\n",
       "value_2              float64\n",
       "value_3              float64\n",
       "value_4              float64\n",
       "value_5              float64\n",
       "dtype: object"
      ]
     },
     "execution_count": 87,
     "metadata": {},
     "output_type": "execute_result"
    }
   ],
   "source": [
    "X_val.dtypes"
   ]
  },
  {
   "cell_type": "markdown",
   "metadata": {},
   "source": [
    "## Principal components"
   ]
  },
  {
   "cell_type": "code",
   "execution_count": 88,
   "metadata": {},
   "outputs": [
    {
     "data": {
      "image/png": "[encoded data removed]",
      "text/plain": [
       "<Figure size 640x480 with 1 Axes>"
      ]
     },
     "metadata": {},
     "output_type": "display_data"
    }
   ],
   "source": [
    "from sklearn.decomposition import PCA\n",
    "from sklearn.preprocessing import StandardScaler\n",
    "pca = PCA(n_components=47, svd_solver='auto')\n",
    "\n",
    "scaler = StandardScaler()\n",
    "X_train_scaled = scaler.fit_transform(X_train)\n",
    "\n",
    "Xt = pca.fit_transform(X_train_scaled)\n",
    "plot = plt.scatter(Xt[:,0], Xt[:,1], c=y_train)\n",
    "plt.show()"
   ]
  },
  {
   "cell_type": "code",
   "execution_count": 89,
   "metadata": {},
   "outputs": [
    {
     "name": "stdout",
     "output_type": "stream",
     "text": [
      "[1.37732738e+01 7.53350801e+00 3.89274051e+00 3.30539769e+00\n",
      " 2.77418389e+00 2.37592904e+00 2.22449849e+00 2.06286811e+00\n",
      " 1.59557546e+00 1.00533847e+00 8.17003322e-01 6.13127829e-01\n",
      " 5.54256802e-01 4.86976021e-01 4.59041962e-01 3.94777028e-01\n",
      " 3.68966650e-01 3.16688582e-01 2.92678849e-01 2.77060091e-01\n",
      " 2.42183581e-01 2.28936811e-01 2.01701332e-01 1.64778127e-01\n",
      " 1.57530791e-01 1.21898702e-01 1.13716021e-01 1.04103791e-01\n",
      " 9.47677691e-02 8.05893076e-02 7.24753480e-02 6.42062597e-02\n",
      " 5.37830368e-02 4.73559782e-02 3.14259721e-02 2.79287126e-02\n",
      " 2.15539213e-02 1.52825031e-02 8.73201402e-03 8.31057819e-03\n",
      " 5.82311339e-03 3.88598424e-03 2.29365826e-03 1.63478331e-03\n",
      " 6.93964155e-04 4.48988178e-04 1.29901723e-04]\n",
      "[2.93047996e-01 1.60287194e-01 8.28241576e-02 7.03275182e-02\n",
      " 5.90251118e-02 5.05516154e-02 4.73296931e-02 4.38907534e-02\n",
      " 3.39483695e-02 2.13901521e-02 1.73830266e-02 1.30452559e-02\n",
      " 1.17926825e-02 1.03611784e-02 9.76683745e-03 8.39950024e-03\n",
      " 7.85034398e-03 6.73804610e-03 6.22720140e-03 5.89488782e-03\n",
      " 5.15283540e-03 4.87098959e-03 4.29151208e-03 3.50591301e-03\n",
      " 3.35171456e-03 2.59358600e-03 2.41948663e-03 2.21497138e-03\n",
      " 2.01633287e-03 1.71466387e-03 1.54202666e-03 1.36608884e-03\n",
      " 1.14431843e-03 1.00757268e-03 6.68636828e-04 5.94227149e-04\n",
      " 4.58593469e-04 3.25159214e-04 1.85787289e-04 1.76820581e-04\n",
      " 1.23895867e-04 8.26804073e-05 4.88011757e-05 3.47825781e-05\n",
      " 1.47651754e-05 9.55292745e-06 2.76386283e-06]\n",
      "[0.293048   0.45333519 0.53615935 0.60648687 0.66551198 0.71606359\n",
      " 0.76339329 0.80728404 0.84123241 0.86262256 0.88000559 0.89305084\n",
      " 0.90484353 0.9152047  0.92497154 0.93337104 0.94122139 0.94795943\n",
      " 0.95418663 0.96008152 0.96523436 0.97010535 0.97439686 0.97790277\n",
      " 0.98125449 0.98384807 0.98626756 0.98848253 0.99049886 0.99221353\n",
      " 0.99375555 0.99512164 0.99626596 0.99727353 0.99794217 0.9985364\n",
      " 0.99899499 0.99932015 0.99950594 0.99968276 0.99980665 0.99988933\n",
      " 0.99993814 0.99997292 0.99998768 0.99999724 1.        ]\n"
     ]
    }
   ],
   "source": [
    "print(pca.explained_variance_)\n",
    "print(pca.explained_variance_ratio_)\n",
    "print(pca.explained_variance_ratio_.cumsum())"
   ]
  }
 ],
 "metadata": {
  "kernelspec": {
   "display_name": "virtual_env",
   "language": "python",
   "name": "python3"
  },
  "language_info": {
   "codemirror_mode": {
    "name": "ipython",
    "version": 3
   },
   "file_extension": ".py",
   "mimetype": "text/x-python",
   "name": "python",
   "nbconvert_exporter": "python",
   "pygments_lexer": "ipython3",
   "version": "3.10.5"
  }
 },
 "nbformat": 4,
 "nbformat_minor": 2
}
