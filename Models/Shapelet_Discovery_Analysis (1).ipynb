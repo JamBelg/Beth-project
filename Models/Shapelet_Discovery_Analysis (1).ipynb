{
 "cells": [
  {
   "cell_type": "markdown",
   "metadata": {
    "id": "c8-65vkFEhkW"
   },
   "source": [
    "# Shapelet Discovery"
   ]
  },
  {
   "cell_type": "code",
   "execution_count": 1,
   "metadata": {
    "id": "5cMC0D8Pj2B_"
   },
   "outputs": [],
   "source": [
    "import numpy as np\n",
    "import pandas as pd\n",
    "import seaborn as sns\n",
    "import matplotlib.pyplot as plt\n",
    "import time\n",
    "import stumpy\n",
    "import os\n",
    "os.environ[\"NUMBA_NUM_THREADS\"] = \"24\"\n",
    "os.environ[\"OMP_NUM_THREADS\"]=\"24\""
   ]
  },
  {
   "cell_type": "code",
   "execution_count": 4,
   "metadata": {},
   "outputs": [],
   "source": [
    "#short_ts = np.random.rand(2**12)\n",
    "#long_ts = np.random.rand(2**20) "
   ]
  },
  {
   "cell_type": "code",
   "execution_count": 5,
   "metadata": {},
   "outputs": [],
   "source": [
    "#start = time.time()\n",
    "#mp = stumpy.gpu_stump(short_ts, 50, ignore_trivial=True)\n",
    "#print(time.time()-start)"
   ]
  },
  {
   "cell_type": "code",
   "execution_count": 2,
   "metadata": {
    "id": "S179XRQ6lRwt"
   },
   "outputs": [],
   "source": [
    "train = pd.read_csv(\"labelled_training_data.csv\")"
   ]
  },
  {
   "cell_type": "code",
   "execution_count": 3,
   "metadata": {
    "id": "mvOvEVDkj65T"
   },
   "outputs": [],
   "source": [
    "testing = pd.read_csv(\"labelled_testing_data.csv\")\n",
    "val = pd.read_csv(\"labelled_validation_data.csv\")"
   ]
  },
  {
   "cell_type": "code",
   "execution_count": 4,
   "metadata": {
    "id": "-k0m6LpBkGwX"
   },
   "outputs": [],
   "source": [
    "data = pd.concat([train, testing, val])"
   ]
  },
  {
   "cell_type": "code",
   "execution_count": 5,
   "metadata": {
    "id": "1NwiOOzUkK2H"
   },
   "outputs": [],
   "source": [
    "data = data.sort_values(by=['timestamp'])"
   ]
  },
  {
   "cell_type": "code",
   "execution_count": 6,
   "metadata": {
    "id": "doagKf4xn_g6"
   },
   "outputs": [],
   "source": [
    "data = data.set_index(\"timestamp\")"
   ]
  },
  {
   "cell_type": "code",
   "execution_count": 7,
   "metadata": {
    "colab": {
     "base_uri": "https://localhost:8080/"
    },
    "id": "1_cns-kfEnAs",
    "outputId": "ef2985ae-362f-4a06-e8b1-c00ab7ea576a"
   },
   "outputs": [
    {
     "data": {
      "text/plain": [
       "Index(['processId', 'threadId', 'parentProcessId', 'userId', 'mountNamespace',\n",
       "       'processName', 'hostName', 'eventId', 'eventName', 'stackAddresses',\n",
       "       'argsNum', 'returnValue', 'args', 'sus', 'evil'],\n",
       "      dtype='object')"
      ]
     },
     "execution_count": 7,
     "metadata": {},
     "output_type": "execute_result"
    }
   ],
   "source": [
    "data.columns"
   ]
  },
  {
   "cell_type": "code",
   "execution_count": 8,
   "metadata": {
    "colab": {
     "base_uri": "https://localhost:8080/",
     "height": 455
    },
    "id": "ljJPmIBv_W8U",
    "outputId": "85ea262a-4097-428c-c407-6398f5bd849d"
   },
   "outputs": [
    {
     "data": {
      "text/html": [
       "<div>\n",
       "<style scoped>\n",
       "    .dataframe tbody tr th:only-of-type {\n",
       "        vertical-align: middle;\n",
       "    }\n",
       "\n",
       "    .dataframe tbody tr th {\n",
       "        vertical-align: top;\n",
       "    }\n",
       "\n",
       "    .dataframe thead th {\n",
       "        text-align: right;\n",
       "    }\n",
       "</style>\n",
       "<table border=\"1\" class=\"dataframe\">\n",
       "  <thead>\n",
       "    <tr style=\"text-align: right;\">\n",
       "      <th></th>\n",
       "      <th>processId</th>\n",
       "      <th>threadId</th>\n",
       "      <th>parentProcessId</th>\n",
       "      <th>userId</th>\n",
       "      <th>mountNamespace</th>\n",
       "      <th>processName</th>\n",
       "      <th>hostName</th>\n",
       "      <th>eventId</th>\n",
       "      <th>eventName</th>\n",
       "      <th>stackAddresses</th>\n",
       "      <th>argsNum</th>\n",
       "      <th>returnValue</th>\n",
       "      <th>args</th>\n",
       "      <th>sus</th>\n",
       "      <th>evil</th>\n",
       "    </tr>\n",
       "    <tr>\n",
       "      <th>timestamp</th>\n",
       "      <th></th>\n",
       "      <th></th>\n",
       "      <th></th>\n",
       "      <th></th>\n",
       "      <th></th>\n",
       "      <th></th>\n",
       "      <th></th>\n",
       "      <th></th>\n",
       "      <th></th>\n",
       "      <th></th>\n",
       "      <th></th>\n",
       "      <th></th>\n",
       "      <th></th>\n",
       "      <th></th>\n",
       "      <th></th>\n",
       "    </tr>\n",
       "  </thead>\n",
       "  <tbody>\n",
       "    <tr>\n",
       "      <th>124.439221</th>\n",
       "      <td>381</td>\n",
       "      <td>381</td>\n",
       "      <td>1</td>\n",
       "      <td>101</td>\n",
       "      <td>4026532232</td>\n",
       "      <td>systemd-resolve</td>\n",
       "      <td>ip-10-100-1-129</td>\n",
       "      <td>41</td>\n",
       "      <td>socket</td>\n",
       "      <td>[139913106282763, 139913103116537, 94901962555...</td>\n",
       "      <td>3</td>\n",
       "      <td>15</td>\n",
       "      <td>[{'name': 'domain', 'type': 'int', 'value': 'A...</td>\n",
       "      <td>0</td>\n",
       "      <td>0</td>\n",
       "    </tr>\n",
       "    <tr>\n",
       "      <th>124.439751</th>\n",
       "      <td>378</td>\n",
       "      <td>378</td>\n",
       "      <td>1</td>\n",
       "      <td>100</td>\n",
       "      <td>4026532231</td>\n",
       "      <td>systemd-network</td>\n",
       "      <td>ip-10-100-1-129</td>\n",
       "      <td>41</td>\n",
       "      <td>socket</td>\n",
       "      <td>[140343254628619, 93967981149065, 93967990898192]</td>\n",
       "      <td>3</td>\n",
       "      <td>15</td>\n",
       "      <td>[{'name': 'domain', 'type': 'int', 'value': 'A...</td>\n",
       "      <td>0</td>\n",
       "      <td>0</td>\n",
       "    </tr>\n",
       "    <tr>\n",
       "      <th>124.439958</th>\n",
       "      <td>1</td>\n",
       "      <td>1</td>\n",
       "      <td>0</td>\n",
       "      <td>0</td>\n",
       "      <td>4026531840</td>\n",
       "      <td>systemd</td>\n",
       "      <td>ip-10-100-1-129</td>\n",
       "      <td>1005</td>\n",
       "      <td>security_file_open</td>\n",
       "      <td>[140074839310116, 8103505641674583864]</td>\n",
       "      <td>4</td>\n",
       "      <td>0</td>\n",
       "      <td>[{'name': 'pathname', 'type': 'const char*', '...</td>\n",
       "      <td>0</td>\n",
       "      <td>0</td>\n",
       "    </tr>\n",
       "    <tr>\n",
       "      <th>124.440007</th>\n",
       "      <td>1</td>\n",
       "      <td>1</td>\n",
       "      <td>0</td>\n",
       "      <td>0</td>\n",
       "      <td>4026531840</td>\n",
       "      <td>systemd</td>\n",
       "      <td>ip-10-100-1-129</td>\n",
       "      <td>257</td>\n",
       "      <td>openat</td>\n",
       "      <td>[]</td>\n",
       "      <td>4</td>\n",
       "      <td>12</td>\n",
       "      <td>[{'name': 'dirfd', 'type': 'int', 'value': -10...</td>\n",
       "      <td>0</td>\n",
       "      <td>0</td>\n",
       "    </tr>\n",
       "    <tr>\n",
       "      <th>124.440037</th>\n",
       "      <td>1</td>\n",
       "      <td>1</td>\n",
       "      <td>0</td>\n",
       "      <td>0</td>\n",
       "      <td>4026531840</td>\n",
       "      <td>systemd</td>\n",
       "      <td>ip-10-100-1-129</td>\n",
       "      <td>5</td>\n",
       "      <td>fstat</td>\n",
       "      <td>[140074839307913]</td>\n",
       "      <td>2</td>\n",
       "      <td>0</td>\n",
       "      <td>[{'name': 'fd', 'type': 'int', 'value': 12}, {...</td>\n",
       "      <td>0</td>\n",
       "      <td>0</td>\n",
       "    </tr>\n",
       "    <tr>\n",
       "      <th>...</th>\n",
       "      <td>...</td>\n",
       "      <td>...</td>\n",
       "      <td>...</td>\n",
       "      <td>...</td>\n",
       "      <td>...</td>\n",
       "      <td>...</td>\n",
       "      <td>...</td>\n",
       "      <td>...</td>\n",
       "      <td>...</td>\n",
       "      <td>...</td>\n",
       "      <td>...</td>\n",
       "      <td>...</td>\n",
       "      <td>...</td>\n",
       "      <td>...</td>\n",
       "      <td>...</td>\n",
       "    </tr>\n",
       "    <tr>\n",
       "      <th>3954.587254</th>\n",
       "      <td>1</td>\n",
       "      <td>1</td>\n",
       "      <td>0</td>\n",
       "      <td>0</td>\n",
       "      <td>4026531840</td>\n",
       "      <td>systemd</td>\n",
       "      <td>ip-10-100-1-120</td>\n",
       "      <td>257</td>\n",
       "      <td>openat</td>\n",
       "      <td>[]</td>\n",
       "      <td>4</td>\n",
       "      <td>39</td>\n",
       "      <td>[{'name': 'dirfd', 'type': 'int', 'value': -10...</td>\n",
       "      <td>0</td>\n",
       "      <td>0</td>\n",
       "    </tr>\n",
       "    <tr>\n",
       "      <th>3954.587429</th>\n",
       "      <td>1</td>\n",
       "      <td>1</td>\n",
       "      <td>0</td>\n",
       "      <td>0</td>\n",
       "      <td>4026531840</td>\n",
       "      <td>systemd</td>\n",
       "      <td>ip-10-100-1-120</td>\n",
       "      <td>5</td>\n",
       "      <td>fstat</td>\n",
       "      <td>[]</td>\n",
       "      <td>2</td>\n",
       "      <td>0</td>\n",
       "      <td>[{'name': 'fd', 'type': 'int', 'value': 39}, {...</td>\n",
       "      <td>0</td>\n",
       "      <td>0</td>\n",
       "    </tr>\n",
       "    <tr>\n",
       "      <th>3954.587480</th>\n",
       "      <td>1</td>\n",
       "      <td>1</td>\n",
       "      <td>0</td>\n",
       "      <td>0</td>\n",
       "      <td>4026531840</td>\n",
       "      <td>systemd</td>\n",
       "      <td>ip-10-100-1-120</td>\n",
       "      <td>217</td>\n",
       "      <td>getdents64</td>\n",
       "      <td>[]</td>\n",
       "      <td>3</td>\n",
       "      <td>576</td>\n",
       "      <td>[{'name': 'fd', 'type': 'int', 'value': 39}, {...</td>\n",
       "      <td>0</td>\n",
       "      <td>0</td>\n",
       "    </tr>\n",
       "    <tr>\n",
       "      <th>3954.587526</th>\n",
       "      <td>1</td>\n",
       "      <td>1</td>\n",
       "      <td>0</td>\n",
       "      <td>0</td>\n",
       "      <td>4026531840</td>\n",
       "      <td>systemd</td>\n",
       "      <td>ip-10-100-1-120</td>\n",
       "      <td>217</td>\n",
       "      <td>getdents64</td>\n",
       "      <td>[]</td>\n",
       "      <td>3</td>\n",
       "      <td>0</td>\n",
       "      <td>[{'name': 'fd', 'type': 'int', 'value': 39}, {...</td>\n",
       "      <td>0</td>\n",
       "      <td>0</td>\n",
       "    </tr>\n",
       "    <tr>\n",
       "      <th>3954.587643</th>\n",
       "      <td>1</td>\n",
       "      <td>1</td>\n",
       "      <td>0</td>\n",
       "      <td>0</td>\n",
       "      <td>4026531840</td>\n",
       "      <td>systemd</td>\n",
       "      <td>ip-10-100-1-120</td>\n",
       "      <td>3</td>\n",
       "      <td>close</td>\n",
       "      <td>[]</td>\n",
       "      <td>1</td>\n",
       "      <td>0</td>\n",
       "      <td>[{'name': 'fd', 'type': 'int', 'value': 39}]</td>\n",
       "      <td>0</td>\n",
       "      <td>0</td>\n",
       "    </tr>\n",
       "  </tbody>\n",
       "</table>\n",
       "<p>1141078 rows × 15 columns</p>\n",
       "</div>"
      ],
      "text/plain": [
       "             processId  threadId  parentProcessId  userId  mountNamespace  \\\n",
       "timestamp                                                                   \n",
       "124.439221         381       381                1     101      4026532232   \n",
       "124.439751         378       378                1     100      4026532231   \n",
       "124.439958           1         1                0       0      4026531840   \n",
       "124.440007           1         1                0       0      4026531840   \n",
       "124.440037           1         1                0       0      4026531840   \n",
       "...                ...       ...              ...     ...             ...   \n",
       "3954.587254          1         1                0       0      4026531840   \n",
       "3954.587429          1         1                0       0      4026531840   \n",
       "3954.587480          1         1                0       0      4026531840   \n",
       "3954.587526          1         1                0       0      4026531840   \n",
       "3954.587643          1         1                0       0      4026531840   \n",
       "\n",
       "                 processName         hostName  eventId           eventName  \\\n",
       "timestamp                                                                    \n",
       "124.439221   systemd-resolve  ip-10-100-1-129       41              socket   \n",
       "124.439751   systemd-network  ip-10-100-1-129       41              socket   \n",
       "124.439958           systemd  ip-10-100-1-129     1005  security_file_open   \n",
       "124.440007           systemd  ip-10-100-1-129      257              openat   \n",
       "124.440037           systemd  ip-10-100-1-129        5               fstat   \n",
       "...                      ...              ...      ...                 ...   \n",
       "3954.587254          systemd  ip-10-100-1-120      257              openat   \n",
       "3954.587429          systemd  ip-10-100-1-120        5               fstat   \n",
       "3954.587480          systemd  ip-10-100-1-120      217          getdents64   \n",
       "3954.587526          systemd  ip-10-100-1-120      217          getdents64   \n",
       "3954.587643          systemd  ip-10-100-1-120        3               close   \n",
       "\n",
       "                                                stackAddresses  argsNum  \\\n",
       "timestamp                                                                 \n",
       "124.439221   [139913106282763, 139913103116537, 94901962555...        3   \n",
       "124.439751   [140343254628619, 93967981149065, 93967990898192]        3   \n",
       "124.439958              [140074839310116, 8103505641674583864]        4   \n",
       "124.440007                                                  []        4   \n",
       "124.440037                                   [140074839307913]        2   \n",
       "...                                                        ...      ...   \n",
       "3954.587254                                                 []        4   \n",
       "3954.587429                                                 []        2   \n",
       "3954.587480                                                 []        3   \n",
       "3954.587526                                                 []        3   \n",
       "3954.587643                                                 []        1   \n",
       "\n",
       "             returnValue                                               args  \\\n",
       "timestamp                                                                     \n",
       "124.439221            15  [{'name': 'domain', 'type': 'int', 'value': 'A...   \n",
       "124.439751            15  [{'name': 'domain', 'type': 'int', 'value': 'A...   \n",
       "124.439958             0  [{'name': 'pathname', 'type': 'const char*', '...   \n",
       "124.440007            12  [{'name': 'dirfd', 'type': 'int', 'value': -10...   \n",
       "124.440037             0  [{'name': 'fd', 'type': 'int', 'value': 12}, {...   \n",
       "...                  ...                                                ...   \n",
       "3954.587254           39  [{'name': 'dirfd', 'type': 'int', 'value': -10...   \n",
       "3954.587429            0  [{'name': 'fd', 'type': 'int', 'value': 39}, {...   \n",
       "3954.587480          576  [{'name': 'fd', 'type': 'int', 'value': 39}, {...   \n",
       "3954.587526            0  [{'name': 'fd', 'type': 'int', 'value': 39}, {...   \n",
       "3954.587643            0       [{'name': 'fd', 'type': 'int', 'value': 39}]   \n",
       "\n",
       "             sus  evil  \n",
       "timestamp               \n",
       "124.439221     0     0  \n",
       "124.439751     0     0  \n",
       "124.439958     0     0  \n",
       "124.440007     0     0  \n",
       "124.440037     0     0  \n",
       "...          ...   ...  \n",
       "3954.587254    0     0  \n",
       "3954.587429    0     0  \n",
       "3954.587480    0     0  \n",
       "3954.587526    0     0  \n",
       "3954.587643    0     0  \n",
       "\n",
       "[1141078 rows x 15 columns]"
      ]
     },
     "execution_count": 8,
     "metadata": {},
     "output_type": "execute_result"
    }
   ],
   "source": [
    "data"
   ]
  },
  {
   "cell_type": "code",
   "execution_count": 9,
   "metadata": {
    "id": "y4vPZyGRG2Rr"
   },
   "outputs": [],
   "source": [
    "data[\"processId\"] = data[\"processId\"].map(lambda x: 0 if x in [0, 1, 2] else 1)  # Map to OS/not OS\n",
    "data[\"parentProcessId\"] = data[\"parentProcessId\"].map(lambda x: 0 if x in [0, 1, 2] else 1)  # Map to OS/not OS\n",
    "data[\"userId\"] = data[\"userId\"].map(lambda x: 0 if x < 1000 else 1)  # Map to OS/not OS\n",
    "data[\"mountNamespace\"] = data[\"mountNamespace\"].map(lambda x: 0 if x == 4026531840 else 1)  # Map to mount access to mnt/ (all non-OS users) /elsewhere\n",
    "data[\"eventId\"] = data[\"eventId\"]  # Keep eventId values (requires knowing max value)\n",
    "data[\"returnValue\"] = data[\"returnValue\"].map(lambda x: 0 if x == 0 else (1 if x > 0 else 2))"
   ]
  },
  {
   "cell_type": "code",
   "execution_count": 10,
   "metadata": {
    "colab": {
     "base_uri": "https://localhost:8080/"
    },
    "id": "IyUGg22S7tw3",
    "outputId": "d7abca5f-cb50-40bc-dc41-c817528a4b89"
   },
   "outputs": [
    {
     "data": {
      "text/plain": [
       "array([  41, 1005,  257,    5,    3, 1006,   87, 1003,  114,  113,   42,\n",
       "         51,  288,   21, 1010,   49,    6,  217,    4,   56,   91,  157,\n",
       "         62,  292,   33,   59, 1004,  263,  166,   43,   32,  106,  105,\n",
       "         88,  165,   94,  133,  260,   90,  321,  319,   50,  269,  123,\n",
       "        122,    2], dtype=int64)"
      ]
     },
     "execution_count": 10,
     "metadata": {},
     "output_type": "execute_result"
    }
   ],
   "source": [
    "data[\"eventId\"].unique()"
   ]
  },
  {
   "cell_type": "code",
   "execution_count": 12,
   "metadata": {
    "id": "nZyT_24m5quh"
   },
   "outputs": [],
   "source": [
    " #from sklearn.preprocessing import MinMaxScaler"
   ]
  },
  {
   "cell_type": "code",
   "execution_count": 13,
   "metadata": {
    "id": "q4X6IPMK5rtD"
   },
   "outputs": [],
   "source": [
    "#scaler = MinMaxScaler(feature_range=(0,1))"
   ]
  },
  {
   "cell_type": "code",
   "execution_count": 14,
   "metadata": {
    "id": "PLqDdcLu8QjV"
   },
   "outputs": [],
   "source": [
    "#old_shape = data['eventId'].shape"
   ]
  },
  {
   "cell_type": "code",
   "execution_count": 15,
   "metadata": {
    "id": "ElN_2cOL5rqg"
   },
   "outputs": [],
   "source": [
    "#data['eventId'] = scaler.fit_transform(data['eventId'].to_numpy().reshape(-1,1)).reshape(old_shape)"
   ]
  },
  {
   "cell_type": "code",
   "execution_count": 16,
   "metadata": {
    "colab": {
     "base_uri": "https://localhost:8080/"
    },
    "id": "nXrSLp4B5rno",
    "outputId": "2ed4aa07-427f-407c-a2ed-25943fe60ce7"
   },
   "outputs": [],
   "source": [
    "#data['eventId'].unique()"
   ]
  },
  {
   "cell_type": "code",
   "execution_count": 11,
   "metadata": {
    "id": "L9Hu9fqCJXnQ"
   },
   "outputs": [],
   "source": [
    "dataset = data[['processId', 'parentProcessId','userId','mountNamespace','eventId','argsNum','returnValue', 'sus']]"
   ]
  },
  {
   "cell_type": "code",
   "execution_count": 12,
   "metadata": {
    "colab": {
     "base_uri": "https://localhost:8080/",
     "height": 455
    },
    "id": "9lcXaD4a4WgF",
    "outputId": "0ae38fec-6038-42d4-e926-55e9d1a51ba6"
   },
   "outputs": [
    {
     "data": {
      "text/html": [
       "<div>\n",
       "<style scoped>\n",
       "    .dataframe tbody tr th:only-of-type {\n",
       "        vertical-align: middle;\n",
       "    }\n",
       "\n",
       "    .dataframe tbody tr th {\n",
       "        vertical-align: top;\n",
       "    }\n",
       "\n",
       "    .dataframe thead th {\n",
       "        text-align: right;\n",
       "    }\n",
       "</style>\n",
       "<table border=\"1\" class=\"dataframe\">\n",
       "  <thead>\n",
       "    <tr style=\"text-align: right;\">\n",
       "      <th></th>\n",
       "      <th>processId</th>\n",
       "      <th>parentProcessId</th>\n",
       "      <th>userId</th>\n",
       "      <th>mountNamespace</th>\n",
       "      <th>eventId</th>\n",
       "      <th>argsNum</th>\n",
       "      <th>returnValue</th>\n",
       "      <th>sus</th>\n",
       "    </tr>\n",
       "    <tr>\n",
       "      <th>timestamp</th>\n",
       "      <th></th>\n",
       "      <th></th>\n",
       "      <th></th>\n",
       "      <th></th>\n",
       "      <th></th>\n",
       "      <th></th>\n",
       "      <th></th>\n",
       "      <th></th>\n",
       "    </tr>\n",
       "  </thead>\n",
       "  <tbody>\n",
       "    <tr>\n",
       "      <th>124.439221</th>\n",
       "      <td>1</td>\n",
       "      <td>0</td>\n",
       "      <td>0</td>\n",
       "      <td>1</td>\n",
       "      <td>41</td>\n",
       "      <td>3</td>\n",
       "      <td>1</td>\n",
       "      <td>0</td>\n",
       "    </tr>\n",
       "    <tr>\n",
       "      <th>124.439751</th>\n",
       "      <td>1</td>\n",
       "      <td>0</td>\n",
       "      <td>0</td>\n",
       "      <td>1</td>\n",
       "      <td>41</td>\n",
       "      <td>3</td>\n",
       "      <td>1</td>\n",
       "      <td>0</td>\n",
       "    </tr>\n",
       "    <tr>\n",
       "      <th>124.439958</th>\n",
       "      <td>0</td>\n",
       "      <td>0</td>\n",
       "      <td>0</td>\n",
       "      <td>0</td>\n",
       "      <td>1005</td>\n",
       "      <td>4</td>\n",
       "      <td>0</td>\n",
       "      <td>0</td>\n",
       "    </tr>\n",
       "    <tr>\n",
       "      <th>124.440007</th>\n",
       "      <td>0</td>\n",
       "      <td>0</td>\n",
       "      <td>0</td>\n",
       "      <td>0</td>\n",
       "      <td>257</td>\n",
       "      <td>4</td>\n",
       "      <td>1</td>\n",
       "      <td>0</td>\n",
       "    </tr>\n",
       "    <tr>\n",
       "      <th>124.440037</th>\n",
       "      <td>0</td>\n",
       "      <td>0</td>\n",
       "      <td>0</td>\n",
       "      <td>0</td>\n",
       "      <td>5</td>\n",
       "      <td>2</td>\n",
       "      <td>0</td>\n",
       "      <td>0</td>\n",
       "    </tr>\n",
       "    <tr>\n",
       "      <th>...</th>\n",
       "      <td>...</td>\n",
       "      <td>...</td>\n",
       "      <td>...</td>\n",
       "      <td>...</td>\n",
       "      <td>...</td>\n",
       "      <td>...</td>\n",
       "      <td>...</td>\n",
       "      <td>...</td>\n",
       "    </tr>\n",
       "    <tr>\n",
       "      <th>3954.587254</th>\n",
       "      <td>0</td>\n",
       "      <td>0</td>\n",
       "      <td>0</td>\n",
       "      <td>0</td>\n",
       "      <td>257</td>\n",
       "      <td>4</td>\n",
       "      <td>1</td>\n",
       "      <td>0</td>\n",
       "    </tr>\n",
       "    <tr>\n",
       "      <th>3954.587429</th>\n",
       "      <td>0</td>\n",
       "      <td>0</td>\n",
       "      <td>0</td>\n",
       "      <td>0</td>\n",
       "      <td>5</td>\n",
       "      <td>2</td>\n",
       "      <td>0</td>\n",
       "      <td>0</td>\n",
       "    </tr>\n",
       "    <tr>\n",
       "      <th>3954.587480</th>\n",
       "      <td>0</td>\n",
       "      <td>0</td>\n",
       "      <td>0</td>\n",
       "      <td>0</td>\n",
       "      <td>217</td>\n",
       "      <td>3</td>\n",
       "      <td>1</td>\n",
       "      <td>0</td>\n",
       "    </tr>\n",
       "    <tr>\n",
       "      <th>3954.587526</th>\n",
       "      <td>0</td>\n",
       "      <td>0</td>\n",
       "      <td>0</td>\n",
       "      <td>0</td>\n",
       "      <td>217</td>\n",
       "      <td>3</td>\n",
       "      <td>0</td>\n",
       "      <td>0</td>\n",
       "    </tr>\n",
       "    <tr>\n",
       "      <th>3954.587643</th>\n",
       "      <td>0</td>\n",
       "      <td>0</td>\n",
       "      <td>0</td>\n",
       "      <td>0</td>\n",
       "      <td>3</td>\n",
       "      <td>1</td>\n",
       "      <td>0</td>\n",
       "      <td>0</td>\n",
       "    </tr>\n",
       "  </tbody>\n",
       "</table>\n",
       "<p>1141078 rows × 8 columns</p>\n",
       "</div>"
      ],
      "text/plain": [
       "             processId  parentProcessId  userId  mountNamespace  eventId  \\\n",
       "timestamp                                                                  \n",
       "124.439221           1                0       0               1       41   \n",
       "124.439751           1                0       0               1       41   \n",
       "124.439958           0                0       0               0     1005   \n",
       "124.440007           0                0       0               0      257   \n",
       "124.440037           0                0       0               0        5   \n",
       "...                ...              ...     ...             ...      ...   \n",
       "3954.587254          0                0       0               0      257   \n",
       "3954.587429          0                0       0               0        5   \n",
       "3954.587480          0                0       0               0      217   \n",
       "3954.587526          0                0       0               0      217   \n",
       "3954.587643          0                0       0               0        3   \n",
       "\n",
       "             argsNum  returnValue  sus  \n",
       "timestamp                               \n",
       "124.439221         3            1    0  \n",
       "124.439751         3            1    0  \n",
       "124.439958         4            0    0  \n",
       "124.440007         4            1    0  \n",
       "124.440037         2            0    0  \n",
       "...              ...          ...  ...  \n",
       "3954.587254        4            1    0  \n",
       "3954.587429        2            0    0  \n",
       "3954.587480        3            1    0  \n",
       "3954.587526        3            0    0  \n",
       "3954.587643        1            0    0  \n",
       "\n",
       "[1141078 rows x 8 columns]"
      ]
     },
     "execution_count": 12,
     "metadata": {},
     "output_type": "execute_result"
    }
   ],
   "source": [
    "dataset"
   ]
  },
  {
   "cell_type": "code",
   "execution_count": 13,
   "metadata": {},
   "outputs": [
    {
     "data": {
      "text/plain": [
       "processId          0\n",
       "parentProcessId    0\n",
       "userId             0\n",
       "mountNamespace     0\n",
       "eventId            0\n",
       "argsNum            0\n",
       "returnValue        0\n",
       "sus                0\n",
       "dtype: int64"
      ]
     },
     "execution_count": 13,
     "metadata": {},
     "output_type": "execute_result"
    }
   ],
   "source": [
    "dataset.isna().sum()"
   ]
  },
  {
   "cell_type": "code",
   "execution_count": 14,
   "metadata": {
    "colab": {
     "base_uri": "https://localhost:8080/"
    },
    "id": "wpTYv2MNp9eF",
    "outputId": "23de55e3-488c-424c-f451-8accbbcf5161"
   },
   "outputs": [
    {
     "data": {
      "text/plain": [
       "sus\n",
       "0    967564\n",
       "1    173514\n",
       "Name: count, dtype: int64"
      ]
     },
     "execution_count": 14,
     "metadata": {},
     "output_type": "execute_result"
    }
   ],
   "source": [
    "dataset['sus'].value_counts()"
   ]
  },
  {
   "cell_type": "code",
   "execution_count": 15,
   "metadata": {
    "id": "YJurDyVX2i1q"
   },
   "outputs": [],
   "source": [
    "dataset = dataset.reset_index()"
   ]
  },
  {
   "cell_type": "code",
   "execution_count": 16,
   "metadata": {
    "colab": {
     "base_uri": "https://localhost:8080/",
     "height": 386
    },
    "id": "nlx9rKcIqJMm",
    "outputId": "10de4e1f-e49f-40e9-9042-7c9ffd159625"
   },
   "outputs": [
    {
     "name": "stderr",
     "output_type": "stream",
     "text": [
      "C:\\Users\\MORYBA.KOUATE\\AppData\\Local\\Temp\\ipykernel_20928\\434335537.py:2: FutureWarning: The default of observed=False is deprecated and will be changed to True in a future version of pandas. Pass observed=False to retain current behavior or observed=True to adopt the future default and silence this warning.\n",
      "  event_counts_notsus = dataset[dataset['sus']==0].groupby(bins).size()\n",
      "C:\\Users\\MORYBA.KOUATE\\AppData\\Local\\Temp\\ipykernel_20928\\434335537.py:3: FutureWarning: The default of observed=False is deprecated and will be changed to True in a future version of pandas. Pass observed=False to retain current behavior or observed=True to adopt the future default and silence this warning.\n",
      "  event_counts_sus = dataset[dataset['sus']==1].groupby(bins).size()\n"
     ]
    },
    {
     "data": {
      "image/png": "[encoded data removed]",
      "text/plain": [
       "<Figure size 1200x400 with 1 Axes>"
      ]
     },
     "metadata": {},
     "output_type": "display_data"
    }
   ],
   "source": [
    "bins = pd.cut(dataset['timestamp'], bins=10000)\n",
    "event_counts_notsus = dataset[dataset['sus']==0].groupby(bins).size()\n",
    "event_counts_sus = dataset[dataset['sus']==1].groupby(bins).size()\n",
    "event_counts_notsus.plot(kind='line', color='blue', label='Not Suspicious', figsize=(12, 4))\n",
    "event_counts_sus.plot(kind='line', color='red', label='Suspicious')\n",
    "plt.xlabel('Timestamp')\n",
    "plt.ylabel('Event Frequency')\n",
    "plt.title('Event Frequency')\n",
    "plt.xticks([])\n",
    "plt.legend()\n",
    "plt.show()"
   ]
  },
  {
   "cell_type": "code",
   "execution_count": 17,
   "metadata": {
    "id": "tCbOtkOBBNw7"
   },
   "outputs": [],
   "source": [
    "def merge_sequences(df):\n",
    "    return df.assign(\n",
    "        # create a new col called separator with only NaNs\n",
    "        separator=np.nan\n",
    "        # create a stack series and convert it back into a dataframe with the cxorrect formatting\n",
    "        ).stack(dropna=False).to_frame().reset_index(drop=True).rename({0: \"centroid\"}, axis=1)"
   ]
  },
  {
   "cell_type": "code",
   "execution_count": 18,
   "metadata": {
    "id": "i4QiH1TlBPwV"
   },
   "outputs": [
    {
     "name": "stderr",
     "output_type": "stream",
     "text": [
      "C:\\Users\\MORYBA.KOUATE\\AppData\\Local\\Temp\\ipykernel_20928\\1375280662.py:2: FutureWarning: The previous implementation of stack is deprecated and will be removed in a future version of pandas. See the What's New notes for pandas 2.1.0 for details. Specify future_stack=True to adopt the new implementation and silence this warning.\n",
      "  return df.assign(\n"
     ]
    }
   ],
   "source": [
    "sus = merge_sequences(dataset[dataset['sus']==1])"
   ]
  },
  {
   "cell_type": "code",
   "execution_count": 19,
   "metadata": {
    "id": "PthgPT-IBYur"
   },
   "outputs": [
    {
     "name": "stderr",
     "output_type": "stream",
     "text": [
      "C:\\Users\\MORYBA.KOUATE\\AppData\\Local\\Temp\\ipykernel_20928\\1375280662.py:2: FutureWarning: The previous implementation of stack is deprecated and will be removed in a future version of pandas. See the What's New notes for pandas 2.1.0 for details. Specify future_stack=True to adopt the new implementation and silence this warning.\n",
      "  return df.assign(\n"
     ]
    }
   ],
   "source": [
    "notsus = merge_sequences(dataset[dataset['sus']==0])"
   ]
  },
  {
   "cell_type": "code",
   "execution_count": 20,
   "metadata": {
    "id": "wEIjNeBvT082"
   },
   "outputs": [],
   "source": [
    "#fig, ax = plt.subplots(2,figsize=(24,8),sharex=True)\n",
    "#ax[0].set_title('OS')\n",
    "#ax[0].plot(OS)\n",
    "#ax[1].set_title('Not_OS')\n",
    "#ax[1].plot(Not_OS)"
   ]
  },
  {
   "cell_type": "code",
   "execution_count": 21,
   "metadata": {
    "colab": {
     "base_uri": "https://localhost:8080/",
     "height": 424
    },
    "id": "qBTh9otqFOt7",
    "outputId": "7d287e34-7003-469d-fb33-03f83c89a2be"
   },
   "outputs": [
    {
     "data": {
      "text/html": [
       "<div>\n",
       "<style scoped>\n",
       "    .dataframe tbody tr th:only-of-type {\n",
       "        vertical-align: middle;\n",
       "    }\n",
       "\n",
       "    .dataframe tbody tr th {\n",
       "        vertical-align: top;\n",
       "    }\n",
       "\n",
       "    .dataframe thead th {\n",
       "        text-align: right;\n",
       "    }\n",
       "</style>\n",
       "<table border=\"1\" class=\"dataframe\">\n",
       "  <thead>\n",
       "    <tr style=\"text-align: right;\">\n",
       "      <th></th>\n",
       "      <th>centroid</th>\n",
       "    </tr>\n",
       "  </thead>\n",
       "  <tbody>\n",
       "    <tr>\n",
       "      <th>0</th>\n",
       "      <td>128.548679</td>\n",
       "    </tr>\n",
       "    <tr>\n",
       "      <th>1</th>\n",
       "      <td>1.000000</td>\n",
       "    </tr>\n",
       "    <tr>\n",
       "      <th>2</th>\n",
       "      <td>1.000000</td>\n",
       "    </tr>\n",
       "    <tr>\n",
       "      <th>3</th>\n",
       "      <td>1.000000</td>\n",
       "    </tr>\n",
       "    <tr>\n",
       "      <th>4</th>\n",
       "      <td>0.000000</td>\n",
       "    </tr>\n",
       "    <tr>\n",
       "      <th>...</th>\n",
       "      <td>...</td>\n",
       "    </tr>\n",
       "    <tr>\n",
       "      <th>1735135</th>\n",
       "      <td>4.000000</td>\n",
       "    </tr>\n",
       "    <tr>\n",
       "      <th>1735136</th>\n",
       "      <td>2.000000</td>\n",
       "    </tr>\n",
       "    <tr>\n",
       "      <th>1735137</th>\n",
       "      <td>0.000000</td>\n",
       "    </tr>\n",
       "    <tr>\n",
       "      <th>1735138</th>\n",
       "      <td>1.000000</td>\n",
       "    </tr>\n",
       "    <tr>\n",
       "      <th>1735139</th>\n",
       "      <td>NaN</td>\n",
       "    </tr>\n",
       "  </tbody>\n",
       "</table>\n",
       "<p>1735140 rows × 1 columns</p>\n",
       "</div>"
      ],
      "text/plain": [
       "           centroid\n",
       "0        128.548679\n",
       "1          1.000000\n",
       "2          1.000000\n",
       "3          1.000000\n",
       "4          0.000000\n",
       "...             ...\n",
       "1735135    4.000000\n",
       "1735136    2.000000\n",
       "1735137    0.000000\n",
       "1735138    1.000000\n",
       "1735139         NaN\n",
       "\n",
       "[1735140 rows x 1 columns]"
      ]
     },
     "execution_count": 21,
     "metadata": {},
     "output_type": "execute_result"
    }
   ],
   "source": [
    "sus"
   ]
  },
  {
   "cell_type": "code",
   "execution_count": 22,
   "metadata": {},
   "outputs": [
    {
     "data": {
      "text/plain": [
       "centroid    173514\n",
       "dtype: int64"
      ]
     },
     "execution_count": 22,
     "metadata": {},
     "output_type": "execute_result"
    }
   ],
   "source": [
    "sus.isna().sum()"
   ]
  },
  {
   "cell_type": "code",
   "execution_count": 23,
   "metadata": {},
   "outputs": [],
   "source": [
    "sus['centroid'] = sus['centroid'].fillna(sus['centroid'].mean())"
   ]
  },
  {
   "cell_type": "code",
   "execution_count": 24,
   "metadata": {
    "colab": {
     "base_uri": "https://localhost:8080/",
     "height": 424
    },
    "id": "1pzcejKXEHLE",
    "outputId": "8439b7b1-542a-4ff4-c37b-e2ad66ab34c1"
   },
   "outputs": [
    {
     "data": {
      "text/plain": [
       "centroid    0\n",
       "dtype: int64"
      ]
     },
     "execution_count": 24,
     "metadata": {},
     "output_type": "execute_result"
    }
   ],
   "source": [
    "sus.isna().sum()"
   ]
  },
  {
   "cell_type": "code",
   "execution_count": 25,
   "metadata": {},
   "outputs": [
    {
     "data": {
      "text/plain": [
       "centroid    967564\n",
       "dtype: int64"
      ]
     },
     "execution_count": 25,
     "metadata": {},
     "output_type": "execute_result"
    }
   ],
   "source": [
    "notsus.isna().sum()"
   ]
  },
  {
   "cell_type": "code",
   "execution_count": 26,
   "metadata": {},
   "outputs": [],
   "source": [
    "notsus['centroid'] = notsus['centroid'].fillna(notsus['centroid'].mean())"
   ]
  },
  {
   "cell_type": "code",
   "execution_count": 27,
   "metadata": {},
   "outputs": [
    {
     "data": {
      "text/plain": [
       "centroid    0\n",
       "dtype: int64"
      ]
     },
     "execution_count": 27,
     "metadata": {},
     "output_type": "execute_result"
    }
   ],
   "source": [
    "notsus.isna().sum()"
   ]
  },
  {
   "cell_type": "code",
   "execution_count": 28,
   "metadata": {},
   "outputs": [
    {
     "data": {
      "text/plain": [
       "[<matplotlib.lines.Line2D at 0x282895e5f60>]"
      ]
     },
     "execution_count": 28,
     "metadata": {},
     "output_type": "execute_result"
    },
    {
     "data": {
      "image/png": "[encoded data removed]",
      "text/plain": [
       "<Figure size 2400x800 with 2 Axes>"
      ]
     },
     "metadata": {},
     "output_type": "display_data"
    }
   ],
   "source": [
    "fig, ax = plt.subplots(2,figsize=(24, 8), sharex=True)\n",
    "\n",
    "ax[0].set_title('sus')\n",
    "ax[0].plot(sus)\n",
    "\n",
    "ax[1].set_title('not_sus')\n",
    "ax[1].plot(notsus)"
   ]
  },
  {
   "cell_type": "code",
   "execution_count": null,
   "metadata": {},
   "outputs": [],
   "source": []
  },
  {
   "cell_type": "code",
   "execution_count": 29,
   "metadata": {
    "id": "DTuS3XAnUKnw"
   },
   "outputs": [],
   "source": [
    "m = 2000\n",
    "profile_sus_sus = stumpy.gpu_stump(sus['centroid'], m)[:, 0].astype(float)"
   ]
  },
  {
   "cell_type": "code",
   "execution_count": 30,
   "metadata": {
    "id": "33k82iZgOdPa"
   },
   "outputs": [],
   "source": [
    "profile_sus_notsus = stumpy.gpu_stump(sus['centroid'].astype(float), m, notsus['centroid'].astype(float), ignore_trivial=False)[:, 0].astype(float)"
   ]
  },
  {
   "cell_type": "code",
   "execution_count": 31,
   "metadata": {
    "id": "FTBKURjqSR1R"
   },
   "outputs": [],
   "source": [
    "import seaborn as sns"
   ]
  },
  {
   "cell_type": "code",
   "execution_count": 32,
   "metadata": {
    "colab": {
     "base_uri": "https://localhost:8080/",
     "height": 699
    },
    "id": "51_Jl0IMTPKd",
    "outputId": "de1e2522-b962-4a6a-b1d1-88beed645181"
   },
   "outputs": [
    {
     "name": "stderr",
     "output_type": "stream",
     "text": [
      "C:\\Users\\MORYBA.KOUATE\\.conda\\envs\\myenv\\lib\\site-packages\\seaborn\\_oldcore.py:1119: FutureWarning: use_inf_as_na option is deprecated and will be removed in a future version. Convert inf values to NaN before operating instead.\n",
      "  with pd.option_context('mode.use_inf_as_na', True):\n",
      "C:\\Users\\MORYBA.KOUATE\\.conda\\envs\\myenv\\lib\\site-packages\\seaborn\\_oldcore.py:1119: FutureWarning: use_inf_as_na option is deprecated and will be removed in a future version. Convert inf values to NaN before operating instead.\n",
      "  with pd.option_context('mode.use_inf_as_na', True):\n"
     ]
    },
    {
     "data": {
      "text/plain": [
       "<Axes: >"
      ]
     },
     "execution_count": 32,
     "metadata": {},
     "output_type": "execute_result"
    },
    {
     "data": {
      "image/png": "[encoded data removed]",
      "text/plain": [
       "<Figure size 2400x800 with 1 Axes>"
      ]
     },
     "metadata": {},
     "output_type": "display_data"
    }
   ],
   "source": [
    "fig, ax = plt.subplots(figsize=(24,8))\n",
    "sns.lineplot(data={'Sus-Sus-self':profile_sus_sus,'profile_Sus_NotSus':profile_sus_notsus}, ax=ax)"
   ]
  },
  {
   "cell_type": "code",
   "execution_count": 33,
   "metadata": {
    "id": "HBA0ANxdUYFD"
   },
   "outputs": [],
   "source": [
    "profile_diff = profile_sus_notsus - profile_sus_sus"
   ]
  },
  {
   "cell_type": "code",
   "execution_count": 34,
   "metadata": {
    "colab": {
     "base_uri": "https://localhost:8080/"
    },
    "id": "7_Hbh8fSUmpI",
    "outputId": "c0876809-e846-4a4b-b8d5-c8ee8ed6bca9"
   },
   "outputs": [
    {
     "data": {
      "text/plain": [
       "array([ 0.41207526,  0.41194446,  0.41194446, ..., -0.28068149,\n",
       "       -0.28068149, -0.28068149])"
      ]
     },
     "execution_count": 34,
     "metadata": {},
     "output_type": "execute_result"
    }
   ],
   "source": [
    "profile_diff"
   ]
  },
  {
   "cell_type": "code",
   "execution_count": 35,
   "metadata": {
    "id": "NPL4_RTRUozw"
   },
   "outputs": [],
   "source": [
    "worst_matches = np.argpartition(profile_diff,-10)[-10:]"
   ]
  },
  {
   "cell_type": "code",
   "execution_count": 36,
   "metadata": {
    "colab": {
     "base_uri": "https://localhost:8080/"
    },
    "id": "8uMjf56FVuP8",
    "outputId": "343e1ae6-3537-4d00-ad92-11223e75f0d6"
   },
   "outputs": [
    {
     "data": {
      "text/plain": [
       "array([3231, 3233, 3232, 3234, 3235, 3230, 3229, 3226, 3228, 3227],\n",
       "      dtype=int64)"
      ]
     },
     "execution_count": 36,
     "metadata": {},
     "output_type": "execute_result"
    }
   ],
   "source": [
    "worst_matches"
   ]
  },
  {
   "cell_type": "code",
   "execution_count": 37,
   "metadata": {
    "id": "pPPU4fQWbbhA"
   },
   "outputs": [],
   "source": [
    "sus_shapelets = []\n",
    "notsus_shapelets = []\n",
    "\n",
    "for idx in worst_matches:\n",
    "    sus_shapelet = sus['centroid'][idx:idx+m]    \n",
    "    sus_shapelets.append(sus_shapelet)"
   ]
  },
  {
   "cell_type": "markdown",
   "metadata": {
    "id": "h5epnRpxb9Yl"
   },
   "source": [
    "# Building a Shapelet Based Model"
   ]
  },
  {
   "cell_type": "code",
   "execution_count": 38,
   "metadata": {
    "id": "VtoPqwPNFxtD"
   },
   "outputs": [],
   "source": [
    "from sklearn.model_selection import train_test_split"
   ]
  },
  {
   "cell_type": "code",
   "execution_count": 39,
   "metadata": {
    "colab": {
     "base_uri": "https://localhost:8080/",
     "height": 1000
    },
    "id": "9NGxJshOcCLt",
    "outputId": "3e29fac1-927d-40b0-af2e-4418d6ffb434"
   },
   "outputs": [
    {
     "data": {
      "text/plain": [
       "(1141078, 9)"
      ]
     },
     "execution_count": 39,
     "metadata": {},
     "output_type": "execute_result"
    }
   ],
   "source": [
    "dataset.shape"
   ]
  },
  {
   "cell_type": "code",
   "execution_count": 40,
   "metadata": {},
   "outputs": [],
   "source": [
    "#dataset = dataset.head(200000)"
   ]
  },
  {
   "cell_type": "code",
   "execution_count": 41,
   "metadata": {},
   "outputs": [],
   "source": [
    "X = dataset[[\"processId\", \"parentProcessId\", \"userId\", \"mountNamespace\", \"eventId\", \"argsNum\", \"returnValue\"]]"
   ]
  },
  {
   "cell_type": "code",
   "execution_count": 42,
   "metadata": {},
   "outputs": [],
   "source": [
    "y = dataset['sus']"
   ]
  },
  {
   "cell_type": "code",
   "execution_count": 43,
   "metadata": {},
   "outputs": [],
   "source": [
    "X_train, X_test, y_train, y_test = train_test_split(X, y, test_size=0.33, random_state=42)"
   ]
  },
  {
   "cell_type": "code",
   "execution_count": 44,
   "metadata": {},
   "outputs": [],
   "source": [
    "def get_shapelet_distance(shapelet, train):\n",
    "    X = []\n",
    "    for s, sample in enumerate(train):\n",
    "        D = stumpy.mass(shapelet, sample)\n",
    "        X.append(D.min())\n",
    "    \n",
    "    return np.array(X).reshape(-1,1)"
   ]
  },
  {
   "cell_type": "code",
   "execution_count": 45,
   "metadata": {},
   "outputs": [
    {
     "data": {
      "text/plain": [
       "(764522, 7)"
      ]
     },
     "execution_count": 45,
     "metadata": {},
     "output_type": "execute_result"
    }
   ],
   "source": [
    "X_train.values.astype('float64').shape"
   ]
  },
  {
   "cell_type": "code",
   "execution_count": 46,
   "metadata": {},
   "outputs": [],
   "source": [
    "sus_shapelet = sus_shapelet.head(7)"
   ]
  },
  {
   "cell_type": "code",
   "execution_count": 47,
   "metadata": {},
   "outputs": [
    {
     "data": {
      "text/plain": [
       "array([  2.       ,   1.       ,  60.3130387, 133.683038 ,   1.       ,\n",
       "         0.       ,   1.       ])"
      ]
     },
     "execution_count": 47,
     "metadata": {},
     "output_type": "execute_result"
    }
   ],
   "source": [
    "sus_shapelet.values"
   ]
  },
  {
   "cell_type": "code",
   "execution_count": 48,
   "metadata": {},
   "outputs": [],
   "source": [
    "reference_shapelet = sus_shapelet.values"
   ]
  },
  {
   "cell_type": "code",
   "execution_count": 49,
   "metadata": {},
   "outputs": [],
   "source": [
    "X_train_dist = get_shapelet_distance(reference_shapelet, X_train.values.astype('float64'))"
   ]
  },
  {
   "cell_type": "code",
   "execution_count": 50,
   "metadata": {
    "id": "pEoeuURKiQp8"
   },
   "outputs": [],
   "source": [
    "X_test_dist = get_shapelet_distance(reference_shapelet, X_test.values.astype('float64'))"
   ]
  },
  {
   "cell_type": "code",
   "execution_count": 51,
   "metadata": {},
   "outputs": [],
   "source": [
    "from sklearn.tree import DecisionTreeClassifier"
   ]
  },
  {
   "cell_type": "code",
   "execution_count": 52,
   "metadata": {},
   "outputs": [
    {
     "data": {
      "text/html": [
       "<style>#sk-container-id-1 {color: black;}#sk-container-id-1 pre{padding: 0;}#sk-container-id-1 div.sk-toggleable {background-color: white;}#sk-container-id-1 label.sk-toggleable__label {cursor: pointer;display: block;width: 100%;margin-bottom: 0;padding: 0.3em;box-sizing: border-box;text-align: center;}#sk-container-id-1 label.sk-toggleable__label-arrow:before {content: \"▸\";float: left;margin-right: 0.25em;color: #696969;}#sk-container-id-1 label.sk-toggleable__label-arrow:hover:before {color: black;}#sk-container-id-1 div.sk-estimator:hover label.sk-toggleable__label-arrow:before {color: black;}#sk-container-id-1 div.sk-toggleable__content {max-height: 0;max-width: 0;overflow: hidden;text-align: left;background-color: #f0f8ff;}#sk-container-id-1 div.sk-toggleable__content pre {margin: 0.2em;color: black;border-radius: 0.25em;background-color: #f0f8ff;}#sk-container-id-1 input.sk-toggleable__control:checked~div.sk-toggleable__content {max-height: 200px;max-width: 100%;overflow: auto;}#sk-container-id-1 input.sk-toggleable__control:checked~label.sk-toggleable__label-arrow:before {content: \"▾\";}#sk-container-id-1 div.sk-estimator input.sk-toggleable__control:checked~label.sk-toggleable__label {background-color: #d4ebff;}#sk-container-id-1 div.sk-label input.sk-toggleable__control:checked~label.sk-toggleable__label {background-color: #d4ebff;}#sk-container-id-1 input.sk-hidden--visually {border: 0;clip: rect(1px 1px 1px 1px);clip: rect(1px, 1px, 1px, 1px);height: 1px;margin: -1px;overflow: hidden;padding: 0;position: absolute;width: 1px;}#sk-container-id-1 div.sk-estimator {font-family: monospace;background-color: #f0f8ff;border: 1px dotted black;border-radius: 0.25em;box-sizing: border-box;margin-bottom: 0.5em;}#sk-container-id-1 div.sk-estimator:hover {background-color: #d4ebff;}#sk-container-id-1 div.sk-parallel-item::after {content: \"\";width: 100%;border-bottom: 1px solid gray;flex-grow: 1;}#sk-container-id-1 div.sk-label:hover label.sk-toggleable__label {background-color: #d4ebff;}#sk-container-id-1 div.sk-serial::before {content: \"\";position: absolute;border-left: 1px solid gray;box-sizing: border-box;top: 0;bottom: 0;left: 50%;z-index: 0;}#sk-container-id-1 div.sk-serial {display: flex;flex-direction: column;align-items: center;background-color: white;padding-right: 0.2em;padding-left: 0.2em;position: relative;}#sk-container-id-1 div.sk-item {position: relative;z-index: 1;}#sk-container-id-1 div.sk-parallel {display: flex;align-items: stretch;justify-content: center;background-color: white;position: relative;}#sk-container-id-1 div.sk-item::before, #sk-container-id-1 div.sk-parallel-item::before {content: \"\";position: absolute;border-left: 1px solid gray;box-sizing: border-box;top: 0;bottom: 0;left: 50%;z-index: -1;}#sk-container-id-1 div.sk-parallel-item {display: flex;flex-direction: column;z-index: 1;position: relative;background-color: white;}#sk-container-id-1 div.sk-parallel-item:first-child::after {align-self: flex-end;width: 50%;}#sk-container-id-1 div.sk-parallel-item:last-child::after {align-self: flex-start;width: 50%;}#sk-container-id-1 div.sk-parallel-item:only-child::after {width: 0;}#sk-container-id-1 div.sk-dashed-wrapped {border: 1px dashed gray;margin: 0 0.4em 0.5em 0.4em;box-sizing: border-box;padding-bottom: 0.4em;background-color: white;}#sk-container-id-1 div.sk-label label {font-family: monospace;font-weight: bold;display: inline-block;line-height: 1.2em;}#sk-container-id-1 div.sk-label-container {text-align: center;}#sk-container-id-1 div.sk-container {/* jupyter's `normalize.less` sets `[hidden] { display: none; }` but bootstrap.min.css set `[hidden] { display: none !important; }` so we also need the `!important` here to be able to override the default hidden behavior on the sphinx rendered scikit-learn.org. See: https://github.com/scikit-learn/scikit-learn/issues/21755 */display: inline-block !important;position: relative;}#sk-container-id-1 div.sk-text-repr-fallback {display: none;}</style><div id=\"sk-container-id-1\" class=\"sk-top-container\"><div class=\"sk-text-repr-fallback\"><pre>DecisionTreeClassifier()</pre><b>In a Jupyter environment, please rerun this cell to show the HTML representation or trust the notebook. <br />On GitHub, the HTML representation is unable to render, please try loading this page with nbviewer.org.</b></div><div class=\"sk-container\" hidden><div class=\"sk-item\"><div class=\"sk-estimator sk-toggleable\"><input class=\"sk-toggleable__control sk-hidden--visually\" id=\"sk-estimator-id-1\" type=\"checkbox\" checked><label for=\"sk-estimator-id-1\" class=\"sk-toggleable__label sk-toggleable__label-arrow\">DecisionTreeClassifier</label><div class=\"sk-toggleable__content\"><pre>DecisionTreeClassifier()</pre></div></div></div></div></div>"
      ],
      "text/plain": [
       "DecisionTreeClassifier()"
      ]
     },
     "execution_count": 52,
     "metadata": {},
     "output_type": "execute_result"
    }
   ],
   "source": [
    "model = DecisionTreeClassifier()\n",
    "\n",
    "model.fit(X_train_dist, y_train)"
   ]
  },
  {
   "cell_type": "code",
   "execution_count": 53,
   "metadata": {},
   "outputs": [],
   "source": [
    "from sklearn.metrics import accuracy_score"
   ]
  },
  {
   "cell_type": "code",
   "execution_count": 54,
   "metadata": {},
   "outputs": [
    {
     "data": {
      "text/plain": [
       "0.9910478122775895"
      ]
     },
     "execution_count": 54,
     "metadata": {},
     "output_type": "execute_result"
    }
   ],
   "source": [
    "y_pred = model.predict(X_test_dist)\n",
    "accuracy = accuracy_score(y_test, y_pred)\n",
    "\n",
    "accuracy"
   ]
  },
  {
   "cell_type": "markdown",
   "metadata": {},
   "source": [
    "# Long Short Term Memory Network"
   ]
  },
  {
   "cell_type": "code",
   "execution_count": 55,
   "metadata": {},
   "outputs": [],
   "source": [
    "from sklearn.model_selection import StratifiedShuffleSplit\n",
    "from sklearn.metrics import classification_report, roc_auc_score, roc_curve, confusion_matrix, ConfusionMatrixDisplay\n",
    "from sklearn.preprocessing import LabelEncoder, OrdinalEncoder\n",
    "\n",
    "import tensorflow as tf\n",
    "from keras.layers import Flatten, Dense, Input, Dropout, Conv1D, BatchNormalization, MaxPooling1D, Flatten, LSTM, Bidirectional, Embedding, Concatenate, Reshape\n",
    "from keras.models import Model, Sequential\n",
    "from keras.optimizers import Adam, SGD, RMSprop, Adamax"
   ]
  },
  {
   "cell_type": "code",
   "execution_count": 56,
   "metadata": {},
   "outputs": [
    {
     "name": "stdout",
     "output_type": "stream",
     "text": [
      "Model: \"sequential\"\n",
      "_________________________________________________________________\n",
      " Layer (type)                Output Shape              Param #   \n",
      "=================================================================\n",
      " lstm (LSTM)                 (None, 1, 32)             4352      \n",
      "                                                                 \n",
      " dropout (Dropout)           (None, 1, 32)             0         \n",
      "                                                                 \n",
      " lstm_1 (LSTM)               (None, 1, 32)             8320      \n",
      "                                                                 \n",
      " dropout_1 (Dropout)         (None, 1, 32)             0         \n",
      "                                                                 \n",
      " lstm_2 (LSTM)               (None, 1, 32)             8320      \n",
      "                                                                 \n",
      " dropout_2 (Dropout)         (None, 1, 32)             0         \n",
      "                                                                 \n",
      " lstm_3 (LSTM)               (None, 1, 32)             8320      \n",
      "                                                                 \n",
      " dropout_3 (Dropout)         (None, 1, 32)             0         \n",
      "                                                                 \n",
      " flatten (Flatten)           (None, 32)                0         \n",
      "                                                                 \n",
      " dense (Dense)               (None, 128)               4224      \n",
      "                                                                 \n",
      " dense_1 (Dense)             (None, 1)                 129       \n",
      "                                                                 \n",
      "=================================================================\n",
      "Total params: 33,665\n",
      "Trainable params: 33,665\n",
      "Non-trainable params: 0\n",
      "_________________________________________________________________\n"
     ]
    }
   ],
   "source": [
    "random_normal_initializer = tf.keras.initializers.RandomNormal(mean=0.1, stddev=0.1, seed=51)\n",
    "model1 = Sequential([\n",
    "  LSTM(32, input_shape=(1, 1), activation='relu', kernel_initializer='lecun_normal',\n",
    "       bias_initializer=random_normal_initializer, return_sequences=True),\n",
    "  Dropout(0.2),\n",
    "  LSTM(32, activation='relu', kernel_initializer='lecun_normal',\n",
    "       bias_initializer=random_normal_initializer, return_sequences=True),\n",
    "  Dropout(0.2),\n",
    "  LSTM(32, activation='relu', kernel_initializer='lecun_normal',\n",
    "       bias_initializer=random_normal_initializer, return_sequences=True),\n",
    "  Dropout(0.2),\n",
    "  LSTM(32, activation='relu', kernel_initializer='lecun_normal',\n",
    "       bias_initializer=random_normal_initializer, return_sequences=True),\n",
    "  Dropout(0.2),\n",
    "  Flatten(),\n",
    "  Dense(units=128, activation='relu', kernel_initializer='lecun_normal', bias_initializer=random_normal_initializer),\n",
    "  Dense(units=1, activation='sigmoid', kernel_initializer='lecun_normal', bias_initializer=random_normal_initializer)\n",
    "])\n",
    "\n",
    "model1.summary()"
   ]
  },
  {
   "cell_type": "code",
   "execution_count": 57,
   "metadata": {},
   "outputs": [],
   "source": [
    "train_ratio = 0.75\n",
    "validation_ratio = 0.15\n",
    "test_ratio = 0.10"
   ]
  },
  {
   "cell_type": "code",
   "execution_count": 58,
   "metadata": {},
   "outputs": [],
   "source": [
    "X_train, X_test, y_train, y_test = train_test_split(X, y, test_size=1 - train_ratio)"
   ]
  },
  {
   "cell_type": "code",
   "execution_count": 59,
   "metadata": {},
   "outputs": [],
   "source": [
    "X_val, X_test, y_val, y_test = train_test_split(X_test, y_test, test_size=test_ratio/(test_ratio + validation_ratio)) "
   ]
  },
  {
   "cell_type": "code",
   "execution_count": 60,
   "metadata": {},
   "outputs": [],
   "source": [
    "X_train_distLSTM = get_shapelet_distance(reference_shapelet, X_train.values.astype('float64'))"
   ]
  },
  {
   "cell_type": "code",
   "execution_count": 61,
   "metadata": {},
   "outputs": [],
   "source": [
    "X_test_distLSTM   = get_shapelet_distance(reference_shapelet, X_test.values.astype('float64'))"
   ]
  },
  {
   "cell_type": "code",
   "execution_count": 62,
   "metadata": {},
   "outputs": [],
   "source": [
    "X_val_distLSTM  = get_shapelet_distance(reference_shapelet, X_val.values.astype('float64'))"
   ]
  },
  {
   "cell_type": "code",
   "execution_count": 63,
   "metadata": {},
   "outputs": [
    {
     "name": "stdout",
     "output_type": "stream",
     "text": [
      "Epoch 1/100\n",
      "86/86 [==============================] - 75s 795ms/step - loss: 0.4731 - accuracy: 0.8337 - val_loss: 0.4289 - val_accuracy: 0.8489\n",
      "Epoch 2/100\n",
      "86/86 [==============================] - 69s 800ms/step - loss: 0.4271 - accuracy: 0.8481 - val_loss: 0.4274 - val_accuracy: 0.8489\n",
      "Epoch 3/100\n",
      "86/86 [==============================] - 68s 796ms/step - loss: 0.4266 - accuracy: 0.8481 - val_loss: 0.4269 - val_accuracy: 0.8489\n",
      "Epoch 4/100\n",
      "86/86 [==============================] - 67s 782ms/step - loss: 0.4262 - accuracy: 0.8481 - val_loss: 0.4260 - val_accuracy: 0.8489\n",
      "Epoch 5/100\n",
      "86/86 [==============================] - 69s 802ms/step - loss: 0.4260 - accuracy: 0.8481 - val_loss: 0.4257 - val_accuracy: 0.8489\n",
      "Epoch 6/100\n",
      "86/86 [==============================] - 68s 794ms/step - loss: 0.4259 - accuracy: 0.8481 - val_loss: 0.4258 - val_accuracy: 0.8489\n"
     ]
    }
   ],
   "source": [
    "model1.compile(optimizer=Adam(learning_rate=0.001), loss='binary_crossentropy', metrics=['accuracy'])\n",
    "callback = tf.keras.callbacks.EarlyStopping(monitor='val_accuracy', patience=5, restore_best_weights=False)\n",
    "history1 = model1.fit(X_train_distLSTM,y_train, validation_data=(X_val_distLSTM, y_val), epochs=100, verbose=1, batch_size=10000,callbacks=[callback])"
   ]
  },
  {
   "cell_type": "code",
   "execution_count": 64,
   "metadata": {},
   "outputs": [
    {
     "name": "stdout",
     "output_type": "stream",
     "text": [
      "3566/3566 [==============================] - 15s 4ms/step - loss: 0.4308 - accuracy: 0.8457\n",
      "Accuracy of model1: 84.6%\n"
     ]
    }
   ],
   "source": [
    "# Model evaluation\n",
    "accuracy1 = model1.evaluate(X_test_distLSTM,y_test)\n",
    "print(f\"Accuracy of model1: {(100*accuracy1[1]):.1f}%\")"
   ]
  },
  {
   "cell_type": "code",
   "execution_count": 66,
   "metadata": {},
   "outputs": [],
   "source": [
    "def plot_training(history):\n",
    "    training_accuracy = history.history['accuracy']\n",
    "    validation_accuracy = history.history['val_accuracy']\n",
    "\n",
    "    # Get the training and validation loss\n",
    "    training_loss = history.history['loss']\n",
    "    validation_loss = history.history['val_loss']\n",
    "\n",
    "    # Plot the accuracy\n",
    "    plt.figure(figsize=(8, 4))\n",
    "    plt.plot(training_accuracy, label='Training Accuracy')\n",
    "    plt.plot(validation_accuracy, label='Validation Accuracy')\n",
    "    plt.xlabel('Epochs')\n",
    "    plt.ylabel('Accuracy')\n",
    "    plt.title('Training and Validation Accuracy')\n",
    "    plt.legend()\n",
    "    plt.show()\n",
    "\n",
    "    # Plot the loss\n",
    "    plt.figure(figsize=(8, 4))\n",
    "    plt.plot(training_loss, label='Training Loss')\n",
    "    plt.plot(validation_loss, label='Validation Loss')\n",
    "    plt.xlabel('Epochs')\n",
    "    plt.ylabel('Loss')\n",
    "    plt.title('Training and Validation Loss')\n",
    "    plt.legend()\n",
    "    return(plt)"
   ]
  },
  {
   "cell_type": "code",
   "execution_count": 67,
   "metadata": {},
   "outputs": [
    {
     "data": {
      "image/png": "[encoded data removed]",
      "text/plain": [
       "<Figure size 800x400 with 1 Axes>"
      ]
     },
     "metadata": {},
     "output_type": "display_data"
    },
    {
     "data": {
      "image/png": "[encoded data removed]",
      "text/plain": [
       "<Figure size 800x400 with 1 Axes>"
      ]
     },
     "metadata": {},
     "output_type": "display_data"
    }
   ],
   "source": [
    "plot_training(history1);"
   ]
  },
  {
   "cell_type": "code",
   "execution_count": null,
   "metadata": {},
   "outputs": [],
   "source": []
  },
  {
   "cell_type": "markdown",
   "metadata": {},
   "source": [
    "# Dense Model"
   ]
  },
  {
   "cell_type": "code",
   "execution_count": 68,
   "metadata": {},
   "outputs": [
    {
     "name": "stdout",
     "output_type": "stream",
     "text": [
      "Model: \"sequential_1\"\n",
      "_________________________________________________________________\n",
      " Layer (type)                Output Shape              Param #   \n",
      "=================================================================\n",
      " dense_2 (Dense)             (None, 512)               1024      \n",
      "                                                                 \n",
      " dropout_4 (Dropout)         (None, 512)               0         \n",
      "                                                                 \n",
      " dense_3 (Dense)             (None, 256)               131328    \n",
      "                                                                 \n",
      " dropout_5 (Dropout)         (None, 256)               0         \n",
      "                                                                 \n",
      " dense_4 (Dense)             (None, 128)               32896     \n",
      "                                                                 \n",
      " dropout_6 (Dropout)         (None, 128)               0         \n",
      "                                                                 \n",
      " dense_5 (Dense)             (None, 64)                8256      \n",
      "                                                                 \n",
      " dropout_7 (Dropout)         (None, 64)                0         \n",
      "                                                                 \n",
      " dense_6 (Dense)             (None, 32)                2080      \n",
      "                                                                 \n",
      " dense_7 (Dense)             (None, 1)                 33        \n",
      "                                                                 \n",
      "=================================================================\n",
      "Total params: 175,617\n",
      "Trainable params: 175,617\n",
      "Non-trainable params: 0\n",
      "_________________________________________________________________\n"
     ]
    }
   ],
   "source": [
    "random_normal_initializer = tf.keras.initializers.RandomNormal(mean=0, stddev=0.0001, seed=51)\n",
    "model1 = Sequential([\n",
    "  Input(shape=(X_train_distLSTM.shape[1],)),\n",
    "  Dense(units=512, activation='relu', kernel_initializer='lecun_normal', bias_initializer=random_normal_initializer),\n",
    "  Dropout(0.4),\n",
    "  Dense(units=256, activation='relu', kernel_initializer='lecun_normal', bias_initializer=random_normal_initializer),\n",
    "  Dropout(0.1),\n",
    "  Dense(units=128, activation='relu', kernel_initializer='lecun_normal', bias_initializer=random_normal_initializer),\n",
    "  Dropout(0.1),\n",
    "  Dense(units=64, activation='relu', kernel_initializer='lecun_normal', bias_initializer=random_normal_initializer),\n",
    "  Dropout(0.1),\n",
    "  Dense(units=32, activation='relu', kernel_initializer='lecun_normal', bias_initializer=random_normal_initializer),\n",
    "  Dense(units=1, activation='sigmoid', kernel_initializer='lecun_normal', bias_initializer=random_normal_initializer)\n",
    "])\n",
    "\n",
    "model1.summary()"
   ]
  },
  {
   "cell_type": "code",
   "execution_count": 69,
   "metadata": {},
   "outputs": [
    {
     "name": "stdout",
     "output_type": "stream",
     "text": [
      "Epoch 1/100\n",
      "8559/8559 [==============================] - 70s 8ms/step - loss: 0.4279 - accuracy: 0.8480 - val_loss: 0.4247 - val_accuracy: 0.8489\n",
      "Epoch 2/100\n",
      "8559/8559 [==============================] - 81s 9ms/step - loss: 0.4261 - accuracy: 0.8481 - val_loss: 0.4247 - val_accuracy: 0.8489\n",
      "Epoch 3/100\n",
      "8559/8559 [==============================] - 84s 10ms/step - loss: 0.4261 - accuracy: 0.8480 - val_loss: 0.4247 - val_accuracy: 0.8489\n",
      "Epoch 4/100\n",
      "8559/8559 [==============================] - 80s 9ms/step - loss: 0.4261 - accuracy: 0.8481 - val_loss: 0.4247 - val_accuracy: 0.8489\n",
      "Epoch 5/100\n",
      "8559/8559 [==============================] - 75s 9ms/step - loss: 0.4261 - accuracy: 0.8481 - val_loss: 0.4247 - val_accuracy: 0.8489\n",
      "Epoch 6/100\n",
      "8559/8559 [==============================] - 55s 6ms/step - loss: 0.4261 - accuracy: 0.8481 - val_loss: 0.4247 - val_accuracy: 0.8489\n",
      "3566/3566 [==============================] - 7s 2ms/step - loss: 0.4301 - accuracy: 0.8457\n",
      "Accuracy of model1: 84.6%\n"
     ]
    }
   ],
   "source": [
    "model1.compile(optimizer=Adam(learning_rate=0.003), loss='binary_crossentropy', metrics=['accuracy'])\n",
    "callback = tf.keras.callbacks.EarlyStopping(monitor='val_accuracy', patience=5, restore_best_weights=False)\n",
    "history2 = model1.fit(X_train_distLSTM,y_train, validation_data=(X_val_distLSTM, y_val), epochs=100, verbose=1, batch_size=100,\n",
    "                      callbacks=[callback])\n",
    "\n",
    "\n",
    "# Model evaluation\n",
    "accuracy1 = model1.evaluate(X_test_distLSTM,y_test)\n",
    "print(f\"Accuracy of model1: {(100*accuracy1[1]):.1f}%\")"
   ]
  },
  {
   "cell_type": "code",
   "execution_count": 70,
   "metadata": {},
   "outputs": [
    {
     "data": {
      "image/png": "[encoded data removed]",
      "text/plain": [
       "<Figure size 800x400 with 1 Axes>"
      ]
     },
     "metadata": {},
     "output_type": "display_data"
    },
    {
     "data": {
      "image/png": "[encoded data removed]",
      "text/plain": [
       "<Figure size 800x400 with 1 Axes>"
      ]
     },
     "metadata": {},
     "output_type": "display_data"
    }
   ],
   "source": [
    "plot_training(history2);"
   ]
  },
  {
   "cell_type": "code",
   "execution_count": null,
   "metadata": {},
   "outputs": [],
   "source": []
  }
 ],
 "metadata": {
  "colab": {
   "provenance": []
  },
  "kernelspec": {
   "display_name": "Python 3 (ipykernel)",
   "language": "python",
   "name": "python3"
  },
  "language_info": {
   "codemirror_mode": {
    "name": "ipython",
    "version": 3
   },
   "file_extension": ".py",
   "mimetype": "text/x-python",
   "name": "python",
   "nbconvert_exporter": "python",
   "pygments_lexer": "ipython3",
   "version": "3.10.13"
  }
 },
 "nbformat": 4,
 "nbformat_minor": 4
}
