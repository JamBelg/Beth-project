{
 "cells": [
  {
   "cell_type": "markdown",
   "metadata": {
    "id": "c8-65vkFEhkW"
   },
   "source": [
    "# Shapelet Discovery"
   ]
  },
  {
   "cell_type": "code",
   "execution_count": 123,
   "metadata": {
    "id": "5cMC0D8Pj2B_"
   },
   "outputs": [],
   "source": [
    "import numpy as np\n",
    "import pandas as pd\n",
    "import seaborn as sns\n",
    "import matplotlib.pyplot as plt\n",
    "import time\n",
    "import stumpy\n",
    "import os\n",
    "os.environ[\"NUMBA_NUM_THREADS\"] = \"24\"\n",
    "os.environ[\"OMP_NUM_THREADS\"]=\"24\""
   ]
  },
  {
   "cell_type": "code",
   "execution_count": 124,
   "metadata": {},
   "outputs": [],
   "source": [
    "#short_ts = np.random.rand(2**12)\n",
    "#long_ts = np.random.rand(2**20) "
   ]
  },
  {
   "cell_type": "code",
   "execution_count": 125,
   "metadata": {},
   "outputs": [],
   "source": [
    "#start = time.time()\n",
    "#mp = stumpy.gpu_stump(short_ts, 50, ignore_trivial=True)\n",
    "#print(time.time()-start)"
   ]
  },
  {
   "cell_type": "code",
   "execution_count": 126,
   "metadata": {
    "id": "S179XRQ6lRwt"
   },
   "outputs": [],
   "source": [
    "train = pd.read_csv(\"labelled_training_data.csv\")"
   ]
  },
  {
   "cell_type": "code",
   "execution_count": 127,
   "metadata": {
    "id": "mvOvEVDkj65T"
   },
   "outputs": [],
   "source": [
    "testing = pd.read_csv(\"labelled_testing_data.csv\")\n",
    "val = pd.read_csv(\"labelled_validation_data.csv\")"
   ]
  },
  {
   "cell_type": "code",
   "execution_count": 128,
   "metadata": {
    "id": "-k0m6LpBkGwX"
   },
   "outputs": [],
   "source": [
    "data = pd.concat([train, testing, val])"
   ]
  },
  {
   "cell_type": "code",
   "execution_count": 129,
   "metadata": {
    "id": "1NwiOOzUkK2H"
   },
   "outputs": [],
   "source": [
    "data = data.sort_values(by=['timestamp'])"
   ]
  },
  {
   "cell_type": "code",
   "execution_count": 130,
   "metadata": {
    "id": "doagKf4xn_g6"
   },
   "outputs": [],
   "source": [
    "data = data.set_index(\"timestamp\")"
   ]
  },
  {
   "cell_type": "code",
   "execution_count": 131,
   "metadata": {
    "colab": {
     "base_uri": "https://localhost:8080/",
     "height": 455
    },
    "id": "ljJPmIBv_W8U",
    "outputId": "85ea262a-4097-428c-c407-6398f5bd849d"
   },
   "outputs": [
    {
     "data": {
      "text/html": [
       "<div>\n",
       "<style scoped>\n",
       "    .dataframe tbody tr th:only-of-type {\n",
       "        vertical-align: middle;\n",
       "    }\n",
       "\n",
       "    .dataframe tbody tr th {\n",
       "        vertical-align: top;\n",
       "    }\n",
       "\n",
       "    .dataframe thead th {\n",
       "        text-align: right;\n",
       "    }\n",
       "</style>\n",
       "<table border=\"1\" class=\"dataframe\">\n",
       "  <thead>\n",
       "    <tr style=\"text-align: right;\">\n",
       "      <th></th>\n",
       "      <th>processId</th>\n",
       "      <th>threadId</th>\n",
       "      <th>parentProcessId</th>\n",
       "      <th>userId</th>\n",
       "      <th>mountNamespace</th>\n",
       "      <th>processName</th>\n",
       "      <th>hostName</th>\n",
       "      <th>eventId</th>\n",
       "      <th>eventName</th>\n",
       "      <th>stackAddresses</th>\n",
       "      <th>argsNum</th>\n",
       "      <th>returnValue</th>\n",
       "      <th>args</th>\n",
       "      <th>sus</th>\n",
       "      <th>evil</th>\n",
       "    </tr>\n",
       "    <tr>\n",
       "      <th>timestamp</th>\n",
       "      <th></th>\n",
       "      <th></th>\n",
       "      <th></th>\n",
       "      <th></th>\n",
       "      <th></th>\n",
       "      <th></th>\n",
       "      <th></th>\n",
       "      <th></th>\n",
       "      <th></th>\n",
       "      <th></th>\n",
       "      <th></th>\n",
       "      <th></th>\n",
       "      <th></th>\n",
       "      <th></th>\n",
       "      <th></th>\n",
       "    </tr>\n",
       "  </thead>\n",
       "  <tbody>\n",
       "    <tr>\n",
       "      <th>124.439221</th>\n",
       "      <td>381</td>\n",
       "      <td>381</td>\n",
       "      <td>1</td>\n",
       "      <td>101</td>\n",
       "      <td>4026532232</td>\n",
       "      <td>systemd-resolve</td>\n",
       "      <td>ip-10-100-1-129</td>\n",
       "      <td>41</td>\n",
       "      <td>socket</td>\n",
       "      <td>[139913106282763, 139913103116537, 94901962555...</td>\n",
       "      <td>3</td>\n",
       "      <td>15</td>\n",
       "      <td>[{'name': 'domain', 'type': 'int', 'value': 'A...</td>\n",
       "      <td>0</td>\n",
       "      <td>0</td>\n",
       "    </tr>\n",
       "    <tr>\n",
       "      <th>124.439751</th>\n",
       "      <td>378</td>\n",
       "      <td>378</td>\n",
       "      <td>1</td>\n",
       "      <td>100</td>\n",
       "      <td>4026532231</td>\n",
       "      <td>systemd-network</td>\n",
       "      <td>ip-10-100-1-129</td>\n",
       "      <td>41</td>\n",
       "      <td>socket</td>\n",
       "      <td>[140343254628619, 93967981149065, 93967990898192]</td>\n",
       "      <td>3</td>\n",
       "      <td>15</td>\n",
       "      <td>[{'name': 'domain', 'type': 'int', 'value': 'A...</td>\n",
       "      <td>0</td>\n",
       "      <td>0</td>\n",
       "    </tr>\n",
       "    <tr>\n",
       "      <th>124.439958</th>\n",
       "      <td>1</td>\n",
       "      <td>1</td>\n",
       "      <td>0</td>\n",
       "      <td>0</td>\n",
       "      <td>4026531840</td>\n",
       "      <td>systemd</td>\n",
       "      <td>ip-10-100-1-129</td>\n",
       "      <td>1005</td>\n",
       "      <td>security_file_open</td>\n",
       "      <td>[140074839310116, 8103505641674583864]</td>\n",
       "      <td>4</td>\n",
       "      <td>0</td>\n",
       "      <td>[{'name': 'pathname', 'type': 'const char*', '...</td>\n",
       "      <td>0</td>\n",
       "      <td>0</td>\n",
       "    </tr>\n",
       "    <tr>\n",
       "      <th>124.440007</th>\n",
       "      <td>1</td>\n",
       "      <td>1</td>\n",
       "      <td>0</td>\n",
       "      <td>0</td>\n",
       "      <td>4026531840</td>\n",
       "      <td>systemd</td>\n",
       "      <td>ip-10-100-1-129</td>\n",
       "      <td>257</td>\n",
       "      <td>openat</td>\n",
       "      <td>[]</td>\n",
       "      <td>4</td>\n",
       "      <td>12</td>\n",
       "      <td>[{'name': 'dirfd', 'type': 'int', 'value': -10...</td>\n",
       "      <td>0</td>\n",
       "      <td>0</td>\n",
       "    </tr>\n",
       "    <tr>\n",
       "      <th>124.440037</th>\n",
       "      <td>1</td>\n",
       "      <td>1</td>\n",
       "      <td>0</td>\n",
       "      <td>0</td>\n",
       "      <td>4026531840</td>\n",
       "      <td>systemd</td>\n",
       "      <td>ip-10-100-1-129</td>\n",
       "      <td>5</td>\n",
       "      <td>fstat</td>\n",
       "      <td>[140074839307913]</td>\n",
       "      <td>2</td>\n",
       "      <td>0</td>\n",
       "      <td>[{'name': 'fd', 'type': 'int', 'value': 12}, {...</td>\n",
       "      <td>0</td>\n",
       "      <td>0</td>\n",
       "    </tr>\n",
       "  </tbody>\n",
       "</table>\n",
       "</div>"
      ],
      "text/plain": [
       "            processId  threadId  parentProcessId  userId  mountNamespace  \\\n",
       "timestamp                                                                  \n",
       "124.439221        381       381                1     101      4026532232   \n",
       "124.439751        378       378                1     100      4026532231   \n",
       "124.439958          1         1                0       0      4026531840   \n",
       "124.440007          1         1                0       0      4026531840   \n",
       "124.440037          1         1                0       0      4026531840   \n",
       "\n",
       "                processName         hostName  eventId           eventName  \\\n",
       "timestamp                                                                   \n",
       "124.439221  systemd-resolve  ip-10-100-1-129       41              socket   \n",
       "124.439751  systemd-network  ip-10-100-1-129       41              socket   \n",
       "124.439958          systemd  ip-10-100-1-129     1005  security_file_open   \n",
       "124.440007          systemd  ip-10-100-1-129      257              openat   \n",
       "124.440037          systemd  ip-10-100-1-129        5               fstat   \n",
       "\n",
       "                                               stackAddresses  argsNum  \\\n",
       "timestamp                                                                \n",
       "124.439221  [139913106282763, 139913103116537, 94901962555...        3   \n",
       "124.439751  [140343254628619, 93967981149065, 93967990898192]        3   \n",
       "124.439958             [140074839310116, 8103505641674583864]        4   \n",
       "124.440007                                                 []        4   \n",
       "124.440037                                  [140074839307913]        2   \n",
       "\n",
       "            returnValue                                               args  \\\n",
       "timestamp                                                                    \n",
       "124.439221           15  [{'name': 'domain', 'type': 'int', 'value': 'A...   \n",
       "124.439751           15  [{'name': 'domain', 'type': 'int', 'value': 'A...   \n",
       "124.439958            0  [{'name': 'pathname', 'type': 'const char*', '...   \n",
       "124.440007           12  [{'name': 'dirfd', 'type': 'int', 'value': -10...   \n",
       "124.440037            0  [{'name': 'fd', 'type': 'int', 'value': 12}, {...   \n",
       "\n",
       "            sus  evil  \n",
       "timestamp              \n",
       "124.439221    0     0  \n",
       "124.439751    0     0  \n",
       "124.439958    0     0  \n",
       "124.440007    0     0  \n",
       "124.440037    0     0  "
      ]
     },
     "execution_count": 131,
     "metadata": {},
     "output_type": "execute_result"
    }
   ],
   "source": [
    "data.head()"
   ]
  },
  {
   "cell_type": "code",
   "execution_count": 132,
   "metadata": {},
   "outputs": [
    {
     "data": {
      "text/plain": [
       "(1141078, 15)"
      ]
     },
     "execution_count": 132,
     "metadata": {},
     "output_type": "execute_result"
    }
   ],
   "source": [
    "data.shape"
   ]
  },
  {
   "cell_type": "code",
   "execution_count": 133,
   "metadata": {
    "id": "y4vPZyGRG2Rr"
   },
   "outputs": [],
   "source": [
    "data[\"processId\"] = data[\"processId\"].map(lambda x: 0 if x in [0, 1, 2] else 1)  # Map to OS/not OS\n",
    "data[\"parentProcessId\"] = data[\"parentProcessId\"].map(lambda x: 0 if x in [0, 1, 2] else 1)  # Map to OS/not OS\n",
    "data[\"userId\"] = data[\"userId\"].map(lambda x: 0 if x < 1000 else 1)  # Map to OS/not OS\n",
    "data[\"mountNamespace\"] = data[\"mountNamespace\"].map(lambda x: 0 if x == 4026531840 else 1)  # Map to mount access to mnt/ (all non-OS users) /elsewhere\n",
    "data[\"eventId\"] = data[\"eventId\"]  # Keep eventId values (requires knowing max value)\n",
    "data[\"returnValue\"] = data[\"returnValue\"].map(lambda x: 0 if x == 0 else (1 if x > 0 else 2))"
   ]
  },
  {
   "cell_type": "code",
   "execution_count": 134,
   "metadata": {
    "colab": {
     "base_uri": "https://localhost:8080/"
    },
    "id": "IyUGg22S7tw3",
    "outputId": "d7abca5f-cb50-40bc-dc41-c817528a4b89"
   },
   "outputs": [
    {
     "data": {
      "text/plain": [
       "array([  41, 1005,  257,    5,    3, 1006,   87, 1003,  114,  113,   42,\n",
       "         51,  288,   21, 1010,   49,    6,  217,    4,   56,   91,  157,\n",
       "         62,  292,   33,   59, 1004,  263,  166,   43,   32,  106,  105,\n",
       "         88,  165,   94,  133,  260,   90,  321,  319,   50,  269,  123,\n",
       "        122,    2], dtype=int64)"
      ]
     },
     "execution_count": 134,
     "metadata": {},
     "output_type": "execute_result"
    }
   ],
   "source": [
    "data[\"eventId\"].unique()"
   ]
  },
  {
   "cell_type": "code",
   "execution_count": 135,
   "metadata": {
    "id": "nZyT_24m5quh"
   },
   "outputs": [],
   "source": [
    " #from sklearn.preprocessing import MinMaxScaler"
   ]
  },
  {
   "cell_type": "code",
   "execution_count": 136,
   "metadata": {
    "id": "q4X6IPMK5rtD"
   },
   "outputs": [],
   "source": [
    "#scaler = MinMaxScaler(feature_range=(0,1))"
   ]
  },
  {
   "cell_type": "code",
   "execution_count": 137,
   "metadata": {
    "id": "PLqDdcLu8QjV"
   },
   "outputs": [],
   "source": [
    "#old_shape = data['eventId'].shape"
   ]
  },
  {
   "cell_type": "code",
   "execution_count": 138,
   "metadata": {
    "id": "ElN_2cOL5rqg"
   },
   "outputs": [],
   "source": [
    "#data['eventId'] = scaler.fit_transform(data['eventId'].to_numpy().reshape(-1,1)).reshape(old_shape)"
   ]
  },
  {
   "cell_type": "code",
   "execution_count": 139,
   "metadata": {
    "colab": {
     "base_uri": "https://localhost:8080/"
    },
    "id": "nXrSLp4B5rno",
    "outputId": "2ed4aa07-427f-407c-a2ed-25943fe60ce7"
   },
   "outputs": [],
   "source": [
    "#data['eventId'].unique()"
   ]
  },
  {
   "cell_type": "code",
   "execution_count": 140,
   "metadata": {
    "id": "L9Hu9fqCJXnQ"
   },
   "outputs": [],
   "source": [
    "dataset = data[['processId', 'parentProcessId','userId','mountNamespace','eventId','argsNum','returnValue', 'sus']]"
   ]
  },
  {
   "cell_type": "code",
   "execution_count": 141,
   "metadata": {
    "colab": {
     "base_uri": "https://localhost:8080/",
     "height": 455
    },
    "id": "9lcXaD4a4WgF",
    "outputId": "0ae38fec-6038-42d4-e926-55e9d1a51ba6"
   },
   "outputs": [
    {
     "data": {
      "text/html": [
       "<div>\n",
       "<style scoped>\n",
       "    .dataframe tbody tr th:only-of-type {\n",
       "        vertical-align: middle;\n",
       "    }\n",
       "\n",
       "    .dataframe tbody tr th {\n",
       "        vertical-align: top;\n",
       "    }\n",
       "\n",
       "    .dataframe thead th {\n",
       "        text-align: right;\n",
       "    }\n",
       "</style>\n",
       "<table border=\"1\" class=\"dataframe\">\n",
       "  <thead>\n",
       "    <tr style=\"text-align: right;\">\n",
       "      <th></th>\n",
       "      <th>processId</th>\n",
       "      <th>parentProcessId</th>\n",
       "      <th>userId</th>\n",
       "      <th>mountNamespace</th>\n",
       "      <th>eventId</th>\n",
       "      <th>argsNum</th>\n",
       "      <th>returnValue</th>\n",
       "      <th>sus</th>\n",
       "    </tr>\n",
       "    <tr>\n",
       "      <th>timestamp</th>\n",
       "      <th></th>\n",
       "      <th></th>\n",
       "      <th></th>\n",
       "      <th></th>\n",
       "      <th></th>\n",
       "      <th></th>\n",
       "      <th></th>\n",
       "      <th></th>\n",
       "    </tr>\n",
       "  </thead>\n",
       "  <tbody>\n",
       "    <tr>\n",
       "      <th>124.439221</th>\n",
       "      <td>1</td>\n",
       "      <td>0</td>\n",
       "      <td>0</td>\n",
       "      <td>1</td>\n",
       "      <td>41</td>\n",
       "      <td>3</td>\n",
       "      <td>1</td>\n",
       "      <td>0</td>\n",
       "    </tr>\n",
       "    <tr>\n",
       "      <th>124.439751</th>\n",
       "      <td>1</td>\n",
       "      <td>0</td>\n",
       "      <td>0</td>\n",
       "      <td>1</td>\n",
       "      <td>41</td>\n",
       "      <td>3</td>\n",
       "      <td>1</td>\n",
       "      <td>0</td>\n",
       "    </tr>\n",
       "    <tr>\n",
       "      <th>124.439958</th>\n",
       "      <td>0</td>\n",
       "      <td>0</td>\n",
       "      <td>0</td>\n",
       "      <td>0</td>\n",
       "      <td>1005</td>\n",
       "      <td>4</td>\n",
       "      <td>0</td>\n",
       "      <td>0</td>\n",
       "    </tr>\n",
       "    <tr>\n",
       "      <th>124.440007</th>\n",
       "      <td>0</td>\n",
       "      <td>0</td>\n",
       "      <td>0</td>\n",
       "      <td>0</td>\n",
       "      <td>257</td>\n",
       "      <td>4</td>\n",
       "      <td>1</td>\n",
       "      <td>0</td>\n",
       "    </tr>\n",
       "    <tr>\n",
       "      <th>124.440037</th>\n",
       "      <td>0</td>\n",
       "      <td>0</td>\n",
       "      <td>0</td>\n",
       "      <td>0</td>\n",
       "      <td>5</td>\n",
       "      <td>2</td>\n",
       "      <td>0</td>\n",
       "      <td>0</td>\n",
       "    </tr>\n",
       "  </tbody>\n",
       "</table>\n",
       "</div>"
      ],
      "text/plain": [
       "            processId  parentProcessId  userId  mountNamespace  eventId  \\\n",
       "timestamp                                                                 \n",
       "124.439221          1                0       0               1       41   \n",
       "124.439751          1                0       0               1       41   \n",
       "124.439958          0                0       0               0     1005   \n",
       "124.440007          0                0       0               0      257   \n",
       "124.440037          0                0       0               0        5   \n",
       "\n",
       "            argsNum  returnValue  sus  \n",
       "timestamp                              \n",
       "124.439221        3            1    0  \n",
       "124.439751        3            1    0  \n",
       "124.439958        4            0    0  \n",
       "124.440007        4            1    0  \n",
       "124.440037        2            0    0  "
      ]
     },
     "execution_count": 141,
     "metadata": {},
     "output_type": "execute_result"
    }
   ],
   "source": [
    "dataset.head()"
   ]
  },
  {
   "cell_type": "code",
   "execution_count": 142,
   "metadata": {},
   "outputs": [
    {
     "data": {
      "text/plain": [
       "processId          0\n",
       "parentProcessId    0\n",
       "userId             0\n",
       "mountNamespace     0\n",
       "eventId            0\n",
       "argsNum            0\n",
       "returnValue        0\n",
       "sus                0\n",
       "dtype: int64"
      ]
     },
     "execution_count": 142,
     "metadata": {},
     "output_type": "execute_result"
    }
   ],
   "source": [
    "dataset.isna().sum()"
   ]
  },
  {
   "cell_type": "code",
   "execution_count": 143,
   "metadata": {
    "colab": {
     "base_uri": "https://localhost:8080/"
    },
    "id": "wpTYv2MNp9eF",
    "outputId": "23de55e3-488c-424c-f451-8accbbcf5161"
   },
   "outputs": [
    {
     "data": {
      "text/plain": [
       "sus\n",
       "0    967564\n",
       "1    173514\n",
       "Name: count, dtype: int64"
      ]
     },
     "execution_count": 143,
     "metadata": {},
     "output_type": "execute_result"
    }
   ],
   "source": [
    "dataset['sus'].value_counts()"
   ]
  },
  {
   "cell_type": "code",
   "execution_count": 144,
   "metadata": {
    "id": "YJurDyVX2i1q"
   },
   "outputs": [],
   "source": [
    "#dataset = dataset.reset_index()"
   ]
  },
  {
   "cell_type": "code",
   "execution_count": 145,
   "metadata": {
    "colab": {
     "base_uri": "https://localhost:8080/",
     "height": 386
    },
    "id": "nlx9rKcIqJMm",
    "outputId": "10de4e1f-e49f-40e9-9042-7c9ffd159625"
   },
   "outputs": [],
   "source": [
    "#bins = pd.cut(dataset['timestamp'], bins=10000)\n",
    "#event_counts_notsus = dataset[dataset['sus']==0].groupby(bins).size()\n",
    "#event_counts_sus = dataset[dataset['sus']==1].groupby(bins).size()\n",
    "#event_counts_notsus.plot(kind='line', color='blue', label='Not Suspicious', figsize=(12, 4))\n",
    "#event_counts_sus.plot(kind='line', color='red', label='Suspicious')\n",
    "#plt.xlabel('Timestamp')\n",
    "#plt.ylabel('Event Frequency')\n",
    "#plt.title('Event Frequency')\n",
    "#plt.xticks([])\n",
    "#plt.legend()\n",
    "#plt.show()"
   ]
  },
  {
   "cell_type": "code",
   "execution_count": 146,
   "metadata": {
    "id": "tCbOtkOBBNw7"
   },
   "outputs": [],
   "source": [
    "#This function takes a pandas DataFrame `df` as input and returns a modified version of it. \n",
    "#The function first creates a new column called `separator` with only NaN values using the `assign()` method. \n",
    "#It then stacks the DataFrame, which essentially transforms the columns into rows, and converts the resulting Series object back into a DataFrame with the correct formatting using the `stack()` and `to_frame()` methods. \n",
    "#Finally, it resets the index and renames the column containing the stacked values to \"centroid\" using the `reset_index()`, `rename()` and `drop=True` methods. \n",
    "#Overall, this function goal is to flattening the DataFrame `df` and combining its values into a single column called \"centroid\", with NaN values added as separators between the original columns.\n",
    "def merge_sequences(df):\n",
    "    return df.assign(\n",
    "        # create a new col called separator with only NaNs\n",
    "        separator=np.nan\n",
    "        # create a stack series and convert it back into a dataframe with the cxorrect formatting\n",
    "        ).stack(dropna=False).to_frame().reset_index(drop=True).rename({0: \"centroid\"}, axis=1)"
   ]
  },
  {
   "cell_type": "code",
   "execution_count": 147,
   "metadata": {
    "id": "i4QiH1TlBPwV"
   },
   "outputs": [
    {
     "name": "stderr",
     "output_type": "stream",
     "text": [
      "C:\\Users\\MORYBA.KOUATE\\AppData\\Local\\Temp\\ipykernel_1992\\1375280662.py:2: FutureWarning: The previous implementation of stack is deprecated and will be removed in a future version of pandas. See the What's New notes for pandas 2.1.0 for details. Specify future_stack=True to adopt the new implementation and silence this warning.\n",
      "  return df.assign(\n"
     ]
    }
   ],
   "source": [
    "sus = merge_sequences(dataset[dataset['sus']==1])"
   ]
  },
  {
   "cell_type": "code",
   "execution_count": 148,
   "metadata": {
    "id": "PthgPT-IBYur"
   },
   "outputs": [
    {
     "name": "stderr",
     "output_type": "stream",
     "text": [
      "C:\\Users\\MORYBA.KOUATE\\AppData\\Local\\Temp\\ipykernel_1992\\1375280662.py:2: FutureWarning: The previous implementation of stack is deprecated and will be removed in a future version of pandas. See the What's New notes for pandas 2.1.0 for details. Specify future_stack=True to adopt the new implementation and silence this warning.\n",
      "  return df.assign(\n"
     ]
    }
   ],
   "source": [
    "notsus = merge_sequences(dataset[dataset['sus']==0])"
   ]
  },
  {
   "cell_type": "code",
   "execution_count": 149,
   "metadata": {
    "id": "wEIjNeBvT082"
   },
   "outputs": [],
   "source": [
    "#fig, ax = plt.subplots(2,figsize=(24,8),sharex=True)\n",
    "#ax[0].set_title('OS')\n",
    "#ax[0].plot(OS)\n",
    "#ax[1].set_title('Not_OS')\n",
    "#ax[1].plot(Not_OS)"
   ]
  },
  {
   "cell_type": "code",
   "execution_count": 150,
   "metadata": {
    "colab": {
     "base_uri": "https://localhost:8080/",
     "height": 424
    },
    "id": "qBTh9otqFOt7",
    "outputId": "7d287e34-7003-469d-fb33-03f83c89a2be"
   },
   "outputs": [
    {
     "data": {
      "text/html": [
       "<div>\n",
       "<style scoped>\n",
       "    .dataframe tbody tr th:only-of-type {\n",
       "        vertical-align: middle;\n",
       "    }\n",
       "\n",
       "    .dataframe tbody tr th {\n",
       "        vertical-align: top;\n",
       "    }\n",
       "\n",
       "    .dataframe thead th {\n",
       "        text-align: right;\n",
       "    }\n",
       "</style>\n",
       "<table border=\"1\" class=\"dataframe\">\n",
       "  <thead>\n",
       "    <tr style=\"text-align: right;\">\n",
       "      <th></th>\n",
       "      <th>centroid</th>\n",
       "    </tr>\n",
       "  </thead>\n",
       "  <tbody>\n",
       "    <tr>\n",
       "      <th>0</th>\n",
       "      <td>1.0</td>\n",
       "    </tr>\n",
       "    <tr>\n",
       "      <th>1</th>\n",
       "      <td>1.0</td>\n",
       "    </tr>\n",
       "    <tr>\n",
       "      <th>2</th>\n",
       "      <td>1.0</td>\n",
       "    </tr>\n",
       "    <tr>\n",
       "      <th>3</th>\n",
       "      <td>0.0</td>\n",
       "    </tr>\n",
       "    <tr>\n",
       "      <th>4</th>\n",
       "      <td>3.0</td>\n",
       "    </tr>\n",
       "  </tbody>\n",
       "</table>\n",
       "</div>"
      ],
      "text/plain": [
       "   centroid\n",
       "0       1.0\n",
       "1       1.0\n",
       "2       1.0\n",
       "3       0.0\n",
       "4       3.0"
      ]
     },
     "execution_count": 150,
     "metadata": {},
     "output_type": "execute_result"
    }
   ],
   "source": [
    "sus.head()"
   ]
  },
  {
   "cell_type": "code",
   "execution_count": 151,
   "metadata": {},
   "outputs": [
    {
     "data": {
      "text/plain": [
       "centroid    173514\n",
       "dtype: int64"
      ]
     },
     "execution_count": 151,
     "metadata": {},
     "output_type": "execute_result"
    }
   ],
   "source": [
    "sus.isna().sum()"
   ]
  },
  {
   "cell_type": "code",
   "execution_count": 152,
   "metadata": {},
   "outputs": [],
   "source": [
    "sus['centroid'] = sus['centroid'].fillna(sus['centroid'].mean())"
   ]
  },
  {
   "cell_type": "code",
   "execution_count": 153,
   "metadata": {
    "colab": {
     "base_uri": "https://localhost:8080/",
     "height": 424
    },
    "id": "1pzcejKXEHLE",
    "outputId": "8439b7b1-542a-4ff4-c37b-e2ad66ab34c1"
   },
   "outputs": [
    {
     "data": {
      "text/plain": [
       "centroid    0\n",
       "dtype: int64"
      ]
     },
     "execution_count": 153,
     "metadata": {},
     "output_type": "execute_result"
    }
   ],
   "source": [
    "sus.isna().sum()"
   ]
  },
  {
   "cell_type": "code",
   "execution_count": 154,
   "metadata": {},
   "outputs": [
    {
     "data": {
      "text/plain": [
       "centroid    967564\n",
       "dtype: int64"
      ]
     },
     "execution_count": 154,
     "metadata": {},
     "output_type": "execute_result"
    }
   ],
   "source": [
    "notsus.isna().sum()"
   ]
  },
  {
   "cell_type": "code",
   "execution_count": 155,
   "metadata": {},
   "outputs": [],
   "source": [
    "notsus['centroid'] = notsus['centroid'].fillna(notsus['centroid'].mean())"
   ]
  },
  {
   "cell_type": "code",
   "execution_count": 156,
   "metadata": {},
   "outputs": [
    {
     "data": {
      "text/plain": [
       "centroid    0\n",
       "dtype: int64"
      ]
     },
     "execution_count": 156,
     "metadata": {},
     "output_type": "execute_result"
    }
   ],
   "source": [
    "notsus.isna().sum()"
   ]
  },
  {
   "cell_type": "code",
   "execution_count": 157,
   "metadata": {},
   "outputs": [
    {
     "data": {
      "text/plain": [
       "[<matplotlib.lines.Line2D at 0x204ff913310>]"
      ]
     },
     "execution_count": 157,
     "metadata": {},
     "output_type": "execute_result"
    },
    {
     "data": {
      "image/png": "[encoded data removed]",
      "text/plain": [
       "<Figure size 2400x800 with 2 Axes>"
      ]
     },
     "metadata": {},
     "output_type": "display_data"
    }
   ],
   "source": [
    "fig, ax = plt.subplots(2,figsize=(24, 8), sharex=True)\n",
    "\n",
    "ax[0].set_title('sus')\n",
    "ax[0].plot(sus)\n",
    "\n",
    "ax[1].set_title('not_sus')\n",
    "ax[1].plot(notsus)"
   ]
  },
  {
   "cell_type": "code",
   "execution_count": null,
   "metadata": {},
   "outputs": [],
   "source": [
    "#In this code snippet, a variable `m` is defined with a value of 100000. \n",
    "#Then, the `gpu_stump()` function from the STUMPY library is used to compute the matrix profile for the time series data `sus['centroid']` with a window size of `m`. The `[:, 0]` indexing is used to extract the first column of the resulting matrix profile. \n",
    "#Finally, the extracted matrix profile is cast to a float data type using the `astype(float)` method and assigned to the variable `profile_sus_sus`"
   ]
  },
  {
   "cell_type": "code",
   "execution_count": 158,
   "metadata": {
    "id": "DTuS3XAnUKnw"
   },
   "outputs": [],
   "source": [
    "m = 100000\n",
    "profile_sus_sus = stumpy.gpu_stump(sus['centroid'], m)[:, 0].astype(float)"
   ]
  },
  {
   "cell_type": "code",
   "execution_count": 159,
   "metadata": {
    "id": "33k82iZgOdPa"
   },
   "outputs": [],
   "source": [
    "profile_sus_notsus = stumpy.gpu_stump(sus['centroid'].astype(float), m, notsus['centroid'].astype(float), ignore_trivial=False)[:, 0].astype(float)"
   ]
  },
  {
   "cell_type": "code",
   "execution_count": 160,
   "metadata": {
    "id": "FTBKURjqSR1R"
   },
   "outputs": [],
   "source": [
    "import seaborn as sns"
   ]
  },
  {
   "cell_type": "code",
   "execution_count": 161,
   "metadata": {
    "colab": {
     "base_uri": "https://localhost:8080/",
     "height": 699
    },
    "id": "51_Jl0IMTPKd",
    "outputId": "de1e2522-b962-4a6a-b1d1-88beed645181"
   },
   "outputs": [
    {
     "name": "stderr",
     "output_type": "stream",
     "text": [
      "C:\\Users\\MORYBA.KOUATE\\.conda\\envs\\myenv\\lib\\site-packages\\seaborn\\_oldcore.py:1119: FutureWarning: use_inf_as_na option is deprecated and will be removed in a future version. Convert inf values to NaN before operating instead.\n",
      "  with pd.option_context('mode.use_inf_as_na', True):\n",
      "C:\\Users\\MORYBA.KOUATE\\.conda\\envs\\myenv\\lib\\site-packages\\seaborn\\_oldcore.py:1119: FutureWarning: use_inf_as_na option is deprecated and will be removed in a future version. Convert inf values to NaN before operating instead.\n",
      "  with pd.option_context('mode.use_inf_as_na', True):\n"
     ]
    },
    {
     "data": {
      "text/plain": [
       "<Axes: >"
      ]
     },
     "execution_count": 161,
     "metadata": {},
     "output_type": "execute_result"
    },
    {
     "data": {
      "image/png": "[encoded data removed]",
      "text/plain": [
       "<Figure size 2400x800 with 1 Axes>"
      ]
     },
     "metadata": {},
     "output_type": "display_data"
    }
   ],
   "source": [
    "fig, ax = plt.subplots(figsize=(24,8))\n",
    "sns.lineplot(data={'Sus-Sus-self':profile_sus_sus,'profile_Sus_NotSus':profile_sus_notsus}, ax=ax)"
   ]
  },
  {
   "cell_type": "code",
   "execution_count": 162,
   "metadata": {
    "id": "HBA0ANxdUYFD"
   },
   "outputs": [],
   "source": [
    "profile_diff = profile_sus_notsus - profile_sus_sus"
   ]
  },
  {
   "cell_type": "code",
   "execution_count": 163,
   "metadata": {
    "colab": {
     "base_uri": "https://localhost:8080/"
    },
    "id": "7_Hbh8fSUmpI",
    "outputId": "c0876809-e846-4a4b-b8d5-c8ee8ed6bca9"
   },
   "outputs": [
    {
     "data": {
      "text/plain": [
       "array([40.24393338, 40.24393198, 40.24393519, ..., 35.22554293,\n",
       "       35.22555955, 35.22552718])"
      ]
     },
     "execution_count": 163,
     "metadata": {},
     "output_type": "execute_result"
    }
   ],
   "source": [
    "profile_diff"
   ]
  },
  {
   "cell_type": "code",
   "execution_count": 164,
   "metadata": {
    "id": "NPL4_RTRUozw"
   },
   "outputs": [],
   "source": [
    "worst_matches = np.argpartition(profile_diff,-10)[-10:]"
   ]
  },
  {
   "cell_type": "code",
   "execution_count": 165,
   "metadata": {
    "colab": {
     "base_uri": "https://localhost:8080/"
    },
    "id": "8uMjf56FVuP8",
    "outputId": "343e1ae6-3537-4d00-ad92-11223e75f0d6"
   },
   "outputs": [
    {
     "data": {
      "text/plain": [
       "array([ 728478, 1433619, 1433618, 1433620, 1433622, 1433623,  728477,\n",
       "        728482,  728481,  728479], dtype=int64)"
      ]
     },
     "execution_count": 165,
     "metadata": {},
     "output_type": "execute_result"
    }
   ],
   "source": [
    "worst_matches"
   ]
  },
  {
   "cell_type": "code",
   "execution_count": 166,
   "metadata": {
    "id": "pPPU4fQWbbhA"
   },
   "outputs": [],
   "source": [
    "#The code snippet provided is creating two empty lists, `sus_shapelets` and `notsus_shapelets`. \n",
    "#It then iterates over the `worst_matches` list and extracts a shapelet from the `sus` dictionary using the indices from `worst_matches`. \n",
    "#The extracted shapelet is then appended to the `sus_shapelets` list.\n",
    "\n",
    "sus_shapelets = []\n",
    "notsus_shapelets = []\n",
    "\n",
    "for idx in worst_matches:\n",
    "    sus_shapelet = sus['centroid'][idx:idx+m]    \n",
    "    sus_shapelets.append(sus_shapelet)"
   ]
  },
  {
   "cell_type": "markdown",
   "metadata": {
    "id": "h5epnRpxb9Yl"
   },
   "source": [
    "# Building a Shapelet Based Model"
   ]
  },
  {
   "cell_type": "code",
   "execution_count": 167,
   "metadata": {
    "id": "VtoPqwPNFxtD"
   },
   "outputs": [],
   "source": [
    "from sklearn.model_selection import train_test_split"
   ]
  },
  {
   "cell_type": "code",
   "execution_count": 221,
   "metadata": {
    "colab": {
     "base_uri": "https://localhost:8080/",
     "height": 1000
    },
    "id": "9NGxJshOcCLt",
    "outputId": "3e29fac1-927d-40b0-af2e-4418d6ffb434"
   },
   "outputs": [
    {
     "data": {
      "text/plain": [
       "(1141078, 8)"
      ]
     },
     "execution_count": 221,
     "metadata": {},
     "output_type": "execute_result"
    }
   ],
   "source": [
    "dataset.shape"
   ]
  },
  {
   "cell_type": "code",
   "execution_count": 222,
   "metadata": {},
   "outputs": [],
   "source": [
    "X = dataset[[\"processId\", \"parentProcessId\", \"userId\", \"mountNamespace\", \"eventId\", \"argsNum\", \"returnValue\"]]"
   ]
  },
  {
   "cell_type": "code",
   "execution_count": 223,
   "metadata": {},
   "outputs": [],
   "source": [
    "y = dataset['sus']"
   ]
  },
  {
   "cell_type": "code",
   "execution_count": 224,
   "metadata": {},
   "outputs": [],
   "source": [
    "X_train, X_test, y_train, y_test = train_test_split(X, y, test_size=0.33, random_state=42)"
   ]
  },
  {
   "cell_type": "code",
   "execution_count": null,
   "metadata": {},
   "outputs": [],
   "source": [
    "#The function computes the mass distance profile, which is an array representing the distances between the query subsequence and all possible subsequence windows of the time series.\n",
    "#Each value in the mass distance profile corresponds to the distance between the query subsequence and a specific subsequence window of the time series.\n",
    "#The mass distance is calculated using the MASS (Mean Absolute Subsequence Similarity) algorithm, which efficiently computes the Euclidean distance between the query subsequence and each subsequence window. \n",
    "#The algorithm utilizes the Fast Fourier Transform (FFT) to speed up the computation."
   ]
  },
  {
   "cell_type": "code",
   "execution_count": 173,
   "metadata": {},
   "outputs": [],
   "source": [
    "def get_shapelet_distance(shapelet, train):\n",
    "    X = []\n",
    "    for s, sample in enumerate(train):\n",
    "        D = stumpy.mass(shapelet, sample)\n",
    "        X.append(D.min())\n",
    "    \n",
    "    return np.array(X).reshape(-1,1)"
   ]
  },
  {
   "cell_type": "code",
   "execution_count": 174,
   "metadata": {},
   "outputs": [
    {
     "data": {
      "text/plain": [
       "(764522, 7)"
      ]
     },
     "execution_count": 174,
     "metadata": {},
     "output_type": "execute_result"
    }
   ],
   "source": [
    "X_train.values.astype('float64').shape"
   ]
  },
  {
   "cell_type": "code",
   "execution_count": 175,
   "metadata": {},
   "outputs": [
    {
     "data": {
      "text/plain": [
       "array([1.        , 1.        , 1.        , ..., 1.        , 9.59625664,\n",
       "       1.        ])"
      ]
     },
     "execution_count": 175,
     "metadata": {},
     "output_type": "execute_result"
    }
   ],
   "source": [
    "sus_shapelets[0].values"
   ]
  },
  {
   "cell_type": "code",
   "execution_count": 176,
   "metadata": {},
   "outputs": [
    {
     "data": {
      "text/plain": [
       "764522"
      ]
     },
     "execution_count": 176,
     "metadata": {},
     "output_type": "execute_result"
    }
   ],
   "source": [
    "len(X_train)"
   ]
  },
  {
   "cell_type": "code",
   "execution_count": 177,
   "metadata": {},
   "outputs": [
    {
     "data": {
      "text/plain": [
       "array([[   1,    1,    0, ...,    5,    2,    0],\n",
       "       [   1,    1,    0, ...,    3,    1,    0],\n",
       "       [   1,    1,    0, ..., 1005,    4,    0],\n",
       "       ...,\n",
       "       [   1,    1,    0, ..., 1005,    4,    0],\n",
       "       [   1,    1,    0, ..., 1005,    4,    0],\n",
       "       [   1,    1,    0, ..., 1005,    4,    0]], dtype=int64)"
      ]
     },
     "execution_count": 177,
     "metadata": {},
     "output_type": "execute_result"
    }
   ],
   "source": [
    "X_train.values"
   ]
  },
  {
   "cell_type": "code",
   "execution_count": 178,
   "metadata": {},
   "outputs": [],
   "source": [
    "reference_shapelet = sus_shapelets[0].values"
   ]
  },
  {
   "cell_type": "code",
   "execution_count": 179,
   "metadata": {},
   "outputs": [],
   "source": [
    "reference_shapelet = reference_shapelet[0:4]"
   ]
  },
  {
   "cell_type": "code",
   "execution_count": 180,
   "metadata": {},
   "outputs": [],
   "source": [
    "X_train_dist = get_shapelet_distance(reference_shapelet, X_train.values.astype('float64'))"
   ]
  },
  {
   "cell_type": "code",
   "execution_count": 181,
   "metadata": {
    "id": "pEoeuURKiQp8"
   },
   "outputs": [],
   "source": [
    "X_test_dist = get_shapelet_distance(reference_shapelet, X_test.values.astype('float64'))"
   ]
  },
  {
   "cell_type": "code",
   "execution_count": 182,
   "metadata": {},
   "outputs": [],
   "source": [
    "from sklearn.tree import DecisionTreeClassifier"
   ]
  },
  {
   "cell_type": "code",
   "execution_count": 183,
   "metadata": {},
   "outputs": [
    {
     "data": {
      "text/html": [
       "<style>#sk-container-id-2 {color: black;}#sk-container-id-2 pre{padding: 0;}#sk-container-id-2 div.sk-toggleable {background-color: white;}#sk-container-id-2 label.sk-toggleable__label {cursor: pointer;display: block;width: 100%;margin-bottom: 0;padding: 0.3em;box-sizing: border-box;text-align: center;}#sk-container-id-2 label.sk-toggleable__label-arrow:before {content: \"▸\";float: left;margin-right: 0.25em;color: #696969;}#sk-container-id-2 label.sk-toggleable__label-arrow:hover:before {color: black;}#sk-container-id-2 div.sk-estimator:hover label.sk-toggleable__label-arrow:before {color: black;}#sk-container-id-2 div.sk-toggleable__content {max-height: 0;max-width: 0;overflow: hidden;text-align: left;background-color: #f0f8ff;}#sk-container-id-2 div.sk-toggleable__content pre {margin: 0.2em;color: black;border-radius: 0.25em;background-color: #f0f8ff;}#sk-container-id-2 input.sk-toggleable__control:checked~div.sk-toggleable__content {max-height: 200px;max-width: 100%;overflow: auto;}#sk-container-id-2 input.sk-toggleable__control:checked~label.sk-toggleable__label-arrow:before {content: \"▾\";}#sk-container-id-2 div.sk-estimator input.sk-toggleable__control:checked~label.sk-toggleable__label {background-color: #d4ebff;}#sk-container-id-2 div.sk-label input.sk-toggleable__control:checked~label.sk-toggleable__label {background-color: #d4ebff;}#sk-container-id-2 input.sk-hidden--visually {border: 0;clip: rect(1px 1px 1px 1px);clip: rect(1px, 1px, 1px, 1px);height: 1px;margin: -1px;overflow: hidden;padding: 0;position: absolute;width: 1px;}#sk-container-id-2 div.sk-estimator {font-family: monospace;background-color: #f0f8ff;border: 1px dotted black;border-radius: 0.25em;box-sizing: border-box;margin-bottom: 0.5em;}#sk-container-id-2 div.sk-estimator:hover {background-color: #d4ebff;}#sk-container-id-2 div.sk-parallel-item::after {content: \"\";width: 100%;border-bottom: 1px solid gray;flex-grow: 1;}#sk-container-id-2 div.sk-label:hover label.sk-toggleable__label {background-color: #d4ebff;}#sk-container-id-2 div.sk-serial::before {content: \"\";position: absolute;border-left: 1px solid gray;box-sizing: border-box;top: 0;bottom: 0;left: 50%;z-index: 0;}#sk-container-id-2 div.sk-serial {display: flex;flex-direction: column;align-items: center;background-color: white;padding-right: 0.2em;padding-left: 0.2em;position: relative;}#sk-container-id-2 div.sk-item {position: relative;z-index: 1;}#sk-container-id-2 div.sk-parallel {display: flex;align-items: stretch;justify-content: center;background-color: white;position: relative;}#sk-container-id-2 div.sk-item::before, #sk-container-id-2 div.sk-parallel-item::before {content: \"\";position: absolute;border-left: 1px solid gray;box-sizing: border-box;top: 0;bottom: 0;left: 50%;z-index: -1;}#sk-container-id-2 div.sk-parallel-item {display: flex;flex-direction: column;z-index: 1;position: relative;background-color: white;}#sk-container-id-2 div.sk-parallel-item:first-child::after {align-self: flex-end;width: 50%;}#sk-container-id-2 div.sk-parallel-item:last-child::after {align-self: flex-start;width: 50%;}#sk-container-id-2 div.sk-parallel-item:only-child::after {width: 0;}#sk-container-id-2 div.sk-dashed-wrapped {border: 1px dashed gray;margin: 0 0.4em 0.5em 0.4em;box-sizing: border-box;padding-bottom: 0.4em;background-color: white;}#sk-container-id-2 div.sk-label label {font-family: monospace;font-weight: bold;display: inline-block;line-height: 1.2em;}#sk-container-id-2 div.sk-label-container {text-align: center;}#sk-container-id-2 div.sk-container {/* jupyter's `normalize.less` sets `[hidden] { display: none; }` but bootstrap.min.css set `[hidden] { display: none !important; }` so we also need the `!important` here to be able to override the default hidden behavior on the sphinx rendered scikit-learn.org. See: https://github.com/scikit-learn/scikit-learn/issues/21755 */display: inline-block !important;position: relative;}#sk-container-id-2 div.sk-text-repr-fallback {display: none;}</style><div id=\"sk-container-id-2\" class=\"sk-top-container\"><div class=\"sk-text-repr-fallback\"><pre>DecisionTreeClassifier()</pre><b>In a Jupyter environment, please rerun this cell to show the HTML representation or trust the notebook. <br />On GitHub, the HTML representation is unable to render, please try loading this page with nbviewer.org.</b></div><div class=\"sk-container\" hidden><div class=\"sk-item\"><div class=\"sk-estimator sk-toggleable\"><input class=\"sk-toggleable__control sk-hidden--visually\" id=\"sk-estimator-id-2\" type=\"checkbox\" checked><label for=\"sk-estimator-id-2\" class=\"sk-toggleable__label sk-toggleable__label-arrow\">DecisionTreeClassifier</label><div class=\"sk-toggleable__content\"><pre>DecisionTreeClassifier()</pre></div></div></div></div></div>"
      ],
      "text/plain": [
       "DecisionTreeClassifier()"
      ]
     },
     "execution_count": 183,
     "metadata": {},
     "output_type": "execute_result"
    }
   ],
   "source": [
    "model = DecisionTreeClassifier()\n",
    "\n",
    "model.fit(X_train_dist, y_train)"
   ]
  },
  {
   "cell_type": "code",
   "execution_count": 184,
   "metadata": {},
   "outputs": [],
   "source": [
    "from sklearn.metrics import accuracy_score"
   ]
  },
  {
   "cell_type": "code",
   "execution_count": 185,
   "metadata": {},
   "outputs": [
    {
     "data": {
      "text/plain": [
       "0.9861481426401385"
      ]
     },
     "execution_count": 185,
     "metadata": {},
     "output_type": "execute_result"
    }
   ],
   "source": [
    "y_pred = model.predict(X_test_dist)\n",
    "accuracy = accuracy_score(y_test, y_pred)\n",
    "\n",
    "accuracy"
   ]
  },
  {
   "cell_type": "code",
   "execution_count": 216,
   "metadata": {},
   "outputs": [],
   "source": [
    "prediction_threshold = np.where(y_pred>0.5,1,0)"
   ]
  },
  {
   "cell_type": "code",
   "execution_count": 225,
   "metadata": {},
   "outputs": [
    {
     "data": {
      "text/plain": [
       "<sklearn.metrics._plot.confusion_matrix.ConfusionMatrixDisplay at 0x205e981b580>"
      ]
     },
     "execution_count": 225,
     "metadata": {},
     "output_type": "execute_result"
    },
    {
     "data": {
      "image/png": "[encoded data removed]",
      "text/plain": [
       "<Figure size 640x480 with 2 Axes>"
      ]
     },
     "metadata": {},
     "output_type": "display_data"
    }
   ],
   "source": [
    "conf_matrix = confusion_matrix(y_true=y_test, y_pred=prediction_threshold)\n",
    "ConfusionMatrixDisplay(conf_matrix).plot()"
   ]
  },
  {
   "cell_type": "code",
   "execution_count": 226,
   "metadata": {},
   "outputs": [
    {
     "name": "stdout",
     "output_type": "stream",
     "text": [
      "              precision    recall  f1-score   support\n",
      "\n",
      "           0       0.98      1.00      0.99    319093\n",
      "           1       1.00      0.91      0.95     57463\n",
      "\n",
      "    accuracy                           0.99    376556\n",
      "   macro avg       0.99      0.95      0.97    376556\n",
      "weighted avg       0.99      0.99      0.99    376556\n",
      "\n"
     ]
    }
   ],
   "source": [
    "print(classification_report(y_test, prediction_threshold))"
   ]
  },
  {
   "cell_type": "markdown",
   "metadata": {},
   "source": [
    "# Long Short Term Memory Network"
   ]
  },
  {
   "cell_type": "code",
   "execution_count": 186,
   "metadata": {},
   "outputs": [],
   "source": [
    "from sklearn.model_selection import StratifiedShuffleSplit\n",
    "from sklearn.metrics import classification_report, roc_auc_score, roc_curve, confusion_matrix, ConfusionMatrixDisplay\n",
    "from sklearn.preprocessing import LabelEncoder, OrdinalEncoder\n",
    "\n",
    "import tensorflow as tf\n",
    "from keras.layers import Flatten, Dense, Input, Dropout, Conv1D, BatchNormalization, MaxPooling1D, Flatten, LSTM, Bidirectional, Embedding, Concatenate, Reshape\n",
    "from keras.models import Model, Sequential\n",
    "from keras.optimizers import Adam, SGD, RMSprop, Adamax"
   ]
  },
  {
   "cell_type": "code",
   "execution_count": 187,
   "metadata": {},
   "outputs": [
    {
     "name": "stdout",
     "output_type": "stream",
     "text": [
      "Model: \"sequential_2\"\n",
      "_________________________________________________________________\n",
      " Layer (type)                Output Shape              Param #   \n",
      "=================================================================\n",
      " lstm_4 (LSTM)               (None, 1, 32)             4352      \n",
      "                                                                 \n",
      " dropout_8 (Dropout)         (None, 1, 32)             0         \n",
      "                                                                 \n",
      " lstm_5 (LSTM)               (None, 1, 32)             8320      \n",
      "                                                                 \n",
      " dropout_9 (Dropout)         (None, 1, 32)             0         \n",
      "                                                                 \n",
      " lstm_6 (LSTM)               (None, 1, 32)             8320      \n",
      "                                                                 \n",
      " dropout_10 (Dropout)        (None, 1, 32)             0         \n",
      "                                                                 \n",
      " lstm_7 (LSTM)               (None, 1, 32)             8320      \n",
      "                                                                 \n",
      " dropout_11 (Dropout)        (None, 1, 32)             0         \n",
      "                                                                 \n",
      " flatten_1 (Flatten)         (None, 32)                0         \n",
      "                                                                 \n",
      " dense_8 (Dense)             (None, 128)               4224      \n",
      "                                                                 \n",
      " dense_9 (Dense)             (None, 1)                 129       \n",
      "                                                                 \n",
      "=================================================================\n",
      "Total params: 33,665\n",
      "Trainable params: 33,665\n",
      "Non-trainable params: 0\n",
      "_________________________________________________________________\n"
     ]
    }
   ],
   "source": [
    "random_normal_initializer = tf.keras.initializers.RandomNormal(mean=0.1, stddev=0.1, seed=51)\n",
    "model1 = Sequential([\n",
    "  LSTM(32, input_shape=(1, 1), activation='relu', kernel_initializer='lecun_normal',\n",
    "       bias_initializer=random_normal_initializer, return_sequences=True),\n",
    "  Dropout(0.2),\n",
    "  LSTM(32, activation='relu', kernel_initializer='lecun_normal',\n",
    "       bias_initializer=random_normal_initializer, return_sequences=True),\n",
    "  Dropout(0.2),\n",
    "  LSTM(32, activation='relu', kernel_initializer='lecun_normal',\n",
    "       bias_initializer=random_normal_initializer, return_sequences=True),\n",
    "  Dropout(0.2),\n",
    "  LSTM(32, activation='relu', kernel_initializer='lecun_normal',\n",
    "       bias_initializer=random_normal_initializer, return_sequences=True),\n",
    "  Dropout(0.2),\n",
    "  Flatten(),\n",
    "  Dense(units=128, activation='relu', kernel_initializer='lecun_normal', bias_initializer=random_normal_initializer),\n",
    "  Dense(units=1, activation='sigmoid', kernel_initializer='lecun_normal', bias_initializer=random_normal_initializer)\n",
    "])\n",
    "\n",
    "model1.summary()"
   ]
  },
  {
   "cell_type": "code",
   "execution_count": 188,
   "metadata": {},
   "outputs": [],
   "source": [
    "train_ratio = 0.75\n",
    "validation_ratio = 0.15\n",
    "test_ratio = 0.10"
   ]
  },
  {
   "cell_type": "code",
   "execution_count": 189,
   "metadata": {},
   "outputs": [],
   "source": [
    "X_train, X_test, y_train, y_test = train_test_split(X, y, test_size=1 - train_ratio)"
   ]
  },
  {
   "cell_type": "code",
   "execution_count": 190,
   "metadata": {},
   "outputs": [],
   "source": [
    "X_val, X_test, y_val, y_test = train_test_split(X_test, y_test, test_size=test_ratio/(test_ratio + validation_ratio)) "
   ]
  },
  {
   "cell_type": "code",
   "execution_count": 191,
   "metadata": {},
   "outputs": [],
   "source": [
    "X_train_distLSTM = get_shapelet_distance(reference_shapelet, X_train.values.astype('float64'))"
   ]
  },
  {
   "cell_type": "code",
   "execution_count": 192,
   "metadata": {},
   "outputs": [],
   "source": [
    "X_test_distLSTM   = get_shapelet_distance(reference_shapelet, X_test.values.astype('float64'))"
   ]
  },
  {
   "cell_type": "code",
   "execution_count": 193,
   "metadata": {},
   "outputs": [],
   "source": [
    "X_val_distLSTM  = get_shapelet_distance(reference_shapelet, X_val.values.astype('float64'))"
   ]
  },
  {
   "cell_type": "code",
   "execution_count": 194,
   "metadata": {},
   "outputs": [
    {
     "name": "stdout",
     "output_type": "stream",
     "text": [
      "Epoch 1/100\n",
      "86/86 [==============================] - 6s 32ms/step - loss: 0.4172 - accuracy: 0.8193 - val_loss: 0.2210 - val_accuracy: 0.8484\n",
      "Epoch 2/100\n",
      "86/86 [==============================] - 2s 23ms/step - loss: 0.1815 - accuracy: 0.9142 - val_loss: 0.1290 - val_accuracy: 0.9858\n",
      "Epoch 3/100\n",
      "86/86 [==============================] - 2s 29ms/step - loss: 0.0898 - accuracy: 0.9860 - val_loss: 0.0783 - val_accuracy: 0.9858\n",
      "Epoch 4/100\n",
      "86/86 [==============================] - 3s 39ms/step - loss: 0.0732 - accuracy: 0.9860 - val_loss: 0.0805 - val_accuracy: 0.9858\n",
      "Epoch 5/100\n",
      "86/86 [==============================] - 2s 28ms/step - loss: 0.0727 - accuracy: 0.9860 - val_loss: 0.0765 - val_accuracy: 0.9858\n",
      "Epoch 6/100\n",
      "86/86 [==============================] - 2s 28ms/step - loss: 0.0722 - accuracy: 0.9860 - val_loss: 0.0756 - val_accuracy: 0.9858\n",
      "Epoch 7/100\n",
      "86/86 [==============================] - 3s 29ms/step - loss: 0.0720 - accuracy: 0.9860 - val_loss: 0.0775 - val_accuracy: 0.9858\n"
     ]
    }
   ],
   "source": [
    "model1.compile(optimizer=Adam(learning_rate=0.001), loss='binary_crossentropy', metrics=['accuracy'])\n",
    "callback = tf.keras.callbacks.EarlyStopping(monitor='val_accuracy', patience=5, restore_best_weights=False)\n",
    "history1 = model1.fit(X_train_distLSTM,y_train, validation_data=(X_val_distLSTM, y_val), epochs=100, verbose=1, batch_size=10000,callbacks=[callback])"
   ]
  },
  {
   "cell_type": "code",
   "execution_count": 195,
   "metadata": {},
   "outputs": [
    {
     "name": "stdout",
     "output_type": "stream",
     "text": [
      "3566/3566 [==============================] - 5s 2ms/step - loss: 0.0765 - accuracy: 0.9861\n",
      "Accuracy of model1: 98.6%\n"
     ]
    }
   ],
   "source": [
    "# Model evaluation\n",
    "accuracy1 = model1.evaluate(X_test_distLSTM,y_test)\n",
    "print(f\"Accuracy of model1: {(100*accuracy1[1]):.1f}%\")"
   ]
  },
  {
   "cell_type": "code",
   "execution_count": 196,
   "metadata": {},
   "outputs": [],
   "source": [
    "def plot_training(history):\n",
    "    training_accuracy = history.history['accuracy']\n",
    "    validation_accuracy = history.history['val_accuracy']\n",
    "\n",
    "    # Get the training and validation loss\n",
    "    training_loss = history.history['loss']\n",
    "    validation_loss = history.history['val_loss']\n",
    "\n",
    "    # Plot the accuracy\n",
    "    plt.figure(figsize=(8, 4))\n",
    "    plt.plot(training_accuracy, label='Training Accuracy')\n",
    "    plt.plot(validation_accuracy, label='Validation Accuracy')\n",
    "    plt.xlabel('Epochs')\n",
    "    plt.ylabel('Accuracy')\n",
    "    plt.title('Training and Validation Accuracy')\n",
    "    plt.legend()\n",
    "    plt.show()\n",
    "\n",
    "    # Plot the loss\n",
    "    plt.figure(figsize=(8, 4))\n",
    "    plt.plot(training_loss, label='Training Loss')\n",
    "    plt.plot(validation_loss, label='Validation Loss')\n",
    "    plt.xlabel('Epochs')\n",
    "    plt.ylabel('Loss')\n",
    "    plt.title('Training and Validation Loss')\n",
    "    plt.legend()\n",
    "    return(plt)"
   ]
  },
  {
   "cell_type": "code",
   "execution_count": 197,
   "metadata": {},
   "outputs": [
    {
     "data": {
      "image/png": "[encoded data removed]",
      "text/plain": [
       "<Figure size 800x400 with 1 Axes>"
      ]
     },
     "metadata": {},
     "output_type": "display_data"
    },
    {
     "data": {
      "image/png": "[encoded data removed]",
      "text/plain": [
       "<Figure size 800x400 with 1 Axes>"
      ]
     },
     "metadata": {},
     "output_type": "display_data"
    }
   ],
   "source": [
    "plot_training(history1);"
   ]
  },
  {
   "cell_type": "code",
   "execution_count": 198,
   "metadata": {},
   "outputs": [
    {
     "name": "stdout",
     "output_type": "stream",
     "text": [
      "3566/3566 [==============================] - 6s 1ms/step\n"
     ]
    }
   ],
   "source": [
    "prediction_LSTM = model1.predict(X_test_distLSTM)"
   ]
  },
  {
   "cell_type": "code",
   "execution_count": 199,
   "metadata": {},
   "outputs": [],
   "source": [
    "prediction_1_threshold = np.where(prediction_LSTM>0.01,1,0)"
   ]
  },
  {
   "cell_type": "code",
   "execution_count": 200,
   "metadata": {},
   "outputs": [
    {
     "name": "stdout",
     "output_type": "stream",
     "text": [
      "              precision    recall  f1-score   support\n",
      "\n",
      "           0       0.00      0.00      0.00     96571\n",
      "           1       0.15      1.00      0.27     17537\n",
      "\n",
      "    accuracy                           0.15    114108\n",
      "   macro avg       0.08      0.50      0.13    114108\n",
      "weighted avg       0.02      0.15      0.04    114108\n",
      "\n"
     ]
    },
    {
     "name": "stderr",
     "output_type": "stream",
     "text": [
      "C:\\Users\\MORYBA.KOUATE\\.conda\\envs\\myenv\\lib\\site-packages\\sklearn\\metrics\\_classification.py:1469: UndefinedMetricWarning: Precision and F-score are ill-defined and being set to 0.0 in labels with no predicted samples. Use `zero_division` parameter to control this behavior.\n",
      "  _warn_prf(average, modifier, msg_start, len(result))\n",
      "C:\\Users\\MORYBA.KOUATE\\.conda\\envs\\myenv\\lib\\site-packages\\sklearn\\metrics\\_classification.py:1469: UndefinedMetricWarning: Precision and F-score are ill-defined and being set to 0.0 in labels with no predicted samples. Use `zero_division` parameter to control this behavior.\n",
      "  _warn_prf(average, modifier, msg_start, len(result))\n",
      "C:\\Users\\MORYBA.KOUATE\\.conda\\envs\\myenv\\lib\\site-packages\\sklearn\\metrics\\_classification.py:1469: UndefinedMetricWarning: Precision and F-score are ill-defined and being set to 0.0 in labels with no predicted samples. Use `zero_division` parameter to control this behavior.\n",
      "  _warn_prf(average, modifier, msg_start, len(result))\n"
     ]
    }
   ],
   "source": [
    "print(classification_report(y_test, prediction_1_threshold))"
   ]
  },
  {
   "cell_type": "code",
   "execution_count": 201,
   "metadata": {},
   "outputs": [
    {
     "data": {
      "text/plain": [
       "<sklearn.metrics._plot.confusion_matrix.ConfusionMatrixDisplay at 0x204cb5c7370>"
      ]
     },
     "execution_count": 201,
     "metadata": {},
     "output_type": "execute_result"
    },
    {
     "data": {
      "image/png": "[encoded data removed]",
      "text/plain": [
       "<Figure size 640x480 with 2 Axes>"
      ]
     },
     "metadata": {},
     "output_type": "display_data"
    }
   ],
   "source": [
    "conf_matrix = confusion_matrix(y_true=y_test, y_pred=prediction_1_threshold)\n",
    "ConfusionMatrixDisplay(conf_matrix).plot()"
   ]
  },
  {
   "cell_type": "markdown",
   "metadata": {},
   "source": [
    "# Dense Model"
   ]
  },
  {
   "cell_type": "code",
   "execution_count": 202,
   "metadata": {},
   "outputs": [
    {
     "name": "stdout",
     "output_type": "stream",
     "text": [
      "Model: \"sequential_3\"\n",
      "_________________________________________________________________\n",
      " Layer (type)                Output Shape              Param #   \n",
      "=================================================================\n",
      " dense_10 (Dense)            (None, 512)               1024      \n",
      "                                                                 \n",
      " dropout_12 (Dropout)        (None, 512)               0         \n",
      "                                                                 \n",
      " dense_11 (Dense)            (None, 256)               131328    \n",
      "                                                                 \n",
      " dropout_13 (Dropout)        (None, 256)               0         \n",
      "                                                                 \n",
      " dense_12 (Dense)            (None, 128)               32896     \n",
      "                                                                 \n",
      " dropout_14 (Dropout)        (None, 128)               0         \n",
      "                                                                 \n",
      " dense_13 (Dense)            (None, 64)                8256      \n",
      "                                                                 \n",
      " dropout_15 (Dropout)        (None, 64)                0         \n",
      "                                                                 \n",
      " dense_14 (Dense)            (None, 32)                2080      \n",
      "                                                                 \n",
      " dense_15 (Dense)            (None, 1)                 33        \n",
      "                                                                 \n",
      "=================================================================\n",
      "Total params: 175,617\n",
      "Trainable params: 175,617\n",
      "Non-trainable params: 0\n",
      "_________________________________________________________________\n"
     ]
    }
   ],
   "source": [
    "random_normal_initializer = tf.keras.initializers.RandomNormal(mean=0, stddev=0.0001, seed=51)\n",
    "model2 = Sequential([\n",
    "  Input(shape=(X_train_distLSTM.shape[1],)),\n",
    "  Dense(units=512, activation='relu', kernel_initializer='lecun_normal', bias_initializer=random_normal_initializer),\n",
    "  Dropout(0.4),\n",
    "  Dense(units=256, activation='relu', kernel_initializer='lecun_normal', bias_initializer=random_normal_initializer),\n",
    "  Dropout(0.1),\n",
    "  Dense(units=128, activation='relu', kernel_initializer='lecun_normal', bias_initializer=random_normal_initializer),\n",
    "  Dropout(0.1),\n",
    "  Dense(units=64, activation='relu', kernel_initializer='lecun_normal', bias_initializer=random_normal_initializer),\n",
    "  Dropout(0.1),\n",
    "  Dense(units=32, activation='relu', kernel_initializer='lecun_normal', bias_initializer=random_normal_initializer),\n",
    "  Dense(units=1, activation='sigmoid', kernel_initializer='lecun_normal', bias_initializer=random_normal_initializer)\n",
    "])\n",
    "\n",
    "model2.summary()"
   ]
  },
  {
   "cell_type": "code",
   "execution_count": 203,
   "metadata": {},
   "outputs": [
    {
     "name": "stdout",
     "output_type": "stream",
     "text": [
      "Epoch 1/100\n",
      "8559/8559 [==============================] - 36s 4ms/step - loss: 0.0743 - accuracy: 0.9857 - val_loss: 0.0714 - val_accuracy: 0.9858\n",
      "Epoch 2/100\n",
      "8559/8559 [==============================] - 33s 4ms/step - loss: 0.0693 - accuracy: 0.9860 - val_loss: 0.0668 - val_accuracy: 0.9858\n",
      "Epoch 3/100\n",
      "8559/8559 [==============================] - 33s 4ms/step - loss: 0.0678 - accuracy: 0.9860 - val_loss: 0.0668 - val_accuracy: 0.9858\n",
      "Epoch 4/100\n",
      "8559/8559 [==============================] - 36s 4ms/step - loss: 0.0674 - accuracy: 0.9860 - val_loss: 0.0678 - val_accuracy: 0.9858\n",
      "Epoch 5/100\n",
      "8559/8559 [==============================] - 34s 4ms/step - loss: 0.0676 - accuracy: 0.9860 - val_loss: 0.0660 - val_accuracy: 0.9858\n",
      "Epoch 6/100\n",
      "8559/8559 [==============================] - 33s 4ms/step - loss: 0.0670 - accuracy: 0.9860 - val_loss: 0.0677 - val_accuracy: 0.9858\n",
      "3566/3566 [==============================] - 4s 1ms/step - loss: 0.0668 - accuracy: 0.9861\n",
      "Accuracy of model1: 98.6%\n"
     ]
    }
   ],
   "source": [
    "model2.compile(optimizer=Adam(learning_rate=0.003), loss='binary_crossentropy', metrics=['accuracy'])\n",
    "callback = tf.keras.callbacks.EarlyStopping(monitor='val_accuracy', patience=5, restore_best_weights=False)\n",
    "history2 = model2.fit(X_train_distLSTM,y_train, validation_data=(X_val_distLSTM, y_val), epochs=100, verbose=1, batch_size=100,\n",
    "                      callbacks=[callback])\n",
    "\n",
    "\n",
    "# Model evaluation\n",
    "accuracy1 = model2.evaluate(X_test_distLSTM,y_test)\n",
    "print(f\"Accuracy of model1: {(100*accuracy1[1]):.1f}%\")"
   ]
  },
  {
   "cell_type": "code",
   "execution_count": 204,
   "metadata": {},
   "outputs": [
    {
     "data": {
      "image/png": "[encoded data removed]",
      "text/plain": [
       "<Figure size 800x400 with 1 Axes>"
      ]
     },
     "metadata": {},
     "output_type": "display_data"
    },
    {
     "data": {
      "image/png": "[encoded data removed]",
      "text/plain": [
       "<Figure size 800x400 with 1 Axes>"
      ]
     },
     "metadata": {},
     "output_type": "display_data"
    }
   ],
   "source": [
    "plot_training(history2);"
   ]
  },
  {
   "cell_type": "code",
   "execution_count": 205,
   "metadata": {},
   "outputs": [
    {
     "name": "stdout",
     "output_type": "stream",
     "text": [
      "3566/3566 [==============================] - 4s 1ms/step\n"
     ]
    }
   ],
   "source": [
    "prediction_Dense = model2.predict(X_test_distLSTM)"
   ]
  },
  {
   "cell_type": "code",
   "execution_count": 206,
   "metadata": {},
   "outputs": [],
   "source": [
    "prediction_2_threshold = np.where(prediction_Dense>0.01,1,0)"
   ]
  },
  {
   "cell_type": "code",
   "execution_count": 207,
   "metadata": {},
   "outputs": [
    {
     "name": "stdout",
     "output_type": "stream",
     "text": [
      "              precision    recall  f1-score   support\n",
      "\n",
      "           0       1.00      0.34      0.51     96571\n",
      "           1       0.22      1.00      0.36     17537\n",
      "\n",
      "    accuracy                           0.45    114108\n",
      "   macro avg       0.61      0.67      0.43    114108\n",
      "weighted avg       0.88      0.45      0.49    114108\n",
      "\n"
     ]
    }
   ],
   "source": [
    "print(classification_report(y_test, prediction_2_threshold))"
   ]
  },
  {
   "cell_type": "code",
   "execution_count": 208,
   "metadata": {},
   "outputs": [
    {
     "data": {
      "text/plain": [
       "<sklearn.metrics._plot.confusion_matrix.ConfusionMatrixDisplay at 0x205c34cdc60>"
      ]
     },
     "execution_count": 208,
     "metadata": {},
     "output_type": "execute_result"
    },
    {
     "data": {
      "image/png": "[encoded data removed]",
      "text/plain": [
       "<Figure size 640x480 with 2 Axes>"
      ]
     },
     "metadata": {},
     "output_type": "display_data"
    }
   ],
   "source": [
    "conf_matrix = confusion_matrix(y_true=y_test, y_pred=prediction_2_threshold)\n",
    "ConfusionMatrixDisplay(conf_matrix).plot()"
   ]
  },
  {
   "cell_type": "code",
   "execution_count": null,
   "metadata": {},
   "outputs": [],
   "source": []
  }
 ],
 "metadata": {
  "colab": {
   "provenance": []
  },
  "kernelspec": {
   "display_name": "Python 3 (ipykernel)",
   "language": "python",
   "name": "python3"
  },
  "language_info": {
   "codemirror_mode": {
    "name": "ipython",
    "version": 3
   },
   "file_extension": ".py",
   "mimetype": "text/x-python",
   "name": "python",
   "nbconvert_exporter": "python",
   "pygments_lexer": "ipython3",
   "version": "3.10.13"
  }
 },
 "nbformat": 4,
 "nbformat_minor": 4
}
