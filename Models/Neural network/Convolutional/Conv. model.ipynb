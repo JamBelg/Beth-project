{
 "cells": [
  {
   "cell_type": "markdown",
   "metadata": {},
   "source": [
    "## Libraries"
   ]
  },
  {
   "cell_type": "code",
   "execution_count": 1,
   "metadata": {},
   "outputs": [],
   "source": [
    "import pandas as pd\n",
    "import numpy as np\n",
    "import matplotlib.pyplot as plt\n",
    "from sklearn.model_selection import StratifiedShuffleSplit\n",
    "from sklearn.metrics import classification_report, roc_auc_score, roc_curve, confusion_matrix, ConfusionMatrixDisplay\n",
    "from sklearn.preprocessing import LabelEncoder, OrdinalEncoder\n",
    "\n",
    "import tensorflow as tf\n",
    "from keras.layers import Flatten, Dense, Input, Dropout, Conv1D, BatchNormalization, MaxPooling1D, Flatten, LSTM, Bidirectional, Embedding, Concatenate, Reshape\n",
    "from keras.models import Model, Sequential\n",
    "from keras.optimizers import Adam, SGD, RMSprop, Adamax\n",
    "\n",
    "import ast\n",
    "\n",
    "# Hide warnings\n",
    "import warnings\n",
    "warnings.filterwarnings(\"ignore\")"
   ]
  },
  {
   "cell_type": "markdown",
   "metadata": {},
   "source": [
    "## Data preparation"
   ]
  },
  {
   "cell_type": "code",
   "execution_count": 2,
   "metadata": {},
   "outputs": [],
   "source": [
    "train_data = pd.read_csv('../../../Data/labelled_training_data.csv')\n",
    "val_data = pd.read_csv('../../../Data/labelled_validation_data.csv')\n",
    "test_data = pd.read_csv('../../../Data/labelled_testing_data.csv')"
   ]
  },
  {
   "cell_type": "code",
   "execution_count": 3,
   "metadata": {},
   "outputs": [
    {
     "data": {
      "text/plain": [
       "((763144, 16), (188967, 16), (188967, 16))"
      ]
     },
     "execution_count": 3,
     "metadata": {},
     "output_type": "execute_result"
    }
   ],
   "source": [
    "train_data.shape, val_data.shape, test_data.shape"
   ]
  },
  {
   "cell_type": "code",
   "execution_count": 4,
   "metadata": {},
   "outputs": [
    {
     "data": {
      "text/plain": [
       "0.668792142167319"
      ]
     },
     "execution_count": 4,
     "metadata": {},
     "output_type": "execute_result"
    }
   ],
   "source": [
    "train_data.shape[0]/(train_data.shape[0]+val_data.shape[0]+test_data.shape[0])"
   ]
  },
  {
   "cell_type": "code",
   "execution_count": 5,
   "metadata": {},
   "outputs": [],
   "source": [
    "train_data[\"processId\"] = train_data[\"processId\"].map(lambda x: 0 if x in [0, 1, 2] else 1)  # Map to OS/not OS\n",
    "train_data[\"parentProcessId\"] = train_data[\"parentProcessId\"].map(lambda x: 0 if x in [0, 1, 2] else 1)  # Map to OS/not OS\n",
    "train_data[\"userId\"] = train_data[\"userId\"].map(lambda x: 0 if x < 1000 else 1)  # Map to OS/not OS\n",
    "train_data[\"mountNamespace\"] = train_data[\"mountNamespace\"].map(lambda x: 0 if x == 4026531840 else 1)  # Map to mount access to mnt/ (all non-OS users) /elsewhere\n",
    "train_data[\"eventId\"] = train_data[\"eventId\"]  # Keep eventId values (requires knowing max value)\n",
    "train_data[\"returnValue\"] = train_data[\"returnValue\"].map(lambda x: 0 if x == 0 else (1 if x > 0 else 2))\n",
    "\n",
    "\n",
    "val_data[\"processId\"] = val_data[\"processId\"].map(lambda x: 0 if x in [0, 1, 2] else 1)  # Map to OS/not OS\n",
    "val_data[\"parentProcessId\"] = val_data[\"parentProcessId\"].map(lambda x: 0 if x in [0, 1, 2] else 1)  # Map to OS/not OS\n",
    "val_data[\"userId\"] = val_data[\"userId\"].map(lambda x: 0 if x < 1000 else 1)  # Map to OS/not OS\n",
    "val_data[\"mountNamespace\"] = val_data[\"mountNamespace\"].map(lambda x: 0 if x == 4026531840 else 1)  # Map to mount access to mnt/ (all non-OS users) /elsewhere\n",
    "val_data[\"eventId\"] = val_data[\"eventId\"]  # Keep eventId values (requires knowing max value)\n",
    "val_data[\"returnValue\"] = val_data[\"returnValue\"].map(lambda x: 0 if x == 0 else (1 if x > 0 else 2)) \n",
    "\n",
    "\n",
    "test_data[\"processId\"] = test_data[\"processId\"].map(lambda x: 0 if x in [0, 1, 2] else 1)  # Map to OS/not OS\n",
    "test_data[\"parentProcessId\"] = test_data[\"parentProcessId\"].map(lambda x: 0 if x in [0, 1, 2] else 1)  # Map to OS/not OS\n",
    "test_data[\"userId\"] = test_data[\"userId\"].map(lambda x: 0 if x < 1000 else 1)  # Map to OS/not OS\n",
    "test_data[\"mountNamespace\"] = test_data[\"mountNamespace\"].map(lambda x: 0 if x == 4026531840 else 1)  # Map to mount access to mnt/ (all non-OS users) /elsewhere\n",
    "test_data[\"eventId\"] = test_data[\"eventId\"]  # Keep eventId values (requires knowing max value)\n",
    "test_data[\"returnValue\"] = test_data[\"returnValue\"].map(lambda x: 0 if x == 0 else (1 if x > 0 else 2)) "
   ]
  },
  {
   "cell_type": "code",
   "execution_count": 6,
   "metadata": {},
   "outputs": [
    {
     "data": {
      "text/html": [
       "<div>\n",
       "<style scoped>\n",
       "    .dataframe tbody tr th:only-of-type {\n",
       "        vertical-align: middle;\n",
       "    }\n",
       "\n",
       "    .dataframe tbody tr th {\n",
       "        vertical-align: top;\n",
       "    }\n",
       "\n",
       "    .dataframe thead th {\n",
       "        text-align: right;\n",
       "    }\n",
       "</style>\n",
       "<table border=\"1\" class=\"dataframe\">\n",
       "  <thead>\n",
       "    <tr style=\"text-align: right;\">\n",
       "      <th></th>\n",
       "      <th>timestamp</th>\n",
       "      <th>processId</th>\n",
       "      <th>threadId</th>\n",
       "      <th>parentProcessId</th>\n",
       "      <th>userId</th>\n",
       "      <th>mountNamespace</th>\n",
       "      <th>eventId</th>\n",
       "      <th>argsNum</th>\n",
       "      <th>returnValue</th>\n",
       "      <th>sus</th>\n",
       "      <th>evil</th>\n",
       "    </tr>\n",
       "  </thead>\n",
       "  <tbody>\n",
       "    <tr>\n",
       "      <th>count</th>\n",
       "      <td>763144.000000</td>\n",
       "      <td>763144.000000</td>\n",
       "      <td>763144.000000</td>\n",
       "      <td>763144.000000</td>\n",
       "      <td>763144.000000</td>\n",
       "      <td>763144.000000</td>\n",
       "      <td>763144.000000</td>\n",
       "      <td>763144.000000</td>\n",
       "      <td>763144.000000</td>\n",
       "      <td>763144.000000</td>\n",
       "      <td>763144.0</td>\n",
       "    </tr>\n",
       "    <tr>\n",
       "      <th>mean</th>\n",
       "      <td>1844.582673</td>\n",
       "      <td>0.978617</td>\n",
       "      <td>6820.265241</td>\n",
       "      <td>0.895755</td>\n",
       "      <td>0.001305</td>\n",
       "      <td>0.256371</td>\n",
       "      <td>288.158953</td>\n",
       "      <td>2.672082</td>\n",
       "      <td>0.340016</td>\n",
       "      <td>0.001663</td>\n",
       "      <td>0.0</td>\n",
       "    </tr>\n",
       "    <tr>\n",
       "      <th>std</th>\n",
       "      <td>1136.638249</td>\n",
       "      <td>0.144656</td>\n",
       "      <td>1937.068333</td>\n",
       "      <td>0.305578</td>\n",
       "      <td>0.036103</td>\n",
       "      <td>0.436629</td>\n",
       "      <td>385.117778</td>\n",
       "      <td>1.340906</td>\n",
       "      <td>0.533623</td>\n",
       "      <td>0.040744</td>\n",
       "      <td>0.0</td>\n",
       "    </tr>\n",
       "    <tr>\n",
       "      <th>min</th>\n",
       "      <td>132.560721</td>\n",
       "      <td>0.000000</td>\n",
       "      <td>1.000000</td>\n",
       "      <td>0.000000</td>\n",
       "      <td>0.000000</td>\n",
       "      <td>0.000000</td>\n",
       "      <td>3.000000</td>\n",
       "      <td>0.000000</td>\n",
       "      <td>0.000000</td>\n",
       "      <td>0.000000</td>\n",
       "      <td>0.0</td>\n",
       "    </tr>\n",
       "    <tr>\n",
       "      <th>25%</th>\n",
       "      <td>903.250802</td>\n",
       "      <td>1.000000</td>\n",
       "      <td>7313.000000</td>\n",
       "      <td>1.000000</td>\n",
       "      <td>0.000000</td>\n",
       "      <td>0.000000</td>\n",
       "      <td>3.000000</td>\n",
       "      <td>1.000000</td>\n",
       "      <td>0.000000</td>\n",
       "      <td>0.000000</td>\n",
       "      <td>0.0</td>\n",
       "    </tr>\n",
       "    <tr>\n",
       "      <th>50%</th>\n",
       "      <td>1829.203642</td>\n",
       "      <td>1.000000</td>\n",
       "      <td>7365.000000</td>\n",
       "      <td>1.000000</td>\n",
       "      <td>0.000000</td>\n",
       "      <td>0.000000</td>\n",
       "      <td>62.000000</td>\n",
       "      <td>3.000000</td>\n",
       "      <td>0.000000</td>\n",
       "      <td>0.000000</td>\n",
       "      <td>0.0</td>\n",
       "    </tr>\n",
       "    <tr>\n",
       "      <th>75%</th>\n",
       "      <td>2761.380825</td>\n",
       "      <td>1.000000</td>\n",
       "      <td>7415.000000</td>\n",
       "      <td>1.000000</td>\n",
       "      <td>0.000000</td>\n",
       "      <td>1.000000</td>\n",
       "      <td>257.000000</td>\n",
       "      <td>4.000000</td>\n",
       "      <td>1.000000</td>\n",
       "      <td>0.000000</td>\n",
       "      <td>0.0</td>\n",
       "    </tr>\n",
       "    <tr>\n",
       "      <th>max</th>\n",
       "      <td>3954.587643</td>\n",
       "      <td>1.000000</td>\n",
       "      <td>8619.000000</td>\n",
       "      <td>1.000000</td>\n",
       "      <td>1.000000</td>\n",
       "      <td>1.000000</td>\n",
       "      <td>1010.000000</td>\n",
       "      <td>5.000000</td>\n",
       "      <td>2.000000</td>\n",
       "      <td>1.000000</td>\n",
       "      <td>0.0</td>\n",
       "    </tr>\n",
       "  </tbody>\n",
       "</table>\n",
       "</div>"
      ],
      "text/plain": [
       "           timestamp      processId       threadId  parentProcessId  \\\n",
       "count  763144.000000  763144.000000  763144.000000    763144.000000   \n",
       "mean     1844.582673       0.978617    6820.265241         0.895755   \n",
       "std      1136.638249       0.144656    1937.068333         0.305578   \n",
       "min       132.560721       0.000000       1.000000         0.000000   \n",
       "25%       903.250802       1.000000    7313.000000         1.000000   \n",
       "50%      1829.203642       1.000000    7365.000000         1.000000   \n",
       "75%      2761.380825       1.000000    7415.000000         1.000000   \n",
       "max      3954.587643       1.000000    8619.000000         1.000000   \n",
       "\n",
       "              userId  mountNamespace        eventId        argsNum  \\\n",
       "count  763144.000000   763144.000000  763144.000000  763144.000000   \n",
       "mean        0.001305        0.256371     288.158953       2.672082   \n",
       "std         0.036103        0.436629     385.117778       1.340906   \n",
       "min         0.000000        0.000000       3.000000       0.000000   \n",
       "25%         0.000000        0.000000       3.000000       1.000000   \n",
       "50%         0.000000        0.000000      62.000000       3.000000   \n",
       "75%         0.000000        1.000000     257.000000       4.000000   \n",
       "max         1.000000        1.000000    1010.000000       5.000000   \n",
       "\n",
       "         returnValue            sus      evil  \n",
       "count  763144.000000  763144.000000  763144.0  \n",
       "mean        0.340016       0.001663       0.0  \n",
       "std         0.533623       0.040744       0.0  \n",
       "min         0.000000       0.000000       0.0  \n",
       "25%         0.000000       0.000000       0.0  \n",
       "50%         0.000000       0.000000       0.0  \n",
       "75%         1.000000       0.000000       0.0  \n",
       "max         2.000000       1.000000       0.0  "
      ]
     },
     "execution_count": 6,
     "metadata": {},
     "output_type": "execute_result"
    }
   ],
   "source": [
    "train_data.describe()"
   ]
  },
  {
   "cell_type": "code",
   "execution_count": 7,
   "metadata": {},
   "outputs": [
    {
     "data": {
      "text/plain": [
       "timestamp          float64\n",
       "processId            int64\n",
       "threadId             int64\n",
       "parentProcessId      int64\n",
       "userId               int64\n",
       "mountNamespace       int64\n",
       "processName         object\n",
       "hostName            object\n",
       "eventId              int64\n",
       "eventName           object\n",
       "stackAddresses      object\n",
       "argsNum              int64\n",
       "returnValue          int64\n",
       "args                object\n",
       "sus                  int64\n",
       "evil                 int64\n",
       "dtype: object"
      ]
     },
     "execution_count": 7,
     "metadata": {},
     "output_type": "execute_result"
    }
   ],
   "source": [
    "train_data.dtypes"
   ]
  },
  {
   "cell_type": "markdown",
   "metadata": {},
   "source": [
    "### **Stackaddress**"
   ]
  },
  {
   "cell_type": "code",
   "execution_count": 8,
   "metadata": {},
   "outputs": [
    {
     "data": {
      "text/plain": [
       "112474"
      ]
     },
     "execution_count": 8,
     "metadata": {},
     "output_type": "execute_result"
    }
   ],
   "source": [
    "stack_addresses_df = pd.concat([train_data['stackAddresses'], val_data['stackAddresses'], test_data['stackAddresses']], axis=0)\n",
    "len(stack_addresses_df.unique())"
   ]
  },
  {
   "cell_type": "markdown",
   "metadata": {},
   "source": [
    "**Convert String to List**"
   ]
  },
  {
   "cell_type": "code",
   "execution_count": 9,
   "metadata": {},
   "outputs": [
    {
     "data": {
      "text/plain": [
       "[140662171848350, 11649800180280676]"
      ]
     },
     "execution_count": 9,
     "metadata": {},
     "output_type": "execute_result"
    }
   ],
   "source": [
    "# Convert string to list\n",
    "train_data.stackAddresses = train_data.stackAddresses.apply(ast.literal_eval)\n",
    "val_data.stackAddresses = val_data.stackAddresses.apply(ast.literal_eval)\n",
    "test_data.stackAddresses = test_data.stackAddresses.apply(ast.literal_eval)\n",
    "train_data.stackAddresses[0]"
   ]
  },
  {
   "cell_type": "code",
   "execution_count": 10,
   "metadata": {},
   "outputs": [
    {
     "name": "stdout",
     "output_type": "stream",
     "text": [
      "Training dataset - Max length of stack addresses: 20\n",
      "Validation dataset - Max length of stack addresses: 20\n",
      "Testing dataset - Max length of stack addresses: 20\n"
     ]
    }
   ],
   "source": [
    "train_data['stack_address_len']=train_data.stackAddresses.apply(len)\n",
    "val_data['stack_address_len']=val_data.stackAddresses.apply(len)\n",
    "test_data['stack_address_len']=test_data.stackAddresses.apply(len)\n",
    "print(f\"Training dataset - Max length of stack addresses: {max(train_data['stack_address_len'])}\")\n",
    "print(f\"Validation dataset - Max length of stack addresses: {max(val_data['stack_address_len'])}\")\n",
    "print(f\"Testing dataset - Max length of stack addresses: {max(test_data['stack_address_len'])}\")"
   ]
  },
  {
   "cell_type": "code",
   "execution_count": 11,
   "metadata": {},
   "outputs": [
    {
     "data": {
      "text/plain": [
       "stack_address_len\n",
       "0     521115\n",
       "2     109594\n",
       "1      65545\n",
       "3      59301\n",
       "4       2445\n",
       "20      1406\n",
       "14      1073\n",
       "15       932\n",
       "6        354\n",
       "8        347\n",
       "17       276\n",
       "10       206\n",
       "11       190\n",
       "9        143\n",
       "5         92\n",
       "16        90\n",
       "12        27\n",
       "7          8\n",
       "Name: count, dtype: int64"
      ]
     },
     "execution_count": 11,
     "metadata": {},
     "output_type": "execute_result"
    }
   ],
   "source": [
    "train_data['stack_address_len'].value_counts()"
   ]
  },
  {
   "cell_type": "markdown",
   "metadata": {},
   "source": [
    "**Split list**"
   ]
  },
  {
   "cell_type": "code",
   "execution_count": 12,
   "metadata": {},
   "outputs": [],
   "source": [
    "for i in range(max(train_data['stack_address_len'])):\n",
    "    train_data[f\"stack_{i+1}\"]=\"\"\n",
    "    val_data[f\"stack_{i+1}\"]=\"\"\n",
    "    test_data[f\"stack_{i+1}\"]=\"\""
   ]
  },
  {
   "cell_type": "code",
   "execution_count": 13,
   "metadata": {},
   "outputs": [],
   "source": [
    "for index, row in train_data.iterrows():\n",
    "    list_stack = [float(elem) for elem in row['stackAddresses']]\n",
    "    for i, elem in enumerate(list_stack):\n",
    "        train_data.at[index, f'stack_{i+1}'] = elem\n",
    "\n",
    "for index, row in val_data.iterrows():\n",
    "    list_stack = [float(elem) for elem in row['stackAddresses']]\n",
    "    for i, elem in enumerate(list_stack):\n",
    "        val_data.at[index, f'stack_{i+1}'] = elem\n",
    "\n",
    "\n",
    "for index, row in test_data.iterrows():\n",
    "    list_stack = [float(elem) for elem in row['stackAddresses']]\n",
    "    for i, elem in enumerate(list_stack):\n",
    "        test_data.at[index, f'stack_{i+1}'] = elem"
   ]
  },
  {
   "cell_type": "code",
   "execution_count": 14,
   "metadata": {},
   "outputs": [
    {
     "data": {
      "text/plain": [
       "timestamp                                                  1809.495787\n",
       "processId                                                            1\n",
       "threadId                                                          7337\n",
       "parentProcessId                                                      0\n",
       "userId                                                               0\n",
       "mountNamespace                                                       1\n",
       "processName                                                      close\n",
       "hostName                                               ip-10-100-1-120\n",
       "eventId                                                            157\n",
       "eventName                                                        prctl\n",
       "stackAddresses                    [140662171848350, 11649800180280676]\n",
       "argsNum                                                              5\n",
       "returnValue                                                          0\n",
       "args                 [{'name': 'option', 'type': 'int', 'value': 'P...\n",
       "sus                                                                  1\n",
       "evil                                                                 0\n",
       "stack_address_len                                                    2\n",
       "stack_1                                              140662171848350.0\n",
       "stack_2                                            11649800180280676.0\n",
       "stack_3                                                               \n",
       "stack_4                                                               \n",
       "stack_5                                                               \n",
       "stack_6                                                               \n",
       "stack_7                                                               \n",
       "stack_8                                                               \n",
       "stack_9                                                               \n",
       "stack_10                                                              \n",
       "stack_11                                                              \n",
       "stack_12                                                              \n",
       "stack_13                                                              \n",
       "stack_14                                                              \n",
       "stack_15                                                              \n",
       "stack_16                                                              \n",
       "stack_17                                                              \n",
       "stack_18                                                              \n",
       "stack_19                                                              \n",
       "stack_20                                                              \n",
       "Name: 0, dtype: object"
      ]
     },
     "execution_count": 14,
     "metadata": {},
     "output_type": "execute_result"
    }
   ],
   "source": [
    "train_data.loc[0]"
   ]
  },
  {
   "cell_type": "markdown",
   "metadata": {},
   "source": [
    "**Args**"
   ]
  },
  {
   "cell_type": "code",
   "execution_count": 15,
   "metadata": {},
   "outputs": [
    {
     "data": {
      "text/plain": [
       "argsNum\n",
       "4    359113\n",
       "1    230609\n",
       "2    149273\n",
       "3     20062\n",
       "5      2678\n",
       "0      1409\n",
       "Name: count, dtype: int64"
      ]
     },
     "execution_count": 15,
     "metadata": {},
     "output_type": "execute_result"
    }
   ],
   "source": [
    "train_data['argsNum'].value_counts()"
   ]
  },
  {
   "cell_type": "code",
   "execution_count": 16,
   "metadata": {},
   "outputs": [
    {
     "data": {
      "text/plain": [
       "214720"
      ]
     },
     "execution_count": 16,
     "metadata": {},
     "output_type": "execute_result"
    }
   ],
   "source": [
    "len(train_data['args'].unique())"
   ]
  },
  {
   "cell_type": "code",
   "execution_count": 17,
   "metadata": {},
   "outputs": [
    {
     "data": {
      "text/plain": [
       "\"[{'name': 'pathname', 'type': 'const char*', 'value': '/etc/ld.so.cache'}, {'name': 'flags', 'type': 'int', 'value': 'O_RDONLY|O_LARGEFILE'}, {'name': 'dev', 'type': 'dev_t', 'value': 211812353}, {'name': 'inode', 'type': 'unsigned long', 'value': 62841}]\""
      ]
     },
     "execution_count": 17,
     "metadata": {},
     "output_type": "execute_result"
    }
   ],
   "source": [
    "train_data['args'][4]"
   ]
  },
  {
   "cell_type": "markdown",
   "metadata": {},
   "source": [
    "**Split args**"
   ]
  },
  {
   "cell_type": "code",
   "execution_count": 18,
   "metadata": {},
   "outputs": [],
   "source": [
    "# Function to split the string column into list of dictionaries and create new columns\n",
    "def split_and_expand(row):\n",
    "    if pd.isna(row):\n",
    "        return pd.Series([None] * 15)\n",
    "\n",
    "    dicts = ast.literal_eval(row)\n",
    "    result = {'name_{}'.format(i+1): None for i in range(5)}\n",
    "    result.update({'type_{}'.format(i+1): None for i in range(5)})\n",
    "    result.update({'value_{}'.format(i+1): None for i in range(5)})\n",
    "\n",
    "    for i, d in enumerate(dicts):\n",
    "        if i >= 5:\n",
    "            break\n",
    "        result['name_{}'.format(i+1)] = d.get('name')\n",
    "        result['type_{}'.format(i+1)] = d.get('type')\n",
    "        result['value_{}'.format(i+1)] = d.get('value')\n",
    "\n",
    "    return pd.Series(result)"
   ]
  },
  {
   "cell_type": "markdown",
   "metadata": {},
   "source": [
    "Training"
   ]
  },
  {
   "cell_type": "code",
   "execution_count": 19,
   "metadata": {},
   "outputs": [],
   "source": [
    "args_split = train_data['args'].apply(split_and_expand)\n",
    "train_data = pd.concat([train_data, args_split], axis=1)"
   ]
  },
  {
   "cell_type": "markdown",
   "metadata": {},
   "source": [
    "Validation"
   ]
  },
  {
   "cell_type": "code",
   "execution_count": 20,
   "metadata": {},
   "outputs": [],
   "source": [
    "args_split = val_data['args'].apply(split_and_expand)\n",
    "val_data = pd.concat([val_data, args_split], axis=1)"
   ]
  },
  {
   "cell_type": "markdown",
   "metadata": {},
   "source": [
    "Testing"
   ]
  },
  {
   "cell_type": "code",
   "execution_count": 21,
   "metadata": {},
   "outputs": [],
   "source": [
    "args_split = test_data['args'].apply(split_and_expand)\n",
    "test_data = pd.concat([test_data, args_split], axis=1)"
   ]
  },
  {
   "cell_type": "markdown",
   "metadata": {},
   "source": [
    "**Features selection**"
   ]
  },
  {
   "cell_type": "code",
   "execution_count": 22,
   "metadata": {},
   "outputs": [],
   "source": [
    "# data1 = train_data.sample(frac=0.4, ignore_index=True)\n",
    "\n",
    "X_num_train = train_data[['processId', 'threadId', 'parentProcessId', 'userId', 'mountNamespace', 'eventId', 'argsNum', 'returnValue', 'stack_address_len']]\n",
    "X_cat_train = train_data[['processName', 'hostName', 'eventName',\n",
    "                     'stack_1', 'stack_2', 'stack_3', 'stack_4',\n",
    "                     'stack_5', 'stack_6', 'stack_7', 'stack_8', 'stack_9', \n",
    "                     'stack_10','stack_11', 'stack_12', 'stack_13', 'stack_14', 'stack_15',\n",
    "                     'stack_16','stack_17', 'stack_18', 'stack_19', 'stack_20',\n",
    "                     'name_1', 'name_2', 'name_3', 'name_4', 'name_5',\n",
    "                     'type_1', 'type_2', 'type_3', 'type_4', 'type_5',\n",
    "                     'value_1', 'value_2', 'value_3', 'value_4', 'value_5']].astype(str)"
   ]
  },
  {
   "cell_type": "code",
   "execution_count": 23,
   "metadata": {},
   "outputs": [],
   "source": [
    "X_num_val = val_data[['processId', 'threadId', 'parentProcessId', 'userId', 'mountNamespace', 'eventId', 'argsNum', 'returnValue', 'stack_address_len']]\n",
    "X_cat_val = val_data[['processName', 'hostName', 'eventName',\n",
    "                     'stack_1', 'stack_2', 'stack_3', 'stack_4',\n",
    "                     'stack_5', 'stack_6', 'stack_7', 'stack_8', 'stack_9', \n",
    "                     'stack_10','stack_11', 'stack_12', 'stack_13', 'stack_14', 'stack_15',\n",
    "                     'stack_16','stack_17', 'stack_18', 'stack_19', 'stack_20',\n",
    "                     'name_1', 'name_2', 'name_3', 'name_4', 'name_5',\n",
    "                     'type_1', 'type_2', 'type_3', 'type_4', 'type_5',\n",
    "                     'value_1', 'value_2', 'value_3', 'value_4', 'value_5']].astype(str)"
   ]
  },
  {
   "cell_type": "code",
   "execution_count": 24,
   "metadata": {},
   "outputs": [],
   "source": [
    "X_num_test = test_data[['processId', 'threadId', 'parentProcessId', 'userId', 'mountNamespace', 'eventId', 'argsNum', 'returnValue', 'stack_address_len']]\n",
    "X_cat_test = test_data[['processName', 'hostName', 'eventName',\n",
    "                     'stack_1', 'stack_2', 'stack_3', 'stack_4',\n",
    "                     'stack_5', 'stack_6', 'stack_7', 'stack_8', 'stack_9', \n",
    "                     'stack_10','stack_11', 'stack_12', 'stack_13', 'stack_14', 'stack_15',\n",
    "                     'stack_16','stack_17', 'stack_18', 'stack_19', 'stack_20',\n",
    "                     'name_1', 'name_2', 'name_3', 'name_4', 'name_5',\n",
    "                     'type_1', 'type_2', 'type_3', 'type_4', 'type_5',\n",
    "                     'value_1', 'value_2', 'value_3', 'value_4', 'value_5']].astype(str)"
   ]
  },
  {
   "cell_type": "markdown",
   "metadata": {},
   "source": [
    "**Categorical features encoding**"
   ]
  },
  {
   "cell_type": "markdown",
   "metadata": {},
   "source": [
    "Stack addresses"
   ]
  },
  {
   "cell_type": "code",
   "execution_count": 25,
   "metadata": {},
   "outputs": [],
   "source": [
    "# from sklearn.preprocessing import OneHotEncoder\n",
    "\n",
    "# # Create OneHotEncoder instance with handle_unknown='ignore'\n",
    "# encoder_stack = OneHotEncoder(handle_unknown='ignore')\n",
    "\n",
    "# # Encode Stack adresses\n",
    "# stackaddresses_train_enc = encoder_stack.fit_transform(X_cat_train[['stack_1', 'stack_2', 'stack_3', 'stack_4', 'stack_5',\n",
    "#                                                                       'stack_6', 'stack_7', 'stack_8', 'stack_9', 'stack_10',\n",
    "#                                                                       'stack_11', 'stack_12', 'stack_13', 'stack_14', 'stack_15',\n",
    "#                                                                       'stack_16','stack_17', 'stack_18', 'stack_19', 'stack_20']])\n",
    "\n",
    "# X_stackaddress_train = stackaddresses_train_enc\n",
    "# X_stackaddress_train.shape"
   ]
  },
  {
   "cell_type": "code",
   "execution_count": 26,
   "metadata": {},
   "outputs": [],
   "source": [
    "# X_stackaddress_val = encoder_stack.transform(X_cat_val[['stack_1', 'stack_2', 'stack_3', 'stack_4', 'stack_5',\n",
    "#                                                         'stack_6', 'stack_7', 'stack_8', 'stack_9', 'stack_10',\n",
    "#                                                         'stack_11', 'stack_12', 'stack_13', 'stack_14', 'stack_15',\n",
    "#                                                         'stack_16','stack_17', 'stack_18', 'stack_19', 'stack_20']])\n",
    "# X_stackaddress_val.shape"
   ]
  },
  {
   "cell_type": "code",
   "execution_count": 27,
   "metadata": {},
   "outputs": [],
   "source": [
    "# X_stackaddress_test = encoder_stack.transform(X_cat_test[['stack_1', 'stack_2', 'stack_3', 'stack_4', 'stack_5',\n",
    "#                                                         'stack_6', 'stack_7', 'stack_8', 'stack_9', 'stack_10',\n",
    "#                                                         'stack_11', 'stack_12', 'stack_13', 'stack_14', 'stack_15',\n",
    "#                                                         'stack_16','stack_17', 'stack_18', 'stack_19', 'stack_20']])\n",
    "# X_stackaddress_test.shape"
   ]
  },
  {
   "cell_type": "code",
   "execution_count": 28,
   "metadata": {},
   "outputs": [],
   "source": [
    "stack_ordinal_encoder = OrdinalEncoder(handle_unknown='use_encoded_value', \n",
    "                                 unknown_value=-1, dtype=float)\n",
    "\n",
    "# Encode Stack adresses\n",
    "stackaddresses_train_enc = stack_ordinal_encoder.fit_transform(X_cat_train[['stack_1', 'stack_2', 'stack_3', 'stack_4', 'stack_5',\n",
    "                                                                      'stack_6', 'stack_7', 'stack_8', 'stack_9', 'stack_10',\n",
    "                                                                      'stack_11', 'stack_12', 'stack_13', 'stack_14', 'stack_15',\n",
    "                                                                      'stack_16','stack_17', 'stack_18', 'stack_19', 'stack_20']])\n"
   ]
  },
  {
   "cell_type": "code",
   "execution_count": 29,
   "metadata": {},
   "outputs": [],
   "source": [
    "X_cat_train[['stack_1', 'stack_2', 'stack_3', 'stack_4', 'stack_5',\n",
    "             'stack_6', 'stack_7', 'stack_8', 'stack_9', 'stack_10',\n",
    "             'stack_11', 'stack_12', 'stack_13', 'stack_14', 'stack_15',\n",
    "             'stack_16','stack_17', 'stack_18', 'stack_19', 'stack_20']] = stackaddresses_train_enc"
   ]
  },
  {
   "cell_type": "code",
   "execution_count": 30,
   "metadata": {},
   "outputs": [],
   "source": [
    "stackaddresses_val_enc = stack_ordinal_encoder.transform(X_cat_val[['stack_1', 'stack_2', 'stack_3', 'stack_4', 'stack_5',\n",
    "                                                        'stack_6', 'stack_7', 'stack_8', 'stack_9', 'stack_10',\n",
    "                                                        'stack_11', 'stack_12', 'stack_13', 'stack_14', 'stack_15',\n",
    "                                                        'stack_16','stack_17', 'stack_18', 'stack_19', 'stack_20']])"
   ]
  },
  {
   "cell_type": "code",
   "execution_count": 31,
   "metadata": {},
   "outputs": [],
   "source": [
    "stackaddresses_val_enc = np.where(stackaddresses_val_enc==-1, np.max(stackaddresses_train_enc)+1, stackaddresses_val_enc)"
   ]
  },
  {
   "cell_type": "code",
   "execution_count": 32,
   "metadata": {},
   "outputs": [],
   "source": [
    "X_cat_val[['stack_1', 'stack_2', 'stack_3', 'stack_4', 'stack_5',\n",
    "           'stack_6', 'stack_7', 'stack_8', 'stack_9', 'stack_10',\n",
    "           'stack_11', 'stack_12', 'stack_13', 'stack_14', 'stack_15',\n",
    "           'stack_16','stack_17', 'stack_18', 'stack_19', 'stack_20']]= stackaddresses_val_enc"
   ]
  },
  {
   "cell_type": "code",
   "execution_count": 33,
   "metadata": {},
   "outputs": [],
   "source": [
    "stackaddresses_test_enc = stack_ordinal_encoder.transform(X_cat_test[['stack_1', 'stack_2', 'stack_3', 'stack_4', 'stack_5',\n",
    "                                                        'stack_6', 'stack_7', 'stack_8', 'stack_9', 'stack_10',\n",
    "                                                        'stack_11', 'stack_12', 'stack_13', 'stack_14', 'stack_15',\n",
    "                                                        'stack_16','stack_17', 'stack_18', 'stack_19', 'stack_20']])\n",
    "\n",
    "stackaddresses_test_enc = np.where(stackaddresses_test_enc==-1, np.max(stackaddresses_train_enc)+1, stackaddresses_test_enc)\n",
    "\n",
    "X_cat_test[['stack_1', 'stack_2', 'stack_3', 'stack_4', 'stack_5',\n",
    "           'stack_6', 'stack_7', 'stack_8', 'stack_9', 'stack_10',\n",
    "           'stack_11', 'stack_12', 'stack_13', 'stack_14', 'stack_15',\n",
    "           'stack_16','stack_17', 'stack_18', 'stack_19', 'stack_20']]= stackaddresses_test_enc"
   ]
  },
  {
   "cell_type": "markdown",
   "metadata": {},
   "source": [
    "Args"
   ]
  },
  {
   "cell_type": "code",
   "execution_count": 34,
   "metadata": {},
   "outputs": [],
   "source": [
    "# encoder_args = OneHotEncoder(handle_unknown='ignore')\n",
    "\n",
    "# # Encode Stack adresses\n",
    "# args_train_enc = encoder_args.fit_transform(X_cat_train[['name_1', 'name_2', 'name_3', 'name_4', 'name_5',\n",
    "#                                                          'type_1', 'type_2', 'type_3', 'type_4', 'type_5',\n",
    "#                                                          'value_1', 'value_2', 'value_3', 'value_4', 'value_5']])\n",
    "\n",
    "# X_args_train = args_train_enc\n",
    "# X_args_train.shape"
   ]
  },
  {
   "cell_type": "code",
   "execution_count": 35,
   "metadata": {},
   "outputs": [],
   "source": [
    "# X_args_val = encoder_args.transform(X_cat_val[['name_1', 'name_2', 'name_3', 'name_4', 'name_5',\n",
    "#                                                'type_1', 'type_2', 'type_3', 'type_4', 'type_5',\n",
    "#                                                'value_1', 'value_2', 'value_3', 'value_4', 'value_5']])\n",
    "# X_args_val.shape"
   ]
  },
  {
   "cell_type": "code",
   "execution_count": 36,
   "metadata": {},
   "outputs": [],
   "source": [
    "# X_args_test = encoder_args.transform(X_cat_test[['name_1', 'name_2', 'name_3', 'name_4', 'name_5',\n",
    "#                                                'type_1', 'type_2', 'type_3', 'type_4', 'type_5',\n",
    "#                                                'value_1', 'value_2', 'value_3', 'value_4', 'value_5']])\n",
    "# X_args_test.shape"
   ]
  },
  {
   "cell_type": "code",
   "execution_count": 37,
   "metadata": {},
   "outputs": [],
   "source": [
    "# Encode Stack adresses\n",
    "args_ordinal_encoder = OrdinalEncoder(handle_unknown='use_encoded_value', unknown_value=-1, dtype=float)\n",
    "args_train_enc = args_ordinal_encoder.fit_transform(X_cat_train[['name_1', 'name_2', 'name_3', 'name_4', 'name_5',\n",
    "                                                            'type_1', 'type_2', 'type_3', 'type_4', 'type_5',\n",
    "                                                            'value_1', 'value_2', 'value_3', 'value_4', 'value_5']])\n",
    "X_cat_train[['name_1', 'name_2', 'name_3', 'name_4', 'name_5',\n",
    "             'type_1', 'type_2', 'type_3', 'type_4', 'type_5',\n",
    "             'value_1', 'value_2', 'value_3', 'value_4', 'value_5']] = args_train_enc"
   ]
  },
  {
   "cell_type": "code",
   "execution_count": 38,
   "metadata": {},
   "outputs": [],
   "source": [
    "args_val_enc = args_ordinal_encoder.transform(X_cat_val[['name_1', 'name_2', 'name_3', 'name_4', 'name_5',\n",
    "                                                    'type_1', 'type_2', 'type_3', 'type_4', 'type_5',\n",
    "                                                    'value_1', 'value_2', 'value_3', 'value_4', 'value_5']])\n",
    "\n",
    "args_val_enc = np.where(args_val_enc==-1, np.max(args_train_enc)+1, args_val_enc)\n",
    "\n",
    "X_cat_val[['name_1', 'name_2', 'name_3', 'name_4', 'name_5',\n",
    "           'type_1', 'type_2', 'type_3', 'type_4', 'type_5',\n",
    "           'value_1', 'value_2', 'value_3', 'value_4', 'value_5']] = args_val_enc"
   ]
  },
  {
   "cell_type": "code",
   "execution_count": 39,
   "metadata": {},
   "outputs": [],
   "source": [
    "args_test_enc = args_ordinal_encoder.transform(X_cat_test[['name_1', 'name_2', 'name_3', 'name_4', 'name_5',\n",
    "                                                      'type_1', 'type_2', 'type_3', 'type_4', 'type_5',\n",
    "                                                      'value_1', 'value_2', 'value_3', 'value_4', 'value_5']])\n",
    "\n",
    "args_test_enc = np.where(args_test_enc==-1, np.max(args_train_enc)+1, args_test_enc)\n",
    "\n",
    "X_cat_test[['name_1', 'name_2', 'name_3', 'name_4', 'name_5',\n",
    "           'type_1', 'type_2', 'type_3', 'type_4', 'type_5',\n",
    "           'value_1', 'value_2', 'value_3', 'value_4', 'value_5']] = args_test_enc"
   ]
  },
  {
   "cell_type": "markdown",
   "metadata": {},
   "source": [
    "ProcessName"
   ]
  },
  {
   "cell_type": "code",
   "execution_count": 40,
   "metadata": {},
   "outputs": [],
   "source": [
    "proc_ordinal_encoder = OrdinalEncoder(handle_unknown='use_encoded_value', unknown_value=-1, dtype=float)\n",
    "X_cat_train['processName'] = proc_ordinal_encoder.fit_transform(X_cat_train[['processName']])"
   ]
  },
  {
   "cell_type": "code",
   "execution_count": 41,
   "metadata": {},
   "outputs": [],
   "source": [
    "processName_val_enc = proc_ordinal_encoder.transform(X_cat_val[['processName']])\n",
    "processName_val_enc = np.where(processName_val_enc==-1, np.max(X_cat_train['processName'])+1, processName_val_enc)\n",
    "X_cat_val['processName'] = processName_val_enc"
   ]
  },
  {
   "cell_type": "code",
   "execution_count": 42,
   "metadata": {},
   "outputs": [],
   "source": [
    "processName_test_enc = proc_ordinal_encoder.transform(X_cat_test[['processName']])\n",
    "processName_test_enc = np.where(processName_test_enc==-1, np.max(X_cat_train['processName'])+1, processName_test_enc)\n",
    "X_cat_test['processName'] = processName_test_enc"
   ]
  },
  {
   "cell_type": "markdown",
   "metadata": {},
   "source": [
    "HostName"
   ]
  },
  {
   "cell_type": "code",
   "execution_count": 43,
   "metadata": {},
   "outputs": [],
   "source": [
    "host_ordinal_encoder = OrdinalEncoder(handle_unknown='use_encoded_value', unknown_value=-1, dtype=float)\n",
    "X_cat_train['hostName'] = host_ordinal_encoder.fit_transform(X_cat_train[['hostName']])\n",
    "\n",
    "host_val_enc = host_ordinal_encoder.transform(X_cat_val[['hostName']])\n",
    "host_val_enc = np.where(host_val_enc==-1, np.max(X_cat_train['hostName'])+1, host_val_enc)\n",
    "X_cat_val['hostName'] = host_val_enc\n",
    "\n",
    "host_test_enc = host_ordinal_encoder.transform(X_cat_test[['hostName']])\n",
    "host_test_enc = np.where(host_test_enc==-1, np.max(X_cat_train['hostName'])+1, host_test_enc)\n",
    "X_cat_test['hostName'] = host_test_enc"
   ]
  },
  {
   "cell_type": "markdown",
   "metadata": {},
   "source": [
    "EventName"
   ]
  },
  {
   "cell_type": "code",
   "execution_count": 44,
   "metadata": {},
   "outputs": [],
   "source": [
    "event_ordinal_encoder = OrdinalEncoder(handle_unknown='use_encoded_value', unknown_value=-1, dtype=float)\n",
    "X_cat_train['eventName'] = event_ordinal_encoder.fit_transform(X_cat_train[['eventName']])\n",
    "\n",
    "event_val_enc = event_ordinal_encoder.transform(X_cat_val[['eventName']])\n",
    "event_val_enc = np.where(event_val_enc==-1, np.max(X_cat_train['eventName'])+1, event_val_enc)\n",
    "X_cat_val['eventName'] = event_val_enc\n",
    "\n",
    "event_test_enc = event_ordinal_encoder.transform(X_cat_test[['eventName']])\n",
    "event_test_enc = np.where(event_test_enc==-1, np.max(X_cat_train['eventName'])+1, event_test_enc)\n",
    "X_cat_test['eventName'] = event_test_enc"
   ]
  },
  {
   "cell_type": "code",
   "execution_count": 45,
   "metadata": {},
   "outputs": [],
   "source": [
    "X_train = pd.concat([X_num_train, X_cat_train], axis=1)\n",
    "y_train = train_data['sus']"
   ]
  },
  {
   "cell_type": "code",
   "execution_count": 46,
   "metadata": {},
   "outputs": [],
   "source": [
    "X_val = pd.concat([X_num_val, X_cat_val], axis=1)\n",
    "y_val = val_data['sus']"
   ]
  },
  {
   "cell_type": "code",
   "execution_count": 47,
   "metadata": {},
   "outputs": [],
   "source": [
    "X_test = pd.concat([X_num_test, X_cat_test], axis=1)\n",
    "y_test = test_data['sus']"
   ]
  },
  {
   "cell_type": "markdown",
   "metadata": {},
   "source": [
    "**Standard scaler**"
   ]
  },
  {
   "cell_type": "code",
   "execution_count": 48,
   "metadata": {},
   "outputs": [],
   "source": [
    "from sklearn.preprocessing import StandardScaler\n",
    "scaler1 = StandardScaler()\n",
    "X_train_scaled = scaler1.fit_transform(X_train)\n",
    "X_val_scaled = scaler1.transform(X_val)\n",
    "X_test_scaled = scaler1.transform(X_test)\n",
    "\n",
    "scaler2 = StandardScaler()\n",
    "X_num_train_scaled = scaler2.fit_transform(X_num_train)\n",
    "X_num_val_scaled = scaler2.transform(X_num_val)\n",
    "X_num_test_scaled = scaler2.transform(X_num_test)\n",
    "\n",
    "scaler3 = StandardScaler()\n",
    "X_cat_train_scaled = scaler3.fit_transform(X_cat_train)\n",
    "X_cat_val_scaled = scaler3.transform(X_cat_val)\n",
    "X_cat_test_scaled = scaler3.transform(X_cat_test)"
   ]
  },
  {
   "cell_type": "markdown",
   "metadata": {},
   "source": [
    "## Modelisation"
   ]
  },
  {
   "cell_type": "markdown",
   "metadata": {},
   "source": [
    "#### Plot training history"
   ]
  },
  {
   "cell_type": "code",
   "execution_count": 49,
   "metadata": {},
   "outputs": [],
   "source": [
    "def plot_training(history):\n",
    "    training_accuracy = history.history['accuracy']\n",
    "    validation_accuracy = history.history['val_accuracy']\n",
    "\n",
    "    # Get the training and validation loss\n",
    "    training_loss = history.history['loss']\n",
    "    validation_loss = history.history['val_loss']\n",
    "\n",
    "    # Plot the accuracy\n",
    "    plt.figure(figsize=(8, 4))\n",
    "    plt.plot(training_accuracy, label='Training Accuracy')\n",
    "    plt.plot(validation_accuracy, label='Validation Accuracy')\n",
    "    plt.xlabel('Epochs')\n",
    "    plt.ylabel('Accuracy')\n",
    "    plt.title('Training and Validation Accuracy')\n",
    "    plt.legend()\n",
    "    plt.show()\n",
    "\n",
    "    # Plot the loss\n",
    "    plt.figure(figsize=(8, 4))\n",
    "    plt.plot(training_loss, label='Training Loss')\n",
    "    plt.plot(validation_loss, label='Validation Loss')\n",
    "    plt.xlabel('Epochs')\n",
    "    plt.ylabel('Loss')\n",
    "    plt.title('Training and Validation Loss')\n",
    "    plt.legend()\n",
    "    return(plt)"
   ]
  },
  {
   "cell_type": "markdown",
   "metadata": {},
   "source": [
    "#### <b>Model1 no embeddings</b>"
   ]
  },
  {
   "cell_type": "code",
   "execution_count": 50,
   "metadata": {},
   "outputs": [
    {
     "data": {
      "text/html": [
       "<pre style=\"white-space:pre;overflow-x:auto;line-height:normal;font-family:Menlo,'DejaVu Sans Mono',consolas,'Courier New',monospace\"><span style=\"font-weight: bold\">Model: \"sequential\"</span>\n",
       "</pre>\n"
      ],
      "text/plain": [
       "\u001b[1mModel: \"sequential\"\u001b[0m\n"
      ]
     },
     "metadata": {},
     "output_type": "display_data"
    },
    {
     "data": {
      "text/html": [
       "<pre style=\"white-space:pre;overflow-x:auto;line-height:normal;font-family:Menlo,'DejaVu Sans Mono',consolas,'Courier New',monospace\">┏━━━━━━━━━━━━━━━━━━━━━━━━━━━━━━━━━┳━━━━━━━━━━━━━━━━━━━━━━━━┳━━━━━━━━━━━━━━━┓\n",
       "┃<span style=\"font-weight: bold\"> Layer (type)                    </span>┃<span style=\"font-weight: bold\"> Output Shape           </span>┃<span style=\"font-weight: bold\">       Param # </span>┃\n",
       "┡━━━━━━━━━━━━━━━━━━━━━━━━━━━━━━━━━╇━━━━━━━━━━━━━━━━━━━━━━━━╇━━━━━━━━━━━━━━━┩\n",
       "│ conv1d (<span style=\"color: #0087ff; text-decoration-color: #0087ff\">Conv1D</span>)                 │ (<span style=\"color: #00d7ff; text-decoration-color: #00d7ff\">None</span>, <span style=\"color: #00af00; text-decoration-color: #00af00\">45</span>, <span style=\"color: #00af00; text-decoration-color: #00af00\">256</span>)        │         <span style=\"color: #00af00; text-decoration-color: #00af00\">1,024</span> │\n",
       "├─────────────────────────────────┼────────────────────────┼───────────────┤\n",
       "│ dropout (<span style=\"color: #0087ff; text-decoration-color: #0087ff\">Dropout</span>)               │ (<span style=\"color: #00d7ff; text-decoration-color: #00d7ff\">None</span>, <span style=\"color: #00af00; text-decoration-color: #00af00\">45</span>, <span style=\"color: #00af00; text-decoration-color: #00af00\">256</span>)        │             <span style=\"color: #00af00; text-decoration-color: #00af00\">0</span> │\n",
       "├─────────────────────────────────┼────────────────────────┼───────────────┤\n",
       "│ flatten (<span style=\"color: #0087ff; text-decoration-color: #0087ff\">Flatten</span>)               │ (<span style=\"color: #00d7ff; text-decoration-color: #00d7ff\">None</span>, <span style=\"color: #00af00; text-decoration-color: #00af00\">11520</span>)          │             <span style=\"color: #00af00; text-decoration-color: #00af00\">0</span> │\n",
       "├─────────────────────────────────┼────────────────────────┼───────────────┤\n",
       "│ dense (<span style=\"color: #0087ff; text-decoration-color: #0087ff\">Dense</span>)                   │ (<span style=\"color: #00d7ff; text-decoration-color: #00d7ff\">None</span>, <span style=\"color: #00af00; text-decoration-color: #00af00\">128</span>)            │     <span style=\"color: #00af00; text-decoration-color: #00af00\">1,474,688</span> │\n",
       "├─────────────────────────────────┼────────────────────────┼───────────────┤\n",
       "│ dense_1 (<span style=\"color: #0087ff; text-decoration-color: #0087ff\">Dense</span>)                 │ (<span style=\"color: #00d7ff; text-decoration-color: #00d7ff\">None</span>, <span style=\"color: #00af00; text-decoration-color: #00af00\">1</span>)              │           <span style=\"color: #00af00; text-decoration-color: #00af00\">129</span> │\n",
       "└─────────────────────────────────┴────────────────────────┴───────────────┘\n",
       "</pre>\n"
      ],
      "text/plain": [
       "┏━━━━━━━━━━━━━━━━━━━━━━━━━━━━━━━━━┳━━━━━━━━━━━━━━━━━━━━━━━━┳━━━━━━━━━━━━━━━┓\n",
       "┃\u001b[1m \u001b[0m\u001b[1mLayer (type)                   \u001b[0m\u001b[1m \u001b[0m┃\u001b[1m \u001b[0m\u001b[1mOutput Shape          \u001b[0m\u001b[1m \u001b[0m┃\u001b[1m \u001b[0m\u001b[1m      Param #\u001b[0m\u001b[1m \u001b[0m┃\n",
       "┡━━━━━━━━━━━━━━━━━━━━━━━━━━━━━━━━━╇━━━━━━━━━━━━━━━━━━━━━━━━╇━━━━━━━━━━━━━━━┩\n",
       "│ conv1d (\u001b[38;5;33mConv1D\u001b[0m)                 │ (\u001b[38;5;45mNone\u001b[0m, \u001b[38;5;34m45\u001b[0m, \u001b[38;5;34m256\u001b[0m)        │         \u001b[38;5;34m1,024\u001b[0m │\n",
       "├─────────────────────────────────┼────────────────────────┼───────────────┤\n",
       "│ dropout (\u001b[38;5;33mDropout\u001b[0m)               │ (\u001b[38;5;45mNone\u001b[0m, \u001b[38;5;34m45\u001b[0m, \u001b[38;5;34m256\u001b[0m)        │             \u001b[38;5;34m0\u001b[0m │\n",
       "├─────────────────────────────────┼────────────────────────┼───────────────┤\n",
       "│ flatten (\u001b[38;5;33mFlatten\u001b[0m)               │ (\u001b[38;5;45mNone\u001b[0m, \u001b[38;5;34m11520\u001b[0m)          │             \u001b[38;5;34m0\u001b[0m │\n",
       "├─────────────────────────────────┼────────────────────────┼───────────────┤\n",
       "│ dense (\u001b[38;5;33mDense\u001b[0m)                   │ (\u001b[38;5;45mNone\u001b[0m, \u001b[38;5;34m128\u001b[0m)            │     \u001b[38;5;34m1,474,688\u001b[0m │\n",
       "├─────────────────────────────────┼────────────────────────┼───────────────┤\n",
       "│ dense_1 (\u001b[38;5;33mDense\u001b[0m)                 │ (\u001b[38;5;45mNone\u001b[0m, \u001b[38;5;34m1\u001b[0m)              │           \u001b[38;5;34m129\u001b[0m │\n",
       "└─────────────────────────────────┴────────────────────────┴───────────────┘\n"
      ]
     },
     "metadata": {},
     "output_type": "display_data"
    },
    {
     "data": {
      "text/html": [
       "<pre style=\"white-space:pre;overflow-x:auto;line-height:normal;font-family:Menlo,'DejaVu Sans Mono',consolas,'Courier New',monospace\"><span style=\"font-weight: bold\"> Total params: </span><span style=\"color: #00af00; text-decoration-color: #00af00\">1,475,841</span> (5.63 MB)\n",
       "</pre>\n"
      ],
      "text/plain": [
       "\u001b[1m Total params: \u001b[0m\u001b[38;5;34m1,475,841\u001b[0m (5.63 MB)\n"
      ]
     },
     "metadata": {},
     "output_type": "display_data"
    },
    {
     "data": {
      "text/html": [
       "<pre style=\"white-space:pre;overflow-x:auto;line-height:normal;font-family:Menlo,'DejaVu Sans Mono',consolas,'Courier New',monospace\"><span style=\"font-weight: bold\"> Trainable params: </span><span style=\"color: #00af00; text-decoration-color: #00af00\">1,475,841</span> (5.63 MB)\n",
       "</pre>\n"
      ],
      "text/plain": [
       "\u001b[1m Trainable params: \u001b[0m\u001b[38;5;34m1,475,841\u001b[0m (5.63 MB)\n"
      ]
     },
     "metadata": {},
     "output_type": "display_data"
    },
    {
     "data": {
      "text/html": [
       "<pre style=\"white-space:pre;overflow-x:auto;line-height:normal;font-family:Menlo,'DejaVu Sans Mono',consolas,'Courier New',monospace\"><span style=\"font-weight: bold\"> Non-trainable params: </span><span style=\"color: #00af00; text-decoration-color: #00af00\">0</span> (0.00 B)\n",
       "</pre>\n"
      ],
      "text/plain": [
       "\u001b[1m Non-trainable params: \u001b[0m\u001b[38;5;34m0\u001b[0m (0.00 B)\n"
      ]
     },
     "metadata": {},
     "output_type": "display_data"
    }
   ],
   "source": [
    "random_normal_initializer = tf.keras.initializers.RandomNormal(mean=0.1, stddev=0.1, seed=51)\n",
    "model1 = Sequential([\n",
    "  Conv1D(256, 3, input_shape=(47, 1), activation='relu', kernel_initializer='lecun_normal', \n",
    "         bias_initializer=random_normal_initializer),\n",
    "  Dropout(0.2),\n",
    "  # Conv1D(256, 2, activation='relu', kernel_initializer='lecun_normal', bias_initializer=random_normal_initializer),\n",
    "  # Dropout(0.2),\n",
    "  # Conv1D(32, 2, activation='relu', kernel_initializer='lecun_normal', bias_initializer=random_normal_initializer),\n",
    "  # Dropout(0.2),\n",
    "  # Conv1D(32, 2, activation='relu', kernel_initializer='lecun_normal', bias_initializer=random_normal_initializer),\n",
    "  # Dropout(0.2),\n",
    "  Flatten(),\n",
    "  Dense(units=128, activation='relu', kernel_initializer='lecun_normal', bias_initializer=random_normal_initializer),\n",
    "  Dense(units=1, activation='sigmoid', kernel_initializer='lecun_normal', bias_initializer=random_normal_initializer)\n",
    "])\n",
    "\n",
    "model1.summary()\n"
   ]
  },
  {
   "cell_type": "code",
   "execution_count": 51,
   "metadata": {},
   "outputs": [
    {
     "name": "stdout",
     "output_type": "stream",
     "text": [
      "Epoch 1/100\n",
      "\u001b[1m77/77\u001b[0m \u001b[32m━━━━━━━━━━━━━━━━━━━━\u001b[0m\u001b[37m\u001b[0m \u001b[1m22s\u001b[0m 286ms/step - accuracy: 0.9358 - loss: 0.1991 - val_accuracy: 0.9999 - val_loss: 2.3476\n",
      "Epoch 2/100\n",
      "\u001b[1m77/77\u001b[0m \u001b[32m━━━━━━━━━━━━━━━━━━━━\u001b[0m\u001b[37m\u001b[0m \u001b[1m22s\u001b[0m 285ms/step - accuracy: 0.9996 - loss: 0.0068 - val_accuracy: 0.9999 - val_loss: 0.7646\n",
      "Epoch 3/100\n",
      "\u001b[1m77/77\u001b[0m \u001b[32m━━━━━━━━━━━━━━━━━━━━\u001b[0m\u001b[37m\u001b[0m \u001b[1m22s\u001b[0m 285ms/step - accuracy: 0.9996 - loss: 0.0060 - val_accuracy: 0.9999 - val_loss: 0.0910\n",
      "Epoch 4/100\n",
      "\u001b[1m77/77\u001b[0m \u001b[32m━━━━━━━━━━━━━━━━━━━━\u001b[0m\u001b[37m\u001b[0m \u001b[1m22s\u001b[0m 286ms/step - accuracy: 0.9997 - loss: 0.0038 - val_accuracy: 0.9999 - val_loss: 0.0452\n",
      "Epoch 5/100\n",
      "\u001b[1m77/77\u001b[0m \u001b[32m━━━━━━━━━━━━━━━━━━━━\u001b[0m\u001b[37m\u001b[0m \u001b[1m22s\u001b[0m 284ms/step - accuracy: 0.9997 - loss: 0.0026 - val_accuracy: 0.9999 - val_loss: 0.1361\n",
      "Epoch 6/100\n",
      "\u001b[1m77/77\u001b[0m \u001b[32m━━━━━━━━━━━━━━━━━━━━\u001b[0m\u001b[37m\u001b[0m \u001b[1m22s\u001b[0m 285ms/step - accuracy: 0.9996 - loss: 0.0029 - val_accuracy: 0.9999 - val_loss: 0.0995\n"
     ]
    }
   ],
   "source": [
    "model1.compile(optimizer=Adam(learning_rate=0.003), loss='binary_crossentropy', metrics=['accuracy'])\n",
    "callback = tf.keras.callbacks.EarlyStopping(monitor='val_accuracy', patience=5, restore_best_weights=False)\n",
    "history1 = model1.fit(X_train_scaled,y_train, validation_data=(X_val_scaled, y_val), epochs=100, verbose=1, batch_size=10000,\n",
    "                      callbacks=[callback])\n"
   ]
  },
  {
   "cell_type": "code",
   "execution_count": 52,
   "metadata": {},
   "outputs": [
    {
     "name": "stdout",
     "output_type": "stream",
     "text": [
      "\u001b[1m5906/5906\u001b[0m \u001b[32m━━━━━━━━━━━━━━━━━━━━\u001b[0m\u001b[37m\u001b[0m \u001b[1m5s\u001b[0m 814us/step - accuracy: 0.2702 - loss: 559.0272\n",
      "Accuracy of model1: 9.3%\n"
     ]
    }
   ],
   "source": [
    "# Model evaluation\n",
    "accuracy1 = model1.evaluate(X_test_scaled,y_test)\n",
    "print(f\"Accuracy of model1: {(100*accuracy1[1]):.1f}%\")"
   ]
  },
  {
   "cell_type": "code",
   "execution_count": 53,
   "metadata": {},
   "outputs": [
    {
     "data": {
      "image/png": "[encoded data removed]",
      "text/plain": [
       "<Figure size 800x400 with 1 Axes>"
      ]
     },
     "metadata": {},
     "output_type": "display_data"
    },
    {
     "data": {
      "image/png": "[encoded data removed]",
      "text/plain": [
       "<Figure size 800x400 with 1 Axes>"
      ]
     },
     "metadata": {},
     "output_type": "display_data"
    }
   ],
   "source": [
    "plot_training(history1);"
   ]
  },
  {
   "cell_type": "markdown",
   "metadata": {},
   "source": [
    "##### <b>Prediction</b>"
   ]
  },
  {
   "cell_type": "code",
   "execution_count": 54,
   "metadata": {},
   "outputs": [
    {
     "name": "stdout",
     "output_type": "stream",
     "text": [
      "\u001b[1m5906/5906\u001b[0m \u001b[32m━━━━━━━━━━━━━━━━━━━━\u001b[0m\u001b[37m\u001b[0m \u001b[1m5s\u001b[0m 763us/step\n"
     ]
    }
   ],
   "source": [
    "prediction_1 = model1.predict(X_test_scaled)"
   ]
  },
  {
   "cell_type": "code",
   "execution_count": 55,
   "metadata": {},
   "outputs": [],
   "source": [
    "prediction_1_threshold = np.where(prediction_1>0.5,1,0)"
   ]
  },
  {
   "cell_type": "markdown",
   "metadata": {},
   "source": [
    "##### <b>F1 score</b>"
   ]
  },
  {
   "cell_type": "code",
   "execution_count": 56,
   "metadata": {},
   "outputs": [
    {
     "name": "stdout",
     "output_type": "stream",
     "text": [
      "              precision    recall  f1-score   support\n",
      "\n",
      "           0       0.09      1.00      0.17     17508\n",
      "           1       0.00      0.00      0.00    171459\n",
      "\n",
      "    accuracy                           0.09    188967\n",
      "   macro avg       0.05      0.50      0.08    188967\n",
      "weighted avg       0.01      0.09      0.02    188967\n",
      "\n"
     ]
    }
   ],
   "source": [
    "print(classification_report(y_test, prediction_1_threshold))"
   ]
  },
  {
   "cell_type": "markdown",
   "metadata": {},
   "source": [
    "##### **Confusion matrix**"
   ]
  },
  {
   "cell_type": "code",
   "execution_count": 57,
   "metadata": {},
   "outputs": [
    {
     "data": {
      "text/plain": [
       "<sklearn.metrics._plot.confusion_matrix.ConfusionMatrixDisplay at 0x417aec820>"
      ]
     },
     "execution_count": 57,
     "metadata": {},
     "output_type": "execute_result"
    },
    {
     "data": {
      "image/png": "[encoded data removed]",
      "text/plain": [
       "<Figure size 640x480 with 2 Axes>"
      ]
     },
     "metadata": {},
     "output_type": "display_data"
    }
   ],
   "source": [
    "conf_matrix = confusion_matrix(y_true=y_test, y_pred=prediction_1_threshold)\n",
    "ConfusionMatrixDisplay(conf_matrix).plot()"
   ]
  },
  {
   "cell_type": "markdown",
   "metadata": {},
   "source": [
    "##### <b>AUC</b>"
   ]
  },
  {
   "cell_type": "code",
   "execution_count": 58,
   "metadata": {},
   "outputs": [
    {
     "data": {
      "image/png": "[encoded data removed]",
      "text/plain": [
       "<Figure size 640x480 with 1 Axes>"
      ]
     },
     "metadata": {},
     "output_type": "display_data"
    }
   ],
   "source": [
    "auroc = roc_auc_score(y_test, prediction_1_threshold)\n",
    "fpr, tpr, _ = roc_curve(y_test, prediction_1_threshold)\n",
    "plt.plot(fpr,tpr,label=f\"AUC= {auroc:.2f}\")\n",
    "plt.ylabel('True Positive Rate')\n",
    "plt.xlabel('False Positive Rate')\n",
    "plt.legend(loc=4)\n",
    "plt.show()"
   ]
  },
  {
   "cell_type": "markdown",
   "metadata": {},
   "source": [
    "#### Convolutional network with embeddings for categorical features"
   ]
  },
  {
   "cell_type": "markdown",
   "metadata": {},
   "source": [
    "**Model**"
   ]
  },
  {
   "cell_type": "code",
   "execution_count": 59,
   "metadata": {},
   "outputs": [
    {
     "data": {
      "text/plain": [
       "(8449, 26665, 37, 33, 9)"
      ]
     },
     "execution_count": 59,
     "metadata": {},
     "output_type": "execute_result"
    }
   ],
   "source": [
    "n_unique_stack = (np.max(stackaddresses_train_enc)+2).astype('int')\n",
    "n_unique_args = (np.max(args_train_enc)+2).astype('int')\n",
    "n_unique_proc = (np.max(X_cat_train['processName'])+2).astype('int')\n",
    "n_unique_event = (np.max(X_cat_train['eventName'])+2).astype('int')\n",
    "n_unique_host = (np.max(X_cat_train['hostName'])+2).astype('int')\n",
    "\n",
    "n_unique_stack,n_unique_args,n_unique_proc,n_unique_event,n_unique_host"
   ]
  },
  {
   "cell_type": "code",
   "execution_count": 382,
   "metadata": {},
   "outputs": [],
   "source": [
    "from keras.regularizers import L1L2\n",
    "from keras.initializers import RandomNormal\n",
    "from keras.constraints import UnitNorm\n",
    "from keras.callbacks import EarlyStopping\n",
    "\n",
    "# Define input layers\n",
    "input_stack = Input(shape=(20,))\n",
    "input_args = Input(shape=(15,))\n",
    "input_num = Input(shape=(9,))\n",
    "\n",
    "input_layers = [input_stack, input_args, input_num]\n",
    "\n",
    "# Embeddings\n",
    "embedding_stack = Embedding(input_dim=n_unique_stack,\n",
    "                            output_dim=128,\n",
    "                            embeddings_initializer = RandomNormal(mean=0.1, stddev=0.0001, seed=41),\n",
    "                            embeddings_regularizer = L1L2(l1=0.00001, l2=0.00001),\n",
    "                            embeddings_constraint  = UnitNorm(axis=[0,1]),\n",
    "                            mask_zero=False,\n",
    "                            name=\"stack_addresses\")(input_stack)\n",
    "embedding_stack = Dense(32, activation='linear')(embedding_stack)\n",
    "embedding_args = Embedding(input_dim=n_unique_args,\n",
    "                           output_dim=64,\n",
    "                           embeddings_initializer = RandomNormal(mean=0.1, stddev=0.0001, seed=41),\n",
    "                           embeddings_regularizer = L1L2(l1=0.00001, l2=0.00001),\n",
    "                           embeddings_constraint  = UnitNorm(axis=[0,1]),\n",
    "                           mask_zero=False,\n",
    "                           name=\"args\")(input_args)\n",
    "embedding_args = Dense(32, activation='linear')(embedding_args)\n",
    "\n",
    "\n",
    "# Dense for numerical inputs\n",
    "embed_num = Dense(32, activation='linear')(input_num)\n",
    "# Reshape numerical input using a Keras layer\n",
    "input_num_reshaped = Reshape(target_shape=(1, 32))(embed_num)\n",
    "\n",
    "# Concatenate embeddings\n",
    "embedding_concat = Concatenate(axis=1)([embedding_stack,\n",
    "                                        embedding_args,\n",
    "                                        input_num_reshaped])\n",
    "\n",
    "# Convolutional layers\n",
    "conv1d = Conv1D(filters=128, kernel_size=5, activation='relu')(embedding_concat)\n",
    "# maxpool1d = MaxPooling1D(pool_size=2)(conv1d)\n",
    "conv2d = Conv1D(filters=32, kernel_size=3, activation='relu')(conv1d)\n",
    "# maxpool2d = MaxPooling1D(pool_size=2)(conv2d)\n",
    "flatten = Flatten()(conv2d)\n",
    "\n",
    "# Concatenate with numerical features\n",
    "# concatenated = Concatenate()([flatten, input_num])\n",
    "\n",
    "# Dense layers\n",
    "x = Dense(256, activation='relu', kernel_initializer='lecun_normal')(flatten)\n",
    "x = Dropout(0.2)(x)\n",
    "x = Dense(64, activation='relu', kernel_initializer='lecun_normal')(x)\n",
    "x = Dropout(0.1)(x)\n",
    "\n",
    "# Output layer\n",
    "output = Dense(1, activation='sigmoid', kernel_initializer='lecun_normal')(x)\n"
   ]
  },
  {
   "cell_type": "code",
   "execution_count": 383,
   "metadata": {},
   "outputs": [
    {
     "data": {
      "text/html": [
       "<pre style=\"white-space:pre;overflow-x:auto;line-height:normal;font-family:Menlo,'DejaVu Sans Mono',consolas,'Courier New',monospace\"><span style=\"font-weight: bold\">Model: \"functional_136\"</span>\n",
       "</pre>\n"
      ],
      "text/plain": [
       "\u001b[1mModel: \"functional_136\"\u001b[0m\n"
      ]
     },
     "metadata": {},
     "output_type": "display_data"
    },
    {
     "data": {
      "text/html": [
       "<pre style=\"white-space:pre;overflow-x:auto;line-height:normal;font-family:Menlo,'DejaVu Sans Mono',consolas,'Courier New',monospace\">┏━━━━━━━━━━━━━━━━━━━━━┳━━━━━━━━━━━━━━━━━━━┳━━━━━━━━━━━━┳━━━━━━━━━━━━━━━━━━━┓\n",
       "┃<span style=\"font-weight: bold\"> Layer (type)        </span>┃<span style=\"font-weight: bold\"> Output Shape      </span>┃<span style=\"font-weight: bold\">    Param # </span>┃<span style=\"font-weight: bold\"> Connected to      </span>┃\n",
       "┡━━━━━━━━━━━━━━━━━━━━━╇━━━━━━━━━━━━━━━━━━━╇━━━━━━━━━━━━╇━━━━━━━━━━━━━━━━━━━┩\n",
       "│ input_layer_220     │ (<span style=\"color: #00d7ff; text-decoration-color: #00d7ff\">None</span>, <span style=\"color: #00af00; text-decoration-color: #00af00\">20</span>)        │          <span style=\"color: #00af00; text-decoration-color: #00af00\">0</span> │ -                 │\n",
       "│ (<span style=\"color: #0087ff; text-decoration-color: #0087ff\">InputLayer</span>)        │                   │            │                   │\n",
       "├─────────────────────┼───────────────────┼────────────┼───────────────────┤\n",
       "│ input_layer_221     │ (<span style=\"color: #00d7ff; text-decoration-color: #00d7ff\">None</span>, <span style=\"color: #00af00; text-decoration-color: #00af00\">15</span>)        │          <span style=\"color: #00af00; text-decoration-color: #00af00\">0</span> │ -                 │\n",
       "│ (<span style=\"color: #0087ff; text-decoration-color: #0087ff\">InputLayer</span>)        │                   │            │                   │\n",
       "├─────────────────────┼───────────────────┼────────────┼───────────────────┤\n",
       "│ input_layer_222     │ (<span style=\"color: #00d7ff; text-decoration-color: #00d7ff\">None</span>, <span style=\"color: #00af00; text-decoration-color: #00af00\">9</span>)         │          <span style=\"color: #00af00; text-decoration-color: #00af00\">0</span> │ -                 │\n",
       "│ (<span style=\"color: #0087ff; text-decoration-color: #0087ff\">InputLayer</span>)        │                   │            │                   │\n",
       "├─────────────────────┼───────────────────┼────────────┼───────────────────┤\n",
       "│ stack_addresses     │ (<span style=\"color: #00d7ff; text-decoration-color: #00d7ff\">None</span>, <span style=\"color: #00af00; text-decoration-color: #00af00\">20</span>, <span style=\"color: #00af00; text-decoration-color: #00af00\">128</span>)   │  <span style=\"color: #00af00; text-decoration-color: #00af00\">1,081,472</span> │ input_layer_220[<span style=\"color: #00af00; text-decoration-color: #00af00\">…</span> │\n",
       "│ (<span style=\"color: #0087ff; text-decoration-color: #0087ff\">Embedding</span>)         │                   │            │                   │\n",
       "├─────────────────────┼───────────────────┼────────────┼───────────────────┤\n",
       "│ args (<span style=\"color: #0087ff; text-decoration-color: #0087ff\">Embedding</span>)    │ (<span style=\"color: #00d7ff; text-decoration-color: #00d7ff\">None</span>, <span style=\"color: #00af00; text-decoration-color: #00af00\">15</span>, <span style=\"color: #00af00; text-decoration-color: #00af00\">64</span>)    │  <span style=\"color: #00af00; text-decoration-color: #00af00\">1,706,560</span> │ input_layer_221[<span style=\"color: #00af00; text-decoration-color: #00af00\">…</span> │\n",
       "├─────────────────────┼───────────────────┼────────────┼───────────────────┤\n",
       "│ dense_379 (<span style=\"color: #0087ff; text-decoration-color: #0087ff\">Dense</span>)   │ (<span style=\"color: #00d7ff; text-decoration-color: #00d7ff\">None</span>, <span style=\"color: #00af00; text-decoration-color: #00af00\">32</span>)        │        <span style=\"color: #00af00; text-decoration-color: #00af00\">320</span> │ input_layer_222[<span style=\"color: #00af00; text-decoration-color: #00af00\">…</span> │\n",
       "├─────────────────────┼───────────────────┼────────────┼───────────────────┤\n",
       "│ dense_377 (<span style=\"color: #0087ff; text-decoration-color: #0087ff\">Dense</span>)   │ (<span style=\"color: #00d7ff; text-decoration-color: #00d7ff\">None</span>, <span style=\"color: #00af00; text-decoration-color: #00af00\">20</span>, <span style=\"color: #00af00; text-decoration-color: #00af00\">32</span>)    │      <span style=\"color: #00af00; text-decoration-color: #00af00\">4,128</span> │ stack_addresses[<span style=\"color: #00af00; text-decoration-color: #00af00\">…</span> │\n",
       "├─────────────────────┼───────────────────┼────────────┼───────────────────┤\n",
       "│ dense_378 (<span style=\"color: #0087ff; text-decoration-color: #0087ff\">Dense</span>)   │ (<span style=\"color: #00d7ff; text-decoration-color: #00d7ff\">None</span>, <span style=\"color: #00af00; text-decoration-color: #00af00\">15</span>, <span style=\"color: #00af00; text-decoration-color: #00af00\">32</span>)    │      <span style=\"color: #00af00; text-decoration-color: #00af00\">2,080</span> │ args[<span style=\"color: #00af00; text-decoration-color: #00af00\">0</span>][<span style=\"color: #00af00; text-decoration-color: #00af00\">0</span>]        │\n",
       "├─────────────────────┼───────────────────┼────────────┼───────────────────┤\n",
       "│ reshape_65          │ (<span style=\"color: #00d7ff; text-decoration-color: #00d7ff\">None</span>, <span style=\"color: #00af00; text-decoration-color: #00af00\">1</span>, <span style=\"color: #00af00; text-decoration-color: #00af00\">32</span>)     │          <span style=\"color: #00af00; text-decoration-color: #00af00\">0</span> │ dense_379[<span style=\"color: #00af00; text-decoration-color: #00af00\">0</span>][<span style=\"color: #00af00; text-decoration-color: #00af00\">0</span>]   │\n",
       "│ (<span style=\"color: #0087ff; text-decoration-color: #0087ff\">Reshape</span>)           │                   │            │                   │\n",
       "├─────────────────────┼───────────────────┼────────────┼───────────────────┤\n",
       "│ concatenate_64      │ (<span style=\"color: #00d7ff; text-decoration-color: #00d7ff\">None</span>, <span style=\"color: #00af00; text-decoration-color: #00af00\">36</span>, <span style=\"color: #00af00; text-decoration-color: #00af00\">32</span>)    │          <span style=\"color: #00af00; text-decoration-color: #00af00\">0</span> │ dense_377[<span style=\"color: #00af00; text-decoration-color: #00af00\">0</span>][<span style=\"color: #00af00; text-decoration-color: #00af00\">0</span>],  │\n",
       "│ (<span style=\"color: #0087ff; text-decoration-color: #0087ff\">Concatenate</span>)       │                   │            │ dense_378[<span style=\"color: #00af00; text-decoration-color: #00af00\">0</span>][<span style=\"color: #00af00; text-decoration-color: #00af00\">0</span>],  │\n",
       "│                     │                   │            │ reshape_65[<span style=\"color: #00af00; text-decoration-color: #00af00\">0</span>][<span style=\"color: #00af00; text-decoration-color: #00af00\">0</span>]  │\n",
       "├─────────────────────┼───────────────────┼────────────┼───────────────────┤\n",
       "│ conv1d_89 (<span style=\"color: #0087ff; text-decoration-color: #0087ff\">Conv1D</span>)  │ (<span style=\"color: #00d7ff; text-decoration-color: #00d7ff\">None</span>, <span style=\"color: #00af00; text-decoration-color: #00af00\">32</span>, <span style=\"color: #00af00; text-decoration-color: #00af00\">128</span>)   │     <span style=\"color: #00af00; text-decoration-color: #00af00\">20,608</span> │ concatenate_64[<span style=\"color: #00af00; text-decoration-color: #00af00\">0</span>… │\n",
       "├─────────────────────┼───────────────────┼────────────┼───────────────────┤\n",
       "│ conv1d_90 (<span style=\"color: #0087ff; text-decoration-color: #0087ff\">Conv1D</span>)  │ (<span style=\"color: #00d7ff; text-decoration-color: #00d7ff\">None</span>, <span style=\"color: #00af00; text-decoration-color: #00af00\">30</span>, <span style=\"color: #00af00; text-decoration-color: #00af00\">32</span>)    │     <span style=\"color: #00af00; text-decoration-color: #00af00\">12,320</span> │ conv1d_89[<span style=\"color: #00af00; text-decoration-color: #00af00\">0</span>][<span style=\"color: #00af00; text-decoration-color: #00af00\">0</span>]   │\n",
       "├─────────────────────┼───────────────────┼────────────┼───────────────────┤\n",
       "│ flatten_61          │ (<span style=\"color: #00d7ff; text-decoration-color: #00d7ff\">None</span>, <span style=\"color: #00af00; text-decoration-color: #00af00\">960</span>)       │          <span style=\"color: #00af00; text-decoration-color: #00af00\">0</span> │ conv1d_90[<span style=\"color: #00af00; text-decoration-color: #00af00\">0</span>][<span style=\"color: #00af00; text-decoration-color: #00af00\">0</span>]   │\n",
       "│ (<span style=\"color: #0087ff; text-decoration-color: #0087ff\">Flatten</span>)           │                   │            │                   │\n",
       "├─────────────────────┼───────────────────┼────────────┼───────────────────┤\n",
       "│ dense_380 (<span style=\"color: #0087ff; text-decoration-color: #0087ff\">Dense</span>)   │ (<span style=\"color: #00d7ff; text-decoration-color: #00d7ff\">None</span>, <span style=\"color: #00af00; text-decoration-color: #00af00\">256</span>)       │    <span style=\"color: #00af00; text-decoration-color: #00af00\">246,016</span> │ flatten_61[<span style=\"color: #00af00; text-decoration-color: #00af00\">0</span>][<span style=\"color: #00af00; text-decoration-color: #00af00\">0</span>]  │\n",
       "├─────────────────────┼───────────────────┼────────────┼───────────────────┤\n",
       "│ dropout_121         │ (<span style=\"color: #00d7ff; text-decoration-color: #00d7ff\">None</span>, <span style=\"color: #00af00; text-decoration-color: #00af00\">256</span>)       │          <span style=\"color: #00af00; text-decoration-color: #00af00\">0</span> │ dense_380[<span style=\"color: #00af00; text-decoration-color: #00af00\">0</span>][<span style=\"color: #00af00; text-decoration-color: #00af00\">0</span>]   │\n",
       "│ (<span style=\"color: #0087ff; text-decoration-color: #0087ff\">Dropout</span>)           │                   │            │                   │\n",
       "├─────────────────────┼───────────────────┼────────────┼───────────────────┤\n",
       "│ dense_381 (<span style=\"color: #0087ff; text-decoration-color: #0087ff\">Dense</span>)   │ (<span style=\"color: #00d7ff; text-decoration-color: #00d7ff\">None</span>, <span style=\"color: #00af00; text-decoration-color: #00af00\">64</span>)        │     <span style=\"color: #00af00; text-decoration-color: #00af00\">16,448</span> │ dropout_121[<span style=\"color: #00af00; text-decoration-color: #00af00\">0</span>][<span style=\"color: #00af00; text-decoration-color: #00af00\">0</span>] │\n",
       "├─────────────────────┼───────────────────┼────────────┼───────────────────┤\n",
       "│ dropout_122         │ (<span style=\"color: #00d7ff; text-decoration-color: #00d7ff\">None</span>, <span style=\"color: #00af00; text-decoration-color: #00af00\">64</span>)        │          <span style=\"color: #00af00; text-decoration-color: #00af00\">0</span> │ dense_381[<span style=\"color: #00af00; text-decoration-color: #00af00\">0</span>][<span style=\"color: #00af00; text-decoration-color: #00af00\">0</span>]   │\n",
       "│ (<span style=\"color: #0087ff; text-decoration-color: #0087ff\">Dropout</span>)           │                   │            │                   │\n",
       "├─────────────────────┼───────────────────┼────────────┼───────────────────┤\n",
       "│ dense_382 (<span style=\"color: #0087ff; text-decoration-color: #0087ff\">Dense</span>)   │ (<span style=\"color: #00d7ff; text-decoration-color: #00d7ff\">None</span>, <span style=\"color: #00af00; text-decoration-color: #00af00\">1</span>)         │         <span style=\"color: #00af00; text-decoration-color: #00af00\">65</span> │ dropout_122[<span style=\"color: #00af00; text-decoration-color: #00af00\">0</span>][<span style=\"color: #00af00; text-decoration-color: #00af00\">0</span>] │\n",
       "└─────────────────────┴───────────────────┴────────────┴───────────────────┘\n",
       "</pre>\n"
      ],
      "text/plain": [
       "┏━━━━━━━━━━━━━━━━━━━━━┳━━━━━━━━━━━━━━━━━━━┳━━━━━━━━━━━━┳━━━━━━━━━━━━━━━━━━━┓\n",
       "┃\u001b[1m \u001b[0m\u001b[1mLayer (type)       \u001b[0m\u001b[1m \u001b[0m┃\u001b[1m \u001b[0m\u001b[1mOutput Shape     \u001b[0m\u001b[1m \u001b[0m┃\u001b[1m \u001b[0m\u001b[1m   Param #\u001b[0m\u001b[1m \u001b[0m┃\u001b[1m \u001b[0m\u001b[1mConnected to     \u001b[0m\u001b[1m \u001b[0m┃\n",
       "┡━━━━━━━━━━━━━━━━━━━━━╇━━━━━━━━━━━━━━━━━━━╇━━━━━━━━━━━━╇━━━━━━━━━━━━━━━━━━━┩\n",
       "│ input_layer_220     │ (\u001b[38;5;45mNone\u001b[0m, \u001b[38;5;34m20\u001b[0m)        │          \u001b[38;5;34m0\u001b[0m │ -                 │\n",
       "│ (\u001b[38;5;33mInputLayer\u001b[0m)        │                   │            │                   │\n",
       "├─────────────────────┼───────────────────┼────────────┼───────────────────┤\n",
       "│ input_layer_221     │ (\u001b[38;5;45mNone\u001b[0m, \u001b[38;5;34m15\u001b[0m)        │          \u001b[38;5;34m0\u001b[0m │ -                 │\n",
       "│ (\u001b[38;5;33mInputLayer\u001b[0m)        │                   │            │                   │\n",
       "├─────────────────────┼───────────────────┼────────────┼───────────────────┤\n",
       "│ input_layer_222     │ (\u001b[38;5;45mNone\u001b[0m, \u001b[38;5;34m9\u001b[0m)         │          \u001b[38;5;34m0\u001b[0m │ -                 │\n",
       "│ (\u001b[38;5;33mInputLayer\u001b[0m)        │                   │            │                   │\n",
       "├─────────────────────┼───────────────────┼────────────┼───────────────────┤\n",
       "│ stack_addresses     │ (\u001b[38;5;45mNone\u001b[0m, \u001b[38;5;34m20\u001b[0m, \u001b[38;5;34m128\u001b[0m)   │  \u001b[38;5;34m1,081,472\u001b[0m │ input_layer_220[\u001b[38;5;34m…\u001b[0m │\n",
       "│ (\u001b[38;5;33mEmbedding\u001b[0m)         │                   │            │                   │\n",
       "├─────────────────────┼───────────────────┼────────────┼───────────────────┤\n",
       "│ args (\u001b[38;5;33mEmbedding\u001b[0m)    │ (\u001b[38;5;45mNone\u001b[0m, \u001b[38;5;34m15\u001b[0m, \u001b[38;5;34m64\u001b[0m)    │  \u001b[38;5;34m1,706,560\u001b[0m │ input_layer_221[\u001b[38;5;34m…\u001b[0m │\n",
       "├─────────────────────┼───────────────────┼────────────┼───────────────────┤\n",
       "│ dense_379 (\u001b[38;5;33mDense\u001b[0m)   │ (\u001b[38;5;45mNone\u001b[0m, \u001b[38;5;34m32\u001b[0m)        │        \u001b[38;5;34m320\u001b[0m │ input_layer_222[\u001b[38;5;34m…\u001b[0m │\n",
       "├─────────────────────┼───────────────────┼────────────┼───────────────────┤\n",
       "│ dense_377 (\u001b[38;5;33mDense\u001b[0m)   │ (\u001b[38;5;45mNone\u001b[0m, \u001b[38;5;34m20\u001b[0m, \u001b[38;5;34m32\u001b[0m)    │      \u001b[38;5;34m4,128\u001b[0m │ stack_addresses[\u001b[38;5;34m…\u001b[0m │\n",
       "├─────────────────────┼───────────────────┼────────────┼───────────────────┤\n",
       "│ dense_378 (\u001b[38;5;33mDense\u001b[0m)   │ (\u001b[38;5;45mNone\u001b[0m, \u001b[38;5;34m15\u001b[0m, \u001b[38;5;34m32\u001b[0m)    │      \u001b[38;5;34m2,080\u001b[0m │ args[\u001b[38;5;34m0\u001b[0m][\u001b[38;5;34m0\u001b[0m]        │\n",
       "├─────────────────────┼───────────────────┼────────────┼───────────────────┤\n",
       "│ reshape_65          │ (\u001b[38;5;45mNone\u001b[0m, \u001b[38;5;34m1\u001b[0m, \u001b[38;5;34m32\u001b[0m)     │          \u001b[38;5;34m0\u001b[0m │ dense_379[\u001b[38;5;34m0\u001b[0m][\u001b[38;5;34m0\u001b[0m]   │\n",
       "│ (\u001b[38;5;33mReshape\u001b[0m)           │                   │            │                   │\n",
       "├─────────────────────┼───────────────────┼────────────┼───────────────────┤\n",
       "│ concatenate_64      │ (\u001b[38;5;45mNone\u001b[0m, \u001b[38;5;34m36\u001b[0m, \u001b[38;5;34m32\u001b[0m)    │          \u001b[38;5;34m0\u001b[0m │ dense_377[\u001b[38;5;34m0\u001b[0m][\u001b[38;5;34m0\u001b[0m],  │\n",
       "│ (\u001b[38;5;33mConcatenate\u001b[0m)       │                   │            │ dense_378[\u001b[38;5;34m0\u001b[0m][\u001b[38;5;34m0\u001b[0m],  │\n",
       "│                     │                   │            │ reshape_65[\u001b[38;5;34m0\u001b[0m][\u001b[38;5;34m0\u001b[0m]  │\n",
       "├─────────────────────┼───────────────────┼────────────┼───────────────────┤\n",
       "│ conv1d_89 (\u001b[38;5;33mConv1D\u001b[0m)  │ (\u001b[38;5;45mNone\u001b[0m, \u001b[38;5;34m32\u001b[0m, \u001b[38;5;34m128\u001b[0m)   │     \u001b[38;5;34m20,608\u001b[0m │ concatenate_64[\u001b[38;5;34m0\u001b[0m… │\n",
       "├─────────────────────┼───────────────────┼────────────┼───────────────────┤\n",
       "│ conv1d_90 (\u001b[38;5;33mConv1D\u001b[0m)  │ (\u001b[38;5;45mNone\u001b[0m, \u001b[38;5;34m30\u001b[0m, \u001b[38;5;34m32\u001b[0m)    │     \u001b[38;5;34m12,320\u001b[0m │ conv1d_89[\u001b[38;5;34m0\u001b[0m][\u001b[38;5;34m0\u001b[0m]   │\n",
       "├─────────────────────┼───────────────────┼────────────┼───────────────────┤\n",
       "│ flatten_61          │ (\u001b[38;5;45mNone\u001b[0m, \u001b[38;5;34m960\u001b[0m)       │          \u001b[38;5;34m0\u001b[0m │ conv1d_90[\u001b[38;5;34m0\u001b[0m][\u001b[38;5;34m0\u001b[0m]   │\n",
       "│ (\u001b[38;5;33mFlatten\u001b[0m)           │                   │            │                   │\n",
       "├─────────────────────┼───────────────────┼────────────┼───────────────────┤\n",
       "│ dense_380 (\u001b[38;5;33mDense\u001b[0m)   │ (\u001b[38;5;45mNone\u001b[0m, \u001b[38;5;34m256\u001b[0m)       │    \u001b[38;5;34m246,016\u001b[0m │ flatten_61[\u001b[38;5;34m0\u001b[0m][\u001b[38;5;34m0\u001b[0m]  │\n",
       "├─────────────────────┼───────────────────┼────────────┼───────────────────┤\n",
       "│ dropout_121         │ (\u001b[38;5;45mNone\u001b[0m, \u001b[38;5;34m256\u001b[0m)       │          \u001b[38;5;34m0\u001b[0m │ dense_380[\u001b[38;5;34m0\u001b[0m][\u001b[38;5;34m0\u001b[0m]   │\n",
       "│ (\u001b[38;5;33mDropout\u001b[0m)           │                   │            │                   │\n",
       "├─────────────────────┼───────────────────┼────────────┼───────────────────┤\n",
       "│ dense_381 (\u001b[38;5;33mDense\u001b[0m)   │ (\u001b[38;5;45mNone\u001b[0m, \u001b[38;5;34m64\u001b[0m)        │     \u001b[38;5;34m16,448\u001b[0m │ dropout_121[\u001b[38;5;34m0\u001b[0m][\u001b[38;5;34m0\u001b[0m] │\n",
       "├─────────────────────┼───────────────────┼────────────┼───────────────────┤\n",
       "│ dropout_122         │ (\u001b[38;5;45mNone\u001b[0m, \u001b[38;5;34m64\u001b[0m)        │          \u001b[38;5;34m0\u001b[0m │ dense_381[\u001b[38;5;34m0\u001b[0m][\u001b[38;5;34m0\u001b[0m]   │\n",
       "│ (\u001b[38;5;33mDropout\u001b[0m)           │                   │            │                   │\n",
       "├─────────────────────┼───────────────────┼────────────┼───────────────────┤\n",
       "│ dense_382 (\u001b[38;5;33mDense\u001b[0m)   │ (\u001b[38;5;45mNone\u001b[0m, \u001b[38;5;34m1\u001b[0m)         │         \u001b[38;5;34m65\u001b[0m │ dropout_122[\u001b[38;5;34m0\u001b[0m][\u001b[38;5;34m0\u001b[0m] │\n",
       "└─────────────────────┴───────────────────┴────────────┴───────────────────┘\n"
      ]
     },
     "metadata": {},
     "output_type": "display_data"
    },
    {
     "data": {
      "text/html": [
       "<pre style=\"white-space:pre;overflow-x:auto;line-height:normal;font-family:Menlo,'DejaVu Sans Mono',consolas,'Courier New',monospace\"><span style=\"font-weight: bold\"> Total params: </span><span style=\"color: #00af00; text-decoration-color: #00af00\">3,090,017</span> (11.79 MB)\n",
       "</pre>\n"
      ],
      "text/plain": [
       "\u001b[1m Total params: \u001b[0m\u001b[38;5;34m3,090,017\u001b[0m (11.79 MB)\n"
      ]
     },
     "metadata": {},
     "output_type": "display_data"
    },
    {
     "data": {
      "text/html": [
       "<pre style=\"white-space:pre;overflow-x:auto;line-height:normal;font-family:Menlo,'DejaVu Sans Mono',consolas,'Courier New',monospace\"><span style=\"font-weight: bold\"> Trainable params: </span><span style=\"color: #00af00; text-decoration-color: #00af00\">3,090,017</span> (11.79 MB)\n",
       "</pre>\n"
      ],
      "text/plain": [
       "\u001b[1m Trainable params: \u001b[0m\u001b[38;5;34m3,090,017\u001b[0m (11.79 MB)\n"
      ]
     },
     "metadata": {},
     "output_type": "display_data"
    },
    {
     "data": {
      "text/html": [
       "<pre style=\"white-space:pre;overflow-x:auto;line-height:normal;font-family:Menlo,'DejaVu Sans Mono',consolas,'Courier New',monospace\"><span style=\"font-weight: bold\"> Non-trainable params: </span><span style=\"color: #00af00; text-decoration-color: #00af00\">0</span> (0.00 B)\n",
       "</pre>\n"
      ],
      "text/plain": [
       "\u001b[1m Non-trainable params: \u001b[0m\u001b[38;5;34m0\u001b[0m (0.00 B)\n"
      ]
     },
     "metadata": {},
     "output_type": "display_data"
    }
   ],
   "source": [
    "# Create model\n",
    "model_2 = Model(inputs=input_layers, outputs=output)\n",
    "\n",
    "model_2.summary()"
   ]
  },
  {
   "cell_type": "markdown",
   "metadata": {},
   "source": [
    "**Training with non scaled data**"
   ]
  },
  {
   "cell_type": "code",
   "execution_count": null,
   "metadata": {},
   "outputs": [],
   "source": [
    "callback = tf.keras.callbacks.EarlyStopping(monitor='accuracy', patience=3, restore_best_weights=False)\n",
    "optimizer = Adam(learning_rate=0.000002)\n",
    "#optimizer = SGD(learning_rate=0.01)\n",
    "model_2.compile(optimizer=optimizer, loss='binary_crossentropy', metrics=['accuracy'])\n",
    "history2 = model_2.fit([X_cat_train.iloc[:,3:23],\n",
    "                     X_cat_train.iloc[:,23:44],\n",
    "                     X_num_train],y_train, \n",
    "                    validation_data=([X_cat_val.iloc[:,3:23],\n",
    "                                      X_cat_val.iloc[:,23:44],\n",
    "                                      X_num_val], y_val),\n",
    "                    epochs=20, verbose=1, batch_size=256, callbacks=[callback], shuffle=True)"
   ]
  },
  {
   "cell_type": "markdown",
   "metadata": {},
   "source": [
    "**Training with scaled data**"
   ]
  },
  {
   "cell_type": "code",
   "execution_count": 384,
   "metadata": {},
   "outputs": [
    {
     "name": "stdout",
     "output_type": "stream",
     "text": [
      "Epoch 1/20\n",
      "\u001b[1m2982/2982\u001b[0m \u001b[32m━━━━━━━━━━━━━━━━━━━━\u001b[0m\u001b[37m\u001b[0m \u001b[1m55s\u001b[0m 18ms/step - accuracy: 0.9838 - loss: 0.3315 - val_accuracy: 0.9958 - val_loss: 0.0288\n",
      "Epoch 2/20\n",
      "\u001b[1m2982/2982\u001b[0m \u001b[32m━━━━━━━━━━━━━━━━━━━━\u001b[0m\u001b[37m\u001b[0m \u001b[1m55s\u001b[0m 19ms/step - accuracy: 0.9984 - loss: 0.0124 - val_accuracy: 0.9958 - val_loss: 0.0227\n",
      "Epoch 3/20\n",
      "\u001b[1m2982/2982\u001b[0m \u001b[32m━━━━━━━━━━━━━━━━━━━━\u001b[0m\u001b[37m\u001b[0m \u001b[1m56s\u001b[0m 19ms/step - accuracy: 0.9985 - loss: 0.0089 - val_accuracy: 0.9999 - val_loss: 0.0037\n",
      "Epoch 4/20\n",
      "\u001b[1m2982/2982\u001b[0m \u001b[32m━━━━━━━━━━━━━━━━━━━━\u001b[0m\u001b[37m\u001b[0m \u001b[1m54s\u001b[0m 18ms/step - accuracy: 0.9995 - loss: 0.0042 - val_accuracy: 1.0000 - val_loss: 0.0013\n",
      "Epoch 5/20\n",
      "\u001b[1m2982/2982\u001b[0m \u001b[32m━━━━━━━━━━━━━━━━━━━━\u001b[0m\u001b[37m\u001b[0m \u001b[1m55s\u001b[0m 18ms/step - accuracy: 0.9997 - loss: 0.0036 - val_accuracy: 1.0000 - val_loss: 9.8075e-04\n",
      "Epoch 6/20\n",
      "\u001b[1m2982/2982\u001b[0m \u001b[32m━━━━━━━━━━━━━━━━━━━━\u001b[0m\u001b[37m\u001b[0m \u001b[1m55s\u001b[0m 18ms/step - accuracy: 0.9997 - loss: 0.0034 - val_accuracy: 1.0000 - val_loss: 0.0010\n",
      "Epoch 7/20\n",
      "\u001b[1m2982/2982\u001b[0m \u001b[32m━━━━━━━━━━━━━━━━━━━━\u001b[0m\u001b[37m\u001b[0m \u001b[1m55s\u001b[0m 19ms/step - accuracy: 0.9996 - loss: 0.0038 - val_accuracy: 1.0000 - val_loss: 8.7464e-04\n",
      "Epoch 8/20\n",
      "\u001b[1m2982/2982\u001b[0m \u001b[32m━━━━━━━━━━━━━━━━━━━━\u001b[0m\u001b[37m\u001b[0m \u001b[1m55s\u001b[0m 18ms/step - accuracy: 0.9996 - loss: 0.0037 - val_accuracy: 1.0000 - val_loss: 8.5540e-04\n",
      "Epoch 9/20\n",
      "\u001b[1m2982/2982\u001b[0m \u001b[32m━━━━━━━━━━━━━━━━━━━━\u001b[0m\u001b[37m\u001b[0m \u001b[1m55s\u001b[0m 19ms/step - accuracy: 0.9997 - loss: 0.0033 - val_accuracy: 1.0000 - val_loss: 9.4315e-04\n",
      "Epoch 10/20\n",
      "\u001b[1m2982/2982\u001b[0m \u001b[32m━━━━━━━━━━━━━━━━━━━━\u001b[0m\u001b[37m\u001b[0m \u001b[1m56s\u001b[0m 19ms/step - accuracy: 0.9996 - loss: 0.0036 - val_accuracy: 1.0000 - val_loss: 9.0569e-04\n"
     ]
    }
   ],
   "source": [
    "callback = tf.keras.callbacks.EarlyStopping(monitor='accuracy', patience=5, restore_best_weights=False)\n",
    "optimizer = Adam(learning_rate=0.000005, weight_decay=0.000001)\n",
    "#optimizer = SGD(learning_rate=0.01)\n",
    "model_2.compile(optimizer=optimizer, loss='binary_crossentropy', metrics=['accuracy'])\n",
    "history2 = model_2.fit([X_cat_train_scaled[:,3:23],\n",
    "                     X_cat_train_scaled[:,23:44],\n",
    "                     X_num_train_scaled],y_train, \n",
    "                    validation_data=([X_cat_val_scaled[:,3:23],\n",
    "                                      X_cat_val_scaled[:,23:44],\n",
    "                                      X_num_val_scaled], y_val),\n",
    "                    epochs=20, verbose=1, batch_size=256, callbacks=[callback], shuffle=True)"
   ]
  },
  {
   "cell_type": "code",
   "execution_count": 385,
   "metadata": {},
   "outputs": [
    {
     "data": {
      "image/png": "[encoded data removed]",
      "text/plain": [
       "<Figure size 800x400 with 1 Axes>"
      ]
     },
     "metadata": {},
     "output_type": "display_data"
    },
    {
     "data": {
      "image/png": "[encoded data removed]",
      "text/plain": [
       "<Figure size 800x400 with 1 Axes>"
      ]
     },
     "metadata": {},
     "output_type": "display_data"
    }
   ],
   "source": [
    "plot_training(history2);"
   ]
  },
  {
   "cell_type": "markdown",
   "metadata": {},
   "source": [
    "**Prediction**"
   ]
  },
  {
   "cell_type": "code",
   "execution_count": 388,
   "metadata": {},
   "outputs": [
    {
     "name": "stdout",
     "output_type": "stream",
     "text": [
      "\u001b[1m370/370\u001b[0m \u001b[32m━━━━━━━━━━━━━━━━━━━━\u001b[0m\u001b[37m\u001b[0m \u001b[1m3s\u001b[0m 8ms/step\n"
     ]
    }
   ],
   "source": [
    "prediction_2 = model_2.predict([X_cat_test_scaled[:,3:23],\n",
    "                               X_cat_test_scaled[:,23:44],\n",
    "                               X_num_test_scaled], batch_size=512)"
   ]
  },
  {
   "cell_type": "code",
   "execution_count": 387,
   "metadata": {},
   "outputs": [
    {
     "name": "stdout",
     "output_type": "stream",
     "text": [
      "\u001b[1m370/370\u001b[0m \u001b[32m━━━━━━━━━━━━━━━━━━━━\u001b[0m\u001b[37m\u001b[0m \u001b[1m3s\u001b[0m 7ms/step\n"
     ]
    }
   ],
   "source": [
    "prediction_2 = model_2.predict([X_cat_test.iloc[:,3:23],\n",
    "                               X_cat_test.iloc[:,23:44],\n",
    "                               X_num_test], batch_size=512)"
   ]
  },
  {
   "cell_type": "code",
   "execution_count": 389,
   "metadata": {},
   "outputs": [],
   "source": [
    "prediction_2_threshold = np.where(prediction_2>0.5,1,0)"
   ]
  },
  {
   "cell_type": "markdown",
   "metadata": {},
   "source": [
    "Classification report"
   ]
  },
  {
   "cell_type": "code",
   "execution_count": 390,
   "metadata": {},
   "outputs": [
    {
     "name": "stdout",
     "output_type": "stream",
     "text": [
      "              precision    recall  f1-score   support\n",
      "\n",
      "Unsuspicious       0.63      1.00      0.77     17508\n",
      "  Suspicious       1.00      0.94      0.97    171459\n",
      "\n",
      "    accuracy                           0.95    188967\n",
      "   macro avg       0.82      0.97      0.87    188967\n",
      "weighted avg       0.97      0.95      0.95    188967\n",
      "\n"
     ]
    }
   ],
   "source": [
    "print(classification_report(y_test, prediction_2_threshold, target_names=['Unsuspicious', 'Suspicious']))"
   ]
  },
  {
   "cell_type": "markdown",
   "metadata": {},
   "source": [
    "Confusion matrix"
   ]
  },
  {
   "cell_type": "code",
   "execution_count": 391,
   "metadata": {},
   "outputs": [
    {
     "data": {
      "text/plain": [
       "<sklearn.metrics._plot.confusion_matrix.ConfusionMatrixDisplay at 0x3fb5ec1f0>"
      ]
     },
     "execution_count": 391,
     "metadata": {},
     "output_type": "execute_result"
    },
    {
     "data": {
      "image/png": "[encoded data removed]",
      "text/plain": [
       "<Figure size 640x480 with 2 Axes>"
      ]
     },
     "metadata": {},
     "output_type": "display_data"
    }
   ],
   "source": [
    "conf_matrix = confusion_matrix(y_true=y_test, y_pred=prediction_2_threshold)\n",
    "ConfusionMatrixDisplay(conf_matrix).plot()"
   ]
  },
  {
   "cell_type": "code",
   "execution_count": 359,
   "metadata": {},
   "outputs": [
    {
     "data": {
      "image/png": "[encoded data removed]",
      "text/plain": [
       "<Figure size 640x480 with 1 Axes>"
      ]
     },
     "metadata": {},
     "output_type": "display_data"
    }
   ],
   "source": [
    "auroc = roc_auc_score(y_true=y_test, y_score=prediction_2_threshold)\n",
    "fpr, tpr, _ = roc_curve(y_test, prediction_2_threshold)\n",
    "plt.plot(fpr,tpr,label=f\"AUC= {auroc:.3f}\")\n",
    "plt.ylabel('True Positive Rate')\n",
    "plt.xlabel('False Positive Rate')\n",
    "plt.legend(loc=4)\n",
    "plt.show()"
   ]
  },
  {
   "cell_type": "markdown",
   "metadata": {},
   "source": [
    "Save the model"
   ]
  },
  {
   "cell_type": "code",
   "execution_count": null,
   "metadata": {},
   "outputs": [],
   "source": [
    "# model_conv_emb.save('Conv_model_embeddings.keras')"
   ]
  }
 ],
 "metadata": {
  "kernelspec": {
   "display_name": "virtual_env",
   "language": "python",
   "name": "python3"
  },
  "language_info": {
   "codemirror_mode": {
    "name": "ipython",
    "version": 3
   },
   "file_extension": ".py",
   "mimetype": "text/x-python",
   "name": "python",
   "nbconvert_exporter": "python",
   "pygments_lexer": "ipython3",
   "version": "3.10.5"
  }
 },
 "nbformat": 4,
 "nbformat_minor": 2
}
