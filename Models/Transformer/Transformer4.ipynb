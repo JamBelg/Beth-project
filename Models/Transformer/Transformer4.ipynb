{
  "cells": [
    {
      "cell_type": "markdown",
      "metadata": {
        "id": "7etfbAsCA6PU"
      },
      "source": [
        "## Libraries"
      ]
    },
    {
      "cell_type": "code",
      "execution_count": 163,
      "metadata": {
        "colab": {
          "base_uri": "https://localhost:8080/"
        },
        "id": "QPmKuKL2A6Pm",
        "outputId": "3a014595-2e4a-4737-cd73-6ec8785c22d8"
      },
      "outputs": [],
      "source": [
        "import pandas as pd\n",
        "import numpy as np\n",
        "import matplotlib.pyplot as plt\n",
        "from sklearn.model_selection import StratifiedShuffleSplit\n",
        "from sklearn.metrics import classification_report, roc_auc_score, roc_curve, confusion_matrix, ConfusionMatrixDisplay\n",
        "from sklearn.preprocessing import LabelEncoder, OrdinalEncoder\n",
        "\n",
        "import tensorflow as tf\n",
        "from keras.layers import Input, Embedding, Conv1D, MaxPooling1D, Dense, Dropout, Concatenate, LayerNormalization\n",
        "from keras.layers import GlobalAveragePooling1D, MultiHeadAttention, Flatten, BatchNormalization, MaxPooling1D, Flatten, LSTM, Bidirectional, Reshape\n",
        "from keras.models import Model, Sequential\n",
        "from keras.optimizers import Adam, SGD, RMSprop, Adamax, AdamW\n",
        "from keras.utils import to_categorical\n",
        "from keras.regularizers import L1L2\n",
        "from keras.initializers import RandomNormal\n",
        "from keras.constraints import UnitNorm\n",
        "from keras.callbacks import EarlyStopping\n",
        "import ast\n",
        "\n",
        "# Hide warnings\n",
        "import warnings\n",
        "warnings.filterwarnings(\"ignore\")"
      ]
    },
    {
      "cell_type": "markdown",
      "metadata": {
        "id": "UP296LFZA6Pw"
      },
      "source": [
        "## Data preparation"
      ]
    },
    {
      "cell_type": "code",
      "execution_count": 164,
      "metadata": {
        "id": "0NaWYLyHA6Px"
      },
      "outputs": [],
      "source": [
        "train_data = pd.read_csv('../../../Data/labelled_training_data.csv')\n",
        "val_data = pd.read_csv('../../../Data/labelled_validation_data.csv')\n",
        "test_data = pd.read_csv('../../../Data/labelled_testing_data.csv')"
      ]
    },
    {
      "cell_type": "code",
      "execution_count": 165,
      "metadata": {
        "id": "oq4R1RsrA6Py"
      },
      "outputs": [],
      "source": [
        "train_data[\"processId\"] = train_data[\"processId\"].map(lambda x: 0 if x in [0, 1, 2] else 1)  # Map to OS/not OS\n",
        "train_data[\"parentProcessId\"] = train_data[\"parentProcessId\"].map(lambda x: 0 if x in [0, 1, 2] else 1)  # Map to OS/not OS\n",
        "train_data[\"userId\"] = train_data[\"userId\"].map(lambda x: 0 if x < 1000 else 1)  # Map to OS/not OS\n",
        "train_data[\"mountNamespace\"] = train_data[\"mountNamespace\"].map(lambda x: 0 if x == 4026531840 else 1)  # Map to mount access to mnt/ (all non-OS users) /elsewhere\n",
        "train_data[\"eventId\"] = train_data[\"eventId\"]  # Keep eventId values (requires knowing max value)\n",
        "train_data[\"returnValue\"] = train_data[\"returnValue\"].map(lambda x: 0 if x == 0 else (1 if x > 0 else 2))\n",
        "\n",
        "\n",
        "val_data[\"processId\"] = val_data[\"processId\"].map(lambda x: 0 if x in [0, 1, 2] else 1)  # Map to OS/not OS\n",
        "val_data[\"parentProcessId\"] = val_data[\"parentProcessId\"].map(lambda x: 0 if x in [0, 1, 2] else 1)  # Map to OS/not OS\n",
        "val_data[\"userId\"] = val_data[\"userId\"].map(lambda x: 0 if x < 1000 else 1)  # Map to OS/not OS\n",
        "val_data[\"mountNamespace\"] = val_data[\"mountNamespace\"].map(lambda x: 0 if x == 4026531840 else 1)  # Map to mount access to mnt/ (all non-OS users) /elsewhere\n",
        "val_data[\"eventId\"] = val_data[\"eventId\"]  # Keep eventId values (requires knowing max value)\n",
        "val_data[\"returnValue\"] = val_data[\"returnValue\"].map(lambda x: 0 if x == 0 else (1 if x > 0 else 2))\n",
        "\n",
        "\n",
        "test_data[\"processId\"] = test_data[\"processId\"].map(lambda x: 0 if x in [0, 1, 2] else 1)  # Map to OS/not OS\n",
        "test_data[\"parentProcessId\"] = test_data[\"parentProcessId\"].map(lambda x: 0 if x in [0, 1, 2] else 1)  # Map to OS/not OS\n",
        "test_data[\"userId\"] = test_data[\"userId\"].map(lambda x: 0 if x < 1000 else 1)  # Map to OS/not OS\n",
        "test_data[\"mountNamespace\"] = test_data[\"mountNamespace\"].map(lambda x: 0 if x == 4026531840 else 1)  # Map to mount access to mnt/ (all non-OS users) /elsewhere\n",
        "test_data[\"eventId\"] = test_data[\"eventId\"]  # Keep eventId values (requires knowing max value)\n",
        "test_data[\"returnValue\"] = test_data[\"returnValue\"].map(lambda x: 0 if x == 0 else (1 if x > 0 else 2))"
      ]
    },
    {
      "cell_type": "code",
      "execution_count": 166,
      "metadata": {
        "colab": {
          "base_uri": "https://localhost:8080/"
        },
        "id": "s5_ju2q4A6Pz",
        "outputId": "b3205375-93f7-4da1-b570-6aca65eae5d6"
      },
      "outputs": [
        {
          "data": {
            "text/html": [
              "<div>\n",
              "<style scoped>\n",
              "    .dataframe tbody tr th:only-of-type {\n",
              "        vertical-align: middle;\n",
              "    }\n",
              "\n",
              "    .dataframe tbody tr th {\n",
              "        vertical-align: top;\n",
              "    }\n",
              "\n",
              "    .dataframe thead th {\n",
              "        text-align: right;\n",
              "    }\n",
              "</style>\n",
              "<table border=\"1\" class=\"dataframe\">\n",
              "  <thead>\n",
              "    <tr style=\"text-align: right;\">\n",
              "      <th></th>\n",
              "      <th>timestamp</th>\n",
              "      <th>processId</th>\n",
              "      <th>threadId</th>\n",
              "      <th>parentProcessId</th>\n",
              "      <th>userId</th>\n",
              "      <th>mountNamespace</th>\n",
              "      <th>eventId</th>\n",
              "      <th>argsNum</th>\n",
              "      <th>returnValue</th>\n",
              "      <th>sus</th>\n",
              "      <th>evil</th>\n",
              "    </tr>\n",
              "  </thead>\n",
              "  <tbody>\n",
              "    <tr>\n",
              "      <th>count</th>\n",
              "      <td>763144.000000</td>\n",
              "      <td>763144.000000</td>\n",
              "      <td>763144.000000</td>\n",
              "      <td>763144.000000</td>\n",
              "      <td>763144.000000</td>\n",
              "      <td>763144.000000</td>\n",
              "      <td>763144.000000</td>\n",
              "      <td>763144.000000</td>\n",
              "      <td>763144.000000</td>\n",
              "      <td>763144.000000</td>\n",
              "      <td>763144.0</td>\n",
              "    </tr>\n",
              "    <tr>\n",
              "      <th>mean</th>\n",
              "      <td>1844.582673</td>\n",
              "      <td>0.978617</td>\n",
              "      <td>6820.265241</td>\n",
              "      <td>0.895755</td>\n",
              "      <td>0.001305</td>\n",
              "      <td>0.256371</td>\n",
              "      <td>288.158953</td>\n",
              "      <td>2.672082</td>\n",
              "      <td>0.340016</td>\n",
              "      <td>0.001663</td>\n",
              "      <td>0.0</td>\n",
              "    </tr>\n",
              "    <tr>\n",
              "      <th>std</th>\n",
              "      <td>1136.638249</td>\n",
              "      <td>0.144656</td>\n",
              "      <td>1937.068333</td>\n",
              "      <td>0.305578</td>\n",
              "      <td>0.036103</td>\n",
              "      <td>0.436629</td>\n",
              "      <td>385.117778</td>\n",
              "      <td>1.340906</td>\n",
              "      <td>0.533623</td>\n",
              "      <td>0.040744</td>\n",
              "      <td>0.0</td>\n",
              "    </tr>\n",
              "    <tr>\n",
              "      <th>min</th>\n",
              "      <td>132.560721</td>\n",
              "      <td>0.000000</td>\n",
              "      <td>1.000000</td>\n",
              "      <td>0.000000</td>\n",
              "      <td>0.000000</td>\n",
              "      <td>0.000000</td>\n",
              "      <td>3.000000</td>\n",
              "      <td>0.000000</td>\n",
              "      <td>0.000000</td>\n",
              "      <td>0.000000</td>\n",
              "      <td>0.0</td>\n",
              "    </tr>\n",
              "    <tr>\n",
              "      <th>25%</th>\n",
              "      <td>903.250802</td>\n",
              "      <td>1.000000</td>\n",
              "      <td>7313.000000</td>\n",
              "      <td>1.000000</td>\n",
              "      <td>0.000000</td>\n",
              "      <td>0.000000</td>\n",
              "      <td>3.000000</td>\n",
              "      <td>1.000000</td>\n",
              "      <td>0.000000</td>\n",
              "      <td>0.000000</td>\n",
              "      <td>0.0</td>\n",
              "    </tr>\n",
              "    <tr>\n",
              "      <th>50%</th>\n",
              "      <td>1829.203642</td>\n",
              "      <td>1.000000</td>\n",
              "      <td>7365.000000</td>\n",
              "      <td>1.000000</td>\n",
              "      <td>0.000000</td>\n",
              "      <td>0.000000</td>\n",
              "      <td>62.000000</td>\n",
              "      <td>3.000000</td>\n",
              "      <td>0.000000</td>\n",
              "      <td>0.000000</td>\n",
              "      <td>0.0</td>\n",
              "    </tr>\n",
              "    <tr>\n",
              "      <th>75%</th>\n",
              "      <td>2761.380825</td>\n",
              "      <td>1.000000</td>\n",
              "      <td>7415.000000</td>\n",
              "      <td>1.000000</td>\n",
              "      <td>0.000000</td>\n",
              "      <td>1.000000</td>\n",
              "      <td>257.000000</td>\n",
              "      <td>4.000000</td>\n",
              "      <td>1.000000</td>\n",
              "      <td>0.000000</td>\n",
              "      <td>0.0</td>\n",
              "    </tr>\n",
              "    <tr>\n",
              "      <th>max</th>\n",
              "      <td>3954.587643</td>\n",
              "      <td>1.000000</td>\n",
              "      <td>8619.000000</td>\n",
              "      <td>1.000000</td>\n",
              "      <td>1.000000</td>\n",
              "      <td>1.000000</td>\n",
              "      <td>1010.000000</td>\n",
              "      <td>5.000000</td>\n",
              "      <td>2.000000</td>\n",
              "      <td>1.000000</td>\n",
              "      <td>0.0</td>\n",
              "    </tr>\n",
              "  </tbody>\n",
              "</table>\n",
              "</div>"
            ],
            "text/plain": [
              "           timestamp      processId       threadId  parentProcessId  \\\n",
              "count  763144.000000  763144.000000  763144.000000    763144.000000   \n",
              "mean     1844.582673       0.978617    6820.265241         0.895755   \n",
              "std      1136.638249       0.144656    1937.068333         0.305578   \n",
              "min       132.560721       0.000000       1.000000         0.000000   \n",
              "25%       903.250802       1.000000    7313.000000         1.000000   \n",
              "50%      1829.203642       1.000000    7365.000000         1.000000   \n",
              "75%      2761.380825       1.000000    7415.000000         1.000000   \n",
              "max      3954.587643       1.000000    8619.000000         1.000000   \n",
              "\n",
              "              userId  mountNamespace        eventId        argsNum  \\\n",
              "count  763144.000000   763144.000000  763144.000000  763144.000000   \n",
              "mean        0.001305        0.256371     288.158953       2.672082   \n",
              "std         0.036103        0.436629     385.117778       1.340906   \n",
              "min         0.000000        0.000000       3.000000       0.000000   \n",
              "25%         0.000000        0.000000       3.000000       1.000000   \n",
              "50%         0.000000        0.000000      62.000000       3.000000   \n",
              "75%         0.000000        1.000000     257.000000       4.000000   \n",
              "max         1.000000        1.000000    1010.000000       5.000000   \n",
              "\n",
              "         returnValue            sus      evil  \n",
              "count  763144.000000  763144.000000  763144.0  \n",
              "mean        0.340016       0.001663       0.0  \n",
              "std         0.533623       0.040744       0.0  \n",
              "min         0.000000       0.000000       0.0  \n",
              "25%         0.000000       0.000000       0.0  \n",
              "50%         0.000000       0.000000       0.0  \n",
              "75%         1.000000       0.000000       0.0  \n",
              "max         2.000000       1.000000       0.0  "
            ]
          },
          "execution_count": 166,
          "metadata": {},
          "output_type": "execute_result"
        }
      ],
      "source": [
        "train_data.describe()"
      ]
    },
    {
      "cell_type": "code",
      "execution_count": 167,
      "metadata": {
        "colab": {
          "base_uri": "https://localhost:8080/"
        },
        "id": "J3zeVHKTA6Pz",
        "outputId": "90df02ec-9531-44da-cba3-ceb46b37e70e"
      },
      "outputs": [
        {
          "data": {
            "text/plain": [
              "timestamp          float64\n",
              "processId            int64\n",
              "threadId             int64\n",
              "parentProcessId      int64\n",
              "userId               int64\n",
              "mountNamespace       int64\n",
              "processName         object\n",
              "hostName            object\n",
              "eventId              int64\n",
              "eventName           object\n",
              "stackAddresses      object\n",
              "argsNum              int64\n",
              "returnValue          int64\n",
              "args                object\n",
              "sus                  int64\n",
              "evil                 int64\n",
              "dtype: object"
            ]
          },
          "execution_count": 167,
          "metadata": {},
          "output_type": "execute_result"
        }
      ],
      "source": [
        "train_data.dtypes"
      ]
    },
    {
      "cell_type": "markdown",
      "metadata": {
        "id": "ULmFmVu5A6P0"
      },
      "source": [
        "### **Stackaddress**"
      ]
    },
    {
      "cell_type": "code",
      "execution_count": 168,
      "metadata": {
        "colab": {
          "base_uri": "https://localhost:8080/"
        },
        "id": "eeV-fN9nA6P0",
        "outputId": "3da47d8c-1463-40c0-cf26-6cb78f81f0ed"
      },
      "outputs": [
        {
          "data": {
            "text/plain": [
              "112474"
            ]
          },
          "execution_count": 168,
          "metadata": {},
          "output_type": "execute_result"
        }
      ],
      "source": [
        "stack_addresses_df = pd.concat([train_data['stackAddresses'], val_data['stackAddresses'], test_data['stackAddresses']], axis=0)\n",
        "len(stack_addresses_df.unique())"
      ]
    },
    {
      "cell_type": "markdown",
      "metadata": {
        "id": "4JHhRS1cA6P2"
      },
      "source": [
        "**Convert String to List**"
      ]
    },
    {
      "cell_type": "code",
      "execution_count": 169,
      "metadata": {
        "colab": {
          "base_uri": "https://localhost:8080/"
        },
        "id": "QfEFKgR3A6P3",
        "outputId": "df9b1f33-dbbc-4d8c-a8a9-e4954d903a5b"
      },
      "outputs": [
        {
          "data": {
            "text/plain": [
              "[140662171848350, 11649800180280676]"
            ]
          },
          "execution_count": 169,
          "metadata": {},
          "output_type": "execute_result"
        }
      ],
      "source": [
        "# Convert string to list\n",
        "train_data.stackAddresses = train_data.stackAddresses.apply(ast.literal_eval)\n",
        "val_data.stackAddresses = val_data.stackAddresses.apply(ast.literal_eval)\n",
        "test_data.stackAddresses = test_data.stackAddresses.apply(ast.literal_eval)\n",
        "train_data.stackAddresses[0]"
      ]
    },
    {
      "cell_type": "code",
      "execution_count": 170,
      "metadata": {
        "colab": {
          "base_uri": "https://localhost:8080/"
        },
        "id": "VxWlDr8rA6P4",
        "outputId": "88af926d-a6c7-40ab-a9eb-e6fdf7e3c882"
      },
      "outputs": [
        {
          "name": "stdout",
          "output_type": "stream",
          "text": [
            "Training dataset - Max length of stack addresses: 20\n",
            "Validation dataset - Max length of stack addresses: 20\n",
            "Testing dataset - Max length of stack addresses: 20\n"
          ]
        }
      ],
      "source": [
        "train_data['stack_address_len']=train_data.stackAddresses.apply(len)\n",
        "val_data['stack_address_len']=val_data.stackAddresses.apply(len)\n",
        "test_data['stack_address_len']=test_data.stackAddresses.apply(len)\n",
        "print(f\"Training dataset - Max length of stack addresses: {max(train_data['stack_address_len'])}\")\n",
        "print(f\"Validation dataset - Max length of stack addresses: {max(val_data['stack_address_len'])}\")\n",
        "print(f\"Testing dataset - Max length of stack addresses: {max(test_data['stack_address_len'])}\")"
      ]
    },
    {
      "cell_type": "code",
      "execution_count": 171,
      "metadata": {
        "colab": {
          "base_uri": "https://localhost:8080/"
        },
        "id": "GX4HVjgUA6P5",
        "outputId": "51fd1e63-8f39-4092-fa67-4664fd0b81e7"
      },
      "outputs": [
        {
          "data": {
            "text/plain": [
              "stack_address_len\n",
              "0     521115\n",
              "2     109594\n",
              "1      65545\n",
              "3      59301\n",
              "4       2445\n",
              "20      1406\n",
              "14      1073\n",
              "15       932\n",
              "6        354\n",
              "8        347\n",
              "17       276\n",
              "10       206\n",
              "11       190\n",
              "9        143\n",
              "5         92\n",
              "16        90\n",
              "12        27\n",
              "7          8\n",
              "Name: count, dtype: int64"
            ]
          },
          "execution_count": 171,
          "metadata": {},
          "output_type": "execute_result"
        }
      ],
      "source": [
        "train_data['stack_address_len'].value_counts()"
      ]
    },
    {
      "cell_type": "markdown",
      "metadata": {
        "id": "u10ibe5eA6P5"
      },
      "source": [
        "**Split list**"
      ]
    },
    {
      "cell_type": "code",
      "execution_count": 172,
      "metadata": {
        "id": "0S1rNB_WA6P6"
      },
      "outputs": [],
      "source": [
        "for i in range(max(train_data['stack_address_len'])):\n",
        "    train_data[f\"stack_{i+1}\"]=\"\"\n",
        "    val_data[f\"stack_{i+1}\"]=\"\"\n",
        "    test_data[f\"stack_{i+1}\"]=\"\""
      ]
    },
    {
      "cell_type": "code",
      "execution_count": 173,
      "metadata": {
        "id": "NBCzfCGPA6P6"
      },
      "outputs": [],
      "source": [
        "for index, row in train_data.iterrows():\n",
        "    list_stack = [float(elem) for elem in row['stackAddresses']]\n",
        "    for i, elem in enumerate(list_stack):\n",
        "        train_data.at[index, f'stack_{i+1}'] = elem\n",
        "\n",
        "for index, row in val_data.iterrows():\n",
        "    list_stack = [float(elem) for elem in row['stackAddresses']]\n",
        "    for i, elem in enumerate(list_stack):\n",
        "        val_data.at[index, f'stack_{i+1}'] = elem\n",
        "\n",
        "\n",
        "for index, row in test_data.iterrows():\n",
        "    list_stack = [float(elem) for elem in row['stackAddresses']]\n",
        "    for i, elem in enumerate(list_stack):\n",
        "        test_data.at[index, f'stack_{i+1}'] = elem"
      ]
    },
    {
      "cell_type": "markdown",
      "metadata": {
        "id": "mKqsalk2A6P6"
      },
      "source": [
        "**Args**"
      ]
    },
    {
      "cell_type": "code",
      "execution_count": 174,
      "metadata": {
        "colab": {
          "base_uri": "https://localhost:8080/"
        },
        "id": "wLGGqWiAA6P6",
        "outputId": "ccfbf222-0b0c-4219-c1d1-895e7c814865"
      },
      "outputs": [
        {
          "data": {
            "text/plain": [
              "argsNum\n",
              "4    359113\n",
              "1    230609\n",
              "2    149273\n",
              "3     20062\n",
              "5      2678\n",
              "0      1409\n",
              "Name: count, dtype: int64"
            ]
          },
          "execution_count": 174,
          "metadata": {},
          "output_type": "execute_result"
        }
      ],
      "source": [
        "train_data['argsNum'].value_counts()"
      ]
    },
    {
      "cell_type": "code",
      "execution_count": 175,
      "metadata": {
        "colab": {
          "base_uri": "https://localhost:8080/"
        },
        "id": "1vptn_M1A6P6",
        "outputId": "8a3b2d0e-18e7-4a42-fa47-bf112ddd5a3b"
      },
      "outputs": [
        {
          "data": {
            "text/plain": [
              "214720"
            ]
          },
          "execution_count": 175,
          "metadata": {},
          "output_type": "execute_result"
        }
      ],
      "source": [
        "len(train_data['args'].unique())"
      ]
    },
    {
      "cell_type": "code",
      "execution_count": 176,
      "metadata": {
        "colab": {
          "base_uri": "https://localhost:8080/"
        },
        "id": "VHNKDcofA6P7",
        "outputId": "7db5ffa8-b9b7-47fd-dfbe-92296e9549da"
      },
      "outputs": [
        {
          "data": {
            "text/plain": [
              "\"[{'name': 'pathname', 'type': 'const char*', 'value': '/etc/ld.so.cache'}, {'name': 'flags', 'type': 'int', 'value': 'O_RDONLY|O_LARGEFILE'}, {'name': 'dev', 'type': 'dev_t', 'value': 211812353}, {'name': 'inode', 'type': 'unsigned long', 'value': 62841}]\""
            ]
          },
          "execution_count": 176,
          "metadata": {},
          "output_type": "execute_result"
        }
      ],
      "source": [
        "train_data['args'][4]"
      ]
    },
    {
      "cell_type": "markdown",
      "metadata": {
        "id": "9XhsPXTGA6P7"
      },
      "source": [
        "**Split args**"
      ]
    },
    {
      "cell_type": "code",
      "execution_count": 177,
      "metadata": {
        "id": "WqrOXxXKA6P7"
      },
      "outputs": [],
      "source": [
        "# Function to split the string column into list of dictionaries and create new columns\n",
        "def split_and_expand(row):\n",
        "    if pd.isna(row):\n",
        "        return pd.Series([None] * 15)\n",
        "\n",
        "    dicts = ast.literal_eval(row)\n",
        "    result = {'name_{}'.format(i+1): None for i in range(5)}\n",
        "    result.update({'type_{}'.format(i+1): None for i in range(5)})\n",
        "    result.update({'value_{}'.format(i+1): None for i in range(5)})\n",
        "\n",
        "    for i, d in enumerate(dicts):\n",
        "        if i >= 5:\n",
        "            break\n",
        "        result['name_{}'.format(i+1)] = d.get('name')\n",
        "        result['type_{}'.format(i+1)] = d.get('type')\n",
        "        result['value_{}'.format(i+1)] = d.get('value')\n",
        "\n",
        "    return pd.Series(result)"
      ]
    },
    {
      "cell_type": "markdown",
      "metadata": {
        "id": "uNGxRdBdA6P7"
      },
      "source": [
        "Training"
      ]
    },
    {
      "cell_type": "code",
      "execution_count": 178,
      "metadata": {
        "id": "MkiVgXYoA6P7"
      },
      "outputs": [],
      "source": [
        "args_split = train_data['args'].apply(split_and_expand)\n",
        "train_data = pd.concat([train_data, args_split], axis=1)"
      ]
    },
    {
      "cell_type": "markdown",
      "metadata": {
        "id": "9LdXP7vmA6P7"
      },
      "source": [
        "Validation"
      ]
    },
    {
      "cell_type": "code",
      "execution_count": 179,
      "metadata": {
        "id": "JMRkvGDxA6P7"
      },
      "outputs": [],
      "source": [
        "args_split = val_data['args'].apply(split_and_expand)\n",
        "val_data = pd.concat([val_data, args_split], axis=1)"
      ]
    },
    {
      "cell_type": "markdown",
      "metadata": {
        "id": "zVdeSjhiA6P7"
      },
      "source": [
        "Testing"
      ]
    },
    {
      "cell_type": "code",
      "execution_count": 180,
      "metadata": {
        "id": "5YBDGai3A6P8"
      },
      "outputs": [],
      "source": [
        "args_split = test_data['args'].apply(split_and_expand)\n",
        "test_data = pd.concat([test_data, args_split], axis=1)"
      ]
    },
    {
      "cell_type": "code",
      "execution_count": 181,
      "metadata": {},
      "outputs": [],
      "source": [
        "processid_ordinal_encoder = OrdinalEncoder(handle_unknown='use_encoded_value',\n",
        "                                 unknown_value=-1, dtype=float)\n",
        "\n",
        "train_data[['processId']] = processid_ordinal_encoder.fit_transform(train_data[['processId']])\n",
        "val_data[['processId']] = processid_ordinal_encoder.transform(val_data[['processId']])\n",
        "test_data[['processId']] = processid_ordinal_encoder.transform(test_data[['processId']])"
      ]
    },
    {
      "cell_type": "code",
      "execution_count": 182,
      "metadata": {},
      "outputs": [],
      "source": [
        "threadid_ordinal_encoder = OrdinalEncoder(handle_unknown='use_encoded_value',\n",
        "                                 unknown_value=-1, dtype=float)\n",
        "\n",
        "train_data[['threadId']] = threadid_ordinal_encoder.fit_transform(train_data[['threadId']])\n",
        "val_data[['threadId']] = threadid_ordinal_encoder.transform(val_data[['threadId']])\n",
        "test_data[['threadId']] = threadid_ordinal_encoder.transform(test_data[['threadId']])"
      ]
    },
    {
      "cell_type": "code",
      "execution_count": 183,
      "metadata": {},
      "outputs": [],
      "source": [
        "parentProcessId_ordinal_encoder = OrdinalEncoder(handle_unknown='use_encoded_value',\n",
        "                                 unknown_value=-1, dtype=float)\n",
        "\n",
        "train_data[['parentProcessId']] = parentProcessId_ordinal_encoder.fit_transform(train_data[['parentProcessId']])\n",
        "val_data[['parentProcessId']] = parentProcessId_ordinal_encoder.transform(val_data[['parentProcessId']])\n",
        "test_data[['parentProcessId']] = parentProcessId_ordinal_encoder.transform(test_data[['parentProcessId']])"
      ]
    },
    {
      "cell_type": "code",
      "execution_count": 184,
      "metadata": {},
      "outputs": [],
      "source": [
        "userId_ordinal_encoder = OrdinalEncoder(handle_unknown='use_encoded_value',\n",
        "                                 unknown_value=-1, dtype=float)\n",
        "\n",
        "train_data[['userId']] = userId_ordinal_encoder.fit_transform(train_data[['userId']])\n",
        "val_data[['userId']] = userId_ordinal_encoder.transform(val_data[['userId']])\n",
        "test_data[['userId']] = userId_ordinal_encoder.transform(test_data[['userId']])"
      ]
    },
    {
      "cell_type": "code",
      "execution_count": 185,
      "metadata": {},
      "outputs": [],
      "source": [
        "mountNamespace_ordinal_encoder = OrdinalEncoder(handle_unknown='use_encoded_value',\n",
        "                                 unknown_value=-1, dtype=float)\n",
        "\n",
        "train_data[['mountNamespace']] = mountNamespace_ordinal_encoder.fit_transform(train_data[['mountNamespace']])\n",
        "val_data[['mountNamespace']] = mountNamespace_ordinal_encoder.transform(val_data[['mountNamespace']])\n",
        "test_data[['mountNamespace']] = mountNamespace_ordinal_encoder.transform(test_data[['mountNamespace']])"
      ]
    },
    {
      "cell_type": "code",
      "execution_count": 186,
      "metadata": {},
      "outputs": [],
      "source": [
        "hostName_ordinal_encoder = OrdinalEncoder(handle_unknown='use_encoded_value',\n",
        "                                 unknown_value=-1, dtype=float)\n",
        "\n",
        "train_data[['hostName']] = hostName_ordinal_encoder.fit_transform(train_data[['hostName']])\n",
        "val_data[['hostName']] = hostName_ordinal_encoder.transform(val_data[['hostName']])\n",
        "test_data[['hostName']] = hostName_ordinal_encoder.transform(test_data[['hostName']])"
      ]
    },
    {
      "cell_type": "code",
      "execution_count": 187,
      "metadata": {},
      "outputs": [],
      "source": [
        "eventId_ordinal_encoder = OrdinalEncoder(handle_unknown='use_encoded_value',\n",
        "                                 unknown_value=-1, dtype=float)\n",
        "\n",
        "train_data[['eventId']] = eventId_ordinal_encoder.fit_transform(train_data[['eventId']])\n",
        "val_data[['eventId']] = eventId_ordinal_encoder.transform(val_data[['eventId']])\n",
        "test_data[['eventId']] = eventId_ordinal_encoder.transform(test_data[['eventId']])"
      ]
    },
    {
      "cell_type": "code",
      "execution_count": 188,
      "metadata": {},
      "outputs": [],
      "source": [
        "returnValue_ordinal_encoder = OrdinalEncoder(handle_unknown='use_encoded_value',\n",
        "                                 unknown_value=-1, dtype=float)\n",
        "\n",
        "train_data[['returnValue']] = returnValue_ordinal_encoder.fit_transform(train_data[['returnValue']])\n",
        "val_data[['returnValue']] = returnValue_ordinal_encoder.transform(val_data[['returnValue']])\n",
        "test_data[['returnValue']] = returnValue_ordinal_encoder.transform(test_data[['returnValue']])"
      ]
    },
    {
      "cell_type": "code",
      "execution_count": 189,
      "metadata": {},
      "outputs": [],
      "source": [
        "stack_ordinal_encoder = OrdinalEncoder(handle_unknown='use_encoded_value',\n",
        "                                 unknown_value=-1, dtype=float)\n",
        "\n",
        "# Encode Stack adresses\n",
        "stackaddresses_train_enc = stack_ordinal_encoder.fit_transform(train_data[['stack_1', 'stack_2', 'stack_3', 'stack_4', 'stack_5',\n",
        "                                                                      'stack_6', 'stack_7', 'stack_8', 'stack_9', 'stack_10',\n",
        "                                                                      'stack_11', 'stack_12', 'stack_13', 'stack_14', 'stack_15',\n",
        "                                                                      'stack_16','stack_17', 'stack_18', 'stack_19', 'stack_20']].astype('str'))\n",
        "\n",
        "train_data[['stack_1', 'stack_2', 'stack_3', 'stack_4', 'stack_5',\n",
        "             'stack_6', 'stack_7', 'stack_8', 'stack_9', 'stack_10',\n",
        "             'stack_11', 'stack_12', 'stack_13', 'stack_14', 'stack_15',\n",
        "             'stack_16','stack_17', 'stack_18', 'stack_19', 'stack_20']] = stackaddresses_train_enc\n",
        "\n",
        "stackaddresses_val_enc = stack_ordinal_encoder.transform(val_data[['stack_1', 'stack_2', 'stack_3', 'stack_4', 'stack_5',\n",
        "                                                        'stack_6', 'stack_7', 'stack_8', 'stack_9', 'stack_10',\n",
        "                                                        'stack_11', 'stack_12', 'stack_13', 'stack_14', 'stack_15',\n",
        "                                                        'stack_16','stack_17', 'stack_18', 'stack_19', 'stack_20']].astype('str'))\n",
        "stackaddresses_val_enc = np.where(stackaddresses_val_enc==-1, np.max(stackaddresses_train_enc)+1, stackaddresses_val_enc)\n",
        "val_data[['stack_1', 'stack_2', 'stack_3', 'stack_4', 'stack_5',\n",
        "           'stack_6', 'stack_7', 'stack_8', 'stack_9', 'stack_10',\n",
        "           'stack_11', 'stack_12', 'stack_13', 'stack_14', 'stack_15',\n",
        "           'stack_16','stack_17', 'stack_18', 'stack_19', 'stack_20']]= stackaddresses_val_enc\n",
        "\n",
        "stackaddresses_test_enc = stack_ordinal_encoder.transform(test_data[['stack_1', 'stack_2', 'stack_3', 'stack_4', 'stack_5',\n",
        "                                                        'stack_6', 'stack_7', 'stack_8', 'stack_9', 'stack_10',\n",
        "                                                        'stack_11', 'stack_12', 'stack_13', 'stack_14', 'stack_15',\n",
        "                                                        'stack_16','stack_17', 'stack_18', 'stack_19', 'stack_20']].astype('str'))\n",
        "\n",
        "stackaddresses_test_enc = np.where(stackaddresses_test_enc==-1, np.max(stackaddresses_train_enc)+1, stackaddresses_test_enc)\n",
        "\n",
        "test_data[['stack_1', 'stack_2', 'stack_3', 'stack_4', 'stack_5',\n",
        "           'stack_6', 'stack_7', 'stack_8', 'stack_9', 'stack_10',\n",
        "           'stack_11', 'stack_12', 'stack_13', 'stack_14', 'stack_15',\n",
        "           'stack_16','stack_17', 'stack_18', 'stack_19', 'stack_20']]= stackaddresses_test_enc"
      ]
    },
    {
      "cell_type": "code",
      "execution_count": 190,
      "metadata": {},
      "outputs": [],
      "source": [
        "# Encode Stack adresses\n",
        "args_ordinal_encoder = OrdinalEncoder(handle_unknown='use_encoded_value', unknown_value=-1, dtype=float)\n",
        "args_train_enc = args_ordinal_encoder.fit_transform(train_data[['name_1', 'name_2', 'name_3', 'name_4', 'name_5',\n",
        "                                                            'type_1', 'type_2', 'type_3', 'type_4', 'type_5',\n",
        "                                                            'value_1', 'value_2', 'value_3', 'value_4', 'value_5']].astype('str'))\n",
        "train_data[['name_1', 'name_2', 'name_3', 'name_4', 'name_5',\n",
        "             'type_1', 'type_2', 'type_3', 'type_4', 'type_5',\n",
        "             'value_1', 'value_2', 'value_3', 'value_4', 'value_5']] = args_train_enc\n",
        "\n",
        "args_val_enc = args_ordinal_encoder.transform(val_data[['name_1', 'name_2', 'name_3', 'name_4', 'name_5',\n",
        "                                                    'type_1', 'type_2', 'type_3', 'type_4', 'type_5',\n",
        "                                                    'value_1', 'value_2', 'value_3', 'value_4', 'value_5']].astype('str'))\n",
        "\n",
        "args_val_enc = np.where(args_val_enc==-1, np.max(args_train_enc)+1, args_val_enc)\n",
        "\n",
        "val_data[['name_1', 'name_2', 'name_3', 'name_4', 'name_5',\n",
        "           'type_1', 'type_2', 'type_3', 'type_4', 'type_5',\n",
        "           'value_1', 'value_2', 'value_3', 'value_4', 'value_5']] = args_val_enc\n",
        "\n",
        "args_test_enc = args_ordinal_encoder.transform(test_data[['name_1', 'name_2', 'name_3', 'name_4', 'name_5',\n",
        "                                                      'type_1', 'type_2', 'type_3', 'type_4', 'type_5',\n",
        "                                                      'value_1', 'value_2', 'value_3', 'value_4', 'value_5']].astype('str'))\n",
        "\n",
        "args_test_enc = np.where(args_test_enc==-1, np.max(args_train_enc)+1, args_test_enc)\n",
        "\n",
        "test_data[['name_1', 'name_2', 'name_3', 'name_4', 'name_5',\n",
        "           'type_1', 'type_2', 'type_3', 'type_4', 'type_5',\n",
        "           'value_1', 'value_2', 'value_3', 'value_4', 'value_5']] = args_test_enc"
      ]
    },
    {
      "cell_type": "code",
      "execution_count": 191,
      "metadata": {
        "colab": {
          "base_uri": "https://localhost:8080/"
        },
        "id": "h6dJqD0MIEUp",
        "outputId": "9fc66a9d-84a6-4cd9-fa4f-17486f4bca11"
      },
      "outputs": [
        {
          "data": {
            "text/plain": [
              "array([[0., 1.],\n",
              "       [0., 1.],\n",
              "       [0., 1.],\n",
              "       ...,\n",
              "       [1., 0.],\n",
              "       [1., 0.],\n",
              "       [1., 0.]])"
            ]
          },
          "execution_count": 191,
          "metadata": {},
          "output_type": "execute_result"
        }
      ],
      "source": [
        "y_train = train_data['sus']\n",
        "y_val = val_data['sus']\n",
        "y_test = test_data['sus']\n",
        "y_train_encoded = to_categorical(train_data['sus'], num_classes=2)\n",
        "y_val_encoded = to_categorical(val_data['sus'], num_classes=2)\n",
        "y_test_encoded = to_categorical(test_data['sus'], num_classes=2)\n",
        "y_train_encoded"
      ]
    },
    {
      "cell_type": "markdown",
      "metadata": {
        "id": "z30_zgmfA6QX"
      },
      "source": [
        "## Modelisation"
      ]
    },
    {
      "cell_type": "code",
      "execution_count": 192,
      "metadata": {
        "colab": {
          "base_uri": "https://localhost:8080/"
        },
        "id": "UsJ2m1xjA6QY",
        "outputId": "81f530af-e08e-4eba-9d95-e232dea8c538"
      },
      "outputs": [
        {
          "name": "stdout",
          "output_type": "stream",
          "text": [
            "8449 26665 3 589 3 3 3 9 33 4\n"
          ]
        }
      ],
      "source": [
        "n_unique_stack = (np.max(stackaddresses_train_enc)+2).astype('int')\n",
        "n_unique_args = (np.max(args_train_enc)+2).astype('int')\n",
        "n_unique_processId = (np.max(train_data[['processId']])+2).astype('int')\n",
        "n_unique_threadId = (np.max(train_data[['threadId']])+2).astype('int')\n",
        "n_unique_parentProcessId = (np.max(train_data[['parentProcessId']])+2).astype('int')\n",
        "n_unique_userId = (np.max(train_data[['userId']])+2).astype('int')\n",
        "n_unique_mountNamespace = (np.max(train_data[['mountNamespace']])+2).astype('int')\n",
        "n_unique_hostname = (np.max(train_data[['hostName']])+2).astype('int')\n",
        "n_unique_eventid = (np.max(train_data[['eventId']])+2).astype('int')\n",
        "n_unique_returnvalue = (np.max(train_data[['returnValue']])+2).astype('int')\n",
        "\n",
        "print(n_unique_stack, n_unique_args, n_unique_processId, n_unique_threadId, n_unique_parentProcessId, \n",
        "n_unique_userId, n_unique_mountNamespace, n_unique_hostname, n_unique_eventid, n_unique_returnvalue)"
      ]
    },
    {
      "cell_type": "code",
      "execution_count": 193,
      "metadata": {
        "colab": {
          "base_uri": "https://localhost:8080/"
        },
        "id": "JHo6phJLA6QZ",
        "outputId": "565c1213-511f-48a8-8e82-98389b2d8d12"
      },
      "outputs": [
        {
          "data": {
            "text/plain": [
              "Index(['timestamp', 'processId', 'threadId', 'parentProcessId', 'userId',\n",
              "       'mountNamespace', 'processName', 'hostName', 'eventId', 'eventName',\n",
              "       'stackAddresses', 'argsNum', 'returnValue', 'args', 'sus', 'evil',\n",
              "       'stack_address_len', 'stack_1', 'stack_2', 'stack_3', 'stack_4',\n",
              "       'stack_5', 'stack_6', 'stack_7', 'stack_8', 'stack_9', 'stack_10',\n",
              "       'stack_11', 'stack_12', 'stack_13', 'stack_14', 'stack_15', 'stack_16',\n",
              "       'stack_17', 'stack_18', 'stack_19', 'stack_20', 'name_1', 'name_2',\n",
              "       'name_3', 'name_4', 'name_5', 'type_1', 'type_2', 'type_3', 'type_4',\n",
              "       'type_5', 'value_1', 'value_2', 'value_3', 'value_4', 'value_5'],\n",
              "      dtype='object')"
            ]
          },
          "execution_count": 193,
          "metadata": {},
          "output_type": "execute_result"
        }
      ],
      "source": [
        "train_data.columns"
      ]
    },
    {
      "cell_type": "code",
      "execution_count": 202,
      "metadata": {
        "colab": {
          "base_uri": "https://localhost:8080/"
        },
        "id": "DDqTVXG6A6QZ",
        "outputId": "a8dbde49-fe80-42d7-815c-fde4c13249ee"
      },
      "outputs": [
        {
          "data": {
            "text/html": [
              "<pre style=\"white-space:pre;overflow-x:auto;line-height:normal;font-family:Menlo,'DejaVu Sans Mono',consolas,'Courier New',monospace\"><span style=\"font-weight: bold\">Model: \"functional_43\"</span>\n",
              "</pre>\n"
            ],
            "text/plain": [
              "\u001b[1mModel: \"functional_43\"\u001b[0m\n"
            ]
          },
          "metadata": {},
          "output_type": "display_data"
        },
        {
          "data": {
            "text/html": [
              "<pre style=\"white-space:pre;overflow-x:auto;line-height:normal;font-family:Menlo,'DejaVu Sans Mono',consolas,'Courier New',monospace\">┏━━━━━━━━━━━━━━━━━━━━━┳━━━━━━━━━━━━━━━━━━━┳━━━━━━━━━━━━┳━━━━━━━━━━━━━━━━━━━┓\n",
              "┃<span style=\"font-weight: bold\"> Layer (type)        </span>┃<span style=\"font-weight: bold\"> Output Shape      </span>┃<span style=\"font-weight: bold\">    Param # </span>┃<span style=\"font-weight: bold\"> Connected to      </span>┃\n",
              "┡━━━━━━━━━━━━━━━━━━━━━╇━━━━━━━━━━━━━━━━━━━╇━━━━━━━━━━━━╇━━━━━━━━━━━━━━━━━━━┩\n",
              "│ input_layer_276     │ (<span style=\"color: #00d7ff; text-decoration-color: #00d7ff\">None</span>, <span style=\"color: #00af00; text-decoration-color: #00af00\">20</span>)        │          <span style=\"color: #00af00; text-decoration-color: #00af00\">0</span> │ -                 │\n",
              "│ (<span style=\"color: #0087ff; text-decoration-color: #0087ff\">InputLayer</span>)        │                   │            │                   │\n",
              "├─────────────────────┼───────────────────┼────────────┼───────────────────┤\n",
              "│ input_layer_277     │ (<span style=\"color: #00d7ff; text-decoration-color: #00d7ff\">None</span>, <span style=\"color: #00af00; text-decoration-color: #00af00\">15</span>)        │          <span style=\"color: #00af00; text-decoration-color: #00af00\">0</span> │ -                 │\n",
              "│ (<span style=\"color: #0087ff; text-decoration-color: #0087ff\">InputLayer</span>)        │                   │            │                   │\n",
              "├─────────────────────┼───────────────────┼────────────┼───────────────────┤\n",
              "│ input_layer_278     │ (<span style=\"color: #00d7ff; text-decoration-color: #00d7ff\">None</span>, <span style=\"color: #00af00; text-decoration-color: #00af00\">1</span>)         │          <span style=\"color: #00af00; text-decoration-color: #00af00\">0</span> │ -                 │\n",
              "│ (<span style=\"color: #0087ff; text-decoration-color: #0087ff\">InputLayer</span>)        │                   │            │                   │\n",
              "├─────────────────────┼───────────────────┼────────────┼───────────────────┤\n",
              "│ input_layer_279     │ (<span style=\"color: #00d7ff; text-decoration-color: #00d7ff\">None</span>, <span style=\"color: #00af00; text-decoration-color: #00af00\">1</span>)         │          <span style=\"color: #00af00; text-decoration-color: #00af00\">0</span> │ -                 │\n",
              "│ (<span style=\"color: #0087ff; text-decoration-color: #0087ff\">InputLayer</span>)        │                   │            │                   │\n",
              "├─────────────────────┼───────────────────┼────────────┼───────────────────┤\n",
              "│ input_layer_280     │ (<span style=\"color: #00d7ff; text-decoration-color: #00d7ff\">None</span>, <span style=\"color: #00af00; text-decoration-color: #00af00\">1</span>)         │          <span style=\"color: #00af00; text-decoration-color: #00af00\">0</span> │ -                 │\n",
              "│ (<span style=\"color: #0087ff; text-decoration-color: #0087ff\">InputLayer</span>)        │                   │            │                   │\n",
              "├─────────────────────┼───────────────────┼────────────┼───────────────────┤\n",
              "│ input_layer_281     │ (<span style=\"color: #00d7ff; text-decoration-color: #00d7ff\">None</span>, <span style=\"color: #00af00; text-decoration-color: #00af00\">1</span>)         │          <span style=\"color: #00af00; text-decoration-color: #00af00\">0</span> │ -                 │\n",
              "│ (<span style=\"color: #0087ff; text-decoration-color: #0087ff\">InputLayer</span>)        │                   │            │                   │\n",
              "├─────────────────────┼───────────────────┼────────────┼───────────────────┤\n",
              "│ input_layer_282     │ (<span style=\"color: #00d7ff; text-decoration-color: #00d7ff\">None</span>, <span style=\"color: #00af00; text-decoration-color: #00af00\">1</span>)         │          <span style=\"color: #00af00; text-decoration-color: #00af00\">0</span> │ -                 │\n",
              "│ (<span style=\"color: #0087ff; text-decoration-color: #0087ff\">InputLayer</span>)        │                   │            │                   │\n",
              "├─────────────────────┼───────────────────┼────────────┼───────────────────┤\n",
              "│ input_layer_283     │ (<span style=\"color: #00d7ff; text-decoration-color: #00d7ff\">None</span>, <span style=\"color: #00af00; text-decoration-color: #00af00\">1</span>)         │          <span style=\"color: #00af00; text-decoration-color: #00af00\">0</span> │ -                 │\n",
              "│ (<span style=\"color: #0087ff; text-decoration-color: #0087ff\">InputLayer</span>)        │                   │            │                   │\n",
              "├─────────────────────┼───────────────────┼────────────┼───────────────────┤\n",
              "│ input_layer_284     │ (<span style=\"color: #00d7ff; text-decoration-color: #00d7ff\">None</span>, <span style=\"color: #00af00; text-decoration-color: #00af00\">1</span>)         │          <span style=\"color: #00af00; text-decoration-color: #00af00\">0</span> │ -                 │\n",
              "│ (<span style=\"color: #0087ff; text-decoration-color: #0087ff\">InputLayer</span>)        │                   │            │                   │\n",
              "├─────────────────────┼───────────────────┼────────────┼───────────────────┤\n",
              "│ input_layer_285     │ (<span style=\"color: #00d7ff; text-decoration-color: #00d7ff\">None</span>, <span style=\"color: #00af00; text-decoration-color: #00af00\">1</span>)         │          <span style=\"color: #00af00; text-decoration-color: #00af00\">0</span> │ -                 │\n",
              "│ (<span style=\"color: #0087ff; text-decoration-color: #0087ff\">InputLayer</span>)        │                   │            │                   │\n",
              "├─────────────────────┼───────────────────┼────────────┼───────────────────┤\n",
              "│ input_layer_286     │ (<span style=\"color: #00d7ff; text-decoration-color: #00d7ff\">None</span>, <span style=\"color: #00af00; text-decoration-color: #00af00\">1</span>)         │          <span style=\"color: #00af00; text-decoration-color: #00af00\">0</span> │ -                 │\n",
              "│ (<span style=\"color: #0087ff; text-decoration-color: #0087ff\">InputLayer</span>)        │                   │            │                   │\n",
              "├─────────────────────┼───────────────────┼────────────┼───────────────────┤\n",
              "│ input_layer_287     │ (<span style=\"color: #00d7ff; text-decoration-color: #00d7ff\">None</span>, <span style=\"color: #00af00; text-decoration-color: #00af00\">1</span>)         │          <span style=\"color: #00af00; text-decoration-color: #00af00\">0</span> │ -                 │\n",
              "│ (<span style=\"color: #0087ff; text-decoration-color: #0087ff\">InputLayer</span>)        │                   │            │                   │\n",
              "├─────────────────────┼───────────────────┼────────────┼───────────────────┤\n",
              "│ embedding_230       │ (<span style=\"color: #00d7ff; text-decoration-color: #00d7ff\">None</span>, <span style=\"color: #00af00; text-decoration-color: #00af00\">20</span>, <span style=\"color: #00af00; text-decoration-color: #00af00\">256</span>)   │  <span style=\"color: #00af00; text-decoration-color: #00af00\">2,162,944</span> │ input_layer_276[<span style=\"color: #00af00; text-decoration-color: #00af00\">…</span> │\n",
              "│ (<span style=\"color: #0087ff; text-decoration-color: #0087ff\">Embedding</span>)         │                   │            │                   │\n",
              "├─────────────────────┼───────────────────┼────────────┼───────────────────┤\n",
              "│ embedding_231       │ (<span style=\"color: #00d7ff; text-decoration-color: #00d7ff\">None</span>, <span style=\"color: #00af00; text-decoration-color: #00af00\">15</span>, <span style=\"color: #00af00; text-decoration-color: #00af00\">256</span>)   │  <span style=\"color: #00af00; text-decoration-color: #00af00\">6,826,240</span> │ input_layer_277[<span style=\"color: #00af00; text-decoration-color: #00af00\">…</span> │\n",
              "│ (<span style=\"color: #0087ff; text-decoration-color: #0087ff\">Embedding</span>)         │                   │            │                   │\n",
              "├─────────────────────┼───────────────────┼────────────┼───────────────────┤\n",
              "│ embedding_232       │ (<span style=\"color: #00d7ff; text-decoration-color: #00d7ff\">None</span>, <span style=\"color: #00af00; text-decoration-color: #00af00\">1</span>, <span style=\"color: #00af00; text-decoration-color: #00af00\">32</span>)     │         <span style=\"color: #00af00; text-decoration-color: #00af00\">96</span> │ input_layer_278[<span style=\"color: #00af00; text-decoration-color: #00af00\">…</span> │\n",
              "│ (<span style=\"color: #0087ff; text-decoration-color: #0087ff\">Embedding</span>)         │                   │            │                   │\n",
              "├─────────────────────┼───────────────────┼────────────┼───────────────────┤\n",
              "│ embedding_233       │ (<span style=\"color: #00d7ff; text-decoration-color: #00d7ff\">None</span>, <span style=\"color: #00af00; text-decoration-color: #00af00\">1</span>, <span style=\"color: #00af00; text-decoration-color: #00af00\">32</span>)     │     <span style=\"color: #00af00; text-decoration-color: #00af00\">18,848</span> │ input_layer_279[<span style=\"color: #00af00; text-decoration-color: #00af00\">…</span> │\n",
              "│ (<span style=\"color: #0087ff; text-decoration-color: #0087ff\">Embedding</span>)         │                   │            │                   │\n",
              "├─────────────────────┼───────────────────┼────────────┼───────────────────┤\n",
              "│ embedding_234       │ (<span style=\"color: #00d7ff; text-decoration-color: #00d7ff\">None</span>, <span style=\"color: #00af00; text-decoration-color: #00af00\">1</span>, <span style=\"color: #00af00; text-decoration-color: #00af00\">32</span>)     │         <span style=\"color: #00af00; text-decoration-color: #00af00\">96</span> │ input_layer_280[<span style=\"color: #00af00; text-decoration-color: #00af00\">…</span> │\n",
              "│ (<span style=\"color: #0087ff; text-decoration-color: #0087ff\">Embedding</span>)         │                   │            │                   │\n",
              "├─────────────────────┼───────────────────┼────────────┼───────────────────┤\n",
              "│ embedding_235       │ (<span style=\"color: #00d7ff; text-decoration-color: #00d7ff\">None</span>, <span style=\"color: #00af00; text-decoration-color: #00af00\">1</span>, <span style=\"color: #00af00; text-decoration-color: #00af00\">32</span>)     │         <span style=\"color: #00af00; text-decoration-color: #00af00\">96</span> │ input_layer_281[<span style=\"color: #00af00; text-decoration-color: #00af00\">…</span> │\n",
              "│ (<span style=\"color: #0087ff; text-decoration-color: #0087ff\">Embedding</span>)         │                   │            │                   │\n",
              "├─────────────────────┼───────────────────┼────────────┼───────────────────┤\n",
              "│ embedding_236       │ (<span style=\"color: #00d7ff; text-decoration-color: #00d7ff\">None</span>, <span style=\"color: #00af00; text-decoration-color: #00af00\">1</span>, <span style=\"color: #00af00; text-decoration-color: #00af00\">32</span>)     │         <span style=\"color: #00af00; text-decoration-color: #00af00\">96</span> │ input_layer_282[<span style=\"color: #00af00; text-decoration-color: #00af00\">…</span> │\n",
              "│ (<span style=\"color: #0087ff; text-decoration-color: #0087ff\">Embedding</span>)         │                   │            │                   │\n",
              "├─────────────────────┼───────────────────┼────────────┼───────────────────┤\n",
              "│ embedding_237       │ (<span style=\"color: #00d7ff; text-decoration-color: #00d7ff\">None</span>, <span style=\"color: #00af00; text-decoration-color: #00af00\">1</span>, <span style=\"color: #00af00; text-decoration-color: #00af00\">32</span>)     │        <span style=\"color: #00af00; text-decoration-color: #00af00\">288</span> │ input_layer_283[<span style=\"color: #00af00; text-decoration-color: #00af00\">…</span> │\n",
              "│ (<span style=\"color: #0087ff; text-decoration-color: #0087ff\">Embedding</span>)         │                   │            │                   │\n",
              "├─────────────────────┼───────────────────┼────────────┼───────────────────┤\n",
              "│ embedding_238       │ (<span style=\"color: #00d7ff; text-decoration-color: #00d7ff\">None</span>, <span style=\"color: #00af00; text-decoration-color: #00af00\">1</span>, <span style=\"color: #00af00; text-decoration-color: #00af00\">32</span>)     │      <span style=\"color: #00af00; text-decoration-color: #00af00\">1,056</span> │ input_layer_284[<span style=\"color: #00af00; text-decoration-color: #00af00\">…</span> │\n",
              "│ (<span style=\"color: #0087ff; text-decoration-color: #0087ff\">Embedding</span>)         │                   │            │                   │\n",
              "├─────────────────────┼───────────────────┼────────────┼───────────────────┤\n",
              "│ embedding_239       │ (<span style=\"color: #00d7ff; text-decoration-color: #00d7ff\">None</span>, <span style=\"color: #00af00; text-decoration-color: #00af00\">1</span>, <span style=\"color: #00af00; text-decoration-color: #00af00\">32</span>)     │        <span style=\"color: #00af00; text-decoration-color: #00af00\">128</span> │ input_layer_285[<span style=\"color: #00af00; text-decoration-color: #00af00\">…</span> │\n",
              "│ (<span style=\"color: #0087ff; text-decoration-color: #0087ff\">Embedding</span>)         │                   │            │                   │\n",
              "├─────────────────────┼───────────────────┼────────────┼───────────────────┤\n",
              "│ dense_371 (<span style=\"color: #0087ff; text-decoration-color: #0087ff\">Dense</span>)   │ (<span style=\"color: #00d7ff; text-decoration-color: #00d7ff\">None</span>, <span style=\"color: #00af00; text-decoration-color: #00af00\">64</span>)        │        <span style=\"color: #00af00; text-decoration-color: #00af00\">128</span> │ input_layer_286[<span style=\"color: #00af00; text-decoration-color: #00af00\">…</span> │\n",
              "├─────────────────────┼───────────────────┼────────────┼───────────────────┤\n",
              "│ dense_372 (<span style=\"color: #0087ff; text-decoration-color: #0087ff\">Dense</span>)   │ (<span style=\"color: #00d7ff; text-decoration-color: #00d7ff\">None</span>, <span style=\"color: #00af00; text-decoration-color: #00af00\">64</span>)        │        <span style=\"color: #00af00; text-decoration-color: #00af00\">128</span> │ input_layer_287[<span style=\"color: #00af00; text-decoration-color: #00af00\">…</span> │\n",
              "├─────────────────────┼───────────────────┼────────────┼───────────────────┤\n",
              "│ dense_361 (<span style=\"color: #0087ff; text-decoration-color: #0087ff\">Dense</span>)   │ (<span style=\"color: #00d7ff; text-decoration-color: #00d7ff\">None</span>, <span style=\"color: #00af00; text-decoration-color: #00af00\">20</span>, <span style=\"color: #00af00; text-decoration-color: #00af00\">64</span>)    │     <span style=\"color: #00af00; text-decoration-color: #00af00\">16,448</span> │ embedding_230[<span style=\"color: #00af00; text-decoration-color: #00af00\">0</span>]… │\n",
              "├─────────────────────┼───────────────────┼────────────┼───────────────────┤\n",
              "│ dense_362 (<span style=\"color: #0087ff; text-decoration-color: #0087ff\">Dense</span>)   │ (<span style=\"color: #00d7ff; text-decoration-color: #00d7ff\">None</span>, <span style=\"color: #00af00; text-decoration-color: #00af00\">15</span>, <span style=\"color: #00af00; text-decoration-color: #00af00\">64</span>)    │     <span style=\"color: #00af00; text-decoration-color: #00af00\">16,448</span> │ embedding_231[<span style=\"color: #00af00; text-decoration-color: #00af00\">0</span>]… │\n",
              "├─────────────────────┼───────────────────┼────────────┼───────────────────┤\n",
              "│ dense_363 (<span style=\"color: #0087ff; text-decoration-color: #0087ff\">Dense</span>)   │ (<span style=\"color: #00d7ff; text-decoration-color: #00d7ff\">None</span>, <span style=\"color: #00af00; text-decoration-color: #00af00\">1</span>, <span style=\"color: #00af00; text-decoration-color: #00af00\">64</span>)     │      <span style=\"color: #00af00; text-decoration-color: #00af00\">2,112</span> │ embedding_232[<span style=\"color: #00af00; text-decoration-color: #00af00\">0</span>]… │\n",
              "├─────────────────────┼───────────────────┼────────────┼───────────────────┤\n",
              "│ dense_364 (<span style=\"color: #0087ff; text-decoration-color: #0087ff\">Dense</span>)   │ (<span style=\"color: #00d7ff; text-decoration-color: #00d7ff\">None</span>, <span style=\"color: #00af00; text-decoration-color: #00af00\">1</span>, <span style=\"color: #00af00; text-decoration-color: #00af00\">64</span>)     │      <span style=\"color: #00af00; text-decoration-color: #00af00\">2,112</span> │ embedding_233[<span style=\"color: #00af00; text-decoration-color: #00af00\">0</span>]… │\n",
              "├─────────────────────┼───────────────────┼────────────┼───────────────────┤\n",
              "│ dense_365 (<span style=\"color: #0087ff; text-decoration-color: #0087ff\">Dense</span>)   │ (<span style=\"color: #00d7ff; text-decoration-color: #00d7ff\">None</span>, <span style=\"color: #00af00; text-decoration-color: #00af00\">1</span>, <span style=\"color: #00af00; text-decoration-color: #00af00\">64</span>)     │      <span style=\"color: #00af00; text-decoration-color: #00af00\">2,112</span> │ embedding_234[<span style=\"color: #00af00; text-decoration-color: #00af00\">0</span>]… │\n",
              "├─────────────────────┼───────────────────┼────────────┼───────────────────┤\n",
              "│ dense_366 (<span style=\"color: #0087ff; text-decoration-color: #0087ff\">Dense</span>)   │ (<span style=\"color: #00d7ff; text-decoration-color: #00d7ff\">None</span>, <span style=\"color: #00af00; text-decoration-color: #00af00\">1</span>, <span style=\"color: #00af00; text-decoration-color: #00af00\">64</span>)     │      <span style=\"color: #00af00; text-decoration-color: #00af00\">2,112</span> │ embedding_235[<span style=\"color: #00af00; text-decoration-color: #00af00\">0</span>]… │\n",
              "├─────────────────────┼───────────────────┼────────────┼───────────────────┤\n",
              "│ dense_367 (<span style=\"color: #0087ff; text-decoration-color: #0087ff\">Dense</span>)   │ (<span style=\"color: #00d7ff; text-decoration-color: #00d7ff\">None</span>, <span style=\"color: #00af00; text-decoration-color: #00af00\">1</span>, <span style=\"color: #00af00; text-decoration-color: #00af00\">64</span>)     │      <span style=\"color: #00af00; text-decoration-color: #00af00\">2,112</span> │ embedding_236[<span style=\"color: #00af00; text-decoration-color: #00af00\">0</span>]… │\n",
              "├─────────────────────┼───────────────────┼────────────┼───────────────────┤\n",
              "│ dense_368 (<span style=\"color: #0087ff; text-decoration-color: #0087ff\">Dense</span>)   │ (<span style=\"color: #00d7ff; text-decoration-color: #00d7ff\">None</span>, <span style=\"color: #00af00; text-decoration-color: #00af00\">1</span>, <span style=\"color: #00af00; text-decoration-color: #00af00\">64</span>)     │      <span style=\"color: #00af00; text-decoration-color: #00af00\">2,112</span> │ embedding_237[<span style=\"color: #00af00; text-decoration-color: #00af00\">0</span>]… │\n",
              "├─────────────────────┼───────────────────┼────────────┼───────────────────┤\n",
              "│ dense_369 (<span style=\"color: #0087ff; text-decoration-color: #0087ff\">Dense</span>)   │ (<span style=\"color: #00d7ff; text-decoration-color: #00d7ff\">None</span>, <span style=\"color: #00af00; text-decoration-color: #00af00\">1</span>, <span style=\"color: #00af00; text-decoration-color: #00af00\">64</span>)     │      <span style=\"color: #00af00; text-decoration-color: #00af00\">2,112</span> │ embedding_238[<span style=\"color: #00af00; text-decoration-color: #00af00\">0</span>]… │\n",
              "├─────────────────────┼───────────────────┼────────────┼───────────────────┤\n",
              "│ dense_370 (<span style=\"color: #0087ff; text-decoration-color: #0087ff\">Dense</span>)   │ (<span style=\"color: #00d7ff; text-decoration-color: #00d7ff\">None</span>, <span style=\"color: #00af00; text-decoration-color: #00af00\">1</span>, <span style=\"color: #00af00; text-decoration-color: #00af00\">64</span>)     │      <span style=\"color: #00af00; text-decoration-color: #00af00\">2,112</span> │ embedding_239[<span style=\"color: #00af00; text-decoration-color: #00af00\">0</span>]… │\n",
              "├─────────────────────┼───────────────────┼────────────┼───────────────────┤\n",
              "│ reshape_44          │ (<span style=\"color: #00d7ff; text-decoration-color: #00d7ff\">None</span>, <span style=\"color: #00af00; text-decoration-color: #00af00\">1</span>, <span style=\"color: #00af00; text-decoration-color: #00af00\">64</span>)     │          <span style=\"color: #00af00; text-decoration-color: #00af00\">0</span> │ dense_371[<span style=\"color: #00af00; text-decoration-color: #00af00\">0</span>][<span style=\"color: #00af00; text-decoration-color: #00af00\">0</span>]   │\n",
              "│ (<span style=\"color: #0087ff; text-decoration-color: #0087ff\">Reshape</span>)           │                   │            │                   │\n",
              "├─────────────────────┼───────────────────┼────────────┼───────────────────┤\n",
              "│ reshape_45          │ (<span style=\"color: #00d7ff; text-decoration-color: #00d7ff\">None</span>, <span style=\"color: #00af00; text-decoration-color: #00af00\">1</span>, <span style=\"color: #00af00; text-decoration-color: #00af00\">64</span>)     │          <span style=\"color: #00af00; text-decoration-color: #00af00\">0</span> │ dense_372[<span style=\"color: #00af00; text-decoration-color: #00af00\">0</span>][<span style=\"color: #00af00; text-decoration-color: #00af00\">0</span>]   │\n",
              "│ (<span style=\"color: #0087ff; text-decoration-color: #0087ff\">Reshape</span>)           │                   │            │                   │\n",
              "├─────────────────────┼───────────────────┼────────────┼───────────────────┤\n",
              "│ concatenate_23      │ (<span style=\"color: #00d7ff; text-decoration-color: #00d7ff\">None</span>, <span style=\"color: #00af00; text-decoration-color: #00af00\">45</span>, <span style=\"color: #00af00; text-decoration-color: #00af00\">64</span>)    │          <span style=\"color: #00af00; text-decoration-color: #00af00\">0</span> │ dense_361[<span style=\"color: #00af00; text-decoration-color: #00af00\">0</span>][<span style=\"color: #00af00; text-decoration-color: #00af00\">0</span>],  │\n",
              "│ (<span style=\"color: #0087ff; text-decoration-color: #0087ff\">Concatenate</span>)       │                   │            │ dense_362[<span style=\"color: #00af00; text-decoration-color: #00af00\">0</span>][<span style=\"color: #00af00; text-decoration-color: #00af00\">0</span>],  │\n",
              "│                     │                   │            │ dense_363[<span style=\"color: #00af00; text-decoration-color: #00af00\">0</span>][<span style=\"color: #00af00; text-decoration-color: #00af00\">0</span>],  │\n",
              "│                     │                   │            │ dense_364[<span style=\"color: #00af00; text-decoration-color: #00af00\">0</span>][<span style=\"color: #00af00; text-decoration-color: #00af00\">0</span>],  │\n",
              "│                     │                   │            │ dense_365[<span style=\"color: #00af00; text-decoration-color: #00af00\">0</span>][<span style=\"color: #00af00; text-decoration-color: #00af00\">0</span>],  │\n",
              "│                     │                   │            │ dense_366[<span style=\"color: #00af00; text-decoration-color: #00af00\">0</span>][<span style=\"color: #00af00; text-decoration-color: #00af00\">0</span>],  │\n",
              "│                     │                   │            │ dense_367[<span style=\"color: #00af00; text-decoration-color: #00af00\">0</span>][<span style=\"color: #00af00; text-decoration-color: #00af00\">0</span>],  │\n",
              "│                     │                   │            │ dense_368[<span style=\"color: #00af00; text-decoration-color: #00af00\">0</span>][<span style=\"color: #00af00; text-decoration-color: #00af00\">0</span>],  │\n",
              "│                     │                   │            │ dense_369[<span style=\"color: #00af00; text-decoration-color: #00af00\">0</span>][<span style=\"color: #00af00; text-decoration-color: #00af00\">0</span>],  │\n",
              "│                     │                   │            │ dense_370[<span style=\"color: #00af00; text-decoration-color: #00af00\">0</span>][<span style=\"color: #00af00; text-decoration-color: #00af00\">0</span>],  │\n",
              "│                     │                   │            │ reshape_44[<span style=\"color: #00af00; text-decoration-color: #00af00\">0</span>][<span style=\"color: #00af00; text-decoration-color: #00af00\">0</span>], │\n",
              "│                     │                   │            │ reshape_45[<span style=\"color: #00af00; text-decoration-color: #00af00\">0</span>][<span style=\"color: #00af00; text-decoration-color: #00af00\">0</span>]  │\n",
              "├─────────────────────┼───────────────────┼────────────┼───────────────────┤\n",
              "│ positional_encodin… │ (<span style=\"color: #00d7ff; text-decoration-color: #00d7ff\">None</span>, <span style=\"color: #00af00; text-decoration-color: #00af00\">45</span>, <span style=\"color: #00af00; text-decoration-color: #00af00\">64</span>)    │          <span style=\"color: #00af00; text-decoration-color: #00af00\">0</span> │ concatenate_23[<span style=\"color: #00af00; text-decoration-color: #00af00\">0</span>… │\n",
              "│ (<span style=\"color: #0087ff; text-decoration-color: #0087ff\">PositionalEncodin…</span> │                   │            │                   │\n",
              "├─────────────────────┼───────────────────┼────────────┼───────────────────┤\n",
              "│ multi_head_attenti… │ (<span style=\"color: #00d7ff; text-decoration-color: #00d7ff\">None</span>, <span style=\"color: #00af00; text-decoration-color: #00af00\">45</span>, <span style=\"color: #00af00; text-decoration-color: #00af00\">64</span>)    │    <span style=\"color: #00af00; text-decoration-color: #00af00\">132,672</span> │ positional_encod… │\n",
              "│ (<span style=\"color: #0087ff; text-decoration-color: #0087ff\">MultiHeadAttentio…</span> │                   │            │ positional_encod… │\n",
              "├─────────────────────┼───────────────────┼────────────┼───────────────────┤\n",
              "│ dropout_109         │ (<span style=\"color: #00d7ff; text-decoration-color: #00d7ff\">None</span>, <span style=\"color: #00af00; text-decoration-color: #00af00\">45</span>, <span style=\"color: #00af00; text-decoration-color: #00af00\">64</span>)    │          <span style=\"color: #00af00; text-decoration-color: #00af00\">0</span> │ multi_head_atten… │\n",
              "│ (<span style=\"color: #0087ff; text-decoration-color: #0087ff\">Dropout</span>)           │                   │            │                   │\n",
              "├─────────────────────┼───────────────────┼────────────┼───────────────────┤\n",
              "│ add_44 (<span style=\"color: #0087ff; text-decoration-color: #0087ff\">Add</span>)        │ (<span style=\"color: #00d7ff; text-decoration-color: #00d7ff\">None</span>, <span style=\"color: #00af00; text-decoration-color: #00af00\">45</span>, <span style=\"color: #00af00; text-decoration-color: #00af00\">64</span>)    │          <span style=\"color: #00af00; text-decoration-color: #00af00\">0</span> │ positional_encod… │\n",
              "│                     │                   │            │ dropout_109[<span style=\"color: #00af00; text-decoration-color: #00af00\">0</span>][<span style=\"color: #00af00; text-decoration-color: #00af00\">0</span>] │\n",
              "├─────────────────────┼───────────────────┼────────────┼───────────────────┤\n",
              "│ layer_normalizatio… │ (<span style=\"color: #00d7ff; text-decoration-color: #00d7ff\">None</span>, <span style=\"color: #00af00; text-decoration-color: #00af00\">45</span>, <span style=\"color: #00af00; text-decoration-color: #00af00\">64</span>)    │        <span style=\"color: #00af00; text-decoration-color: #00af00\">128</span> │ add_44[<span style=\"color: #00af00; text-decoration-color: #00af00\">0</span>][<span style=\"color: #00af00; text-decoration-color: #00af00\">0</span>]      │\n",
              "│ (<span style=\"color: #0087ff; text-decoration-color: #0087ff\">LayerNormalizatio…</span> │                   │            │                   │\n",
              "├─────────────────────┼───────────────────┼────────────┼───────────────────┤\n",
              "│ dense_373 (<span style=\"color: #0087ff; text-decoration-color: #0087ff\">Dense</span>)   │ (<span style=\"color: #00d7ff; text-decoration-color: #00d7ff\">None</span>, <span style=\"color: #00af00; text-decoration-color: #00af00\">45</span>, <span style=\"color: #00af00; text-decoration-color: #00af00\">64</span>)    │      <span style=\"color: #00af00; text-decoration-color: #00af00\">4,160</span> │ layer_normalizat… │\n",
              "├─────────────────────┼───────────────────┼────────────┼───────────────────┤\n",
              "│ dropout_110         │ (<span style=\"color: #00d7ff; text-decoration-color: #00d7ff\">None</span>, <span style=\"color: #00af00; text-decoration-color: #00af00\">45</span>, <span style=\"color: #00af00; text-decoration-color: #00af00\">64</span>)    │          <span style=\"color: #00af00; text-decoration-color: #00af00\">0</span> │ dense_373[<span style=\"color: #00af00; text-decoration-color: #00af00\">0</span>][<span style=\"color: #00af00; text-decoration-color: #00af00\">0</span>]   │\n",
              "│ (<span style=\"color: #0087ff; text-decoration-color: #0087ff\">Dropout</span>)           │                   │            │                   │\n",
              "├─────────────────────┼───────────────────┼────────────┼───────────────────┤\n",
              "│ add_45 (<span style=\"color: #0087ff; text-decoration-color: #0087ff\">Add</span>)        │ (<span style=\"color: #00d7ff; text-decoration-color: #00d7ff\">None</span>, <span style=\"color: #00af00; text-decoration-color: #00af00\">45</span>, <span style=\"color: #00af00; text-decoration-color: #00af00\">64</span>)    │          <span style=\"color: #00af00; text-decoration-color: #00af00\">0</span> │ layer_normalizat… │\n",
              "│                     │                   │            │ dropout_110[<span style=\"color: #00af00; text-decoration-color: #00af00\">0</span>][<span style=\"color: #00af00; text-decoration-color: #00af00\">0</span>] │\n",
              "├─────────────────────┼───────────────────┼────────────┼───────────────────┤\n",
              "│ layer_normalizatio… │ (<span style=\"color: #00d7ff; text-decoration-color: #00d7ff\">None</span>, <span style=\"color: #00af00; text-decoration-color: #00af00\">45</span>, <span style=\"color: #00af00; text-decoration-color: #00af00\">64</span>)    │        <span style=\"color: #00af00; text-decoration-color: #00af00\">128</span> │ add_45[<span style=\"color: #00af00; text-decoration-color: #00af00\">0</span>][<span style=\"color: #00af00; text-decoration-color: #00af00\">0</span>]      │\n",
              "│ (<span style=\"color: #0087ff; text-decoration-color: #0087ff\">LayerNormalizatio…</span> │                   │            │                   │\n",
              "├─────────────────────┼───────────────────┼────────────┼───────────────────┤\n",
              "│ global_average_poo… │ (<span style=\"color: #00d7ff; text-decoration-color: #00d7ff\">None</span>, <span style=\"color: #00af00; text-decoration-color: #00af00\">64</span>)        │          <span style=\"color: #00af00; text-decoration-color: #00af00\">0</span> │ layer_normalizat… │\n",
              "│ (<span style=\"color: #0087ff; text-decoration-color: #0087ff\">GlobalAveragePool…</span> │                   │            │                   │\n",
              "├─────────────────────┼───────────────────┼────────────┼───────────────────┤\n",
              "│ dense_374 (<span style=\"color: #0087ff; text-decoration-color: #0087ff\">Dense</span>)   │ (<span style=\"color: #00d7ff; text-decoration-color: #00d7ff\">None</span>, <span style=\"color: #00af00; text-decoration-color: #00af00\">512</span>)       │     <span style=\"color: #00af00; text-decoration-color: #00af00\">33,280</span> │ global_average_p… │\n",
              "├─────────────────────┼───────────────────┼────────────┼───────────────────┤\n",
              "│ dropout_111         │ (<span style=\"color: #00d7ff; text-decoration-color: #00d7ff\">None</span>, <span style=\"color: #00af00; text-decoration-color: #00af00\">512</span>)       │          <span style=\"color: #00af00; text-decoration-color: #00af00\">0</span> │ dense_374[<span style=\"color: #00af00; text-decoration-color: #00af00\">0</span>][<span style=\"color: #00af00; text-decoration-color: #00af00\">0</span>]   │\n",
              "│ (<span style=\"color: #0087ff; text-decoration-color: #0087ff\">Dropout</span>)           │                   │            │                   │\n",
              "├─────────────────────┼───────────────────┼────────────┼───────────────────┤\n",
              "│ dense_375 (<span style=\"color: #0087ff; text-decoration-color: #0087ff\">Dense</span>)   │ (<span style=\"color: #00d7ff; text-decoration-color: #00d7ff\">None</span>, <span style=\"color: #00af00; text-decoration-color: #00af00\">128</span>)       │     <span style=\"color: #00af00; text-decoration-color: #00af00\">65,664</span> │ dropout_111[<span style=\"color: #00af00; text-decoration-color: #00af00\">0</span>][<span style=\"color: #00af00; text-decoration-color: #00af00\">0</span>] │\n",
              "├─────────────────────┼───────────────────┼────────────┼───────────────────┤\n",
              "│ dropout_112         │ (<span style=\"color: #00d7ff; text-decoration-color: #00d7ff\">None</span>, <span style=\"color: #00af00; text-decoration-color: #00af00\">128</span>)       │          <span style=\"color: #00af00; text-decoration-color: #00af00\">0</span> │ dense_375[<span style=\"color: #00af00; text-decoration-color: #00af00\">0</span>][<span style=\"color: #00af00; text-decoration-color: #00af00\">0</span>]   │\n",
              "│ (<span style=\"color: #0087ff; text-decoration-color: #0087ff\">Dropout</span>)           │                   │            │                   │\n",
              "├─────────────────────┼───────────────────┼────────────┼───────────────────┤\n",
              "│ dense_376 (<span style=\"color: #0087ff; text-decoration-color: #0087ff\">Dense</span>)   │ (<span style=\"color: #00d7ff; text-decoration-color: #00d7ff\">None</span>, <span style=\"color: #00af00; text-decoration-color: #00af00\">2</span>)         │        <span style=\"color: #00af00; text-decoration-color: #00af00\">258</span> │ dropout_112[<span style=\"color: #00af00; text-decoration-color: #00af00\">0</span>][<span style=\"color: #00af00; text-decoration-color: #00af00\">0</span>] │\n",
              "└─────────────────────┴───────────────────┴────────────┴───────────────────┘\n",
              "</pre>\n"
            ],
            "text/plain": [
              "┏━━━━━━━━━━━━━━━━━━━━━┳━━━━━━━━━━━━━━━━━━━┳━━━━━━━━━━━━┳━━━━━━━━━━━━━━━━━━━┓\n",
              "┃\u001b[1m \u001b[0m\u001b[1mLayer (type)       \u001b[0m\u001b[1m \u001b[0m┃\u001b[1m \u001b[0m\u001b[1mOutput Shape     \u001b[0m\u001b[1m \u001b[0m┃\u001b[1m \u001b[0m\u001b[1m   Param #\u001b[0m\u001b[1m \u001b[0m┃\u001b[1m \u001b[0m\u001b[1mConnected to     \u001b[0m\u001b[1m \u001b[0m┃\n",
              "┡━━━━━━━━━━━━━━━━━━━━━╇━━━━━━━━━━━━━━━━━━━╇━━━━━━━━━━━━╇━━━━━━━━━━━━━━━━━━━┩\n",
              "│ input_layer_276     │ (\u001b[38;5;45mNone\u001b[0m, \u001b[38;5;34m20\u001b[0m)        │          \u001b[38;5;34m0\u001b[0m │ -                 │\n",
              "│ (\u001b[38;5;33mInputLayer\u001b[0m)        │                   │            │                   │\n",
              "├─────────────────────┼───────────────────┼────────────┼───────────────────┤\n",
              "│ input_layer_277     │ (\u001b[38;5;45mNone\u001b[0m, \u001b[38;5;34m15\u001b[0m)        │          \u001b[38;5;34m0\u001b[0m │ -                 │\n",
              "│ (\u001b[38;5;33mInputLayer\u001b[0m)        │                   │            │                   │\n",
              "├─────────────────────┼───────────────────┼────────────┼───────────────────┤\n",
              "│ input_layer_278     │ (\u001b[38;5;45mNone\u001b[0m, \u001b[38;5;34m1\u001b[0m)         │          \u001b[38;5;34m0\u001b[0m │ -                 │\n",
              "│ (\u001b[38;5;33mInputLayer\u001b[0m)        │                   │            │                   │\n",
              "├─────────────────────┼───────────────────┼────────────┼───────────────────┤\n",
              "│ input_layer_279     │ (\u001b[38;5;45mNone\u001b[0m, \u001b[38;5;34m1\u001b[0m)         │          \u001b[38;5;34m0\u001b[0m │ -                 │\n",
              "│ (\u001b[38;5;33mInputLayer\u001b[0m)        │                   │            │                   │\n",
              "├─────────────────────┼───────────────────┼────────────┼───────────────────┤\n",
              "│ input_layer_280     │ (\u001b[38;5;45mNone\u001b[0m, \u001b[38;5;34m1\u001b[0m)         │          \u001b[38;5;34m0\u001b[0m │ -                 │\n",
              "│ (\u001b[38;5;33mInputLayer\u001b[0m)        │                   │            │                   │\n",
              "├─────────────────────┼───────────────────┼────────────┼───────────────────┤\n",
              "│ input_layer_281     │ (\u001b[38;5;45mNone\u001b[0m, \u001b[38;5;34m1\u001b[0m)         │          \u001b[38;5;34m0\u001b[0m │ -                 │\n",
              "│ (\u001b[38;5;33mInputLayer\u001b[0m)        │                   │            │                   │\n",
              "├─────────────────────┼───────────────────┼────────────┼───────────────────┤\n",
              "│ input_layer_282     │ (\u001b[38;5;45mNone\u001b[0m, \u001b[38;5;34m1\u001b[0m)         │          \u001b[38;5;34m0\u001b[0m │ -                 │\n",
              "│ (\u001b[38;5;33mInputLayer\u001b[0m)        │                   │            │                   │\n",
              "├─────────────────────┼───────────────────┼────────────┼───────────────────┤\n",
              "│ input_layer_283     │ (\u001b[38;5;45mNone\u001b[0m, \u001b[38;5;34m1\u001b[0m)         │          \u001b[38;5;34m0\u001b[0m │ -                 │\n",
              "│ (\u001b[38;5;33mInputLayer\u001b[0m)        │                   │            │                   │\n",
              "├─────────────────────┼───────────────────┼────────────┼───────────────────┤\n",
              "│ input_layer_284     │ (\u001b[38;5;45mNone\u001b[0m, \u001b[38;5;34m1\u001b[0m)         │          \u001b[38;5;34m0\u001b[0m │ -                 │\n",
              "│ (\u001b[38;5;33mInputLayer\u001b[0m)        │                   │            │                   │\n",
              "├─────────────────────┼───────────────────┼────────────┼───────────────────┤\n",
              "│ input_layer_285     │ (\u001b[38;5;45mNone\u001b[0m, \u001b[38;5;34m1\u001b[0m)         │          \u001b[38;5;34m0\u001b[0m │ -                 │\n",
              "│ (\u001b[38;5;33mInputLayer\u001b[0m)        │                   │            │                   │\n",
              "├─────────────────────┼───────────────────┼────────────┼───────────────────┤\n",
              "│ input_layer_286     │ (\u001b[38;5;45mNone\u001b[0m, \u001b[38;5;34m1\u001b[0m)         │          \u001b[38;5;34m0\u001b[0m │ -                 │\n",
              "│ (\u001b[38;5;33mInputLayer\u001b[0m)        │                   │            │                   │\n",
              "├─────────────────────┼───────────────────┼────────────┼───────────────────┤\n",
              "│ input_layer_287     │ (\u001b[38;5;45mNone\u001b[0m, \u001b[38;5;34m1\u001b[0m)         │          \u001b[38;5;34m0\u001b[0m │ -                 │\n",
              "│ (\u001b[38;5;33mInputLayer\u001b[0m)        │                   │            │                   │\n",
              "├─────────────────────┼───────────────────┼────────────┼───────────────────┤\n",
              "│ embedding_230       │ (\u001b[38;5;45mNone\u001b[0m, \u001b[38;5;34m20\u001b[0m, \u001b[38;5;34m256\u001b[0m)   │  \u001b[38;5;34m2,162,944\u001b[0m │ input_layer_276[\u001b[38;5;34m…\u001b[0m │\n",
              "│ (\u001b[38;5;33mEmbedding\u001b[0m)         │                   │            │                   │\n",
              "├─────────────────────┼───────────────────┼────────────┼───────────────────┤\n",
              "│ embedding_231       │ (\u001b[38;5;45mNone\u001b[0m, \u001b[38;5;34m15\u001b[0m, \u001b[38;5;34m256\u001b[0m)   │  \u001b[38;5;34m6,826,240\u001b[0m │ input_layer_277[\u001b[38;5;34m…\u001b[0m │\n",
              "│ (\u001b[38;5;33mEmbedding\u001b[0m)         │                   │            │                   │\n",
              "├─────────────────────┼───────────────────┼────────────┼───────────────────┤\n",
              "│ embedding_232       │ (\u001b[38;5;45mNone\u001b[0m, \u001b[38;5;34m1\u001b[0m, \u001b[38;5;34m32\u001b[0m)     │         \u001b[38;5;34m96\u001b[0m │ input_layer_278[\u001b[38;5;34m…\u001b[0m │\n",
              "│ (\u001b[38;5;33mEmbedding\u001b[0m)         │                   │            │                   │\n",
              "├─────────────────────┼───────────────────┼────────────┼───────────────────┤\n",
              "│ embedding_233       │ (\u001b[38;5;45mNone\u001b[0m, \u001b[38;5;34m1\u001b[0m, \u001b[38;5;34m32\u001b[0m)     │     \u001b[38;5;34m18,848\u001b[0m │ input_layer_279[\u001b[38;5;34m…\u001b[0m │\n",
              "│ (\u001b[38;5;33mEmbedding\u001b[0m)         │                   │            │                   │\n",
              "├─────────────────────┼───────────────────┼────────────┼───────────────────┤\n",
              "│ embedding_234       │ (\u001b[38;5;45mNone\u001b[0m, \u001b[38;5;34m1\u001b[0m, \u001b[38;5;34m32\u001b[0m)     │         \u001b[38;5;34m96\u001b[0m │ input_layer_280[\u001b[38;5;34m…\u001b[0m │\n",
              "│ (\u001b[38;5;33mEmbedding\u001b[0m)         │                   │            │                   │\n",
              "├─────────────────────┼───────────────────┼────────────┼───────────────────┤\n",
              "│ embedding_235       │ (\u001b[38;5;45mNone\u001b[0m, \u001b[38;5;34m1\u001b[0m, \u001b[38;5;34m32\u001b[0m)     │         \u001b[38;5;34m96\u001b[0m │ input_layer_281[\u001b[38;5;34m…\u001b[0m │\n",
              "│ (\u001b[38;5;33mEmbedding\u001b[0m)         │                   │            │                   │\n",
              "├─────────────────────┼───────────────────┼────────────┼───────────────────┤\n",
              "│ embedding_236       │ (\u001b[38;5;45mNone\u001b[0m, \u001b[38;5;34m1\u001b[0m, \u001b[38;5;34m32\u001b[0m)     │         \u001b[38;5;34m96\u001b[0m │ input_layer_282[\u001b[38;5;34m…\u001b[0m │\n",
              "│ (\u001b[38;5;33mEmbedding\u001b[0m)         │                   │            │                   │\n",
              "├─────────────────────┼───────────────────┼────────────┼───────────────────┤\n",
              "│ embedding_237       │ (\u001b[38;5;45mNone\u001b[0m, \u001b[38;5;34m1\u001b[0m, \u001b[38;5;34m32\u001b[0m)     │        \u001b[38;5;34m288\u001b[0m │ input_layer_283[\u001b[38;5;34m…\u001b[0m │\n",
              "│ (\u001b[38;5;33mEmbedding\u001b[0m)         │                   │            │                   │\n",
              "├─────────────────────┼───────────────────┼────────────┼───────────────────┤\n",
              "│ embedding_238       │ (\u001b[38;5;45mNone\u001b[0m, \u001b[38;5;34m1\u001b[0m, \u001b[38;5;34m32\u001b[0m)     │      \u001b[38;5;34m1,056\u001b[0m │ input_layer_284[\u001b[38;5;34m…\u001b[0m │\n",
              "│ (\u001b[38;5;33mEmbedding\u001b[0m)         │                   │            │                   │\n",
              "├─────────────────────┼───────────────────┼────────────┼───────────────────┤\n",
              "│ embedding_239       │ (\u001b[38;5;45mNone\u001b[0m, \u001b[38;5;34m1\u001b[0m, \u001b[38;5;34m32\u001b[0m)     │        \u001b[38;5;34m128\u001b[0m │ input_layer_285[\u001b[38;5;34m…\u001b[0m │\n",
              "│ (\u001b[38;5;33mEmbedding\u001b[0m)         │                   │            │                   │\n",
              "├─────────────────────┼───────────────────┼────────────┼───────────────────┤\n",
              "│ dense_371 (\u001b[38;5;33mDense\u001b[0m)   │ (\u001b[38;5;45mNone\u001b[0m, \u001b[38;5;34m64\u001b[0m)        │        \u001b[38;5;34m128\u001b[0m │ input_layer_286[\u001b[38;5;34m…\u001b[0m │\n",
              "├─────────────────────┼───────────────────┼────────────┼───────────────────┤\n",
              "│ dense_372 (\u001b[38;5;33mDense\u001b[0m)   │ (\u001b[38;5;45mNone\u001b[0m, \u001b[38;5;34m64\u001b[0m)        │        \u001b[38;5;34m128\u001b[0m │ input_layer_287[\u001b[38;5;34m…\u001b[0m │\n",
              "├─────────────────────┼───────────────────┼────────────┼───────────────────┤\n",
              "│ dense_361 (\u001b[38;5;33mDense\u001b[0m)   │ (\u001b[38;5;45mNone\u001b[0m, \u001b[38;5;34m20\u001b[0m, \u001b[38;5;34m64\u001b[0m)    │     \u001b[38;5;34m16,448\u001b[0m │ embedding_230[\u001b[38;5;34m0\u001b[0m]… │\n",
              "├─────────────────────┼───────────────────┼────────────┼───────────────────┤\n",
              "│ dense_362 (\u001b[38;5;33mDense\u001b[0m)   │ (\u001b[38;5;45mNone\u001b[0m, \u001b[38;5;34m15\u001b[0m, \u001b[38;5;34m64\u001b[0m)    │     \u001b[38;5;34m16,448\u001b[0m │ embedding_231[\u001b[38;5;34m0\u001b[0m]… │\n",
              "├─────────────────────┼───────────────────┼────────────┼───────────────────┤\n",
              "│ dense_363 (\u001b[38;5;33mDense\u001b[0m)   │ (\u001b[38;5;45mNone\u001b[0m, \u001b[38;5;34m1\u001b[0m, \u001b[38;5;34m64\u001b[0m)     │      \u001b[38;5;34m2,112\u001b[0m │ embedding_232[\u001b[38;5;34m0\u001b[0m]… │\n",
              "├─────────────────────┼───────────────────┼────────────┼───────────────────┤\n",
              "│ dense_364 (\u001b[38;5;33mDense\u001b[0m)   │ (\u001b[38;5;45mNone\u001b[0m, \u001b[38;5;34m1\u001b[0m, \u001b[38;5;34m64\u001b[0m)     │      \u001b[38;5;34m2,112\u001b[0m │ embedding_233[\u001b[38;5;34m0\u001b[0m]… │\n",
              "├─────────────────────┼───────────────────┼────────────┼───────────────────┤\n",
              "│ dense_365 (\u001b[38;5;33mDense\u001b[0m)   │ (\u001b[38;5;45mNone\u001b[0m, \u001b[38;5;34m1\u001b[0m, \u001b[38;5;34m64\u001b[0m)     │      \u001b[38;5;34m2,112\u001b[0m │ embedding_234[\u001b[38;5;34m0\u001b[0m]… │\n",
              "├─────────────────────┼───────────────────┼────────────┼───────────────────┤\n",
              "│ dense_366 (\u001b[38;5;33mDense\u001b[0m)   │ (\u001b[38;5;45mNone\u001b[0m, \u001b[38;5;34m1\u001b[0m, \u001b[38;5;34m64\u001b[0m)     │      \u001b[38;5;34m2,112\u001b[0m │ embedding_235[\u001b[38;5;34m0\u001b[0m]… │\n",
              "├─────────────────────┼───────────────────┼────────────┼───────────────────┤\n",
              "│ dense_367 (\u001b[38;5;33mDense\u001b[0m)   │ (\u001b[38;5;45mNone\u001b[0m, \u001b[38;5;34m1\u001b[0m, \u001b[38;5;34m64\u001b[0m)     │      \u001b[38;5;34m2,112\u001b[0m │ embedding_236[\u001b[38;5;34m0\u001b[0m]… │\n",
              "├─────────────────────┼───────────────────┼────────────┼───────────────────┤\n",
              "│ dense_368 (\u001b[38;5;33mDense\u001b[0m)   │ (\u001b[38;5;45mNone\u001b[0m, \u001b[38;5;34m1\u001b[0m, \u001b[38;5;34m64\u001b[0m)     │      \u001b[38;5;34m2,112\u001b[0m │ embedding_237[\u001b[38;5;34m0\u001b[0m]… │\n",
              "├─────────────────────┼───────────────────┼────────────┼───────────────────┤\n",
              "│ dense_369 (\u001b[38;5;33mDense\u001b[0m)   │ (\u001b[38;5;45mNone\u001b[0m, \u001b[38;5;34m1\u001b[0m, \u001b[38;5;34m64\u001b[0m)     │      \u001b[38;5;34m2,112\u001b[0m │ embedding_238[\u001b[38;5;34m0\u001b[0m]… │\n",
              "├─────────────────────┼───────────────────┼────────────┼───────────────────┤\n",
              "│ dense_370 (\u001b[38;5;33mDense\u001b[0m)   │ (\u001b[38;5;45mNone\u001b[0m, \u001b[38;5;34m1\u001b[0m, \u001b[38;5;34m64\u001b[0m)     │      \u001b[38;5;34m2,112\u001b[0m │ embedding_239[\u001b[38;5;34m0\u001b[0m]… │\n",
              "├─────────────────────┼───────────────────┼────────────┼───────────────────┤\n",
              "│ reshape_44          │ (\u001b[38;5;45mNone\u001b[0m, \u001b[38;5;34m1\u001b[0m, \u001b[38;5;34m64\u001b[0m)     │          \u001b[38;5;34m0\u001b[0m │ dense_371[\u001b[38;5;34m0\u001b[0m][\u001b[38;5;34m0\u001b[0m]   │\n",
              "│ (\u001b[38;5;33mReshape\u001b[0m)           │                   │            │                   │\n",
              "├─────────────────────┼───────────────────┼────────────┼───────────────────┤\n",
              "│ reshape_45          │ (\u001b[38;5;45mNone\u001b[0m, \u001b[38;5;34m1\u001b[0m, \u001b[38;5;34m64\u001b[0m)     │          \u001b[38;5;34m0\u001b[0m │ dense_372[\u001b[38;5;34m0\u001b[0m][\u001b[38;5;34m0\u001b[0m]   │\n",
              "│ (\u001b[38;5;33mReshape\u001b[0m)           │                   │            │                   │\n",
              "├─────────────────────┼───────────────────┼────────────┼───────────────────┤\n",
              "│ concatenate_23      │ (\u001b[38;5;45mNone\u001b[0m, \u001b[38;5;34m45\u001b[0m, \u001b[38;5;34m64\u001b[0m)    │          \u001b[38;5;34m0\u001b[0m │ dense_361[\u001b[38;5;34m0\u001b[0m][\u001b[38;5;34m0\u001b[0m],  │\n",
              "│ (\u001b[38;5;33mConcatenate\u001b[0m)       │                   │            │ dense_362[\u001b[38;5;34m0\u001b[0m][\u001b[38;5;34m0\u001b[0m],  │\n",
              "│                     │                   │            │ dense_363[\u001b[38;5;34m0\u001b[0m][\u001b[38;5;34m0\u001b[0m],  │\n",
              "│                     │                   │            │ dense_364[\u001b[38;5;34m0\u001b[0m][\u001b[38;5;34m0\u001b[0m],  │\n",
              "│                     │                   │            │ dense_365[\u001b[38;5;34m0\u001b[0m][\u001b[38;5;34m0\u001b[0m],  │\n",
              "│                     │                   │            │ dense_366[\u001b[38;5;34m0\u001b[0m][\u001b[38;5;34m0\u001b[0m],  │\n",
              "│                     │                   │            │ dense_367[\u001b[38;5;34m0\u001b[0m][\u001b[38;5;34m0\u001b[0m],  │\n",
              "│                     │                   │            │ dense_368[\u001b[38;5;34m0\u001b[0m][\u001b[38;5;34m0\u001b[0m],  │\n",
              "│                     │                   │            │ dense_369[\u001b[38;5;34m0\u001b[0m][\u001b[38;5;34m0\u001b[0m],  │\n",
              "│                     │                   │            │ dense_370[\u001b[38;5;34m0\u001b[0m][\u001b[38;5;34m0\u001b[0m],  │\n",
              "│                     │                   │            │ reshape_44[\u001b[38;5;34m0\u001b[0m][\u001b[38;5;34m0\u001b[0m], │\n",
              "│                     │                   │            │ reshape_45[\u001b[38;5;34m0\u001b[0m][\u001b[38;5;34m0\u001b[0m]  │\n",
              "├─────────────────────┼───────────────────┼────────────┼───────────────────┤\n",
              "│ positional_encodin… │ (\u001b[38;5;45mNone\u001b[0m, \u001b[38;5;34m45\u001b[0m, \u001b[38;5;34m64\u001b[0m)    │          \u001b[38;5;34m0\u001b[0m │ concatenate_23[\u001b[38;5;34m0\u001b[0m… │\n",
              "│ (\u001b[38;5;33mPositionalEncodin…\u001b[0m │                   │            │                   │\n",
              "├─────────────────────┼───────────────────┼────────────┼───────────────────┤\n",
              "│ multi_head_attenti… │ (\u001b[38;5;45mNone\u001b[0m, \u001b[38;5;34m45\u001b[0m, \u001b[38;5;34m64\u001b[0m)    │    \u001b[38;5;34m132,672\u001b[0m │ positional_encod… │\n",
              "│ (\u001b[38;5;33mMultiHeadAttentio…\u001b[0m │                   │            │ positional_encod… │\n",
              "├─────────────────────┼───────────────────┼────────────┼───────────────────┤\n",
              "│ dropout_109         │ (\u001b[38;5;45mNone\u001b[0m, \u001b[38;5;34m45\u001b[0m, \u001b[38;5;34m64\u001b[0m)    │          \u001b[38;5;34m0\u001b[0m │ multi_head_atten… │\n",
              "│ (\u001b[38;5;33mDropout\u001b[0m)           │                   │            │                   │\n",
              "├─────────────────────┼───────────────────┼────────────┼───────────────────┤\n",
              "│ add_44 (\u001b[38;5;33mAdd\u001b[0m)        │ (\u001b[38;5;45mNone\u001b[0m, \u001b[38;5;34m45\u001b[0m, \u001b[38;5;34m64\u001b[0m)    │          \u001b[38;5;34m0\u001b[0m │ positional_encod… │\n",
              "│                     │                   │            │ dropout_109[\u001b[38;5;34m0\u001b[0m][\u001b[38;5;34m0\u001b[0m] │\n",
              "├─────────────────────┼───────────────────┼────────────┼───────────────────┤\n",
              "│ layer_normalizatio… │ (\u001b[38;5;45mNone\u001b[0m, \u001b[38;5;34m45\u001b[0m, \u001b[38;5;34m64\u001b[0m)    │        \u001b[38;5;34m128\u001b[0m │ add_44[\u001b[38;5;34m0\u001b[0m][\u001b[38;5;34m0\u001b[0m]      │\n",
              "│ (\u001b[38;5;33mLayerNormalizatio…\u001b[0m │                   │            │                   │\n",
              "├─────────────────────┼───────────────────┼────────────┼───────────────────┤\n",
              "│ dense_373 (\u001b[38;5;33mDense\u001b[0m)   │ (\u001b[38;5;45mNone\u001b[0m, \u001b[38;5;34m45\u001b[0m, \u001b[38;5;34m64\u001b[0m)    │      \u001b[38;5;34m4,160\u001b[0m │ layer_normalizat… │\n",
              "├─────────────────────┼───────────────────┼────────────┼───────────────────┤\n",
              "│ dropout_110         │ (\u001b[38;5;45mNone\u001b[0m, \u001b[38;5;34m45\u001b[0m, \u001b[38;5;34m64\u001b[0m)    │          \u001b[38;5;34m0\u001b[0m │ dense_373[\u001b[38;5;34m0\u001b[0m][\u001b[38;5;34m0\u001b[0m]   │\n",
              "│ (\u001b[38;5;33mDropout\u001b[0m)           │                   │            │                   │\n",
              "├─────────────────────┼───────────────────┼────────────┼───────────────────┤\n",
              "│ add_45 (\u001b[38;5;33mAdd\u001b[0m)        │ (\u001b[38;5;45mNone\u001b[0m, \u001b[38;5;34m45\u001b[0m, \u001b[38;5;34m64\u001b[0m)    │          \u001b[38;5;34m0\u001b[0m │ layer_normalizat… │\n",
              "│                     │                   │            │ dropout_110[\u001b[38;5;34m0\u001b[0m][\u001b[38;5;34m0\u001b[0m] │\n",
              "├─────────────────────┼───────────────────┼────────────┼───────────────────┤\n",
              "│ layer_normalizatio… │ (\u001b[38;5;45mNone\u001b[0m, \u001b[38;5;34m45\u001b[0m, \u001b[38;5;34m64\u001b[0m)    │        \u001b[38;5;34m128\u001b[0m │ add_45[\u001b[38;5;34m0\u001b[0m][\u001b[38;5;34m0\u001b[0m]      │\n",
              "│ (\u001b[38;5;33mLayerNormalizatio…\u001b[0m │                   │            │                   │\n",
              "├─────────────────────┼───────────────────┼────────────┼───────────────────┤\n",
              "│ global_average_poo… │ (\u001b[38;5;45mNone\u001b[0m, \u001b[38;5;34m64\u001b[0m)        │          \u001b[38;5;34m0\u001b[0m │ layer_normalizat… │\n",
              "│ (\u001b[38;5;33mGlobalAveragePool…\u001b[0m │                   │            │                   │\n",
              "├─────────────────────┼───────────────────┼────────────┼───────────────────┤\n",
              "│ dense_374 (\u001b[38;5;33mDense\u001b[0m)   │ (\u001b[38;5;45mNone\u001b[0m, \u001b[38;5;34m512\u001b[0m)       │     \u001b[38;5;34m33,280\u001b[0m │ global_average_p… │\n",
              "├─────────────────────┼───────────────────┼────────────┼───────────────────┤\n",
              "│ dropout_111         │ (\u001b[38;5;45mNone\u001b[0m, \u001b[38;5;34m512\u001b[0m)       │          \u001b[38;5;34m0\u001b[0m │ dense_374[\u001b[38;5;34m0\u001b[0m][\u001b[38;5;34m0\u001b[0m]   │\n",
              "│ (\u001b[38;5;33mDropout\u001b[0m)           │                   │            │                   │\n",
              "├─────────────────────┼───────────────────┼────────────┼───────────────────┤\n",
              "│ dense_375 (\u001b[38;5;33mDense\u001b[0m)   │ (\u001b[38;5;45mNone\u001b[0m, \u001b[38;5;34m128\u001b[0m)       │     \u001b[38;5;34m65,664\u001b[0m │ dropout_111[\u001b[38;5;34m0\u001b[0m][\u001b[38;5;34m0\u001b[0m] │\n",
              "├─────────────────────┼───────────────────┼────────────┼───────────────────┤\n",
              "│ dropout_112         │ (\u001b[38;5;45mNone\u001b[0m, \u001b[38;5;34m128\u001b[0m)       │          \u001b[38;5;34m0\u001b[0m │ dense_375[\u001b[38;5;34m0\u001b[0m][\u001b[38;5;34m0\u001b[0m]   │\n",
              "│ (\u001b[38;5;33mDropout\u001b[0m)           │                   │            │                   │\n",
              "├─────────────────────┼───────────────────┼────────────┼───────────────────┤\n",
              "│ dense_376 (\u001b[38;5;33mDense\u001b[0m)   │ (\u001b[38;5;45mNone\u001b[0m, \u001b[38;5;34m2\u001b[0m)         │        \u001b[38;5;34m258\u001b[0m │ dropout_112[\u001b[38;5;34m0\u001b[0m][\u001b[38;5;34m0\u001b[0m] │\n",
              "└─────────────────────┴───────────────────┴────────────┴───────────────────┘\n"
            ]
          },
          "metadata": {},
          "output_type": "display_data"
        },
        {
          "data": {
            "text/html": [
              "<pre style=\"white-space:pre;overflow-x:auto;line-height:normal;font-family:Menlo,'DejaVu Sans Mono',consolas,'Courier New',monospace\"><span style=\"font-weight: bold\"> Total params: </span><span style=\"color: #00af00; text-decoration-color: #00af00\">9,296,226</span> (35.46 MB)\n",
              "</pre>\n"
            ],
            "text/plain": [
              "\u001b[1m Total params: \u001b[0m\u001b[38;5;34m9,296,226\u001b[0m (35.46 MB)\n"
            ]
          },
          "metadata": {},
          "output_type": "display_data"
        },
        {
          "data": {
            "text/html": [
              "<pre style=\"white-space:pre;overflow-x:auto;line-height:normal;font-family:Menlo,'DejaVu Sans Mono',consolas,'Courier New',monospace\"><span style=\"font-weight: bold\"> Trainable params: </span><span style=\"color: #00af00; text-decoration-color: #00af00\">9,296,226</span> (35.46 MB)\n",
              "</pre>\n"
            ],
            "text/plain": [
              "\u001b[1m Trainable params: \u001b[0m\u001b[38;5;34m9,296,226\u001b[0m (35.46 MB)\n"
            ]
          },
          "metadata": {},
          "output_type": "display_data"
        },
        {
          "data": {
            "text/html": [
              "<pre style=\"white-space:pre;overflow-x:auto;line-height:normal;font-family:Menlo,'DejaVu Sans Mono',consolas,'Courier New',monospace\"><span style=\"font-weight: bold\"> Non-trainable params: </span><span style=\"color: #00af00; text-decoration-color: #00af00\">0</span> (0.00 B)\n",
              "</pre>\n"
            ],
            "text/plain": [
              "\u001b[1m Non-trainable params: \u001b[0m\u001b[38;5;34m0\u001b[0m (0.00 B)\n"
            ]
          },
          "metadata": {},
          "output_type": "display_data"
        }
      ],
      "source": [
        "def create_transformer_model(stack_vocab, args_vocab, processid_vocab,\n",
        "                             threadid_vocab, parentprocessid_vocab,\n",
        "                             userid_vocab, mountnamespace_vocab, hostname_vocab,\n",
        "                             eventid_vocab, returnvalue_vocab, max_len=10):\n",
        "\n",
        "  # Define inputs \n",
        "  input_stack = Input(shape=(20,))\n",
        "  input_args = Input(shape=(15,))\n",
        "  input_processid = Input(shape=(1,))\n",
        "  input_threadid = Input(shape=(1,))\n",
        "  input_parentprocessid = Input(shape=(1,))\n",
        "  input_userid = Input(shape=(1,))\n",
        "  input_mountnamespace = Input(shape=(1,))\n",
        "  input_hostname = Input(shape=(1,))\n",
        "  input_eventid = Input(shape=(1,))\n",
        "  input_returnvalue = Input(shape=(1,))\n",
        "  input_args_num = Input(shape=(1,))\n",
        "  input_stacks_len = Input(shape=(1,))\n",
        "\n",
        "  # Define embedding layers for categorical features\n",
        "  embedding_size1 = 256\n",
        "  embedding_size2 = 32\n",
        "  hidden_size = 64\n",
        "  embed_stack = Embedding(input_dim=stack_vocab,\n",
        "                         output_dim=embedding_size1,\n",
        "                        #  embeddings_initializer = RandomNormal(mean=0.0, stddev=0.0001, seed=41),\n",
        "                        #  embeddings_regularizer = L1L2(l1=0.0001, l2=0.0001),\n",
        "                        #  embeddings_constraint  = UnitNorm(axis=[0,1]),\n",
        "                         mask_zero=False)(input_stack)\n",
        "  embed_cat1 = Dense(hidden_size, activation='linear')(embed_stack)\n",
        "\n",
        "  embed_args = Embedding(input_dim=args_vocab,\n",
        "                         output_dim=embedding_size1,\n",
        "                        #  embeddings_initializer = RandomNormal(mean=0.0, stddev=0.0001, seed=41),\n",
        "                        #  embeddings_regularizer = L1L2(l1=0.0001, l2=0.001),\n",
        "                        #  embeddings_constraint  = UnitNorm(axis=[0,1]),\n",
        "                         mask_zero=False)(input_args)\n",
        "  embed_cat2 = Dense(hidden_size, activation='linear')(embed_args)\n",
        "\n",
        "  embed_processid = Embedding(input_dim=processid_vocab,\n",
        "                         output_dim=embedding_size2,\n",
        "                        #  embeddings_initializer = RandomNormal(mean=0.0, stddev=0.0001, seed=41),\n",
        "                        #  embeddings_regularizer = L1L2(l1=0.0001, l2=0.001),\n",
        "                        #  embeddings_constraint  = UnitNorm(axis=[0,1]),\n",
        "                         mask_zero=False)(input_processid)\n",
        "  embed_cat3 = Dense(hidden_size, activation='linear')(embed_processid)\n",
        "\n",
        "  embed_threadid = Embedding(input_dim=threadid_vocab,\n",
        "                         output_dim=embedding_size2,\n",
        "                        #  embeddings_initializer = RandomNormal(mean=0.0, stddev=0.0001, seed=41),\n",
        "                        #  embeddings_regularizer = L1L2(l1=0.0001, l2=0.001),\n",
        "                        #  embeddings_constraint  = UnitNorm(axis=[0,1]),\n",
        "                         mask_zero=False)(input_threadid)\n",
        "  embed_cat4 = Dense(hidden_size, activation='linear')(embed_threadid)\n",
        "\n",
        "  embed_parentprocessid = Embedding(input_dim=parentprocessid_vocab,\n",
        "                         output_dim=embedding_size2,\n",
        "                        #  embeddings_initializer = RandomNormal(mean=0.0, stddev=0.0001, seed=41),\n",
        "                        #  embeddings_regularizer = L1L2(l1=0.0001, l2=0.001),\n",
        "                        #  embeddings_constraint  = UnitNorm(axis=[0,1]),\n",
        "                         mask_zero=False)(input_parentprocessid)\n",
        "  embed_cat5 = Dense(hidden_size, activation='linear')(embed_parentprocessid)\n",
        "\n",
        "  embed_userid = Embedding(input_dim=userid_vocab,\n",
        "                         output_dim=embedding_size2,\n",
        "                        #  embeddings_initializer = RandomNormal(mean=0.0, stddev=0.0001, seed=41),\n",
        "                        #  embeddings_regularizer = L1L2(l1=0.0001, l2=0.001),\n",
        "                        #  embeddings_constraint  = UnitNorm(axis=[0,1]),\n",
        "                         mask_zero=False)(input_userid)\n",
        "  embed_cat6 = Dense(hidden_size, activation='linear')(embed_userid)\n",
        "\n",
        "  embed_mountnamespace = Embedding(input_dim=mountnamespace_vocab,\n",
        "                         output_dim=embedding_size2,\n",
        "                        #  embeddings_initializer = RandomNormal(mean=0.0, stddev=0.0001, seed=41),\n",
        "                        #  embeddings_regularizer = L1L2(l1=0.0001, l2=0.001),\n",
        "                        #  embeddings_constraint  = UnitNorm(axis=[0,1]),\n",
        "                         mask_zero=False)(input_mountnamespace)\n",
        "  embed_cat7 = Dense(hidden_size, activation='linear')(embed_mountnamespace)\n",
        "\n",
        "  embed_hostname = Embedding(input_dim=hostname_vocab,\n",
        "                         output_dim=embedding_size2,\n",
        "                        #  embeddings_initializer = RandomNormal(mean=0.0, stddev=0.0001, seed=41),\n",
        "                        #  embeddings_regularizer = L1L2(l1=0.00001, l2=0.0001),\n",
        "                        #  embeddings_constraint  = UnitNorm(axis=[0,1]),\n",
        "                         mask_zero=False)(input_hostname)\n",
        "  embed_cat8 = Dense(hidden_size, activation='linear')(embed_hostname)\n",
        "\n",
        "  embed_eventid = Embedding(input_dim=eventid_vocab,\n",
        "                         output_dim=embedding_size2,\n",
        "                        #  embeddings_initializer = RandomNormal(mean=0.0, stddev=0.0001, seed=41),\n",
        "                        #  embeddings_regularizer = L1L2(l1=0.0001, l2=0.0001),\n",
        "                        #  embeddings_constraint  = UnitNorm(axis=[0,1]),\n",
        "                         mask_zero=False)(input_eventid)\n",
        "  embed_cat9 = Dense(hidden_size, activation='linear')(embed_eventid)\n",
        "\n",
        "  embed_returnvalue = Embedding(input_dim=returnvalue_vocab,\n",
        "                         output_dim=embedding_size2,\n",
        "                        #  embeddings_initializer = RandomNormal(mean=0.0, stddev=0.0001, seed=41),\n",
        "                        #  embeddings_regularizer = L1L2(l1=0.0001, l2=0.0001),\n",
        "                        #  embeddings_constraint  = UnitNorm(axis=[0,1]),\n",
        "                         mask_zero=False)(input_returnvalue)\n",
        "  embed_cat10 = Dense(hidden_size, activation='linear')(embed_returnvalue)\n",
        "\n",
        "  # numerical data\n",
        "  num1 = Dense(hidden_size, activation='linear')(input_args_num)\n",
        "  num1 = Reshape(target_shape=(1, hidden_size))(num1)\n",
        "  num2 = Dense(hidden_size, activation='linear')(input_stacks_len)\n",
        "  num2 = Reshape(target_shape=(1, hidden_size))(num2)\n",
        "\n",
        "\n",
        "  # Concatenate embedding layers\n",
        "  concat_embeds = Concatenate(axis=1)([embed_cat1, embed_cat2, embed_cat3, embed_cat4, \n",
        "                                       embed_cat5, embed_cat6, embed_cat7, embed_cat8,\n",
        "                                       embed_cat9, embed_cat10, num1, num2])\n",
        "\n",
        "  # Positional encoding (assuming you want to use sequences)\n",
        "  max_len=45\n",
        "  pos_encoding = PositionalEncoding(max_len, hidden_size)(concat_embeds)\n",
        "\n",
        "  # Transformer encoder block\n",
        "  encoder_output = transformer_encoder_block(pos_encoding, num_heads=4, ff_dim=hidden_size)\n",
        "\n",
        "  # Global average pooling\n",
        "  encoder_output = GlobalAveragePooling1D(keepdims=False)(encoder_output)\n",
        "  \n",
        "  x = Dense(512, activation='relu')(encoder_output)\n",
        "  x = Dropout(0.2)(x)\n",
        "  x = Dense(128, activation='relu')(x)\n",
        "  x = Dropout(0.2)(x)\n",
        "#   x = Flatten()(x)\n",
        "  output = Dense(2, activation='softmax')(x)\n",
        "  # Define model\n",
        "  model = Model(inputs=[input_stack, input_args, input_processid, input_threadid,\n",
        "                        input_parentprocessid,input_userid, input_mountnamespace,\n",
        "                        input_hostname, input_eventid, input_returnvalue,\n",
        "                        input_args_num, input_stacks_len], outputs=output)\n",
        "\n",
        "  return model\n",
        "\n",
        "def transformer_encoder_block(inputs, num_heads, ff_dim, dropout_rate=0.2, embedding_size=128):\n",
        "    # Multi-head self-attention\n",
        "    attention = MultiHeadAttention(num_heads=num_heads, key_dim=embedding_size)(inputs, inputs)\n",
        "    attention = Dropout(dropout_rate)(attention)\n",
        "    attention = LayerNormalization(epsilon=1e-4)(inputs + attention)\n",
        "\n",
        "    # Feed-forward layer\n",
        "    outputs = Dense(ff_dim, activation='relu')(attention)\n",
        "    outputs = Dropout(dropout_rate)(outputs)\n",
        "    outputs = LayerNormalization(epsilon=1e-4)(attention + outputs)\n",
        "\n",
        "    return outputs\n",
        "\n",
        "class PositionalEncoding(tf.keras.layers.Layer):\n",
        "    def __init__(self, sequence_length, output_dim, **kwargs):\n",
        "        super(PositionalEncoding, self).__init__(**kwargs)\n",
        "        self.positional_encoding = self.positional_encoding(sequence_length, output_dim)\n",
        "\n",
        "    def call(self, inputs):\n",
        "        return inputs + self.positional_encoding\n",
        "\n",
        "    def positional_encoding(self, sequence_length, output_dim):\n",
        "        encoded_vec = np.array([pos / np.power(100, 2 * i / output_dim) for pos in range(sequence_length) for i in range(output_dim)])\n",
        "        encoded_vec[::2] = np.sin(encoded_vec[::2])\n",
        "        encoded_vec[1::2] = np.cos(encoded_vec[1::2])\n",
        "        return tf.constant(encoded_vec.reshape([sequence_length, output_dim]), dtype=tf.float32)\n",
        "\n",
        "# Example usage\n",
        "input_cat1_shape = 20\n",
        "input_cat2_shape = 15\n",
        "input_cat3_shape = 1\n",
        "input_cat4_shape = 1\n",
        "input_cat5_shape = 1\n",
        "input_cat6_shape = 1\n",
        "input_cat7_shape = 1\n",
        "input_cat8_shape = 1\n",
        "input_cat9_shape = 1\n",
        "input_cat10_shape = 1\n",
        "\n",
        "model = create_transformer_model(n_unique_stack, n_unique_args, n_unique_processId, n_unique_threadId, n_unique_parentProcessId,\n",
        "                                 n_unique_userId, n_unique_mountNamespace, n_unique_hostname, n_unique_eventid, n_unique_returnvalue)\n",
        "\n",
        "model.summary()\n"
      ]
    },
    {
      "cell_type": "code",
      "execution_count": 203,
      "metadata": {
        "colab": {
          "base_uri": "https://localhost:8080/"
        },
        "id": "2YcG8E19A6Qa",
        "outputId": "9b02fe3d-5861-48d9-c49a-abfe3930158c"
      },
      "outputs": [
        {
          "name": "stdout",
          "output_type": "stream",
          "text": [
            "Epoch 1/50\n",
            "\u001b[1m1491/1491\u001b[0m \u001b[32m━━━━━━━━━━━━━━━━━━━━\u001b[0m\u001b[37m\u001b[0m \u001b[1m348s\u001b[0m 232ms/step - accuracy: 0.8047 - loss: 0.6324 - val_accuracy: 0.9958 - val_loss: 0.5622\n",
            "Epoch 2/50\n",
            "\u001b[1m1491/1491\u001b[0m \u001b[32m━━━━━━━━━━━━━━━━━━━━\u001b[0m\u001b[37m\u001b[0m \u001b[1m345s\u001b[0m 232ms/step - accuracy: 0.9636 - loss: 0.5603 - val_accuracy: 0.9958 - val_loss: 0.4934\n",
            "Epoch 3/50\n",
            "\u001b[1m1491/1491\u001b[0m \u001b[32m━━━━━━━━━━━━━━━━━━━━\u001b[0m\u001b[37m\u001b[0m \u001b[1m346s\u001b[0m 232ms/step - accuracy: 0.9944 - loss: 0.4961 - val_accuracy: 0.9958 - val_loss: 0.4316\n",
            "Epoch 4/50\n",
            "\u001b[1m1491/1491\u001b[0m \u001b[32m━━━━━━━━━━━━━━━━━━━━\u001b[0m\u001b[37m\u001b[0m \u001b[1m344s\u001b[0m 231ms/step - accuracy: 0.9981 - loss: 0.4395 - val_accuracy: 0.9958 - val_loss: 0.3783\n",
            "Epoch 5/50\n",
            "\u001b[1m1491/1491\u001b[0m \u001b[32m━━━━━━━━━━━━━━━━━━━━\u001b[0m\u001b[37m\u001b[0m \u001b[1m347s\u001b[0m 233ms/step - accuracy: 0.9983 - loss: 0.3905 - val_accuracy: 0.9958 - val_loss: 0.3323\n",
            "Epoch 6/50\n",
            "\u001b[1m1491/1491\u001b[0m \u001b[32m━━━━━━━━━━━━━━━━━━━━\u001b[0m\u001b[37m\u001b[0m \u001b[1m345s\u001b[0m 231ms/step - accuracy: 0.9984 - loss: 0.3465 - val_accuracy: 0.9958 - val_loss: 0.2904\n",
            "Epoch 7/50\n",
            "\u001b[1m1491/1491\u001b[0m \u001b[32m━━━━━━━━━━━━━━━━━━━━\u001b[0m\u001b[37m\u001b[0m \u001b[1m347s\u001b[0m 233ms/step - accuracy: 0.9982 - loss: 0.3065 - val_accuracy: 0.9958 - val_loss: 0.2551\n",
            "Epoch 8/50\n",
            "\u001b[1m1491/1491\u001b[0m \u001b[32m━━━━━━━━━━━━━━━━━━━━\u001b[0m\u001b[37m\u001b[0m \u001b[1m342s\u001b[0m 229ms/step - accuracy: 0.9983 - loss: 0.2709 - val_accuracy: 0.9958 - val_loss: 0.2226\n",
            "Epoch 9/50\n",
            "\u001b[1m1491/1491\u001b[0m \u001b[32m━━━━━━━━━━━━━━━━━━━━\u001b[0m\u001b[37m\u001b[0m \u001b[1m348s\u001b[0m 233ms/step - accuracy: 0.9983 - loss: 0.2389 - val_accuracy: 0.9958 - val_loss: 0.1937\n",
            "Epoch 10/50\n",
            "\u001b[1m1491/1491\u001b[0m \u001b[32m━━━━━━━━━━━━━━━━━━━━\u001b[0m\u001b[37m\u001b[0m \u001b[1m344s\u001b[0m 231ms/step - accuracy: 0.9983 - loss: 0.2101 - val_accuracy: 0.9958 - val_loss: 0.1686\n"
          ]
        }
      ],
      "source": [
        "# optimizer = AdamW(learning_rate=0.0001, weight_decay=0.001)\n",
        "optimizer = Adam(learning_rate=0.0000001)\n",
        "model.compile(optimizer=optimizer, loss='binary_crossentropy', metrics=['accuracy'])\n",
        "\n",
        "callback = EarlyStopping(monitor='accuracy', patience=3, restore_best_weights=False)\n",
        "\n",
        "# Train the model\n",
        "history = model.fit([train_data[['stack_1', 'stack_2', 'stack_3', 'stack_4', 'stack_5',\n",
        "                                 'stack_6', 'stack_7', 'stack_8', 'stack_9', 'stack_10',\n",
        "                                 'stack_11', 'stack_12', 'stack_13', 'stack_14', 'stack_15',\n",
        "                                 'stack_16','stack_17', 'stack_18', 'stack_19', 'stack_20']],\n",
        "                     train_data[['name_1', 'name_2', 'name_3', 'name_4', 'name_5',\n",
        "                                 'type_1', 'type_2', 'type_3', 'type_4', 'type_5',\n",
        "                                 'value_1', 'value_2', 'value_3', 'value_4', 'value_5']],\n",
        "                     train_data['processId'], train_data['threadId'], train_data['parentProcessId'],\n",
        "                     train_data['userId'], train_data['mountNamespace'], train_data['hostName'],\n",
        "                     train_data['eventId'], train_data['returnValue'],\n",
        "                     train_data['argsNum'], train_data['stack_address_len']],\n",
        "                    y_train_encoded,\n",
        "                    epochs=50,  # Number of epochs\n",
        "                    batch_size=512,  # Batch size\n",
        "                    validation_data=([val_data[['stack_1', 'stack_2', 'stack_3', 'stack_4', 'stack_5',\n",
        "                                                'stack_6', 'stack_7', 'stack_8', 'stack_9', 'stack_10',\n",
        "                                                'stack_11', 'stack_12', 'stack_13', 'stack_14', 'stack_15',\n",
        "                                                'stack_16','stack_17', 'stack_18', 'stack_19', 'stack_20']],\n",
        "                                      val_data[['name_1', 'name_2', 'name_3', 'name_4', 'name_5',\n",
        "                                                  'type_1', 'type_2', 'type_3', 'type_4', 'type_5',\n",
        "                                                  'value_1', 'value_2', 'value_3', 'value_4', 'value_5']],\n",
        "                                      val_data['processId'], val_data['threadId'], val_data['parentProcessId'],\n",
        "                                      val_data['userId'], val_data['mountNamespace'], val_data['hostName'],\n",
        "                                      val_data['eventId'], val_data['returnValue'], \n",
        "                                      val_data['argsNum'], val_data['stack_address_len']],\n",
        "                                     y_val_encoded),\n",
        "                    verbose=1, shuffle=True, callbacks = [callback])"
      ]
    },
    {
      "cell_type": "code",
      "execution_count": 204,
      "metadata": {
        "id": "m93wzvDQVEzS"
      },
      "outputs": [],
      "source": [
        "def plot_training(history):\n",
        "    training_accuracy = history.history['accuracy']\n",
        "    validation_accuracy = history.history['val_accuracy']\n",
        "\n",
        "    # Get the training and validation loss\n",
        "    training_loss = history.history['loss']\n",
        "    validation_loss = history.history['val_loss']\n",
        "\n",
        "    # Plot the accuracy\n",
        "    plt.figure(figsize=(8, 4))\n",
        "    plt.plot(training_accuracy, label='Training Accuracy')\n",
        "    plt.plot(validation_accuracy, label='Validation Accuracy')\n",
        "    plt.xlabel('Epochs')\n",
        "    plt.ylabel('Accuracy')\n",
        "    plt.title('Training and Validation Accuracy')\n",
        "    plt.legend()\n",
        "    plt.show()\n",
        "\n",
        "    # Plot the loss\n",
        "    plt.figure(figsize=(8, 4))\n",
        "    plt.plot(training_loss, label='Training Loss')\n",
        "    plt.plot(validation_loss, label='Validation Loss')\n",
        "    plt.xlabel('Epochs')\n",
        "    plt.ylabel('Loss')\n",
        "    plt.title('Training and Validation Loss')\n",
        "    plt.legend()\n",
        "    return(plt)"
      ]
    },
    {
      "cell_type": "code",
      "execution_count": 205,
      "metadata": {
        "colab": {
          "base_uri": "https://localhost:8080/",
          "height": 803
        },
        "id": "gRIJsflJU6Vs",
        "outputId": "7602b2ac-2659-49bc-cbac-c202bffe5025"
      },
      "outputs": [
        {
          "data": {
            "image/png": "[encoded data removed]",
            "text/plain": [
              "<Figure size 800x400 with 1 Axes>"
            ]
          },
          "metadata": {},
          "output_type": "display_data"
        },
        {
          "data": {
            "image/png": "[encoded data removed]",
            "text/plain": [
              "<Figure size 800x400 with 1 Axes>"
            ]
          },
          "metadata": {},
          "output_type": "display_data"
        }
      ],
      "source": [
        "plot_training(history);"
      ]
    },
    {
      "cell_type": "code",
      "execution_count": 206,
      "metadata": {
        "colab": {
          "base_uri": "https://localhost:8080/"
        },
        "id": "BLWROtvLVOGi",
        "outputId": "2732d4a5-f30b-48ce-a357-6afa3f35af25"
      },
      "outputs": [
        {
          "name": "stdout",
          "output_type": "stream",
          "text": [
            "\u001b[1m739/739\u001b[0m \u001b[32m━━━━━━━━━━━━━━━━━━━━\u001b[0m\u001b[37m\u001b[0m \u001b[1m35s\u001b[0m 47ms/step\n"
          ]
        }
      ],
      "source": [
        "pred = model.predict([test_data[['stack_1', 'stack_2', 'stack_3', 'stack_4', 'stack_5',\n",
        "                                 'stack_6', 'stack_7', 'stack_8', 'stack_9', 'stack_10',\n",
        "                                 'stack_11', 'stack_12', 'stack_13', 'stack_14', 'stack_15',\n",
        "                                 'stack_16','stack_17', 'stack_18', 'stack_19', 'stack_20']],\n",
        "                      test_data[['name_1', 'name_2', 'name_3', 'name_4', 'name_5',\n",
        "                                'type_1', 'type_2', 'type_3', 'type_4', 'type_5',\n",
        "                                'value_1', 'value_2', 'value_3', 'value_4', 'value_5']],\n",
        "                      test_data['processId'], test_data['threadId'], test_data['parentProcessId'],\n",
        "                      test_data['userId'], test_data['mountNamespace'], test_data['hostName'],\n",
        "                      test_data['eventId'], test_data['returnValue'],\n",
        "                      test_data['argsNum'], test_data['stack_address_len']],\n",
        "                     batch_size=256)"
      ]
    },
    {
      "cell_type": "code",
      "execution_count": 207,
      "metadata": {},
      "outputs": [
        {
          "name": "stdout",
          "output_type": "stream",
          "text": [
            "\u001b[1m5906/5906\u001b[0m \u001b[32m━━━━━━━━━━━━━━━━━━━━\u001b[0m\u001b[37m\u001b[0m \u001b[1m48s\u001b[0m 8ms/step - accuracy: 0.2704 - loss: 1.4308\n"
          ]
        },
        {
          "data": {
            "text/plain": [
              "[1.738448143005371, 0.09265109896659851]"
            ]
          },
          "execution_count": 207,
          "metadata": {},
          "output_type": "execute_result"
        }
      ],
      "source": [
        "model.evaluate(x=[test_data[['stack_1', 'stack_2', 'stack_3', 'stack_4', 'stack_5',\n",
        "                                 'stack_6', 'stack_7', 'stack_8', 'stack_9', 'stack_10',\n",
        "                                 'stack_11', 'stack_12', 'stack_13', 'stack_14', 'stack_15',\n",
        "                                 'stack_16','stack_17', 'stack_18', 'stack_19', 'stack_20']],\n",
        "                      test_data[['name_1', 'name_2', 'name_3', 'name_4', 'name_5',\n",
        "                                'type_1', 'type_2', 'type_3', 'type_4', 'type_5',\n",
        "                                'value_1', 'value_2', 'value_3', 'value_4', 'value_5']],\n",
        "                      test_data['processId'], test_data['threadId'], test_data['parentProcessId'],\n",
        "                      test_data['userId'], test_data['mountNamespace'], test_data['hostName'],\n",
        "                      test_data['eventId'], test_data['returnValue'],\n",
        "                      test_data['argsNum'], test_data['stack_address_len']], y=y_test_encoded)"
      ]
    },
    {
      "cell_type": "code",
      "execution_count": 208,
      "metadata": {
        "id": "3OBc33D3Vpip"
      },
      "outputs": [],
      "source": [
        "# pred_threshold = np.where(pred>0.5,1,0)\n",
        "pred_threshold = np.argmax(pred, axis=1)"
      ]
    },
    {
      "cell_type": "code",
      "execution_count": 209,
      "metadata": {
        "colab": {
          "base_uri": "https://localhost:8080/"
        },
        "id": "f2QyISXSVwJq",
        "outputId": "975dbb17-18e4-46ee-ed06-5306e6bd87d5"
      },
      "outputs": [
        {
          "name": "stdout",
          "output_type": "stream",
          "text": [
            "              precision    recall  f1-score   support\n",
            "\n",
            "           0       0.09      1.00      0.17     17508\n",
            "           1       0.00      0.00      0.00    171459\n",
            "\n",
            "    accuracy                           0.09    188967\n",
            "   macro avg       0.05      0.50      0.08    188967\n",
            "weighted avg       0.01      0.09      0.02    188967\n",
            "\n"
          ]
        }
      ],
      "source": [
        "print(classification_report(y_test, pred_threshold))"
      ]
    },
    {
      "cell_type": "code",
      "execution_count": 210,
      "metadata": {
        "colab": {
          "base_uri": "https://localhost:8080/"
        },
        "id": "fNXn_ESuQGIh",
        "outputId": "68e632be-a16d-44bb-fb77-4263a764bc14"
      },
      "outputs": [
        {
          "data": {
            "text/plain": [
              "array([[ 17508,      0],\n",
              "       [171459,      0]])"
            ]
          },
          "execution_count": 210,
          "metadata": {},
          "output_type": "execute_result"
        }
      ],
      "source": [
        "confusion_matrix(y_true=test_data['sus'], y_pred=pred_threshold)"
      ]
    },
    {
      "cell_type": "code",
      "execution_count": 211,
      "metadata": {
        "colab": {
          "base_uri": "https://localhost:8080/",
          "height": 452
        },
        "id": "6sBMsMDLWAcX",
        "outputId": "7f11025d-0a15-421d-feb1-e445b1f99a72"
      },
      "outputs": [
        {
          "data": {
            "image/png": "[encoded data removed]",
            "text/plain": [
              "<Figure size 640x480 with 2 Axes>"
            ]
          },
          "metadata": {},
          "output_type": "display_data"
        }
      ],
      "source": [
        "conf_matrix = confusion_matrix(y_true=y_test, y_pred=pred_threshold)\n",
        "x=ConfusionMatrixDisplay(conf_matrix).plot()"
      ]
    },
    {
      "cell_type": "code",
      "execution_count": 212,
      "metadata": {
        "colab": {
          "base_uri": "https://localhost:8080/",
          "height": 449
        },
        "id": "KeaLB1WCexav",
        "outputId": "66bbb118-76ac-4d12-9909-d13e8067a4d1"
      },
      "outputs": [
        {
          "data": {
            "image/png": "[encoded data removed]",
            "text/plain": [
              "<Figure size 640x480 with 1 Axes>"
            ]
          },
          "metadata": {},
          "output_type": "display_data"
        }
      ],
      "source": [
        "auroc = roc_auc_score(y_true=y_test, y_score=pred_threshold)\n",
        "fpr, tpr, _ = roc_curve(y_test, pred_threshold)\n",
        "plt.plot(fpr,tpr,label=f\"AUC= {auroc:.2f}\")\n",
        "plt.ylabel('True Positive Rate')\n",
        "plt.xlabel('False Positive Rate')\n",
        "plt.legend(loc=4)\n",
        "plt.show()"
      ]
    }
  ],
  "metadata": {
    "accelerator": "GPU",
    "colab": {
      "collapsed_sections": [
        "7etfbAsCA6PU",
        "UP296LFZA6Pw"
      ],
      "gpuType": "T4",
      "provenance": []
    },
    "kernelspec": {
      "display_name": "Python 3",
      "name": "python3"
    },
    "language_info": {
      "codemirror_mode": {
        "name": "ipython",
        "version": 3
      },
      "file_extension": ".py",
      "mimetype": "text/x-python",
      "name": "python",
      "nbconvert_exporter": "python",
      "pygments_lexer": "ipython3",
      "version": "3.10.5"
    }
  },
  "nbformat": 4,
  "nbformat_minor": 0
}
