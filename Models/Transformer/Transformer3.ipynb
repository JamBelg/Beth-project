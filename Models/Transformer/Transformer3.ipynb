{
  "cells": [
    {
      "cell_type": "markdown",
      "metadata": {
        "id": "7etfbAsCA6PU"
      },
      "source": [
        "## Libraries"
      ]
    },
    {
      "cell_type": "code",
      "execution_count": 1,
      "metadata": {
        "colab": {
          "base_uri": "https://localhost:8080/"
        },
        "id": "QPmKuKL2A6Pm",
        "outputId": "3a014595-2e4a-4737-cd73-6ec8785c22d8"
      },
      "outputs": [],
      "source": [
        "import pandas as pd\n",
        "import numpy as np\n",
        "import matplotlib.pyplot as plt\n",
        "from sklearn.model_selection import StratifiedShuffleSplit\n",
        "from sklearn.metrics import classification_report, roc_auc_score, roc_curve, confusion_matrix, ConfusionMatrixDisplay\n",
        "from sklearn.preprocessing import LabelEncoder, OrdinalEncoder\n",
        "\n",
        "import tensorflow as tf\n",
        "from keras.layers import Input, Embedding, Conv1D, MaxPooling1D, Dense, Dropout, Concatenate, LayerNormalization, GlobalAveragePooling1D, MultiHeadAttention, Flatten, BatchNormalization, MaxPooling1D, Flatten, LSTM, Bidirectional, Reshape\n",
        "from keras.models import Model, Sequential\n",
        "from keras.optimizers import Adam, SGD, RMSprop, Adamax, AdamW\n",
        "from keras.utils import to_categorical\n",
        "from keras.regularizers import L1L2\n",
        "from keras.initializers import RandomNormal\n",
        "from keras.constraints import UnitNorm\n",
        "from keras.callbacks import EarlyStopping\n",
        "import ast\n",
        "\n",
        "# Hide warnings\n",
        "import warnings\n",
        "warnings.filterwarnings(\"ignore\")\n",
        "\n"
      ]
    },
    {
      "cell_type": "markdown",
      "metadata": {
        "id": "UP296LFZA6Pw"
      },
      "source": [
        "## Data preparation"
      ]
    },
    {
      "cell_type": "code",
      "execution_count": 2,
      "metadata": {
        "id": "0NaWYLyHA6Px"
      },
      "outputs": [],
      "source": [
        "train_data = pd.read_csv('../../../Data/labelled_training_data.csv')\n",
        "val_data = pd.read_csv('../../../Data/labelled_validation_data.csv')\n",
        "test_data = pd.read_csv('../../../Data/labelled_testing_data.csv')"
      ]
    },
    {
      "cell_type": "code",
      "execution_count": 3,
      "metadata": {
        "id": "oq4R1RsrA6Py"
      },
      "outputs": [],
      "source": [
        "train_data[\"processId\"] = train_data[\"processId\"].map(lambda x: 0 if x in [0, 1, 2] else 1)  # Map to OS/not OS\n",
        "train_data[\"parentProcessId\"] = train_data[\"parentProcessId\"].map(lambda x: 0 if x in [0, 1, 2] else 1)  # Map to OS/not OS\n",
        "train_data[\"userId\"] = train_data[\"userId\"].map(lambda x: 0 if x < 1000 else 1)  # Map to OS/not OS\n",
        "train_data[\"mountNamespace\"] = train_data[\"mountNamespace\"].map(lambda x: 0 if x == 4026531840 else 1)  # Map to mount access to mnt/ (all non-OS users) /elsewhere\n",
        "train_data[\"eventId\"] = train_data[\"eventId\"]  # Keep eventId values (requires knowing max value)\n",
        "train_data[\"returnValue\"] = train_data[\"returnValue\"].map(lambda x: 0 if x == 0 else (1 if x > 0 else 2))\n",
        "\n",
        "\n",
        "val_data[\"processId\"] = val_data[\"processId\"].map(lambda x: 0 if x in [0, 1, 2] else 1)  # Map to OS/not OS\n",
        "val_data[\"parentProcessId\"] = val_data[\"parentProcessId\"].map(lambda x: 0 if x in [0, 1, 2] else 1)  # Map to OS/not OS\n",
        "val_data[\"userId\"] = val_data[\"userId\"].map(lambda x: 0 if x < 1000 else 1)  # Map to OS/not OS\n",
        "val_data[\"mountNamespace\"] = val_data[\"mountNamespace\"].map(lambda x: 0 if x == 4026531840 else 1)  # Map to mount access to mnt/ (all non-OS users) /elsewhere\n",
        "val_data[\"eventId\"] = val_data[\"eventId\"]  # Keep eventId values (requires knowing max value)\n",
        "val_data[\"returnValue\"] = val_data[\"returnValue\"].map(lambda x: 0 if x == 0 else (1 if x > 0 else 2))\n",
        "\n",
        "\n",
        "test_data[\"processId\"] = test_data[\"processId\"].map(lambda x: 0 if x in [0, 1, 2] else 1)  # Map to OS/not OS\n",
        "test_data[\"parentProcessId\"] = test_data[\"parentProcessId\"].map(lambda x: 0 if x in [0, 1, 2] else 1)  # Map to OS/not OS\n",
        "test_data[\"userId\"] = test_data[\"userId\"].map(lambda x: 0 if x < 1000 else 1)  # Map to OS/not OS\n",
        "test_data[\"mountNamespace\"] = test_data[\"mountNamespace\"].map(lambda x: 0 if x == 4026531840 else 1)  # Map to mount access to mnt/ (all non-OS users) /elsewhere\n",
        "test_data[\"eventId\"] = test_data[\"eventId\"]  # Keep eventId values (requires knowing max value)\n",
        "test_data[\"returnValue\"] = test_data[\"returnValue\"].map(lambda x: 0 if x == 0 else (1 if x > 0 else 2))"
      ]
    },
    {
      "cell_type": "code",
      "execution_count": 4,
      "metadata": {
        "colab": {
          "base_uri": "https://localhost:8080/"
        },
        "id": "s5_ju2q4A6Pz",
        "outputId": "b3205375-93f7-4da1-b570-6aca65eae5d6"
      },
      "outputs": [
        {
          "data": {
            "text/html": [
              "<div>\n",
              "<style scoped>\n",
              "    .dataframe tbody tr th:only-of-type {\n",
              "        vertical-align: middle;\n",
              "    }\n",
              "\n",
              "    .dataframe tbody tr th {\n",
              "        vertical-align: top;\n",
              "    }\n",
              "\n",
              "    .dataframe thead th {\n",
              "        text-align: right;\n",
              "    }\n",
              "</style>\n",
              "<table border=\"1\" class=\"dataframe\">\n",
              "  <thead>\n",
              "    <tr style=\"text-align: right;\">\n",
              "      <th></th>\n",
              "      <th>timestamp</th>\n",
              "      <th>processId</th>\n",
              "      <th>threadId</th>\n",
              "      <th>parentProcessId</th>\n",
              "      <th>userId</th>\n",
              "      <th>mountNamespace</th>\n",
              "      <th>eventId</th>\n",
              "      <th>argsNum</th>\n",
              "      <th>returnValue</th>\n",
              "      <th>sus</th>\n",
              "      <th>evil</th>\n",
              "    </tr>\n",
              "  </thead>\n",
              "  <tbody>\n",
              "    <tr>\n",
              "      <th>count</th>\n",
              "      <td>763144.000000</td>\n",
              "      <td>763144.000000</td>\n",
              "      <td>763144.000000</td>\n",
              "      <td>763144.000000</td>\n",
              "      <td>763144.000000</td>\n",
              "      <td>763144.000000</td>\n",
              "      <td>763144.000000</td>\n",
              "      <td>763144.000000</td>\n",
              "      <td>763144.000000</td>\n",
              "      <td>763144.000000</td>\n",
              "      <td>763144.0</td>\n",
              "    </tr>\n",
              "    <tr>\n",
              "      <th>mean</th>\n",
              "      <td>1844.582673</td>\n",
              "      <td>0.978617</td>\n",
              "      <td>6820.265241</td>\n",
              "      <td>0.895755</td>\n",
              "      <td>0.001305</td>\n",
              "      <td>0.256371</td>\n",
              "      <td>288.158953</td>\n",
              "      <td>2.672082</td>\n",
              "      <td>0.340016</td>\n",
              "      <td>0.001663</td>\n",
              "      <td>0.0</td>\n",
              "    </tr>\n",
              "    <tr>\n",
              "      <th>std</th>\n",
              "      <td>1136.638249</td>\n",
              "      <td>0.144656</td>\n",
              "      <td>1937.068333</td>\n",
              "      <td>0.305578</td>\n",
              "      <td>0.036103</td>\n",
              "      <td>0.436629</td>\n",
              "      <td>385.117778</td>\n",
              "      <td>1.340906</td>\n",
              "      <td>0.533623</td>\n",
              "      <td>0.040744</td>\n",
              "      <td>0.0</td>\n",
              "    </tr>\n",
              "    <tr>\n",
              "      <th>min</th>\n",
              "      <td>132.560721</td>\n",
              "      <td>0.000000</td>\n",
              "      <td>1.000000</td>\n",
              "      <td>0.000000</td>\n",
              "      <td>0.000000</td>\n",
              "      <td>0.000000</td>\n",
              "      <td>3.000000</td>\n",
              "      <td>0.000000</td>\n",
              "      <td>0.000000</td>\n",
              "      <td>0.000000</td>\n",
              "      <td>0.0</td>\n",
              "    </tr>\n",
              "    <tr>\n",
              "      <th>25%</th>\n",
              "      <td>903.250802</td>\n",
              "      <td>1.000000</td>\n",
              "      <td>7313.000000</td>\n",
              "      <td>1.000000</td>\n",
              "      <td>0.000000</td>\n",
              "      <td>0.000000</td>\n",
              "      <td>3.000000</td>\n",
              "      <td>1.000000</td>\n",
              "      <td>0.000000</td>\n",
              "      <td>0.000000</td>\n",
              "      <td>0.0</td>\n",
              "    </tr>\n",
              "    <tr>\n",
              "      <th>50%</th>\n",
              "      <td>1829.203642</td>\n",
              "      <td>1.000000</td>\n",
              "      <td>7365.000000</td>\n",
              "      <td>1.000000</td>\n",
              "      <td>0.000000</td>\n",
              "      <td>0.000000</td>\n",
              "      <td>62.000000</td>\n",
              "      <td>3.000000</td>\n",
              "      <td>0.000000</td>\n",
              "      <td>0.000000</td>\n",
              "      <td>0.0</td>\n",
              "    </tr>\n",
              "    <tr>\n",
              "      <th>75%</th>\n",
              "      <td>2761.380825</td>\n",
              "      <td>1.000000</td>\n",
              "      <td>7415.000000</td>\n",
              "      <td>1.000000</td>\n",
              "      <td>0.000000</td>\n",
              "      <td>1.000000</td>\n",
              "      <td>257.000000</td>\n",
              "      <td>4.000000</td>\n",
              "      <td>1.000000</td>\n",
              "      <td>0.000000</td>\n",
              "      <td>0.0</td>\n",
              "    </tr>\n",
              "    <tr>\n",
              "      <th>max</th>\n",
              "      <td>3954.587643</td>\n",
              "      <td>1.000000</td>\n",
              "      <td>8619.000000</td>\n",
              "      <td>1.000000</td>\n",
              "      <td>1.000000</td>\n",
              "      <td>1.000000</td>\n",
              "      <td>1010.000000</td>\n",
              "      <td>5.000000</td>\n",
              "      <td>2.000000</td>\n",
              "      <td>1.000000</td>\n",
              "      <td>0.0</td>\n",
              "    </tr>\n",
              "  </tbody>\n",
              "</table>\n",
              "</div>"
            ],
            "text/plain": [
              "           timestamp      processId       threadId  parentProcessId  \\\n",
              "count  763144.000000  763144.000000  763144.000000    763144.000000   \n",
              "mean     1844.582673       0.978617    6820.265241         0.895755   \n",
              "std      1136.638249       0.144656    1937.068333         0.305578   \n",
              "min       132.560721       0.000000       1.000000         0.000000   \n",
              "25%       903.250802       1.000000    7313.000000         1.000000   \n",
              "50%      1829.203642       1.000000    7365.000000         1.000000   \n",
              "75%      2761.380825       1.000000    7415.000000         1.000000   \n",
              "max      3954.587643       1.000000    8619.000000         1.000000   \n",
              "\n",
              "              userId  mountNamespace        eventId        argsNum  \\\n",
              "count  763144.000000   763144.000000  763144.000000  763144.000000   \n",
              "mean        0.001305        0.256371     288.158953       2.672082   \n",
              "std         0.036103        0.436629     385.117778       1.340906   \n",
              "min         0.000000        0.000000       3.000000       0.000000   \n",
              "25%         0.000000        0.000000       3.000000       1.000000   \n",
              "50%         0.000000        0.000000      62.000000       3.000000   \n",
              "75%         0.000000        1.000000     257.000000       4.000000   \n",
              "max         1.000000        1.000000    1010.000000       5.000000   \n",
              "\n",
              "         returnValue            sus      evil  \n",
              "count  763144.000000  763144.000000  763144.0  \n",
              "mean        0.340016       0.001663       0.0  \n",
              "std         0.533623       0.040744       0.0  \n",
              "min         0.000000       0.000000       0.0  \n",
              "25%         0.000000       0.000000       0.0  \n",
              "50%         0.000000       0.000000       0.0  \n",
              "75%         1.000000       0.000000       0.0  \n",
              "max         2.000000       1.000000       0.0  "
            ]
          },
          "execution_count": 4,
          "metadata": {},
          "output_type": "execute_result"
        }
      ],
      "source": [
        "train_data.describe()"
      ]
    },
    {
      "cell_type": "code",
      "execution_count": 5,
      "metadata": {
        "colab": {
          "base_uri": "https://localhost:8080/"
        },
        "id": "J3zeVHKTA6Pz",
        "outputId": "90df02ec-9531-44da-cba3-ceb46b37e70e"
      },
      "outputs": [
        {
          "data": {
            "text/plain": [
              "timestamp          float64\n",
              "processId            int64\n",
              "threadId             int64\n",
              "parentProcessId      int64\n",
              "userId               int64\n",
              "mountNamespace       int64\n",
              "processName         object\n",
              "hostName            object\n",
              "eventId              int64\n",
              "eventName           object\n",
              "stackAddresses      object\n",
              "argsNum              int64\n",
              "returnValue          int64\n",
              "args                object\n",
              "sus                  int64\n",
              "evil                 int64\n",
              "dtype: object"
            ]
          },
          "execution_count": 5,
          "metadata": {},
          "output_type": "execute_result"
        }
      ],
      "source": [
        "train_data.dtypes"
      ]
    },
    {
      "cell_type": "markdown",
      "metadata": {
        "id": "ULmFmVu5A6P0"
      },
      "source": [
        "### **Stackaddress**"
      ]
    },
    {
      "cell_type": "code",
      "execution_count": 6,
      "metadata": {
        "colab": {
          "base_uri": "https://localhost:8080/"
        },
        "id": "eeV-fN9nA6P0",
        "outputId": "3da47d8c-1463-40c0-cf26-6cb78f81f0ed"
      },
      "outputs": [
        {
          "data": {
            "text/plain": [
              "112474"
            ]
          },
          "execution_count": 6,
          "metadata": {},
          "output_type": "execute_result"
        }
      ],
      "source": [
        "stack_addresses_df = pd.concat([train_data['stackAddresses'], val_data['stackAddresses'], test_data['stackAddresses']], axis=0)\n",
        "len(stack_addresses_df.unique())"
      ]
    },
    {
      "cell_type": "markdown",
      "metadata": {
        "id": "4JHhRS1cA6P2"
      },
      "source": [
        "**Convert String to List**"
      ]
    },
    {
      "cell_type": "code",
      "execution_count": 7,
      "metadata": {
        "colab": {
          "base_uri": "https://localhost:8080/"
        },
        "id": "QfEFKgR3A6P3",
        "outputId": "df9b1f33-dbbc-4d8c-a8a9-e4954d903a5b"
      },
      "outputs": [
        {
          "data": {
            "text/plain": [
              "[140662171848350, 11649800180280676]"
            ]
          },
          "execution_count": 7,
          "metadata": {},
          "output_type": "execute_result"
        }
      ],
      "source": [
        "# Convert string to list\n",
        "train_data.stackAddresses = train_data.stackAddresses.apply(ast.literal_eval)\n",
        "val_data.stackAddresses = val_data.stackAddresses.apply(ast.literal_eval)\n",
        "test_data.stackAddresses = test_data.stackAddresses.apply(ast.literal_eval)\n",
        "train_data.stackAddresses[0]"
      ]
    },
    {
      "cell_type": "code",
      "execution_count": 8,
      "metadata": {
        "colab": {
          "base_uri": "https://localhost:8080/"
        },
        "id": "VxWlDr8rA6P4",
        "outputId": "88af926d-a6c7-40ab-a9eb-e6fdf7e3c882"
      },
      "outputs": [
        {
          "name": "stdout",
          "output_type": "stream",
          "text": [
            "Training dataset - Max length of stack addresses: 20\n",
            "Validation dataset - Max length of stack addresses: 20\n",
            "Testing dataset - Max length of stack addresses: 20\n"
          ]
        }
      ],
      "source": [
        "train_data['stack_address_len']=train_data.stackAddresses.apply(len)\n",
        "val_data['stack_address_len']=val_data.stackAddresses.apply(len)\n",
        "test_data['stack_address_len']=test_data.stackAddresses.apply(len)\n",
        "print(f\"Training dataset - Max length of stack addresses: {max(train_data['stack_address_len'])}\")\n",
        "print(f\"Validation dataset - Max length of stack addresses: {max(val_data['stack_address_len'])}\")\n",
        "print(f\"Testing dataset - Max length of stack addresses: {max(test_data['stack_address_len'])}\")"
      ]
    },
    {
      "cell_type": "code",
      "execution_count": 9,
      "metadata": {
        "colab": {
          "base_uri": "https://localhost:8080/"
        },
        "id": "GX4HVjgUA6P5",
        "outputId": "51fd1e63-8f39-4092-fa67-4664fd0b81e7"
      },
      "outputs": [
        {
          "data": {
            "text/plain": [
              "stack_address_len\n",
              "0     521115\n",
              "2     109594\n",
              "1      65545\n",
              "3      59301\n",
              "4       2445\n",
              "20      1406\n",
              "14      1073\n",
              "15       932\n",
              "6        354\n",
              "8        347\n",
              "17       276\n",
              "10       206\n",
              "11       190\n",
              "9        143\n",
              "5         92\n",
              "16        90\n",
              "12        27\n",
              "7          8\n",
              "Name: count, dtype: int64"
            ]
          },
          "execution_count": 9,
          "metadata": {},
          "output_type": "execute_result"
        }
      ],
      "source": [
        "train_data['stack_address_len'].value_counts()"
      ]
    },
    {
      "cell_type": "markdown",
      "metadata": {
        "id": "u10ibe5eA6P5"
      },
      "source": [
        "**Split list**"
      ]
    },
    {
      "cell_type": "code",
      "execution_count": 10,
      "metadata": {
        "id": "0S1rNB_WA6P6"
      },
      "outputs": [],
      "source": [
        "for i in range(max(train_data['stack_address_len'])):\n",
        "    train_data[f\"stack_{i+1}\"]=\"\"\n",
        "    val_data[f\"stack_{i+1}\"]=\"\"\n",
        "    test_data[f\"stack_{i+1}\"]=\"\""
      ]
    },
    {
      "cell_type": "code",
      "execution_count": 11,
      "metadata": {
        "id": "NBCzfCGPA6P6"
      },
      "outputs": [],
      "source": [
        "for index, row in train_data.iterrows():\n",
        "    list_stack = [float(elem) for elem in row['stackAddresses']]\n",
        "    for i, elem in enumerate(list_stack):\n",
        "        train_data.at[index, f'stack_{i+1}'] = elem\n",
        "\n",
        "for index, row in val_data.iterrows():\n",
        "    list_stack = [float(elem) for elem in row['stackAddresses']]\n",
        "    for i, elem in enumerate(list_stack):\n",
        "        val_data.at[index, f'stack_{i+1}'] = elem\n",
        "\n",
        "\n",
        "for index, row in test_data.iterrows():\n",
        "    list_stack = [float(elem) for elem in row['stackAddresses']]\n",
        "    for i, elem in enumerate(list_stack):\n",
        "        test_data.at[index, f'stack_{i+1}'] = elem"
      ]
    },
    {
      "cell_type": "code",
      "execution_count": 12,
      "metadata": {
        "colab": {
          "base_uri": "https://localhost:8080/"
        },
        "id": "GW0xIwVkA6P6",
        "outputId": "f0d5e5b9-a6af-491e-fabe-dcdf764ffe57"
      },
      "outputs": [
        {
          "data": {
            "text/plain": [
              "timestamp                                                  1809.495787\n",
              "processId                                                            1\n",
              "threadId                                                          7337\n",
              "parentProcessId                                                      0\n",
              "userId                                                               0\n",
              "mountNamespace                                                       1\n",
              "processName                                                      close\n",
              "hostName                                               ip-10-100-1-120\n",
              "eventId                                                            157\n",
              "eventName                                                        prctl\n",
              "stackAddresses                    [140662171848350, 11649800180280676]\n",
              "argsNum                                                              5\n",
              "returnValue                                                          0\n",
              "args                 [{'name': 'option', 'type': 'int', 'value': 'P...\n",
              "sus                                                                  1\n",
              "evil                                                                 0\n",
              "stack_address_len                                                    2\n",
              "stack_1                                              140662171848350.0\n",
              "stack_2                                            11649800180280676.0\n",
              "stack_3                                                               \n",
              "stack_4                                                               \n",
              "stack_5                                                               \n",
              "stack_6                                                               \n",
              "stack_7                                                               \n",
              "stack_8                                                               \n",
              "stack_9                                                               \n",
              "stack_10                                                              \n",
              "stack_11                                                              \n",
              "stack_12                                                              \n",
              "stack_13                                                              \n",
              "stack_14                                                              \n",
              "stack_15                                                              \n",
              "stack_16                                                              \n",
              "stack_17                                                              \n",
              "stack_18                                                              \n",
              "stack_19                                                              \n",
              "stack_20                                                              \n",
              "Name: 0, dtype: object"
            ]
          },
          "execution_count": 12,
          "metadata": {},
          "output_type": "execute_result"
        }
      ],
      "source": [
        "train_data.loc[0]"
      ]
    },
    {
      "cell_type": "markdown",
      "metadata": {
        "id": "mKqsalk2A6P6"
      },
      "source": [
        "**Args**"
      ]
    },
    {
      "cell_type": "code",
      "execution_count": 13,
      "metadata": {
        "colab": {
          "base_uri": "https://localhost:8080/"
        },
        "id": "wLGGqWiAA6P6",
        "outputId": "ccfbf222-0b0c-4219-c1d1-895e7c814865"
      },
      "outputs": [
        {
          "data": {
            "text/plain": [
              "argsNum\n",
              "4    359113\n",
              "1    230609\n",
              "2    149273\n",
              "3     20062\n",
              "5      2678\n",
              "0      1409\n",
              "Name: count, dtype: int64"
            ]
          },
          "execution_count": 13,
          "metadata": {},
          "output_type": "execute_result"
        }
      ],
      "source": [
        "train_data['argsNum'].value_counts()"
      ]
    },
    {
      "cell_type": "code",
      "execution_count": 14,
      "metadata": {
        "colab": {
          "base_uri": "https://localhost:8080/"
        },
        "id": "1vptn_M1A6P6",
        "outputId": "8a3b2d0e-18e7-4a42-fa47-bf112ddd5a3b"
      },
      "outputs": [
        {
          "data": {
            "text/plain": [
              "214720"
            ]
          },
          "execution_count": 14,
          "metadata": {},
          "output_type": "execute_result"
        }
      ],
      "source": [
        "len(train_data['args'].unique())"
      ]
    },
    {
      "cell_type": "code",
      "execution_count": 15,
      "metadata": {
        "colab": {
          "base_uri": "https://localhost:8080/"
        },
        "id": "VHNKDcofA6P7",
        "outputId": "7db5ffa8-b9b7-47fd-dfbe-92296e9549da"
      },
      "outputs": [
        {
          "data": {
            "text/plain": [
              "\"[{'name': 'pathname', 'type': 'const char*', 'value': '/etc/ld.so.cache'}, {'name': 'flags', 'type': 'int', 'value': 'O_RDONLY|O_LARGEFILE'}, {'name': 'dev', 'type': 'dev_t', 'value': 211812353}, {'name': 'inode', 'type': 'unsigned long', 'value': 62841}]\""
            ]
          },
          "execution_count": 15,
          "metadata": {},
          "output_type": "execute_result"
        }
      ],
      "source": [
        "train_data['args'][4]"
      ]
    },
    {
      "cell_type": "markdown",
      "metadata": {
        "id": "9XhsPXTGA6P7"
      },
      "source": [
        "**Split args**"
      ]
    },
    {
      "cell_type": "code",
      "execution_count": 16,
      "metadata": {
        "id": "WqrOXxXKA6P7"
      },
      "outputs": [],
      "source": [
        "# Function to split the string column into list of dictionaries and create new columns\n",
        "def split_and_expand(row):\n",
        "    if pd.isna(row):\n",
        "        return pd.Series([None] * 15)\n",
        "\n",
        "    dicts = ast.literal_eval(row)\n",
        "    result = {'name_{}'.format(i+1): None for i in range(5)}\n",
        "    result.update({'type_{}'.format(i+1): None for i in range(5)})\n",
        "    result.update({'value_{}'.format(i+1): None for i in range(5)})\n",
        "\n",
        "    for i, d in enumerate(dicts):\n",
        "        if i >= 5:\n",
        "            break\n",
        "        result['name_{}'.format(i+1)] = d.get('name')\n",
        "        result['type_{}'.format(i+1)] = d.get('type')\n",
        "        result['value_{}'.format(i+1)] = d.get('value')\n",
        "\n",
        "    return pd.Series(result)"
      ]
    },
    {
      "cell_type": "markdown",
      "metadata": {
        "id": "uNGxRdBdA6P7"
      },
      "source": [
        "Training"
      ]
    },
    {
      "cell_type": "code",
      "execution_count": 17,
      "metadata": {
        "id": "MkiVgXYoA6P7"
      },
      "outputs": [],
      "source": [
        "args_split = train_data['args'].apply(split_and_expand)\n",
        "train_data = pd.concat([train_data, args_split], axis=1)"
      ]
    },
    {
      "cell_type": "markdown",
      "metadata": {
        "id": "9LdXP7vmA6P7"
      },
      "source": [
        "Validation"
      ]
    },
    {
      "cell_type": "code",
      "execution_count": 18,
      "metadata": {
        "id": "JMRkvGDxA6P7"
      },
      "outputs": [],
      "source": [
        "args_split = val_data['args'].apply(split_and_expand)\n",
        "val_data = pd.concat([val_data, args_split], axis=1)"
      ]
    },
    {
      "cell_type": "markdown",
      "metadata": {
        "id": "zVdeSjhiA6P7"
      },
      "source": [
        "Testing"
      ]
    },
    {
      "cell_type": "code",
      "execution_count": 19,
      "metadata": {
        "id": "5YBDGai3A6P8"
      },
      "outputs": [],
      "source": [
        "args_split = test_data['args'].apply(split_and_expand)\n",
        "test_data = pd.concat([test_data, args_split], axis=1)"
      ]
    },
    {
      "cell_type": "markdown",
      "metadata": {
        "id": "WTc7MvC6A6P8"
      },
      "source": [
        "**Features selection**"
      ]
    },
    {
      "cell_type": "code",
      "execution_count": 20,
      "metadata": {
        "id": "fxDJiCiTA6P8"
      },
      "outputs": [],
      "source": [
        "# data1 = train_data.sample(frac=0.4, ignore_index=True)\n",
        "\n",
        "X_num_train = train_data[['processId', 'threadId', 'parentProcessId', 'userId', 'mountNamespace', 'eventId', 'argsNum', 'returnValue', 'stack_address_len']]\n",
        "X_cat_train = train_data[['processName', 'hostName', 'eventName',\n",
        "                     'stack_1', 'stack_2', 'stack_3', 'stack_4',\n",
        "                     'stack_5', 'stack_6', 'stack_7', 'stack_8', 'stack_9',\n",
        "                     'stack_10','stack_11', 'stack_12', 'stack_13', 'stack_14', 'stack_15',\n",
        "                     'stack_16','stack_17', 'stack_18', 'stack_19', 'stack_20',\n",
        "                     'name_1', 'name_2', 'name_3', 'name_4', 'name_5',\n",
        "                     'type_1', 'type_2', 'type_3', 'type_4', 'type_5',\n",
        "                     'value_1', 'value_2', 'value_3', 'value_4', 'value_5']].astype(str)"
      ]
    },
    {
      "cell_type": "code",
      "execution_count": 21,
      "metadata": {
        "id": "FQI4HnibA6P8"
      },
      "outputs": [],
      "source": [
        "X_num_val = val_data[['processId', 'threadId', 'parentProcessId', 'userId', 'mountNamespace', 'eventId', 'argsNum', 'returnValue', 'stack_address_len']]\n",
        "X_cat_val = val_data[['processName', 'hostName', 'eventName',\n",
        "                     'stack_1', 'stack_2', 'stack_3', 'stack_4',\n",
        "                     'stack_5', 'stack_6', 'stack_7', 'stack_8', 'stack_9',\n",
        "                     'stack_10','stack_11', 'stack_12', 'stack_13', 'stack_14', 'stack_15',\n",
        "                     'stack_16','stack_17', 'stack_18', 'stack_19', 'stack_20',\n",
        "                     'name_1', 'name_2', 'name_3', 'name_4', 'name_5',\n",
        "                     'type_1', 'type_2', 'type_3', 'type_4', 'type_5',\n",
        "                     'value_1', 'value_2', 'value_3', 'value_4', 'value_5']].astype(str)"
      ]
    },
    {
      "cell_type": "code",
      "execution_count": 22,
      "metadata": {
        "id": "1c2uF0YVA6P8"
      },
      "outputs": [],
      "source": [
        "X_num_test = test_data[['processId', 'threadId', 'parentProcessId', 'userId', 'mountNamespace', 'eventId', 'argsNum', 'returnValue', 'stack_address_len']]\n",
        "X_cat_test = test_data[['processName', 'hostName', 'eventName',\n",
        "                     'stack_1', 'stack_2', 'stack_3', 'stack_4',\n",
        "                     'stack_5', 'stack_6', 'stack_7', 'stack_8', 'stack_9',\n",
        "                     'stack_10','stack_11', 'stack_12', 'stack_13', 'stack_14', 'stack_15',\n",
        "                     'stack_16','stack_17', 'stack_18', 'stack_19', 'stack_20',\n",
        "                     'name_1', 'name_2', 'name_3', 'name_4', 'name_5',\n",
        "                     'type_1', 'type_2', 'type_3', 'type_4', 'type_5',\n",
        "                     'value_1', 'value_2', 'value_3', 'value_4', 'value_5']].astype(str)"
      ]
    },
    {
      "cell_type": "code",
      "execution_count": 23,
      "metadata": {
        "id": "Kee9S0bDJcR6"
      },
      "outputs": [],
      "source": [
        "y_train = train_data['sus']\n",
        "y_val = val_data['sus']\n",
        "y_test = test_data['sus']"
      ]
    },
    {
      "cell_type": "code",
      "execution_count": 24,
      "metadata": {
        "colab": {
          "base_uri": "https://localhost:8080/"
        },
        "id": "h6dJqD0MIEUp",
        "outputId": "9fc66a9d-84a6-4cd9-fa4f-17486f4bca11"
      },
      "outputs": [
        {
          "data": {
            "text/plain": [
              "array([[0., 1.],\n",
              "       [0., 1.],\n",
              "       [0., 1.],\n",
              "       ...,\n",
              "       [1., 0.],\n",
              "       [1., 0.],\n",
              "       [1., 0.]])"
            ]
          },
          "execution_count": 24,
          "metadata": {},
          "output_type": "execute_result"
        }
      ],
      "source": [
        "y_train_encoded = to_categorical(y_train, num_classes=2)\n",
        "y_val_encoded = to_categorical(y_val, num_classes=2)\n",
        "y_test_encoded = to_categorical(y_test, num_classes=2)\n",
        "y_train_encoded"
      ]
    },
    {
      "cell_type": "markdown",
      "metadata": {
        "id": "kTCV7d09A6P9"
      },
      "source": [
        "**Categorical features encoding**"
      ]
    },
    {
      "cell_type": "markdown",
      "metadata": {
        "id": "g4gii6UjA6P9"
      },
      "source": [
        "Stack addresses"
      ]
    },
    {
      "cell_type": "code",
      "execution_count": 25,
      "metadata": {
        "id": "E4UYTNSiA6P9"
      },
      "outputs": [],
      "source": [
        "stack_ordinal_encoder = OrdinalEncoder(handle_unknown='use_encoded_value',\n",
        "                                 unknown_value=-1, dtype=float)\n",
        "\n",
        "# Encode Stack adresses\n",
        "stackaddresses_train_enc = stack_ordinal_encoder.fit_transform(X_cat_train[['stack_1', 'stack_2', 'stack_3', 'stack_4', 'stack_5',\n",
        "                                                                      'stack_6', 'stack_7', 'stack_8', 'stack_9', 'stack_10',\n",
        "                                                                      'stack_11', 'stack_12', 'stack_13', 'stack_14', 'stack_15',\n",
        "                                                                      'stack_16','stack_17', 'stack_18', 'stack_19', 'stack_20']])\n",
        "\n",
        "X_cat_train[['stack_1', 'stack_2', 'stack_3', 'stack_4', 'stack_5',\n",
        "             'stack_6', 'stack_7', 'stack_8', 'stack_9', 'stack_10',\n",
        "             'stack_11', 'stack_12', 'stack_13', 'stack_14', 'stack_15',\n",
        "             'stack_16','stack_17', 'stack_18', 'stack_19', 'stack_20']] = stackaddresses_train_enc"
      ]
    },
    {
      "cell_type": "code",
      "execution_count": 26,
      "metadata": {
        "id": "QYgMxntOZFRC"
      },
      "outputs": [],
      "source": [
        "stackaddresses_val_enc = stack_ordinal_encoder.transform(X_cat_val[['stack_1', 'stack_2', 'stack_3', 'stack_4', 'stack_5',\n",
        "                                                        'stack_6', 'stack_7', 'stack_8', 'stack_9', 'stack_10',\n",
        "                                                        'stack_11', 'stack_12', 'stack_13', 'stack_14', 'stack_15',\n",
        "                                                        'stack_16','stack_17', 'stack_18', 'stack_19', 'stack_20']])\n",
        "stackaddresses_val_enc = np.where(stackaddresses_val_enc==-1, np.max(stackaddresses_train_enc)+1, stackaddresses_val_enc)\n",
        "X_cat_val[['stack_1', 'stack_2', 'stack_3', 'stack_4', 'stack_5',\n",
        "           'stack_6', 'stack_7', 'stack_8', 'stack_9', 'stack_10',\n",
        "           'stack_11', 'stack_12', 'stack_13', 'stack_14', 'stack_15',\n",
        "           'stack_16','stack_17', 'stack_18', 'stack_19', 'stack_20']]= stackaddresses_val_enc"
      ]
    },
    {
      "cell_type": "code",
      "execution_count": 27,
      "metadata": {
        "id": "yeXjUBmxZFIM"
      },
      "outputs": [],
      "source": [
        "stackaddresses_test_enc = stack_ordinal_encoder.transform(X_cat_test[['stack_1', 'stack_2', 'stack_3', 'stack_4', 'stack_5',\n",
        "                                                        'stack_6', 'stack_7', 'stack_8', 'stack_9', 'stack_10',\n",
        "                                                        'stack_11', 'stack_12', 'stack_13', 'stack_14', 'stack_15',\n",
        "                                                        'stack_16','stack_17', 'stack_18', 'stack_19', 'stack_20']])\n",
        "\n",
        "stackaddresses_test_enc = np.where(stackaddresses_test_enc==-1, np.max(stackaddresses_train_enc)+1, stackaddresses_test_enc)\n",
        "\n",
        "X_cat_test[['stack_1', 'stack_2', 'stack_3', 'stack_4', 'stack_5',\n",
        "           'stack_6', 'stack_7', 'stack_8', 'stack_9', 'stack_10',\n",
        "           'stack_11', 'stack_12', 'stack_13', 'stack_14', 'stack_15',\n",
        "           'stack_16','stack_17', 'stack_18', 'stack_19', 'stack_20']]= stackaddresses_test_enc"
      ]
    },
    {
      "cell_type": "code",
      "execution_count": 28,
      "metadata": {
        "colab": {
          "base_uri": "https://localhost:8080/"
        },
        "id": "2jFpW3EHA6QP",
        "outputId": "fc75bbb6-fa1b-470b-c4a6-4b0b695ce94b"
      },
      "outputs": [
        {
          "data": {
            "text/plain": [
              "(763144, 20)"
            ]
          },
          "execution_count": 28,
          "metadata": {},
          "output_type": "execute_result"
        }
      ],
      "source": [
        "stackaddresses_train_enc.shape"
      ]
    },
    {
      "cell_type": "markdown",
      "metadata": {
        "id": "gyLiGQ_2A6QQ"
      },
      "source": [
        "Args"
      ]
    },
    {
      "cell_type": "code",
      "execution_count": 29,
      "metadata": {
        "id": "UfdRg9TrA6QR"
      },
      "outputs": [],
      "source": [
        "# Encode Stack adresses\n",
        "args_ordinal_encoder = OrdinalEncoder(handle_unknown='use_encoded_value', unknown_value=-1, dtype=float)\n",
        "args_train_enc = args_ordinal_encoder.fit_transform(X_cat_train[['name_1', 'name_2', 'name_3', 'name_4', 'name_5',\n",
        "                                                            'type_1', 'type_2', 'type_3', 'type_4', 'type_5',\n",
        "                                                            'value_1', 'value_2', 'value_3', 'value_4', 'value_5']])\n",
        "X_cat_train[['name_1', 'name_2', 'name_3', 'name_4', 'name_5',\n",
        "             'type_1', 'type_2', 'type_3', 'type_4', 'type_5',\n",
        "             'value_1', 'value_2', 'value_3', 'value_4', 'value_5']] = args_train_enc"
      ]
    },
    {
      "cell_type": "code",
      "execution_count": 30,
      "metadata": {
        "id": "b8FmQ2ANA6QS"
      },
      "outputs": [],
      "source": [
        "args_val_enc = args_ordinal_encoder.transform(X_cat_val[['name_1', 'name_2', 'name_3', 'name_4', 'name_5',\n",
        "                                                    'type_1', 'type_2', 'type_3', 'type_4', 'type_5',\n",
        "                                                    'value_1', 'value_2', 'value_3', 'value_4', 'value_5']])\n",
        "\n",
        "args_val_enc = np.where(args_val_enc==-1, np.max(args_train_enc)+1, args_val_enc)\n",
        "\n",
        "X_cat_val[['name_1', 'name_2', 'name_3', 'name_4', 'name_5',\n",
        "           'type_1', 'type_2', 'type_3', 'type_4', 'type_5',\n",
        "           'value_1', 'value_2', 'value_3', 'value_4', 'value_5']] = args_val_enc"
      ]
    },
    {
      "cell_type": "code",
      "execution_count": 31,
      "metadata": {
        "id": "gxsDPTTtA6QS"
      },
      "outputs": [],
      "source": [
        "args_test_enc = args_ordinal_encoder.transform(X_cat_test[['name_1', 'name_2', 'name_3', 'name_4', 'name_5',\n",
        "                                                      'type_1', 'type_2', 'type_3', 'type_4', 'type_5',\n",
        "                                                      'value_1', 'value_2', 'value_3', 'value_4', 'value_5']])\n",
        "\n",
        "args_test_enc = np.where(args_test_enc==-1, np.max(args_train_enc)+1, args_test_enc)\n",
        "\n",
        "X_cat_test[['name_1', 'name_2', 'name_3', 'name_4', 'name_5',\n",
        "           'type_1', 'type_2', 'type_3', 'type_4', 'type_5',\n",
        "           'value_1', 'value_2', 'value_3', 'value_4', 'value_5']] = args_test_enc"
      ]
    },
    {
      "cell_type": "markdown",
      "metadata": {
        "id": "OFdLc0ajdqen"
      },
      "source": [
        "**Scaler**"
      ]
    },
    {
      "cell_type": "code",
      "execution_count": 32,
      "metadata": {
        "id": "mZppJTpwA6QX"
      },
      "outputs": [],
      "source": [
        "from sklearn.preprocessing import StandardScaler\n",
        "\n",
        "scaler = StandardScaler()\n",
        "X_num_train_scaled = scaler.fit_transform(X_num_train)\n",
        "X_num_val_scaled = scaler.transform(X_num_val)\n",
        "X_num_test_scaled = scaler.transform(X_num_test)\n",
        "\n",
        "# X_train_scaled=np.concatenate((X_num_train_scaled,X_cat_train),axis=1)\n",
        "# X_val_scaled=np.concatenate((X_num_val_scaled,X_cat_val),axis=1)\n",
        "# X_test_scaled=np.concatenate((X_num_test_scaled,X_cat_test),axis=1)"
      ]
    },
    {
      "cell_type": "markdown",
      "metadata": {
        "id": "z30_zgmfA6QX"
      },
      "source": [
        "## Modelisation"
      ]
    },
    {
      "cell_type": "code",
      "execution_count": 33,
      "metadata": {
        "colab": {
          "base_uri": "https://localhost:8080/"
        },
        "id": "UsJ2m1xjA6QY",
        "outputId": "81f530af-e08e-4eba-9d95-e232dea8c538"
      },
      "outputs": [
        {
          "data": {
            "text/plain": [
              "(8449, 26665)"
            ]
          },
          "execution_count": 33,
          "metadata": {},
          "output_type": "execute_result"
        }
      ],
      "source": [
        "n_unique_stack = (np.max(stackaddresses_train_enc)+2).astype('int')\n",
        "n_unique_args = (np.max(args_train_enc)+2).astype('int')\n",
        "\n",
        "\n",
        "n_unique_stack,n_unique_args"
      ]
    },
    {
      "cell_type": "code",
      "execution_count": 34,
      "metadata": {
        "colab": {
          "base_uri": "https://localhost:8080/"
        },
        "id": "JHo6phJLA6QZ",
        "outputId": "565c1213-511f-48a8-8e82-98389b2d8d12"
      },
      "outputs": [
        {
          "data": {
            "text/plain": [
              "(763144, 9)"
            ]
          },
          "execution_count": 34,
          "metadata": {},
          "output_type": "execute_result"
        }
      ],
      "source": [
        "X_num_train.shape"
      ]
    },
    {
      "cell_type": "code",
      "execution_count": 35,
      "metadata": {
        "colab": {
          "base_uri": "https://localhost:8080/"
        },
        "id": "DDqTVXG6A6QZ",
        "outputId": "a8dbde49-fe80-42d7-815c-fde4c13249ee"
      },
      "outputs": [
        {
          "data": {
            "text/html": [
              "<pre style=\"white-space:pre;overflow-x:auto;line-height:normal;font-family:Menlo,'DejaVu Sans Mono',consolas,'Courier New',monospace\"><span style=\"font-weight: bold\">Model: \"functional_1\"</span>\n",
              "</pre>\n"
            ],
            "text/plain": [
              "\u001b[1mModel: \"functional_1\"\u001b[0m\n"
            ]
          },
          "metadata": {},
          "output_type": "display_data"
        },
        {
          "data": {
            "text/html": [
              "<pre style=\"white-space:pre;overflow-x:auto;line-height:normal;font-family:Menlo,'DejaVu Sans Mono',consolas,'Courier New',monospace\">┏━━━━━━━━━━━━━━━━━━━━━┳━━━━━━━━━━━━━━━━━━━┳━━━━━━━━━━━━┳━━━━━━━━━━━━━━━━━━━┓\n",
              "┃<span style=\"font-weight: bold\"> Layer (type)        </span>┃<span style=\"font-weight: bold\"> Output Shape      </span>┃<span style=\"font-weight: bold\">    Param # </span>┃<span style=\"font-weight: bold\"> Connected to      </span>┃\n",
              "┡━━━━━━━━━━━━━━━━━━━━━╇━━━━━━━━━━━━━━━━━━━╇━━━━━━━━━━━━╇━━━━━━━━━━━━━━━━━━━┩\n",
              "│ input_layer         │ (<span style=\"color: #00d7ff; text-decoration-color: #00d7ff\">None</span>, <span style=\"color: #00af00; text-decoration-color: #00af00\">20</span>)        │          <span style=\"color: #00af00; text-decoration-color: #00af00\">0</span> │ -                 │\n",
              "│ (<span style=\"color: #0087ff; text-decoration-color: #0087ff\">InputLayer</span>)        │                   │            │                   │\n",
              "├─────────────────────┼───────────────────┼────────────┼───────────────────┤\n",
              "│ input_layer_1       │ (<span style=\"color: #00d7ff; text-decoration-color: #00d7ff\">None</span>, <span style=\"color: #00af00; text-decoration-color: #00af00\">15</span>)        │          <span style=\"color: #00af00; text-decoration-color: #00af00\">0</span> │ -                 │\n",
              "│ (<span style=\"color: #0087ff; text-decoration-color: #0087ff\">InputLayer</span>)        │                   │            │                   │\n",
              "├─────────────────────┼───────────────────┼────────────┼───────────────────┤\n",
              "│ input_layer_2       │ (<span style=\"color: #00d7ff; text-decoration-color: #00d7ff\">None</span>, <span style=\"color: #00af00; text-decoration-color: #00af00\">9</span>)         │          <span style=\"color: #00af00; text-decoration-color: #00af00\">0</span> │ -                 │\n",
              "│ (<span style=\"color: #0087ff; text-decoration-color: #0087ff\">InputLayer</span>)        │                   │            │                   │\n",
              "├─────────────────────┼───────────────────┼────────────┼───────────────────┤\n",
              "│ embedding           │ (<span style=\"color: #00d7ff; text-decoration-color: #00d7ff\">None</span>, <span style=\"color: #00af00; text-decoration-color: #00af00\">20</span>, <span style=\"color: #00af00; text-decoration-color: #00af00\">128</span>)   │  <span style=\"color: #00af00; text-decoration-color: #00af00\">1,081,472</span> │ input_layer[<span style=\"color: #00af00; text-decoration-color: #00af00\">0</span>][<span style=\"color: #00af00; text-decoration-color: #00af00\">0</span>] │\n",
              "│ (<span style=\"color: #0087ff; text-decoration-color: #0087ff\">Embedding</span>)         │                   │            │                   │\n",
              "├─────────────────────┼───────────────────┼────────────┼───────────────────┤\n",
              "│ embedding_1         │ (<span style=\"color: #00d7ff; text-decoration-color: #00d7ff\">None</span>, <span style=\"color: #00af00; text-decoration-color: #00af00\">15</span>, <span style=\"color: #00af00; text-decoration-color: #00af00\">128</span>)   │  <span style=\"color: #00af00; text-decoration-color: #00af00\">3,413,120</span> │ input_layer_1[<span style=\"color: #00af00; text-decoration-color: #00af00\">0</span>]… │\n",
              "│ (<span style=\"color: #0087ff; text-decoration-color: #0087ff\">Embedding</span>)         │                   │            │                   │\n",
              "├─────────────────────┼───────────────────┼────────────┼───────────────────┤\n",
              "│ dense_2 (<span style=\"color: #0087ff; text-decoration-color: #0087ff\">Dense</span>)     │ (<span style=\"color: #00d7ff; text-decoration-color: #00d7ff\">None</span>, <span style=\"color: #00af00; text-decoration-color: #00af00\">32</span>)        │        <span style=\"color: #00af00; text-decoration-color: #00af00\">320</span> │ input_layer_2[<span style=\"color: #00af00; text-decoration-color: #00af00\">0</span>]… │\n",
              "├─────────────────────┼───────────────────┼────────────┼───────────────────┤\n",
              "│ dense (<span style=\"color: #0087ff; text-decoration-color: #0087ff\">Dense</span>)       │ (<span style=\"color: #00d7ff; text-decoration-color: #00d7ff\">None</span>, <span style=\"color: #00af00; text-decoration-color: #00af00\">20</span>, <span style=\"color: #00af00; text-decoration-color: #00af00\">32</span>)    │      <span style=\"color: #00af00; text-decoration-color: #00af00\">4,128</span> │ embedding[<span style=\"color: #00af00; text-decoration-color: #00af00\">0</span>][<span style=\"color: #00af00; text-decoration-color: #00af00\">0</span>]   │\n",
              "├─────────────────────┼───────────────────┼────────────┼───────────────────┤\n",
              "│ dense_1 (<span style=\"color: #0087ff; text-decoration-color: #0087ff\">Dense</span>)     │ (<span style=\"color: #00d7ff; text-decoration-color: #00d7ff\">None</span>, <span style=\"color: #00af00; text-decoration-color: #00af00\">15</span>, <span style=\"color: #00af00; text-decoration-color: #00af00\">32</span>)    │      <span style=\"color: #00af00; text-decoration-color: #00af00\">4,128</span> │ embedding_1[<span style=\"color: #00af00; text-decoration-color: #00af00\">0</span>][<span style=\"color: #00af00; text-decoration-color: #00af00\">0</span>] │\n",
              "├─────────────────────┼───────────────────┼────────────┼───────────────────┤\n",
              "│ reshape (<span style=\"color: #0087ff; text-decoration-color: #0087ff\">Reshape</span>)   │ (<span style=\"color: #00d7ff; text-decoration-color: #00d7ff\">None</span>, <span style=\"color: #00af00; text-decoration-color: #00af00\">1</span>, <span style=\"color: #00af00; text-decoration-color: #00af00\">32</span>)     │          <span style=\"color: #00af00; text-decoration-color: #00af00\">0</span> │ dense_2[<span style=\"color: #00af00; text-decoration-color: #00af00\">0</span>][<span style=\"color: #00af00; text-decoration-color: #00af00\">0</span>]     │\n",
              "├─────────────────────┼───────────────────┼────────────┼───────────────────┤\n",
              "│ concatenate         │ (<span style=\"color: #00d7ff; text-decoration-color: #00d7ff\">None</span>, <span style=\"color: #00af00; text-decoration-color: #00af00\">36</span>, <span style=\"color: #00af00; text-decoration-color: #00af00\">32</span>)    │          <span style=\"color: #00af00; text-decoration-color: #00af00\">0</span> │ dense[<span style=\"color: #00af00; text-decoration-color: #00af00\">0</span>][<span style=\"color: #00af00; text-decoration-color: #00af00\">0</span>],      │\n",
              "│ (<span style=\"color: #0087ff; text-decoration-color: #0087ff\">Concatenate</span>)       │                   │            │ dense_1[<span style=\"color: #00af00; text-decoration-color: #00af00\">0</span>][<span style=\"color: #00af00; text-decoration-color: #00af00\">0</span>],    │\n",
              "│                     │                   │            │ reshape[<span style=\"color: #00af00; text-decoration-color: #00af00\">0</span>][<span style=\"color: #00af00; text-decoration-color: #00af00\">0</span>]     │\n",
              "├─────────────────────┼───────────────────┼────────────┼───────────────────┤\n",
              "│ positional_encoding │ (<span style=\"color: #00d7ff; text-decoration-color: #00d7ff\">None</span>, <span style=\"color: #00af00; text-decoration-color: #00af00\">36</span>, <span style=\"color: #00af00; text-decoration-color: #00af00\">32</span>)    │          <span style=\"color: #00af00; text-decoration-color: #00af00\">0</span> │ concatenate[<span style=\"color: #00af00; text-decoration-color: #00af00\">0</span>][<span style=\"color: #00af00; text-decoration-color: #00af00\">0</span>] │\n",
              "│ (<span style=\"color: #0087ff; text-decoration-color: #0087ff\">PositionalEncodin…</span> │                   │            │                   │\n",
              "├─────────────────────┼───────────────────┼────────────┼───────────────────┤\n",
              "│ multi_head_attenti… │ (<span style=\"color: #00d7ff; text-decoration-color: #00d7ff\">None</span>, <span style=\"color: #00af00; text-decoration-color: #00af00\">36</span>, <span style=\"color: #00af00; text-decoration-color: #00af00\">32</span>)    │    <span style=\"color: #00af00; text-decoration-color: #00af00\">134,176</span> │ positional_encod… │\n",
              "│ (<span style=\"color: #0087ff; text-decoration-color: #0087ff\">MultiHeadAttentio…</span> │                   │            │ positional_encod… │\n",
              "├─────────────────────┼───────────────────┼────────────┼───────────────────┤\n",
              "│ dropout_1 (<span style=\"color: #0087ff; text-decoration-color: #0087ff\">Dropout</span>) │ (<span style=\"color: #00d7ff; text-decoration-color: #00d7ff\">None</span>, <span style=\"color: #00af00; text-decoration-color: #00af00\">36</span>, <span style=\"color: #00af00; text-decoration-color: #00af00\">32</span>)    │          <span style=\"color: #00af00; text-decoration-color: #00af00\">0</span> │ multi_head_atten… │\n",
              "├─────────────────────┼───────────────────┼────────────┼───────────────────┤\n",
              "│ add (<span style=\"color: #0087ff; text-decoration-color: #0087ff\">Add</span>)           │ (<span style=\"color: #00d7ff; text-decoration-color: #00d7ff\">None</span>, <span style=\"color: #00af00; text-decoration-color: #00af00\">36</span>, <span style=\"color: #00af00; text-decoration-color: #00af00\">32</span>)    │          <span style=\"color: #00af00; text-decoration-color: #00af00\">0</span> │ positional_encod… │\n",
              "│                     │                   │            │ dropout_1[<span style=\"color: #00af00; text-decoration-color: #00af00\">0</span>][<span style=\"color: #00af00; text-decoration-color: #00af00\">0</span>]   │\n",
              "├─────────────────────┼───────────────────┼────────────┼───────────────────┤\n",
              "│ layer_normalization │ (<span style=\"color: #00d7ff; text-decoration-color: #00d7ff\">None</span>, <span style=\"color: #00af00; text-decoration-color: #00af00\">36</span>, <span style=\"color: #00af00; text-decoration-color: #00af00\">32</span>)    │         <span style=\"color: #00af00; text-decoration-color: #00af00\">64</span> │ add[<span style=\"color: #00af00; text-decoration-color: #00af00\">0</span>][<span style=\"color: #00af00; text-decoration-color: #00af00\">0</span>]         │\n",
              "│ (<span style=\"color: #0087ff; text-decoration-color: #0087ff\">LayerNormalizatio…</span> │                   │            │                   │\n",
              "├─────────────────────┼───────────────────┼────────────┼───────────────────┤\n",
              "│ dense_3 (<span style=\"color: #0087ff; text-decoration-color: #0087ff\">Dense</span>)     │ (<span style=\"color: #00d7ff; text-decoration-color: #00d7ff\">None</span>, <span style=\"color: #00af00; text-decoration-color: #00af00\">36</span>, <span style=\"color: #00af00; text-decoration-color: #00af00\">32</span>)    │      <span style=\"color: #00af00; text-decoration-color: #00af00\">1,056</span> │ layer_normalizat… │\n",
              "├─────────────────────┼───────────────────┼────────────┼───────────────────┤\n",
              "│ dropout_2 (<span style=\"color: #0087ff; text-decoration-color: #0087ff\">Dropout</span>) │ (<span style=\"color: #00d7ff; text-decoration-color: #00d7ff\">None</span>, <span style=\"color: #00af00; text-decoration-color: #00af00\">36</span>, <span style=\"color: #00af00; text-decoration-color: #00af00\">32</span>)    │          <span style=\"color: #00af00; text-decoration-color: #00af00\">0</span> │ dense_3[<span style=\"color: #00af00; text-decoration-color: #00af00\">0</span>][<span style=\"color: #00af00; text-decoration-color: #00af00\">0</span>]     │\n",
              "├─────────────────────┼───────────────────┼────────────┼───────────────────┤\n",
              "│ add_1 (<span style=\"color: #0087ff; text-decoration-color: #0087ff\">Add</span>)         │ (<span style=\"color: #00d7ff; text-decoration-color: #00d7ff\">None</span>, <span style=\"color: #00af00; text-decoration-color: #00af00\">36</span>, <span style=\"color: #00af00; text-decoration-color: #00af00\">32</span>)    │          <span style=\"color: #00af00; text-decoration-color: #00af00\">0</span> │ layer_normalizat… │\n",
              "│                     │                   │            │ dropout_2[<span style=\"color: #00af00; text-decoration-color: #00af00\">0</span>][<span style=\"color: #00af00; text-decoration-color: #00af00\">0</span>]   │\n",
              "├─────────────────────┼───────────────────┼────────────┼───────────────────┤\n",
              "│ layer_normalizatio… │ (<span style=\"color: #00d7ff; text-decoration-color: #00d7ff\">None</span>, <span style=\"color: #00af00; text-decoration-color: #00af00\">36</span>, <span style=\"color: #00af00; text-decoration-color: #00af00\">32</span>)    │         <span style=\"color: #00af00; text-decoration-color: #00af00\">64</span> │ add_1[<span style=\"color: #00af00; text-decoration-color: #00af00\">0</span>][<span style=\"color: #00af00; text-decoration-color: #00af00\">0</span>]       │\n",
              "│ (<span style=\"color: #0087ff; text-decoration-color: #0087ff\">LayerNormalizatio…</span> │                   │            │                   │\n",
              "├─────────────────────┼───────────────────┼────────────┼───────────────────┤\n",
              "│ global_average_poo… │ (<span style=\"color: #00d7ff; text-decoration-color: #00d7ff\">None</span>, <span style=\"color: #00af00; text-decoration-color: #00af00\">32</span>)        │          <span style=\"color: #00af00; text-decoration-color: #00af00\">0</span> │ layer_normalizat… │\n",
              "│ (<span style=\"color: #0087ff; text-decoration-color: #0087ff\">GlobalAveragePool…</span> │                   │            │                   │\n",
              "├─────────────────────┼───────────────────┼────────────┼───────────────────┤\n",
              "│ dense_4 (<span style=\"color: #0087ff; text-decoration-color: #0087ff\">Dense</span>)     │ (<span style=\"color: #00d7ff; text-decoration-color: #00d7ff\">None</span>, <span style=\"color: #00af00; text-decoration-color: #00af00\">128</span>)       │      <span style=\"color: #00af00; text-decoration-color: #00af00\">4,224</span> │ global_average_p… │\n",
              "├─────────────────────┼───────────────────┼────────────┼───────────────────┤\n",
              "│ dropout_3 (<span style=\"color: #0087ff; text-decoration-color: #0087ff\">Dropout</span>) │ (<span style=\"color: #00d7ff; text-decoration-color: #00d7ff\">None</span>, <span style=\"color: #00af00; text-decoration-color: #00af00\">128</span>)       │          <span style=\"color: #00af00; text-decoration-color: #00af00\">0</span> │ dense_4[<span style=\"color: #00af00; text-decoration-color: #00af00\">0</span>][<span style=\"color: #00af00; text-decoration-color: #00af00\">0</span>]     │\n",
              "├─────────────────────┼───────────────────┼────────────┼───────────────────┤\n",
              "│ dense_5 (<span style=\"color: #0087ff; text-decoration-color: #0087ff\">Dense</span>)     │ (<span style=\"color: #00d7ff; text-decoration-color: #00d7ff\">None</span>, <span style=\"color: #00af00; text-decoration-color: #00af00\">32</span>)        │      <span style=\"color: #00af00; text-decoration-color: #00af00\">4,128</span> │ dropout_3[<span style=\"color: #00af00; text-decoration-color: #00af00\">0</span>][<span style=\"color: #00af00; text-decoration-color: #00af00\">0</span>]   │\n",
              "├─────────────────────┼───────────────────┼────────────┼───────────────────┤\n",
              "│ dropout_4 (<span style=\"color: #0087ff; text-decoration-color: #0087ff\">Dropout</span>) │ (<span style=\"color: #00d7ff; text-decoration-color: #00d7ff\">None</span>, <span style=\"color: #00af00; text-decoration-color: #00af00\">32</span>)        │          <span style=\"color: #00af00; text-decoration-color: #00af00\">0</span> │ dense_5[<span style=\"color: #00af00; text-decoration-color: #00af00\">0</span>][<span style=\"color: #00af00; text-decoration-color: #00af00\">0</span>]     │\n",
              "├─────────────────────┼───────────────────┼────────────┼───────────────────┤\n",
              "│ dense_6 (<span style=\"color: #0087ff; text-decoration-color: #0087ff\">Dense</span>)     │ (<span style=\"color: #00d7ff; text-decoration-color: #00d7ff\">None</span>, <span style=\"color: #00af00; text-decoration-color: #00af00\">2</span>)         │         <span style=\"color: #00af00; text-decoration-color: #00af00\">66</span> │ dropout_4[<span style=\"color: #00af00; text-decoration-color: #00af00\">0</span>][<span style=\"color: #00af00; text-decoration-color: #00af00\">0</span>]   │\n",
              "└─────────────────────┴───────────────────┴────────────┴───────────────────┘\n",
              "</pre>\n"
            ],
            "text/plain": [
              "┏━━━━━━━━━━━━━━━━━━━━━┳━━━━━━━━━━━━━━━━━━━┳━━━━━━━━━━━━┳━━━━━━━━━━━━━━━━━━━┓\n",
              "┃\u001b[1m \u001b[0m\u001b[1mLayer (type)       \u001b[0m\u001b[1m \u001b[0m┃\u001b[1m \u001b[0m\u001b[1mOutput Shape     \u001b[0m\u001b[1m \u001b[0m┃\u001b[1m \u001b[0m\u001b[1m   Param #\u001b[0m\u001b[1m \u001b[0m┃\u001b[1m \u001b[0m\u001b[1mConnected to     \u001b[0m\u001b[1m \u001b[0m┃\n",
              "┡━━━━━━━━━━━━━━━━━━━━━╇━━━━━━━━━━━━━━━━━━━╇━━━━━━━━━━━━╇━━━━━━━━━━━━━━━━━━━┩\n",
              "│ input_layer         │ (\u001b[38;5;45mNone\u001b[0m, \u001b[38;5;34m20\u001b[0m)        │          \u001b[38;5;34m0\u001b[0m │ -                 │\n",
              "│ (\u001b[38;5;33mInputLayer\u001b[0m)        │                   │            │                   │\n",
              "├─────────────────────┼───────────────────┼────────────┼───────────────────┤\n",
              "│ input_layer_1       │ (\u001b[38;5;45mNone\u001b[0m, \u001b[38;5;34m15\u001b[0m)        │          \u001b[38;5;34m0\u001b[0m │ -                 │\n",
              "│ (\u001b[38;5;33mInputLayer\u001b[0m)        │                   │            │                   │\n",
              "├─────────────────────┼───────────────────┼────────────┼───────────────────┤\n",
              "│ input_layer_2       │ (\u001b[38;5;45mNone\u001b[0m, \u001b[38;5;34m9\u001b[0m)         │          \u001b[38;5;34m0\u001b[0m │ -                 │\n",
              "│ (\u001b[38;5;33mInputLayer\u001b[0m)        │                   │            │                   │\n",
              "├─────────────────────┼───────────────────┼────────────┼───────────────────┤\n",
              "│ embedding           │ (\u001b[38;5;45mNone\u001b[0m, \u001b[38;5;34m20\u001b[0m, \u001b[38;5;34m128\u001b[0m)   │  \u001b[38;5;34m1,081,472\u001b[0m │ input_layer[\u001b[38;5;34m0\u001b[0m][\u001b[38;5;34m0\u001b[0m] │\n",
              "│ (\u001b[38;5;33mEmbedding\u001b[0m)         │                   │            │                   │\n",
              "├─────────────────────┼───────────────────┼────────────┼───────────────────┤\n",
              "│ embedding_1         │ (\u001b[38;5;45mNone\u001b[0m, \u001b[38;5;34m15\u001b[0m, \u001b[38;5;34m128\u001b[0m)   │  \u001b[38;5;34m3,413,120\u001b[0m │ input_layer_1[\u001b[38;5;34m0\u001b[0m]… │\n",
              "│ (\u001b[38;5;33mEmbedding\u001b[0m)         │                   │            │                   │\n",
              "├─────────────────────┼───────────────────┼────────────┼───────────────────┤\n",
              "│ dense_2 (\u001b[38;5;33mDense\u001b[0m)     │ (\u001b[38;5;45mNone\u001b[0m, \u001b[38;5;34m32\u001b[0m)        │        \u001b[38;5;34m320\u001b[0m │ input_layer_2[\u001b[38;5;34m0\u001b[0m]… │\n",
              "├─────────────────────┼───────────────────┼────────────┼───────────────────┤\n",
              "│ dense (\u001b[38;5;33mDense\u001b[0m)       │ (\u001b[38;5;45mNone\u001b[0m, \u001b[38;5;34m20\u001b[0m, \u001b[38;5;34m32\u001b[0m)    │      \u001b[38;5;34m4,128\u001b[0m │ embedding[\u001b[38;5;34m0\u001b[0m][\u001b[38;5;34m0\u001b[0m]   │\n",
              "├─────────────────────┼───────────────────┼────────────┼───────────────────┤\n",
              "│ dense_1 (\u001b[38;5;33mDense\u001b[0m)     │ (\u001b[38;5;45mNone\u001b[0m, \u001b[38;5;34m15\u001b[0m, \u001b[38;5;34m32\u001b[0m)    │      \u001b[38;5;34m4,128\u001b[0m │ embedding_1[\u001b[38;5;34m0\u001b[0m][\u001b[38;5;34m0\u001b[0m] │\n",
              "├─────────────────────┼───────────────────┼────────────┼───────────────────┤\n",
              "│ reshape (\u001b[38;5;33mReshape\u001b[0m)   │ (\u001b[38;5;45mNone\u001b[0m, \u001b[38;5;34m1\u001b[0m, \u001b[38;5;34m32\u001b[0m)     │          \u001b[38;5;34m0\u001b[0m │ dense_2[\u001b[38;5;34m0\u001b[0m][\u001b[38;5;34m0\u001b[0m]     │\n",
              "├─────────────────────┼───────────────────┼────────────┼───────────────────┤\n",
              "│ concatenate         │ (\u001b[38;5;45mNone\u001b[0m, \u001b[38;5;34m36\u001b[0m, \u001b[38;5;34m32\u001b[0m)    │          \u001b[38;5;34m0\u001b[0m │ dense[\u001b[38;5;34m0\u001b[0m][\u001b[38;5;34m0\u001b[0m],      │\n",
              "│ (\u001b[38;5;33mConcatenate\u001b[0m)       │                   │            │ dense_1[\u001b[38;5;34m0\u001b[0m][\u001b[38;5;34m0\u001b[0m],    │\n",
              "│                     │                   │            │ reshape[\u001b[38;5;34m0\u001b[0m][\u001b[38;5;34m0\u001b[0m]     │\n",
              "├─────────────────────┼───────────────────┼────────────┼───────────────────┤\n",
              "│ positional_encoding │ (\u001b[38;5;45mNone\u001b[0m, \u001b[38;5;34m36\u001b[0m, \u001b[38;5;34m32\u001b[0m)    │          \u001b[38;5;34m0\u001b[0m │ concatenate[\u001b[38;5;34m0\u001b[0m][\u001b[38;5;34m0\u001b[0m] │\n",
              "│ (\u001b[38;5;33mPositionalEncodin…\u001b[0m │                   │            │                   │\n",
              "├─────────────────────┼───────────────────┼────────────┼───────────────────┤\n",
              "│ multi_head_attenti… │ (\u001b[38;5;45mNone\u001b[0m, \u001b[38;5;34m36\u001b[0m, \u001b[38;5;34m32\u001b[0m)    │    \u001b[38;5;34m134,176\u001b[0m │ positional_encod… │\n",
              "│ (\u001b[38;5;33mMultiHeadAttentio…\u001b[0m │                   │            │ positional_encod… │\n",
              "├─────────────────────┼───────────────────┼────────────┼───────────────────┤\n",
              "│ dropout_1 (\u001b[38;5;33mDropout\u001b[0m) │ (\u001b[38;5;45mNone\u001b[0m, \u001b[38;5;34m36\u001b[0m, \u001b[38;5;34m32\u001b[0m)    │          \u001b[38;5;34m0\u001b[0m │ multi_head_atten… │\n",
              "├─────────────────────┼───────────────────┼────────────┼───────────────────┤\n",
              "│ add (\u001b[38;5;33mAdd\u001b[0m)           │ (\u001b[38;5;45mNone\u001b[0m, \u001b[38;5;34m36\u001b[0m, \u001b[38;5;34m32\u001b[0m)    │          \u001b[38;5;34m0\u001b[0m │ positional_encod… │\n",
              "│                     │                   │            │ dropout_1[\u001b[38;5;34m0\u001b[0m][\u001b[38;5;34m0\u001b[0m]   │\n",
              "├─────────────────────┼───────────────────┼────────────┼───────────────────┤\n",
              "│ layer_normalization │ (\u001b[38;5;45mNone\u001b[0m, \u001b[38;5;34m36\u001b[0m, \u001b[38;5;34m32\u001b[0m)    │         \u001b[38;5;34m64\u001b[0m │ add[\u001b[38;5;34m0\u001b[0m][\u001b[38;5;34m0\u001b[0m]         │\n",
              "│ (\u001b[38;5;33mLayerNormalizatio…\u001b[0m │                   │            │                   │\n",
              "├─────────────────────┼───────────────────┼────────────┼───────────────────┤\n",
              "│ dense_3 (\u001b[38;5;33mDense\u001b[0m)     │ (\u001b[38;5;45mNone\u001b[0m, \u001b[38;5;34m36\u001b[0m, \u001b[38;5;34m32\u001b[0m)    │      \u001b[38;5;34m1,056\u001b[0m │ layer_normalizat… │\n",
              "├─────────────────────┼───────────────────┼────────────┼───────────────────┤\n",
              "│ dropout_2 (\u001b[38;5;33mDropout\u001b[0m) │ (\u001b[38;5;45mNone\u001b[0m, \u001b[38;5;34m36\u001b[0m, \u001b[38;5;34m32\u001b[0m)    │          \u001b[38;5;34m0\u001b[0m │ dense_3[\u001b[38;5;34m0\u001b[0m][\u001b[38;5;34m0\u001b[0m]     │\n",
              "├─────────────────────┼───────────────────┼────────────┼───────────────────┤\n",
              "│ add_1 (\u001b[38;5;33mAdd\u001b[0m)         │ (\u001b[38;5;45mNone\u001b[0m, \u001b[38;5;34m36\u001b[0m, \u001b[38;5;34m32\u001b[0m)    │          \u001b[38;5;34m0\u001b[0m │ layer_normalizat… │\n",
              "│                     │                   │            │ dropout_2[\u001b[38;5;34m0\u001b[0m][\u001b[38;5;34m0\u001b[0m]   │\n",
              "├─────────────────────┼───────────────────┼────────────┼───────────────────┤\n",
              "│ layer_normalizatio… │ (\u001b[38;5;45mNone\u001b[0m, \u001b[38;5;34m36\u001b[0m, \u001b[38;5;34m32\u001b[0m)    │         \u001b[38;5;34m64\u001b[0m │ add_1[\u001b[38;5;34m0\u001b[0m][\u001b[38;5;34m0\u001b[0m]       │\n",
              "│ (\u001b[38;5;33mLayerNormalizatio…\u001b[0m │                   │            │                   │\n",
              "├─────────────────────┼───────────────────┼────────────┼───────────────────┤\n",
              "│ global_average_poo… │ (\u001b[38;5;45mNone\u001b[0m, \u001b[38;5;34m32\u001b[0m)        │          \u001b[38;5;34m0\u001b[0m │ layer_normalizat… │\n",
              "│ (\u001b[38;5;33mGlobalAveragePool…\u001b[0m │                   │            │                   │\n",
              "├─────────────────────┼───────────────────┼────────────┼───────────────────┤\n",
              "│ dense_4 (\u001b[38;5;33mDense\u001b[0m)     │ (\u001b[38;5;45mNone\u001b[0m, \u001b[38;5;34m128\u001b[0m)       │      \u001b[38;5;34m4,224\u001b[0m │ global_average_p… │\n",
              "├─────────────────────┼───────────────────┼────────────┼───────────────────┤\n",
              "│ dropout_3 (\u001b[38;5;33mDropout\u001b[0m) │ (\u001b[38;5;45mNone\u001b[0m, \u001b[38;5;34m128\u001b[0m)       │          \u001b[38;5;34m0\u001b[0m │ dense_4[\u001b[38;5;34m0\u001b[0m][\u001b[38;5;34m0\u001b[0m]     │\n",
              "├─────────────────────┼───────────────────┼────────────┼───────────────────┤\n",
              "│ dense_5 (\u001b[38;5;33mDense\u001b[0m)     │ (\u001b[38;5;45mNone\u001b[0m, \u001b[38;5;34m32\u001b[0m)        │      \u001b[38;5;34m4,128\u001b[0m │ dropout_3[\u001b[38;5;34m0\u001b[0m][\u001b[38;5;34m0\u001b[0m]   │\n",
              "├─────────────────────┼───────────────────┼────────────┼───────────────────┤\n",
              "│ dropout_4 (\u001b[38;5;33mDropout\u001b[0m) │ (\u001b[38;5;45mNone\u001b[0m, \u001b[38;5;34m32\u001b[0m)        │          \u001b[38;5;34m0\u001b[0m │ dense_5[\u001b[38;5;34m0\u001b[0m][\u001b[38;5;34m0\u001b[0m]     │\n",
              "├─────────────────────┼───────────────────┼────────────┼───────────────────┤\n",
              "│ dense_6 (\u001b[38;5;33mDense\u001b[0m)     │ (\u001b[38;5;45mNone\u001b[0m, \u001b[38;5;34m2\u001b[0m)         │         \u001b[38;5;34m66\u001b[0m │ dropout_4[\u001b[38;5;34m0\u001b[0m][\u001b[38;5;34m0\u001b[0m]   │\n",
              "└─────────────────────┴───────────────────┴────────────┴───────────────────┘\n"
            ]
          },
          "metadata": {},
          "output_type": "display_data"
        },
        {
          "data": {
            "text/html": [
              "<pre style=\"white-space:pre;overflow-x:auto;line-height:normal;font-family:Menlo,'DejaVu Sans Mono',consolas,'Courier New',monospace\"><span style=\"font-weight: bold\"> Total params: </span><span style=\"color: #00af00; text-decoration-color: #00af00\">4,646,946</span> (17.73 MB)\n",
              "</pre>\n"
            ],
            "text/plain": [
              "\u001b[1m Total params: \u001b[0m\u001b[38;5;34m4,646,946\u001b[0m (17.73 MB)\n"
            ]
          },
          "metadata": {},
          "output_type": "display_data"
        },
        {
          "data": {
            "text/html": [
              "<pre style=\"white-space:pre;overflow-x:auto;line-height:normal;font-family:Menlo,'DejaVu Sans Mono',consolas,'Courier New',monospace\"><span style=\"font-weight: bold\"> Trainable params: </span><span style=\"color: #00af00; text-decoration-color: #00af00\">4,646,946</span> (17.73 MB)\n",
              "</pre>\n"
            ],
            "text/plain": [
              "\u001b[1m Trainable params: \u001b[0m\u001b[38;5;34m4,646,946\u001b[0m (17.73 MB)\n"
            ]
          },
          "metadata": {},
          "output_type": "display_data"
        },
        {
          "data": {
            "text/html": [
              "<pre style=\"white-space:pre;overflow-x:auto;line-height:normal;font-family:Menlo,'DejaVu Sans Mono',consolas,'Courier New',monospace\"><span style=\"font-weight: bold\"> Non-trainable params: </span><span style=\"color: #00af00; text-decoration-color: #00af00\">0</span> (0.00 B)\n",
              "</pre>\n"
            ],
            "text/plain": [
              "\u001b[1m Non-trainable params: \u001b[0m\u001b[38;5;34m0\u001b[0m (0.00 B)\n"
            ]
          },
          "metadata": {},
          "output_type": "display_data"
        }
      ],
      "source": [
        "def create_transformer_model(input_cat1_shape, input_cat2_shape, input_num_shape, input_cat1_vocab, input_cat2_vocab, max_len=10): #input_cat3_shape, input_cat4_shape, input_cat5_shape\n",
        "\n",
        "  # Define categorical input layers\n",
        "  input_cat1 = Input(shape=(input_cat1_shape,))\n",
        "  input_cat2 = Input(shape=(input_cat2_shape,))\n",
        "  input_num = Input(shape=(input_num_shape,))\n",
        "\n",
        "  # Define embedding layers\n",
        "  embedding_size = 128\n",
        "  embed_cat1 = Embedding(input_dim=input_cat1_vocab,\n",
        "                         output_dim=embedding_size,\n",
        "                         embeddings_initializer = RandomNormal(mean=0.0, stddev=0.0001, seed=41),\n",
        "                         embeddings_regularizer = L1L2(l1=0.00001, l2=0.0001),\n",
        "                         embeddings_constraint  = UnitNorm(axis=[0,1]),\n",
        "                         mask_zero=False)(input_cat1)\n",
        "  embed_cat1 = Dense(32, activation='linear')(embed_cat1)\n",
        "  embed_cat2 = Embedding(input_dim=input_cat2_vocab,\n",
        "                         output_dim=embedding_size,\n",
        "                         embeddings_initializer = RandomNormal(mean=0.0, stddev=0.0001, seed=41),\n",
        "                         embeddings_regularizer = L1L2(l1=0.00001, l2=0.0001),\n",
        "                         embeddings_constraint  = UnitNorm(axis=[0,1]),\n",
        "                         mask_zero=False)(input_cat2)\n",
        "  embed_cat2 = Dense(32, activation='linear')(embed_cat2)\n",
        "\n",
        "  # Dense for numerical inputs\n",
        "#   input_num_reshaped = tf.expand_dims(input_num, axis=1)\n",
        "#   input_num_reshaped = Dense(32, activation='linear')(input_num_reshaped)\n",
        "  # Dense for numerical inputs\n",
        "  embed_num = Dense(32, activation='linear')(input_num)\n",
        "\n",
        "  # Reshape numerical input using a Keras layer\n",
        "  input_num_reshaped = Reshape(target_shape=(1, 32))(embed_num)\n",
        "\n",
        "  # Concatenate embedding layers\n",
        "  concat_embeds = Concatenate(axis=1)([embed_cat1, embed_cat2, input_num_reshaped]) #embed_cat3, embed_cat4, embed_cat5\n",
        "\n",
        "  # Positional encoding (assuming you want to use sequences)\n",
        "  max_len=36\n",
        "  pos_encoding = PositionalEncoding(max_len, 32)(concat_embeds)\n",
        "\n",
        "  # Transformer encoder block\n",
        "  encoder_output = transformer_encoder_block(pos_encoding, num_heads=8, ff_dim=32)\n",
        "\n",
        "  # Global average pooling\n",
        "  encoder_output = GlobalAveragePooling1D()(encoder_output)\n",
        "\n",
        "  # Fully connected layers (remains unchanged)\n",
        "  x = Dense(128, activation='relu')(encoder_output)\n",
        "  x = Dropout(0.5)(x)\n",
        "  x = Dense(32, activation='relu')(x)\n",
        "  x = Dropout(0.5)(x)\n",
        "  output = Dense(2, activation='softmax')(x)\n",
        "  # Define model\n",
        "  model = Model(inputs=[input_cat1, input_cat2, input_num], outputs=output) #input_cat3, input_cat4, input_cat5\n",
        "\n",
        "  return model\n",
        "\n",
        "def transformer_encoder_block(inputs, num_heads, ff_dim, dropout_rate=0.2, embedding_size=128):\n",
        "    # Multi-head self-attention\n",
        "    attention = MultiHeadAttention(num_heads=num_heads, key_dim=embedding_size)(inputs, inputs)\n",
        "    attention = Dropout(dropout_rate)(attention)\n",
        "    attention = LayerNormalization(epsilon=1e-4)(inputs + attention)\n",
        "\n",
        "    # Feed-forward layer\n",
        "    outputs = Dense(ff_dim, activation='relu')(attention)\n",
        "    outputs = Dropout(dropout_rate)(outputs)\n",
        "    outputs = LayerNormalization(epsilon=1e-4)(attention + outputs)\n",
        "\n",
        "    return outputs\n",
        "\n",
        "class PositionalEncoding(tf.keras.layers.Layer):\n",
        "    def __init__(self, sequence_length, output_dim, **kwargs):\n",
        "        super(PositionalEncoding, self).__init__(**kwargs)\n",
        "        self.positional_encoding = self.positional_encoding(sequence_length, output_dim)\n",
        "\n",
        "    def call(self, inputs):\n",
        "        return inputs + self.positional_encoding\n",
        "\n",
        "    def positional_encoding(self, sequence_length, output_dim):\n",
        "        encoded_vec = np.array([pos / np.power(100, 2 * i / output_dim) for pos in range(sequence_length) for i in range(output_dim)])\n",
        "        encoded_vec[::2] = np.sin(encoded_vec[::2])\n",
        "        encoded_vec[1::2] = np.cos(encoded_vec[1::2])\n",
        "        return tf.constant(encoded_vec.reshape([sequence_length, output_dim]), dtype=tf.float32)\n",
        "\n",
        "# Example usage\n",
        "input_cat1_shape = 20\n",
        "input_cat2_shape = 15\n",
        "input_cat3_shape = 1\n",
        "input_cat4_shape = 1\n",
        "input_cat5_shape = 1\n",
        "input_num_shape = 9\n",
        "\n",
        "model = create_transformer_model(input_cat1_shape, input_cat2_shape, input_num_shape, n_unique_stack, n_unique_args)\n",
        "#input_cat3_shape, input_cat4_shape, input_cat5_shape\n",
        "model.summary()\n"
      ]
    },
    {
      "cell_type": "code",
      "execution_count": 36,
      "metadata": {
        "colab": {
          "base_uri": "https://localhost:8080/"
        },
        "id": "2YcG8E19A6Qa",
        "outputId": "9b02fe3d-5861-48d9-c49a-abfe3930158c"
      },
      "outputs": [
        {
          "name": "stdout",
          "output_type": "stream",
          "text": [
            "Epoch 1/50\n",
            "\u001b[1m1491/1491\u001b[0m \u001b[32m━━━━━━━━━━━━━━━━━━━━\u001b[0m\u001b[37m\u001b[0m \u001b[1m383s\u001b[0m 256ms/step - accuracy: 0.9140 - loss: 0.4012 - val_accuracy: 0.9986 - val_loss: 0.0236\n",
            "Epoch 2/50\n",
            "\u001b[1m1491/1491\u001b[0m \u001b[32m━━━━━━━━━━━━━━━━━━━━\u001b[0m\u001b[37m\u001b[0m \u001b[1m389s\u001b[0m 261ms/step - accuracy: 0.9987 - loss: 0.0547 - val_accuracy: 1.0000 - val_loss: 0.0058\n",
            "Epoch 3/50\n",
            "\u001b[1m1491/1491\u001b[0m \u001b[32m━━━━━━━━━━━━━━━━━━━━\u001b[0m\u001b[37m\u001b[0m \u001b[1m387s\u001b[0m 260ms/step - accuracy: 0.9993 - loss: 0.0232 - val_accuracy: 1.0000 - val_loss: 0.0033\n",
            "Epoch 4/50\n",
            "\u001b[1m1491/1491\u001b[0m \u001b[32m━━━━━━━━━━━━━━━━━━━━\u001b[0m\u001b[37m\u001b[0m \u001b[1m391s\u001b[0m 262ms/step - accuracy: 0.9995 - loss: 0.0131 - val_accuracy: 1.0000 - val_loss: 0.0026\n",
            "Epoch 5/50\n",
            "\u001b[1m1491/1491\u001b[0m \u001b[32m━━━━━━━━━━━━━━━━━━━━\u001b[0m\u001b[37m\u001b[0m \u001b[1m388s\u001b[0m 260ms/step - accuracy: 0.9995 - loss: 0.0096 - val_accuracy: 1.0000 - val_loss: 0.0023\n",
            "Epoch 6/50\n",
            "\u001b[1m1491/1491\u001b[0m \u001b[32m━━━━━━━━━━━━━━━━━━━━\u001b[0m\u001b[37m\u001b[0m \u001b[1m396s\u001b[0m 265ms/step - accuracy: 0.9996 - loss: 0.0076 - val_accuracy: 1.0000 - val_loss: 0.0020\n",
            "Epoch 7/50\n",
            "\u001b[1m1491/1491\u001b[0m \u001b[32m━━━━━━━━━━━━━━━━━━━━\u001b[0m\u001b[37m\u001b[0m \u001b[1m400s\u001b[0m 268ms/step - accuracy: 0.9996 - loss: 0.0069 - val_accuracy: 1.0000 - val_loss: 0.0018\n",
            "Epoch 8/50\n",
            "\u001b[1m1491/1491\u001b[0m \u001b[32m━━━━━━━━━━━━━━━━━━━━\u001b[0m\u001b[37m\u001b[0m \u001b[1m395s\u001b[0m 265ms/step - accuracy: 0.9996 - loss: 0.0065 - val_accuracy: 1.0000 - val_loss: 0.0017\n",
            "Epoch 9/50\n",
            "\u001b[1m1491/1491\u001b[0m \u001b[32m━━━━━━━━━━━━━━━━━━━━\u001b[0m\u001b[37m\u001b[0m \u001b[1m398s\u001b[0m 267ms/step - accuracy: 0.9996 - loss: 0.0063 - val_accuracy: 1.0000 - val_loss: 0.0015\n",
            "Epoch 10/50\n",
            "\u001b[1m1491/1491\u001b[0m \u001b[32m━━━━━━━━━━━━━━━━━━━━\u001b[0m\u001b[37m\u001b[0m \u001b[1m399s\u001b[0m 268ms/step - accuracy: 0.9996 - loss: 0.0061 - val_accuracy: 1.0000 - val_loss: 0.0014\n",
            "Epoch 11/50\n",
            "\u001b[1m1491/1491\u001b[0m \u001b[32m━━━━━━━━━━━━━━━━━━━━\u001b[0m\u001b[37m\u001b[0m \u001b[1m404s\u001b[0m 271ms/step - accuracy: 0.9997 - loss: 0.0056 - val_accuracy: 1.0000 - val_loss: 0.0013\n",
            "Epoch 12/50\n",
            "\u001b[1m1491/1491\u001b[0m \u001b[32m━━━━━━━━━━━━━━━━━━━━\u001b[0m\u001b[37m\u001b[0m \u001b[1m1589s\u001b[0m 1s/step - accuracy: 0.9996 - loss: 0.0061 - val_accuracy: 1.0000 - val_loss: 0.0013\n",
            "Epoch 13/50\n",
            "\u001b[1m1491/1491\u001b[0m \u001b[32m━━━━━━━━━━━━━━━━━━━━\u001b[0m\u001b[37m\u001b[0m \u001b[1m403s\u001b[0m 270ms/step - accuracy: 0.9996 - loss: 0.0060 - val_accuracy: 1.0000 - val_loss: 0.0012\n",
            "Epoch 14/50\n",
            "\u001b[1m1491/1491\u001b[0m \u001b[32m━━━━━━━━━━━━━━━━━━━━\u001b[0m\u001b[37m\u001b[0m \u001b[1m400s\u001b[0m 268ms/step - accuracy: 0.9996 - loss: 0.0062 - val_accuracy: 1.0000 - val_loss: 0.0011\n",
            "Epoch 15/50\n",
            "\u001b[1m1491/1491\u001b[0m \u001b[32m━━━━━━━━━━━━━━━━━━━━\u001b[0m\u001b[37m\u001b[0m \u001b[1m394s\u001b[0m 264ms/step - accuracy: 0.9997 - loss: 0.0058 - val_accuracy: 1.0000 - val_loss: 0.0011\n",
            "Epoch 16/50\n",
            "\u001b[1m1491/1491\u001b[0m \u001b[32m━━━━━━━━━━━━━━━━━━━━\u001b[0m\u001b[37m\u001b[0m \u001b[1m396s\u001b[0m 266ms/step - accuracy: 0.9996 - loss: 0.0062 - val_accuracy: 1.0000 - val_loss: 0.0011\n"
          ]
        }
      ],
      "source": [
        "# optimizer = AdamW(learning_rate=0.0001, weight_decay=0.001)\n",
        "optimizer = Adam(learning_rate=0.000006)\n",
        "model.compile(optimizer=optimizer, loss='binary_crossentropy', metrics=['accuracy'])\n",
        "\n",
        "callback = EarlyStopping(monitor='accuracy', patience=3, restore_best_weights=False)\n",
        "\n",
        "# Train the model\n",
        "history = model.fit([X_cat_train.iloc[:,3:23],\n",
        "                     X_cat_train.iloc[:,23:44],\n",
        "                     X_num_train_scaled],  # Input data\n",
        "                    y_train_encoded,  # Labels\n",
        "                    epochs=50,  # Number of epochs\n",
        "                    batch_size=512,  # Batch size\n",
        "                    validation_data=([X_cat_val.iloc[:,3:23],\n",
        "                                      X_cat_val.iloc[:,23:44],\n",
        "                                      X_num_val_scaled],\n",
        "                                     y_val_encoded),\n",
        "                    verbose=1, shuffle=True, callbacks = [callback])"
      ]
    },
    {
      "cell_type": "code",
      "execution_count": 45,
      "metadata": {
        "id": "m93wzvDQVEzS"
      },
      "outputs": [],
      "source": [
        "def plot_training(history):\n",
        "    training_accuracy = history.history['accuracy']\n",
        "    validation_accuracy = history.history['val_accuracy']\n",
        "\n",
        "    # Get the training and validation loss\n",
        "    training_loss = history.history['loss']\n",
        "    validation_loss = history.history['val_loss']\n",
        "\n",
        "    # Plot the accuracy\n",
        "    plt.figure(figsize=(8, 4))\n",
        "    plt.plot(training_accuracy, label='Training Accuracy')\n",
        "    plt.plot(validation_accuracy, label='Validation Accuracy')\n",
        "    plt.xlabel('Epochs')\n",
        "    plt.ylabel('Accuracy')\n",
        "    plt.title('Training and Validation Accuracy')\n",
        "    plt.legend()\n",
        "    plt.show()\n",
        "\n",
        "    # Plot the loss\n",
        "    plt.figure(figsize=(8, 4))\n",
        "    plt.plot(training_loss, label='Training Loss')\n",
        "    plt.plot(validation_loss, label='Validation Loss')\n",
        "    plt.xlabel('Epochs')\n",
        "    plt.ylabel('Loss')\n",
        "    plt.title('Training and Validation Loss')\n",
        "    plt.legend()\n",
        "    return(plt)"
      ]
    },
    {
      "cell_type": "code",
      "execution_count": 46,
      "metadata": {
        "colab": {
          "base_uri": "https://localhost:8080/",
          "height": 803
        },
        "id": "gRIJsflJU6Vs",
        "outputId": "7602b2ac-2659-49bc-cbac-c202bffe5025"
      },
      "outputs": [
        {
          "data": {
            "image/png": "[encoded data removed]",
            "text/plain": [
              "<Figure size 800x400 with 1 Axes>"
            ]
          },
          "metadata": {},
          "output_type": "display_data"
        },
        {
          "data": {
            "image/png": "[encoded data removed]",
            "text/plain": [
              "<Figure size 800x400 with 1 Axes>"
            ]
          },
          "metadata": {},
          "output_type": "display_data"
        }
      ],
      "source": [
        "plot_training(history);"
      ]
    },
    {
      "cell_type": "code",
      "execution_count": 47,
      "metadata": {
        "colab": {
          "base_uri": "https://localhost:8080/"
        },
        "id": "BLWROtvLVOGi",
        "outputId": "2732d4a5-f30b-48ce-a357-6afa3f35af25"
      },
      "outputs": [
        {
          "name": "stdout",
          "output_type": "stream",
          "text": [
            "\u001b[1m739/739\u001b[0m \u001b[32m━━━━━━━━━━━━━━━━━━━━\u001b[0m\u001b[37m\u001b[0m \u001b[1m40s\u001b[0m 55ms/step\n"
          ]
        }
      ],
      "source": [
        "pred = model.predict([X_cat_test.iloc[:,3:23],\n",
        "                      X_cat_test.iloc[:,23:44],\n",
        "                      X_num_test_scaled],\n",
        "                     batch_size=256)"
      ]
    },
    {
      "cell_type": "code",
      "execution_count": 48,
      "metadata": {
        "id": "3OBc33D3Vpip"
      },
      "outputs": [],
      "source": [
        "# pred_threshold = np.where(pred>0.5,1,0)\n",
        "pred_threshold = np.argmax(pred, axis=1)"
      ]
    },
    {
      "cell_type": "code",
      "execution_count": 49,
      "metadata": {
        "colab": {
          "base_uri": "https://localhost:8080/"
        },
        "id": "f2QyISXSVwJq",
        "outputId": "975dbb17-18e4-46ee-ed06-5306e6bd87d5"
      },
      "outputs": [
        {
          "name": "stdout",
          "output_type": "stream",
          "text": [
            "              precision    recall  f1-score   support\n",
            "\n",
            "           0       0.63      1.00      0.77     17508\n",
            "           1       1.00      0.94      0.97    171459\n",
            "\n",
            "    accuracy                           0.95    188967\n",
            "   macro avg       0.82      0.97      0.87    188967\n",
            "weighted avg       0.97      0.95      0.95    188967\n",
            "\n"
          ]
        }
      ],
      "source": [
        "print(classification_report(y_test, pred_threshold))"
      ]
    },
    {
      "cell_type": "code",
      "execution_count": 50,
      "metadata": {
        "colab": {
          "base_uri": "https://localhost:8080/"
        },
        "id": "fNXn_ESuQGIh",
        "outputId": "68e632be-a16d-44bb-fb77-4263a764bc14"
      },
      "outputs": [
        {
          "data": {
            "text/plain": [
              "array([[ 17508,      0],\n",
              "       [ 10208, 161251]])"
            ]
          },
          "execution_count": 50,
          "metadata": {},
          "output_type": "execute_result"
        }
      ],
      "source": [
        "confusion_matrix(y_true=y_test, y_pred=pred_threshold)"
      ]
    },
    {
      "cell_type": "code",
      "execution_count": 52,
      "metadata": {
        "colab": {
          "base_uri": "https://localhost:8080/",
          "height": 452
        },
        "id": "6sBMsMDLWAcX",
        "outputId": "7f11025d-0a15-421d-feb1-e445b1f99a72"
      },
      "outputs": [
        {
          "data": {
            "image/png": "[encoded data removed]",
            "text/plain": [
              "<Figure size 640x480 with 2 Axes>"
            ]
          },
          "metadata": {},
          "output_type": "display_data"
        }
      ],
      "source": [
        "conf_matrix = confusion_matrix(y_true=y_test, y_pred=pred_threshold)\n",
        "x=ConfusionMatrixDisplay(conf_matrix).plot()"
      ]
    },
    {
      "cell_type": "code",
      "execution_count": 53,
      "metadata": {
        "colab": {
          "base_uri": "https://localhost:8080/",
          "height": 449
        },
        "id": "KeaLB1WCexav",
        "outputId": "66bbb118-76ac-4d12-9909-d13e8067a4d1"
      },
      "outputs": [
        {
          "data": {
            "image/png": "[encoded data removed]",
            "text/plain": [
              "<Figure size 640x480 with 1 Axes>"
            ]
          },
          "metadata": {},
          "output_type": "display_data"
        }
      ],
      "source": [
        "auroc = roc_auc_score(y_true=y_test, y_score=pred_threshold)\n",
        "fpr, tpr, _ = roc_curve(y_test, pred_threshold)\n",
        "plt.plot(fpr,tpr,label=f\"AUC= {auroc:.2f}\")\n",
        "plt.ylabel('True Positive Rate')\n",
        "plt.xlabel('False Positive Rate')\n",
        "plt.legend(loc=4)\n",
        "plt.show()"
      ]
    }
  ],
  "metadata": {
    "accelerator": "GPU",
    "colab": {
      "collapsed_sections": [
        "7etfbAsCA6PU",
        "UP296LFZA6Pw"
      ],
      "gpuType": "T4",
      "provenance": []
    },
    "kernelspec": {
      "display_name": "Python 3",
      "name": "python3"
    },
    "language_info": {
      "codemirror_mode": {
        "name": "ipython",
        "version": 3
      },
      "file_extension": ".py",
      "mimetype": "text/x-python",
      "name": "python",
      "nbconvert_exporter": "python",
      "pygments_lexer": "ipython3",
      "version": "3.10.5"
    }
  },
  "nbformat": 4,
  "nbformat_minor": 0
}
